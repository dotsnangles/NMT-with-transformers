{
  "nbformat": 4,
  "nbformat_minor": 0,
  "metadata": {
    "colab": {
      "name": "data_reformat.ipynb",
      "provenance": [],
      "collapsed_sections": [],
      "authorship_tag": "ABX9TyNZ80oVclgOux5KgHxBfd2N",
      "include_colab_link": true
    },
    "kernelspec": {
      "name": "python3",
      "display_name": "Python 3"
    },
    "language_info": {
      "name": "python"
    }
  },
  "cells": [
    {
      "cell_type": "markdown",
      "metadata": {
        "id": "view-in-github",
        "colab_type": "text"
      },
      "source": [
        "<a href=\"https://colab.research.google.com/github/dotsnangles/en2ko-ko2en-translator-T5-small/blob/master/data_reformat.ipynb\" target=\"_parent\"><img src=\"https://colab.research.google.com/assets/colab-badge.svg\" alt=\"Open In Colab\"/></a>"
      ]
    },
    {
      "cell_type": "code",
      "source": [
        "from google.colab import drive\n",
        "drive.mount('/content/drive')"
      ],
      "metadata": {
        "colab": {
          "base_uri": "https://localhost:8080/"
        },
        "id": "sWRF9_vof9HW",
        "outputId": "4aa250a8-8aae-490c-ac88-20e73bb60145"
      },
      "execution_count": 55,
      "outputs": [
        {
          "output_type": "stream",
          "name": "stdout",
          "text": [
            "Mounted at /content/drive\n"
          ]
        }
      ]
    },
    {
      "cell_type": "code",
      "execution_count": 57,
      "metadata": {
        "id": "VaE32XoGVmYd"
      },
      "outputs": [],
      "source": [
        "import json, gdown\n",
        "import pandas as pd"
      ]
    },
    {
      "cell_type": "code",
      "source": [
        "# same as the above, but with the folder ID\n",
        "id = \"1J21-T8wYjlj-91CxtxEzrcE34CDt7CM3\"\n",
        "gdown.download_folder(id=id, quiet=True, use_cookies=False)"
      ],
      "metadata": {
        "colab": {
          "base_uri": "https://localhost:8080/"
        },
        "id": "OI8UvS02Vspg",
        "outputId": "c6821ff1-248d-4f65-f280-dab51a64b371"
      },
      "execution_count": 4,
      "outputs": [
        {
          "output_type": "execute_result",
          "data": {
            "text/plain": [
              "['/content/data/TS1.zip', '/content/data/VS1.zip']"
            ]
          },
          "metadata": {},
          "execution_count": 4
        }
      ]
    },
    {
      "cell_type": "code",
      "source": [
        "!unzip /content/data/TS1.zip -d /content/data\n",
        "!unzip /content/data/VS1.zip -d /content/data"
      ],
      "metadata": {
        "colab": {
          "base_uri": "https://localhost:8080/"
        },
        "id": "nRlBaos1WHGH",
        "outputId": "6eedcdc8-82a0-484e-8759-1bd1268a020b"
      },
      "execution_count": 7,
      "outputs": [
        {
          "output_type": "stream",
          "name": "stdout",
          "text": [
            "Archive:  /content/data/TS1.zip\n",
            "  inflating: /content/data/기술과학분야_한영_train_set.json  \n",
            "Archive:  /content/data/VS1.zip\n",
            "  inflating: /content/data/기술과학분야_한영_valid_set.json  \n"
          ]
        }
      ]
    },
    {
      "cell_type": "code",
      "source": [
        "train_json_path = '/content/data/기술과학분야_한영_train_set.json'\n",
        "val_json_path = '/content/data/기술과학분야_한영_valid_set.json'"
      ],
      "metadata": {
        "id": "aK4aeRYzWp4v"
      },
      "execution_count": 8,
      "outputs": []
    },
    {
      "cell_type": "code",
      "source": [
        "with open(train_json_path, 'rb') as f:\n",
        "    train_json = json.load(f)\n",
        "with open(val_json_path, 'rb') as f:\n",
        "    val_json = json.load(f)"
      ],
      "metadata": {
        "id": "Qg55J4ooWl4a"
      },
      "execution_count": 9,
      "outputs": []
    },
    {
      "cell_type": "code",
      "source": [
        "len(train_json['data']), len(val_json['data'])"
      ],
      "metadata": {
        "colab": {
          "base_uri": "https://localhost:8080/"
        },
        "id": "hm39XyKFWxeb",
        "outputId": "9b5232df-c236-4f5e-ba19-1abee42a4aba"
      },
      "execution_count": 40,
      "outputs": [
        {
          "output_type": "execute_result",
          "data": {
            "text/plain": [
              "(1200144, 150018)"
            ]
          },
          "metadata": {},
          "execution_count": 40
        }
      ]
    },
    {
      "cell_type": "code",
      "source": [
        "train = pd.json_normalize(train_json['data'])\n",
        "val = pd.json_normalize(val_json['data'])\n",
        "train = train[['ko_original', 'en']]\n",
        "val = val[['ko_original', 'en']]\n",
        "train.info(), val.info()"
      ],
      "metadata": {
        "colab": {
          "base_uri": "https://localhost:8080/"
        },
        "id": "hWfQpyWSW_Pk",
        "outputId": "737cd421-edbc-434f-b27b-2a02e118c941"
      },
      "execution_count": 41,
      "outputs": [
        {
          "output_type": "stream",
          "name": "stdout",
          "text": [
            "<class 'pandas.core.frame.DataFrame'>\n",
            "RangeIndex: 1200144 entries, 0 to 1200143\n",
            "Data columns (total 2 columns):\n",
            " #   Column       Non-Null Count    Dtype \n",
            "---  ------       --------------    ----- \n",
            " 0   ko_original  1200144 non-null  object\n",
            " 1   en           1200144 non-null  object\n",
            "dtypes: object(2)\n",
            "memory usage: 18.3+ MB\n",
            "<class 'pandas.core.frame.DataFrame'>\n",
            "RangeIndex: 150018 entries, 0 to 150017\n",
            "Data columns (total 2 columns):\n",
            " #   Column       Non-Null Count   Dtype \n",
            "---  ------       --------------   ----- \n",
            " 0   ko_original  150018 non-null  object\n",
            " 1   en           150018 non-null  object\n",
            "dtypes: object(2)\n",
            "memory usage: 2.3+ MB\n"
          ]
        },
        {
          "output_type": "execute_result",
          "data": {
            "text/plain": [
              "(None, None)"
            ]
          },
          "metadata": {},
          "execution_count": 41
        }
      ]
    },
    {
      "cell_type": "code",
      "source": [
        "def check_if_str(col):\n",
        "    for e in col.to_list():\n",
        "        if type(e) is not str:\n",
        "            print(e)"
      ],
      "metadata": {
        "id": "TmkzI2YwdTrj"
      },
      "execution_count": 47,
      "outputs": []
    },
    {
      "cell_type": "code",
      "source": [
        "check_if_str(train['ko_original'])"
      ],
      "metadata": {
        "id": "00-wtaY0deFu"
      },
      "execution_count": 48,
      "outputs": []
    },
    {
      "cell_type": "code",
      "source": [
        "check_if_str(train['en'])"
      ],
      "metadata": {
        "id": "kbTEsgtfcnim"
      },
      "execution_count": 49,
      "outputs": []
    },
    {
      "cell_type": "code",
      "source": [
        "check_if_str(val['ko_original'])"
      ],
      "metadata": {
        "id": "--OMy-a5dszx"
      },
      "execution_count": 50,
      "outputs": []
    },
    {
      "cell_type": "code",
      "source": [
        "check_if_str(val['en'])"
      ],
      "metadata": {
        "id": "1zvqVznsdNX5"
      },
      "execution_count": 51,
      "outputs": []
    },
    {
      "cell_type": "code",
      "source": [
        "train.iloc[0]"
      ],
      "metadata": {
        "colab": {
          "base_uri": "https://localhost:8080/"
        },
        "id": "sIV1fRtDdtqA",
        "outputId": "6dc770c5-0092-403c-90c3-fd5689c0f37d"
      },
      "execution_count": 53,
      "outputs": [
        {
          "output_type": "execute_result",
          "data": {
            "text/plain": [
              "ko_original          한 의료단체는 연방법원에 보건부 지침 취소를 요구하는 소송을 제기하기도 했다.\n",
              "en             A medical group has even filed a federal court...\n",
              "Name: 0, dtype: object"
            ]
          },
          "metadata": {},
          "execution_count": 53
        }
      ]
    },
    {
      "cell_type": "code",
      "source": [
        "val.iloc[0]"
      ],
      "metadata": {
        "colab": {
          "base_uri": "https://localhost:8080/"
        },
        "id": "m7R8VyJSd-dY",
        "outputId": "a6741203-f5f5-479c-93a5-0a857569f8ac"
      },
      "execution_count": 54,
      "outputs": [
        {
          "output_type": "execute_result",
          "data": {
            "text/plain": [
              "ko_original    상기 제1 지점 및 상기 제2 지점은 표시 장치(160) 내에 위치하는 서로 상이한...\n",
              "en             The first point and the second point may inclu...\n",
              "Name: 0, dtype: object"
            ]
          },
          "metadata": {},
          "execution_count": 54
        }
      ]
    },
    {
      "cell_type": "code",
      "source": [
        "train.to_csv('/content/drive/MyDrive/Data Science/알파코 딥러닝 부트캠프/프로젝트/en2ko ko2en translator T5-small/data/train.csv', index=False)\n",
        "val.to_csv('/content/drive/MyDrive/Data Science/알파코 딥러닝 부트캠프/프로젝트/en2ko ko2en translator T5-small/data/val.csv', index=False)"
      ],
      "metadata": {
        "id": "ftKUrhehfw7z"
      },
      "execution_count": 56,
      "outputs": []
    },
    {
      "cell_type": "code",
      "source": [
        "pd.read_csv('/content/drive/MyDrive/Data Science/알파코 딥러닝 부트캠프/프로젝트/en2ko ko2en translator T5-small/data/train.csv')"
      ],
      "metadata": {
        "colab": {
          "base_uri": "https://localhost:8080/",
          "height": 424
        },
        "id": "_7m5wIxhgTfB",
        "outputId": "1432a071-7622-4d73-d76d-c32e4f7e615e"
      },
      "execution_count": 58,
      "outputs": [
        {
          "output_type": "execute_result",
          "data": {
            "text/plain": [
              "                                               ko_original  \\\n",
              "0              한 의료단체는 연방법원에 보건부 지침 취소를 요구하는 소송을 제기하기도 했다.   \n",
              "1                   특정 지역에서는 순위 변동이 크게 나타나고 있는 점에 주목해야 한다.   \n",
              "2        일본·중국·한국의 학자들이 참석해 개발학의 현황부터 유엔의 '2030 지속가능 개발...   \n",
              "3        비교기(1235 및 1237)는 설정에 따라 Relu 활성함수로 나타낼 수 있으며,...   \n",
              "4        이 프로그램은 도시 재생의 초점을 낙후 지역이나 불량 주택을 철거하기보다는 근린 지...   \n",
              "...                                                    ...   \n",
              "1200139  이전 전의 공장에서 영위하던 업종과 이전 후의 공장에서 영위하는 업종이 동일하여야 한다.   \n",
              "1200140  괌의 일간지 `BBB'는 29일 인터넷판 기사에서 웹 사이트 2곳이 한국의 임신부를...   \n",
              "1200141  현재 러시아 국립 크라스노야르스크 오페라극장 객원단원으로 한국과 러시아를 오가며 활...   \n",
              "1200142  공공 입찰 관련 통계 분류를 248,832건으로 분류하고, 신규 입찰 공고 및 개찰...   \n",
              "1200143  임정 유적지 관리처의 한 중국인 직원은 \"전시물 등만 새롭게 교체하고 구조나 규모 ...   \n",
              "\n",
              "                                                        en  \n",
              "0        A medical group has even filed a federal court...  \n",
              "1        It should be noted that there are significant ...  \n",
              "2        Scholars from Japan, China, and Korea will loo...  \n",
              "3        The comparators 1235 and 1237 may be expressed...  \n",
              "4        The program is credited with focusing urban re...  \n",
              "...                                                    ...  \n",
              "1200139  The business operated when you look at the fac...  \n",
              "1200140  Guam's daily newspaper \"BBB\" reported on the 2...  \n",
              "1200141  He is currently a member of the Russian Nation...  \n",
              "1200142  The statistical classification related to publ...  \n",
              "1200143  A Chinese employee at the Limjeong Historic Si...  \n",
              "\n",
              "[1200144 rows x 2 columns]"
            ],
            "text/html": [
              "\n",
              "  <div id=\"df-bb864451-1520-4181-bba6-c5f56e6984aa\">\n",
              "    <div class=\"colab-df-container\">\n",
              "      <div>\n",
              "<style scoped>\n",
              "    .dataframe tbody tr th:only-of-type {\n",
              "        vertical-align: middle;\n",
              "    }\n",
              "\n",
              "    .dataframe tbody tr th {\n",
              "        vertical-align: top;\n",
              "    }\n",
              "\n",
              "    .dataframe thead th {\n",
              "        text-align: right;\n",
              "    }\n",
              "</style>\n",
              "<table border=\"1\" class=\"dataframe\">\n",
              "  <thead>\n",
              "    <tr style=\"text-align: right;\">\n",
              "      <th></th>\n",
              "      <th>ko_original</th>\n",
              "      <th>en</th>\n",
              "    </tr>\n",
              "  </thead>\n",
              "  <tbody>\n",
              "    <tr>\n",
              "      <th>0</th>\n",
              "      <td>한 의료단체는 연방법원에 보건부 지침 취소를 요구하는 소송을 제기하기도 했다.</td>\n",
              "      <td>A medical group has even filed a federal court...</td>\n",
              "    </tr>\n",
              "    <tr>\n",
              "      <th>1</th>\n",
              "      <td>특정 지역에서는 순위 변동이 크게 나타나고 있는 점에 주목해야 한다.</td>\n",
              "      <td>It should be noted that there are significant ...</td>\n",
              "    </tr>\n",
              "    <tr>\n",
              "      <th>2</th>\n",
              "      <td>일본·중국·한국의 학자들이 참석해 개발학의 현황부터 유엔의 '2030 지속가능 개발...</td>\n",
              "      <td>Scholars from Japan, China, and Korea will loo...</td>\n",
              "    </tr>\n",
              "    <tr>\n",
              "      <th>3</th>\n",
              "      <td>비교기(1235 및 1237)는 설정에 따라 Relu 활성함수로 나타낼 수 있으며,...</td>\n",
              "      <td>The comparators 1235 and 1237 may be expressed...</td>\n",
              "    </tr>\n",
              "    <tr>\n",
              "      <th>4</th>\n",
              "      <td>이 프로그램은 도시 재생의 초점을 낙후 지역이나 불량 주택을 철거하기보다는 근린 지...</td>\n",
              "      <td>The program is credited with focusing urban re...</td>\n",
              "    </tr>\n",
              "    <tr>\n",
              "      <th>...</th>\n",
              "      <td>...</td>\n",
              "      <td>...</td>\n",
              "    </tr>\n",
              "    <tr>\n",
              "      <th>1200139</th>\n",
              "      <td>이전 전의 공장에서 영위하던 업종과 이전 후의 공장에서 영위하는 업종이 동일하여야 한다.</td>\n",
              "      <td>The business operated when you look at the fac...</td>\n",
              "    </tr>\n",
              "    <tr>\n",
              "      <th>1200140</th>\n",
              "      <td>괌의 일간지 `BBB'는 29일 인터넷판 기사에서 웹 사이트 2곳이 한국의 임신부를...</td>\n",
              "      <td>Guam's daily newspaper \"BBB\" reported on the 2...</td>\n",
              "    </tr>\n",
              "    <tr>\n",
              "      <th>1200141</th>\n",
              "      <td>현재 러시아 국립 크라스노야르스크 오페라극장 객원단원으로 한국과 러시아를 오가며 활...</td>\n",
              "      <td>He is currently a member of the Russian Nation...</td>\n",
              "    </tr>\n",
              "    <tr>\n",
              "      <th>1200142</th>\n",
              "      <td>공공 입찰 관련 통계 분류를 248,832건으로 분류하고, 신규 입찰 공고 및 개찰...</td>\n",
              "      <td>The statistical classification related to publ...</td>\n",
              "    </tr>\n",
              "    <tr>\n",
              "      <th>1200143</th>\n",
              "      <td>임정 유적지 관리처의 한 중국인 직원은 \"전시물 등만 새롭게 교체하고 구조나 규모 ...</td>\n",
              "      <td>A Chinese employee at the Limjeong Historic Si...</td>\n",
              "    </tr>\n",
              "  </tbody>\n",
              "</table>\n",
              "<p>1200144 rows × 2 columns</p>\n",
              "</div>\n",
              "      <button class=\"colab-df-convert\" onclick=\"convertToInteractive('df-bb864451-1520-4181-bba6-c5f56e6984aa')\"\n",
              "              title=\"Convert this dataframe to an interactive table.\"\n",
              "              style=\"display:none;\">\n",
              "        \n",
              "  <svg xmlns=\"http://www.w3.org/2000/svg\" height=\"24px\"viewBox=\"0 0 24 24\"\n",
              "       width=\"24px\">\n",
              "    <path d=\"M0 0h24v24H0V0z\" fill=\"none\"/>\n",
              "    <path d=\"M18.56 5.44l.94 2.06.94-2.06 2.06-.94-2.06-.94-.94-2.06-.94 2.06-2.06.94zm-11 1L8.5 8.5l.94-2.06 2.06-.94-2.06-.94L8.5 2.5l-.94 2.06-2.06.94zm10 10l.94 2.06.94-2.06 2.06-.94-2.06-.94-.94-2.06-.94 2.06-2.06.94z\"/><path d=\"M17.41 7.96l-1.37-1.37c-.4-.4-.92-.59-1.43-.59-.52 0-1.04.2-1.43.59L10.3 9.45l-7.72 7.72c-.78.78-.78 2.05 0 2.83L4 21.41c.39.39.9.59 1.41.59.51 0 1.02-.2 1.41-.59l7.78-7.78 2.81-2.81c.8-.78.8-2.07 0-2.86zM5.41 20L4 18.59l7.72-7.72 1.47 1.35L5.41 20z\"/>\n",
              "  </svg>\n",
              "      </button>\n",
              "      \n",
              "  <style>\n",
              "    .colab-df-container {\n",
              "      display:flex;\n",
              "      flex-wrap:wrap;\n",
              "      gap: 12px;\n",
              "    }\n",
              "\n",
              "    .colab-df-convert {\n",
              "      background-color: #E8F0FE;\n",
              "      border: none;\n",
              "      border-radius: 50%;\n",
              "      cursor: pointer;\n",
              "      display: none;\n",
              "      fill: #1967D2;\n",
              "      height: 32px;\n",
              "      padding: 0 0 0 0;\n",
              "      width: 32px;\n",
              "    }\n",
              "\n",
              "    .colab-df-convert:hover {\n",
              "      background-color: #E2EBFA;\n",
              "      box-shadow: 0px 1px 2px rgba(60, 64, 67, 0.3), 0px 1px 3px 1px rgba(60, 64, 67, 0.15);\n",
              "      fill: #174EA6;\n",
              "    }\n",
              "\n",
              "    [theme=dark] .colab-df-convert {\n",
              "      background-color: #3B4455;\n",
              "      fill: #D2E3FC;\n",
              "    }\n",
              "\n",
              "    [theme=dark] .colab-df-convert:hover {\n",
              "      background-color: #434B5C;\n",
              "      box-shadow: 0px 1px 3px 1px rgba(0, 0, 0, 0.15);\n",
              "      filter: drop-shadow(0px 1px 2px rgba(0, 0, 0, 0.3));\n",
              "      fill: #FFFFFF;\n",
              "    }\n",
              "  </style>\n",
              "\n",
              "      <script>\n",
              "        const buttonEl =\n",
              "          document.querySelector('#df-bb864451-1520-4181-bba6-c5f56e6984aa button.colab-df-convert');\n",
              "        buttonEl.style.display =\n",
              "          google.colab.kernel.accessAllowed ? 'block' : 'none';\n",
              "\n",
              "        async function convertToInteractive(key) {\n",
              "          const element = document.querySelector('#df-bb864451-1520-4181-bba6-c5f56e6984aa');\n",
              "          const dataTable =\n",
              "            await google.colab.kernel.invokeFunction('convertToInteractive',\n",
              "                                                     [key], {});\n",
              "          if (!dataTable) return;\n",
              "\n",
              "          const docLinkHtml = 'Like what you see? Visit the ' +\n",
              "            '<a target=\"_blank\" href=https://colab.research.google.com/notebooks/data_table.ipynb>data table notebook</a>'\n",
              "            + ' to learn more about interactive tables.';\n",
              "          element.innerHTML = '';\n",
              "          dataTable['output_type'] = 'display_data';\n",
              "          await google.colab.output.renderOutput(dataTable, element);\n",
              "          const docLink = document.createElement('div');\n",
              "          docLink.innerHTML = docLinkHtml;\n",
              "          element.appendChild(docLink);\n",
              "        }\n",
              "      </script>\n",
              "    </div>\n",
              "  </div>\n",
              "  "
            ]
          },
          "metadata": {},
          "execution_count": 58
        }
      ]
    },
    {
      "cell_type": "code",
      "source": [
        "pd.read_csv('/content/drive/MyDrive/Data Science/알파코 딥러닝 부트캠프/프로젝트/en2ko ko2en translator T5-small/data/val.csv')"
      ],
      "metadata": {
        "colab": {
          "base_uri": "https://localhost:8080/",
          "height": 424
        },
        "id": "dboFyqZ0gwKk",
        "outputId": "f6aaca51-ccc1-434f-cb9b-93d9614e1676"
      },
      "execution_count": 59,
      "outputs": [
        {
          "output_type": "execute_result",
          "data": {
            "text/plain": [
              "                                              ko_original  \\\n",
              "0       상기 제1 지점 및 상기 제2 지점은 표시 장치(160) 내에 위치하는 서로 상이한...   \n",
              "1                      탐색 학습 또한 기업의 경영 성과에 정의 영향을 미칠 것이다.   \n",
              "2       자국과 자유 무역 협정이 체결되지 않은 국가들로부터 수입된 완성차와 자국에 생산 시...   \n",
              "3       만일 이를 인정한다면 소비자의 의사에 기하지 않은 의무(반송 의무)가 사업자의 일방...   \n",
              "4       위임장 권유 절차는 주주 총회의 소집 절차와 매우 유사한 방식이나 소집 절차와 동시...   \n",
              "...                                                   ...   \n",
              "150013  이주민과 원주민의 행위 유형 및 가치 지향을 비교해 보면 많은 차이가 있음을 알 수...   \n",
              "150014  또 항공기에서 이 남성의 주변 좌석에 있던 승객 등 농후접촉자 11명도 나리타 시내...   \n",
              "150015  영국의 커먼로의 바탕에 여러 로마법적 요소들이 존재하였는데 그것이 그대로 미국의 커...   \n",
              "150016  잘 알려진 대로 9/11 테러로 미국의 대전략(grand strategy)은 중동에...   \n",
              "150017  관리 단말(200)은 데이터 관리 프로그램의 실행을 위한 접속 인증 정보를 포함하는...   \n",
              "\n",
              "                                                       en  \n",
              "0       The first point and the second point may inclu...  \n",
              "1       Exploratory learning will also have a definiti...  \n",
              "2       High tariffs in the range of 20% to 40% are ap...  \n",
              "3       If this is acknowledged, there will arise a pr...  \n",
              "4       The proxy solicitation process is very similar...  \n",
              "...                                                   ...  \n",
              "150013  Comparing the behavior patterns and value orie...  \n",
              "150014  In addition, 11 wealthy contacts were quaranti...  \n",
              "150015  Numerous Roman legal elements existed in Engla...  \n",
              "150016  As is well known, with the 9/11 attacks, the U...  \n",
              "150017  The management terminal 200 includes an interf...  \n",
              "\n",
              "[150018 rows x 2 columns]"
            ],
            "text/html": [
              "\n",
              "  <div id=\"df-5b623d41-28bf-40ee-82aa-0d361c2488a1\">\n",
              "    <div class=\"colab-df-container\">\n",
              "      <div>\n",
              "<style scoped>\n",
              "    .dataframe tbody tr th:only-of-type {\n",
              "        vertical-align: middle;\n",
              "    }\n",
              "\n",
              "    .dataframe tbody tr th {\n",
              "        vertical-align: top;\n",
              "    }\n",
              "\n",
              "    .dataframe thead th {\n",
              "        text-align: right;\n",
              "    }\n",
              "</style>\n",
              "<table border=\"1\" class=\"dataframe\">\n",
              "  <thead>\n",
              "    <tr style=\"text-align: right;\">\n",
              "      <th></th>\n",
              "      <th>ko_original</th>\n",
              "      <th>en</th>\n",
              "    </tr>\n",
              "  </thead>\n",
              "  <tbody>\n",
              "    <tr>\n",
              "      <th>0</th>\n",
              "      <td>상기 제1 지점 및 상기 제2 지점은 표시 장치(160) 내에 위치하는 서로 상이한...</td>\n",
              "      <td>The first point and the second point may inclu...</td>\n",
              "    </tr>\n",
              "    <tr>\n",
              "      <th>1</th>\n",
              "      <td>탐색 학습 또한 기업의 경영 성과에 정의 영향을 미칠 것이다.</td>\n",
              "      <td>Exploratory learning will also have a definiti...</td>\n",
              "    </tr>\n",
              "    <tr>\n",
              "      <th>2</th>\n",
              "      <td>자국과 자유 무역 협정이 체결되지 않은 국가들로부터 수입된 완성차와 자국에 생산 시...</td>\n",
              "      <td>High tariffs in the range of 20% to 40% are ap...</td>\n",
              "    </tr>\n",
              "    <tr>\n",
              "      <th>3</th>\n",
              "      <td>만일 이를 인정한다면 소비자의 의사에 기하지 않은 의무(반송 의무)가 사업자의 일방...</td>\n",
              "      <td>If this is acknowledged, there will arise a pr...</td>\n",
              "    </tr>\n",
              "    <tr>\n",
              "      <th>4</th>\n",
              "      <td>위임장 권유 절차는 주주 총회의 소집 절차와 매우 유사한 방식이나 소집 절차와 동시...</td>\n",
              "      <td>The proxy solicitation process is very similar...</td>\n",
              "    </tr>\n",
              "    <tr>\n",
              "      <th>...</th>\n",
              "      <td>...</td>\n",
              "      <td>...</td>\n",
              "    </tr>\n",
              "    <tr>\n",
              "      <th>150013</th>\n",
              "      <td>이주민과 원주민의 행위 유형 및 가치 지향을 비교해 보면 많은 차이가 있음을 알 수...</td>\n",
              "      <td>Comparing the behavior patterns and value orie...</td>\n",
              "    </tr>\n",
              "    <tr>\n",
              "      <th>150014</th>\n",
              "      <td>또 항공기에서 이 남성의 주변 좌석에 있던 승객 등 농후접촉자 11명도 나리타 시내...</td>\n",
              "      <td>In addition, 11 wealthy contacts were quaranti...</td>\n",
              "    </tr>\n",
              "    <tr>\n",
              "      <th>150015</th>\n",
              "      <td>영국의 커먼로의 바탕에 여러 로마법적 요소들이 존재하였는데 그것이 그대로 미국의 커...</td>\n",
              "      <td>Numerous Roman legal elements existed in Engla...</td>\n",
              "    </tr>\n",
              "    <tr>\n",
              "      <th>150016</th>\n",
              "      <td>잘 알려진 대로 9/11 테러로 미국의 대전략(grand strategy)은 중동에...</td>\n",
              "      <td>As is well known, with the 9/11 attacks, the U...</td>\n",
              "    </tr>\n",
              "    <tr>\n",
              "      <th>150017</th>\n",
              "      <td>관리 단말(200)은 데이터 관리 프로그램의 실행을 위한 접속 인증 정보를 포함하는...</td>\n",
              "      <td>The management terminal 200 includes an interf...</td>\n",
              "    </tr>\n",
              "  </tbody>\n",
              "</table>\n",
              "<p>150018 rows × 2 columns</p>\n",
              "</div>\n",
              "      <button class=\"colab-df-convert\" onclick=\"convertToInteractive('df-5b623d41-28bf-40ee-82aa-0d361c2488a1')\"\n",
              "              title=\"Convert this dataframe to an interactive table.\"\n",
              "              style=\"display:none;\">\n",
              "        \n",
              "  <svg xmlns=\"http://www.w3.org/2000/svg\" height=\"24px\"viewBox=\"0 0 24 24\"\n",
              "       width=\"24px\">\n",
              "    <path d=\"M0 0h24v24H0V0z\" fill=\"none\"/>\n",
              "    <path d=\"M18.56 5.44l.94 2.06.94-2.06 2.06-.94-2.06-.94-.94-2.06-.94 2.06-2.06.94zm-11 1L8.5 8.5l.94-2.06 2.06-.94-2.06-.94L8.5 2.5l-.94 2.06-2.06.94zm10 10l.94 2.06.94-2.06 2.06-.94-2.06-.94-.94-2.06-.94 2.06-2.06.94z\"/><path d=\"M17.41 7.96l-1.37-1.37c-.4-.4-.92-.59-1.43-.59-.52 0-1.04.2-1.43.59L10.3 9.45l-7.72 7.72c-.78.78-.78 2.05 0 2.83L4 21.41c.39.39.9.59 1.41.59.51 0 1.02-.2 1.41-.59l7.78-7.78 2.81-2.81c.8-.78.8-2.07 0-2.86zM5.41 20L4 18.59l7.72-7.72 1.47 1.35L5.41 20z\"/>\n",
              "  </svg>\n",
              "      </button>\n",
              "      \n",
              "  <style>\n",
              "    .colab-df-container {\n",
              "      display:flex;\n",
              "      flex-wrap:wrap;\n",
              "      gap: 12px;\n",
              "    }\n",
              "\n",
              "    .colab-df-convert {\n",
              "      background-color: #E8F0FE;\n",
              "      border: none;\n",
              "      border-radius: 50%;\n",
              "      cursor: pointer;\n",
              "      display: none;\n",
              "      fill: #1967D2;\n",
              "      height: 32px;\n",
              "      padding: 0 0 0 0;\n",
              "      width: 32px;\n",
              "    }\n",
              "\n",
              "    .colab-df-convert:hover {\n",
              "      background-color: #E2EBFA;\n",
              "      box-shadow: 0px 1px 2px rgba(60, 64, 67, 0.3), 0px 1px 3px 1px rgba(60, 64, 67, 0.15);\n",
              "      fill: #174EA6;\n",
              "    }\n",
              "\n",
              "    [theme=dark] .colab-df-convert {\n",
              "      background-color: #3B4455;\n",
              "      fill: #D2E3FC;\n",
              "    }\n",
              "\n",
              "    [theme=dark] .colab-df-convert:hover {\n",
              "      background-color: #434B5C;\n",
              "      box-shadow: 0px 1px 3px 1px rgba(0, 0, 0, 0.15);\n",
              "      filter: drop-shadow(0px 1px 2px rgba(0, 0, 0, 0.3));\n",
              "      fill: #FFFFFF;\n",
              "    }\n",
              "  </style>\n",
              "\n",
              "      <script>\n",
              "        const buttonEl =\n",
              "          document.querySelector('#df-5b623d41-28bf-40ee-82aa-0d361c2488a1 button.colab-df-convert');\n",
              "        buttonEl.style.display =\n",
              "          google.colab.kernel.accessAllowed ? 'block' : 'none';\n",
              "\n",
              "        async function convertToInteractive(key) {\n",
              "          const element = document.querySelector('#df-5b623d41-28bf-40ee-82aa-0d361c2488a1');\n",
              "          const dataTable =\n",
              "            await google.colab.kernel.invokeFunction('convertToInteractive',\n",
              "                                                     [key], {});\n",
              "          if (!dataTable) return;\n",
              "\n",
              "          const docLinkHtml = 'Like what you see? Visit the ' +\n",
              "            '<a target=\"_blank\" href=https://colab.research.google.com/notebooks/data_table.ipynb>data table notebook</a>'\n",
              "            + ' to learn more about interactive tables.';\n",
              "          element.innerHTML = '';\n",
              "          dataTable['output_type'] = 'display_data';\n",
              "          await google.colab.output.renderOutput(dataTable, element);\n",
              "          const docLink = document.createElement('div');\n",
              "          docLink.innerHTML = docLinkHtml;\n",
              "          element.appendChild(docLink);\n",
              "        }\n",
              "      </script>\n",
              "    </div>\n",
              "  </div>\n",
              "  "
            ]
          },
          "metadata": {},
          "execution_count": 59
        }
      ]
    },
    {
      "cell_type": "code",
      "source": [
        ""
      ],
      "metadata": {
        "id": "e7SQlMP5hLsw"
      },
      "execution_count": null,
      "outputs": []
    }
  ]
}