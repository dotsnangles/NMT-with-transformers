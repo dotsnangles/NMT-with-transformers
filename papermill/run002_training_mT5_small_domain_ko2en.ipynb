{
 "cells": [
  {
   "cell_type": "markdown",
   "id": "ba1dcaf8",
   "metadata": {
    "colab_type": "text",
    "id": "view-in-github",
    "papermill": {
     "duration": 0.066601,
     "end_time": "2022-08-06T14:25:55.309725",
     "exception": false,
     "start_time": "2022-08-06T14:25:55.243124",
     "status": "completed"
    },
    "tags": []
   },
   "source": [
    "<a href=\"https://colab.research.google.com/github/dotsnangles/NMT-with-transformers/blob/master/training_mT5-small.ipynb\" target=\"_parent\"><img src=\"https://colab.research.google.com/assets/colab-badge.svg\" alt=\"Open In Colab\"/></a>"
   ]
  },
  {
   "cell_type": "code",
   "execution_count": 1,
   "id": "2a3e44ed",
   "metadata": {
    "colab": {
     "base_uri": "https://localhost:8080/"
    },
    "execution": {
     "iopub.execute_input": "2022-08-06T14:25:55.356966Z",
     "iopub.status.busy": "2022-08-06T14:25:55.356667Z",
     "iopub.status.idle": "2022-08-06T14:25:55.673409Z",
     "shell.execute_reply": "2022-08-06T14:25:55.672433Z"
    },
    "id": "szmDNko71tqn",
    "outputId": "07c5af30-d82e-4967-e30f-27480b660631",
    "papermill": {
     "duration": 0.342513,
     "end_time": "2022-08-06T14:25:55.675468",
     "exception": false,
     "start_time": "2022-08-06T14:25:55.332955",
     "status": "completed"
    },
    "tags": []
   },
   "outputs": [
    {
     "name": "stdout",
     "output_type": "stream",
     "text": [
      "Sat Aug  6 14:25:55 2022       \r\n",
      "+-----------------------------------------------------------------------------+\r\n",
      "| NVIDIA-SMI 510.47.03    Driver Version: 510.47.03    CUDA Version: 11.6     |\r\n",
      "|-------------------------------+----------------------+----------------------+\r\n",
      "| GPU  Name        Persistence-M| Bus-Id        Disp.A | Volatile Uncorr. ECC |\r\n",
      "| Fan  Temp  Perf  Pwr:Usage/Cap|         Memory-Usage | GPU-Util  Compute M. |\r\n",
      "|                               |                      |               MIG M. |\r\n",
      "|===============================+======================+======================|\r\n",
      "|   0  NVIDIA A10G         On   | 00000000:00:1E.0 Off |                    0 |\r\n",
      "|  0%   28C    P8    15W / 300W |      0MiB / 23028MiB |      0%      Default |\r\n",
      "|                               |                      |                  N/A |\r\n",
      "+-------------------------------+----------------------+----------------------+\r\n",
      "                                                                               \r\n",
      "+-----------------------------------------------------------------------------+\r\n",
      "| Processes:                                                                  |\r\n",
      "|  GPU   GI   CI        PID   Type   Process name                  GPU Memory |\r\n",
      "|        ID   ID                                                   Usage      |\r\n",
      "|=============================================================================|\r\n",
      "|  No running processes found                                                 |\r\n",
      "+-----------------------------------------------------------------------------+\r\n"
     ]
    }
   ],
   "source": [
    "!nvidia-smi"
   ]
  },
  {
   "cell_type": "markdown",
   "id": "2c7e9b65",
   "metadata": {
    "id": "tm-IS9TOoSfD",
    "papermill": {
     "duration": 0.022508,
     "end_time": "2022-08-06T14:25:55.720473",
     "exception": false,
     "start_time": "2022-08-06T14:25:55.697965",
     "status": "completed"
    },
    "tags": []
   },
   "source": [
    "### Set notebook parameters"
   ]
  },
  {
   "cell_type": "code",
   "execution_count": 2,
   "id": "bc250505",
   "metadata": {
    "execution": {
     "iopub.execute_input": "2022-08-06T14:25:55.766914Z",
     "iopub.status.busy": "2022-08-06T14:25:55.766141Z",
     "iopub.status.idle": "2022-08-06T14:25:55.772219Z",
     "shell.execute_reply": "2022-08-06T14:25:55.771488Z"
    },
    "id": "4Xt5ekSsoZ5d",
    "papermill": {
     "duration": 0.031364,
     "end_time": "2022-08-06T14:25:55.773956",
     "exception": false,
     "start_time": "2022-08-06T14:25:55.742592",
     "status": "completed"
    },
    "tags": []
   },
   "outputs": [],
   "source": [
    "run_name = 'ko2en run on aws ec2 with NVIDIA A10G with the domain data'\n",
    "\n",
    "project_name = 'ko2en-translator-mt5-small-with-the-domain-data'\n",
    "\n",
    "num_train_epochs = 30\n",
    "batch_size = 8\n",
    "gradient_accumulation_steps = 2\n",
    "\n",
    "learning_rate = 2e-5\n",
    "weight_decay = 0.01\n",
    "\n",
    "lr_scheduler_type = 'cosine'\n",
    "warmup_ratio = 0.1\n",
    "\n",
    "predict_with_generate = False\n",
    "generation_max_length = 256\n",
    "\n",
    "# early_stopping_patience = 5\n",
    "save_total_limit = 5\n",
    "\n",
    "load_best_model_at_end = False\n",
    "metric_for_best_model='eval_loss'\n",
    "\n",
    "save_strategy = \"epoch\"\n",
    "evaluation_strategy = \"epoch\"\n",
    "# save_steps = 1250\n",
    "# eval_steps = 1250\n",
    "\n",
    "logging_strategy = \"steps\"\n",
    "logging_first_step = True \n",
    "logging_steps = 500\n",
    "\n",
    "fp16 = False"
   ]
  },
  {
   "cell_type": "markdown",
   "id": "2a75cec1",
   "metadata": {
    "id": "P1KUryBDS826",
    "papermill": {
     "duration": 0.022347,
     "end_time": "2022-08-06T14:25:55.818810",
     "exception": false,
     "start_time": "2022-08-06T14:25:55.796463",
     "status": "completed"
    },
    "tags": []
   },
   "source": [
    "### Prerequisites"
   ]
  },
  {
   "cell_type": "code",
   "execution_count": 3,
   "id": "c4fe6ff0",
   "metadata": {
    "colab": {
     "base_uri": "https://localhost:8080/"
    },
    "execution": {
     "iopub.execute_input": "2022-08-06T14:25:55.865351Z",
     "iopub.status.busy": "2022-08-06T14:25:55.864837Z",
     "iopub.status.idle": "2022-08-06T14:25:55.868139Z",
     "shell.execute_reply": "2022-08-06T14:25:55.867602Z"
    },
    "id": "RIDQm6YMN7MI",
    "outputId": "4e5da6be-d9bf-4709-80fe-bd4016af35d3",
    "papermill": {
     "duration": 0.028262,
     "end_time": "2022-08-06T14:25:55.869627",
     "exception": false,
     "start_time": "2022-08-06T14:25:55.841365",
     "status": "completed"
    },
    "tags": []
   },
   "outputs": [],
   "source": [
    "# !conda install -c conda-forge datasets transformers sentencepiece sacrebleu folium wandb pandas gdown jupyterlab ipywidgets papermill"
   ]
  },
  {
   "cell_type": "code",
   "execution_count": 4,
   "id": "bc7aaeda",
   "metadata": {
    "execution": {
     "iopub.execute_input": "2022-08-06T14:25:55.915803Z",
     "iopub.status.busy": "2022-08-06T14:25:55.915301Z",
     "iopub.status.idle": "2022-08-06T14:25:55.918438Z",
     "shell.execute_reply": "2022-08-06T14:25:55.917912Z"
    },
    "id": "STwW2vB4Nn2X",
    "papermill": {
     "duration": 0.028057,
     "end_time": "2022-08-06T14:25:55.919860",
     "exception": false,
     "start_time": "2022-08-06T14:25:55.891803",
     "status": "completed"
    },
    "tags": []
   },
   "outputs": [],
   "source": [
    "# import gdown\n",
    "# id = \"1J21-T8wYjlj-91CxtxEzrcE34CDt7CM3\"\n",
    "# gdown.download_folder(id=id, quiet=True, use_cookies=False)"
   ]
  },
  {
   "cell_type": "markdown",
   "id": "cc9c94f0",
   "metadata": {
    "id": "-SYiaMTojqod",
    "papermill": {
     "duration": 0.022429,
     "end_time": "2022-08-06T14:25:55.964849",
     "exception": false,
     "start_time": "2022-08-06T14:25:55.942420",
     "status": "completed"
    },
    "tags": []
   },
   "source": [
    "### Set WandB "
   ]
  },
  {
   "cell_type": "code",
   "execution_count": 5,
   "id": "6f8ee630",
   "metadata": {
    "colab": {
     "base_uri": "https://localhost:8080/"
    },
    "execution": {
     "iopub.execute_input": "2022-08-06T14:25:56.011273Z",
     "iopub.status.busy": "2022-08-06T14:25:56.010794Z",
     "iopub.status.idle": "2022-08-06T14:25:56.017999Z",
     "shell.execute_reply": "2022-08-06T14:25:56.017442Z"
    },
    "id": "z_sIlAvvmzmw",
    "outputId": "63b7471c-fc08-49ed-d171-6a6168ee7916",
    "papermill": {
     "duration": 0.032531,
     "end_time": "2022-08-06T14:25:56.019667",
     "exception": false,
     "start_time": "2022-08-06T14:25:55.987136",
     "status": "completed"
    },
    "tags": []
   },
   "outputs": [
    {
     "name": "stdout",
     "output_type": "stream",
     "text": [
      "env: WANDB_NOTEBOOK_NAME=/home/ubuntu/codes/NMT-with-transformers/training_mT5_small_domain_ko2en.ipynb\n",
      "env: WANDB_PROJECT=ko2en-translator-mt5-small-with-the-domain-data\n",
      "env: WANDB_LOG_MODEL=true\n",
      "env: WANDB_WATCH=all\n"
     ]
    }
   ],
   "source": [
    "%env WANDB_NOTEBOOK_NAME=/home/ubuntu/codes/NMT-with-transformers/training_mT5_small_domain_ko2en.ipynb\n",
    "%env WANDB_PROJECT=$project_name\n",
    "%env WANDB_LOG_MODEL=true\n",
    "%env WANDB_WATCH=all"
   ]
  },
  {
   "cell_type": "code",
   "execution_count": 6,
   "id": "36dcc816",
   "metadata": {
    "colab": {
     "base_uri": "https://localhost:8080/",
     "height": 69
    },
    "execution": {
     "iopub.execute_input": "2022-08-06T14:25:56.066729Z",
     "iopub.status.busy": "2022-08-06T14:25:56.066098Z",
     "iopub.status.idle": "2022-08-06T14:25:56.697261Z",
     "shell.execute_reply": "2022-08-06T14:25:56.696406Z"
    },
    "id": "p7qDzf-ajvlP",
    "outputId": "046fb57f-0f22-4ab7-bd50-ce4619c1ce45",
    "papermill": {
     "duration": 0.656745,
     "end_time": "2022-08-06T14:25:56.699081",
     "exception": false,
     "start_time": "2022-08-06T14:25:56.042336",
     "status": "completed"
    },
    "tags": []
   },
   "outputs": [
    {
     "name": "stderr",
     "output_type": "stream",
     "text": [
      "\u001b[34m\u001b[1mwandb\u001b[0m: Currently logged in as: \u001b[33mdotsnangles\u001b[0m. Use \u001b[1m`wandb login --relogin`\u001b[0m to force relogin\n"
     ]
    },
    {
     "data": {
      "text/plain": [
       "True"
      ]
     },
     "execution_count": 6,
     "metadata": {},
     "output_type": "execute_result"
    }
   ],
   "source": [
    "import wandb\n",
    "wandb.login()"
   ]
  },
  {
   "cell_type": "markdown",
   "id": "f9b14f9b",
   "metadata": {
    "id": "HUg3W8tlTIs3",
    "papermill": {
     "duration": 0.022835,
     "end_time": "2022-08-06T14:25:56.744956",
     "exception": false,
     "start_time": "2022-08-06T14:25:56.722121",
     "status": "completed"
    },
    "tags": []
   },
   "source": [
    "### Model Selection"
   ]
  },
  {
   "cell_type": "code",
   "execution_count": 7,
   "id": "76994a5f",
   "metadata": {
    "execution": {
     "iopub.execute_input": "2022-08-06T14:25:56.792486Z",
     "iopub.status.busy": "2022-08-06T14:25:56.791969Z",
     "iopub.status.idle": "2022-08-06T14:25:56.795806Z",
     "shell.execute_reply": "2022-08-06T14:25:56.795124Z"
    },
    "id": "fqj75pbLR4am",
    "papermill": {
     "duration": 0.029556,
     "end_time": "2022-08-06T14:25:56.797464",
     "exception": false,
     "start_time": "2022-08-06T14:25:56.767908",
     "status": "completed"
    },
    "tags": []
   },
   "outputs": [],
   "source": [
    "model_ckpt = 'google/mt5-small'"
   ]
  },
  {
   "cell_type": "markdown",
   "id": "9cb15064",
   "metadata": {
    "id": "cUS1L0gQTDWE",
    "papermill": {
     "duration": 0.022796,
     "end_time": "2022-08-06T14:25:56.843003",
     "exception": false,
     "start_time": "2022-08-06T14:25:56.820207",
     "status": "completed"
    },
    "tags": []
   },
   "source": [
    "### Import stuff"
   ]
  },
  {
   "cell_type": "code",
   "execution_count": 8,
   "id": "70b7d643",
   "metadata": {
    "execution": {
     "iopub.execute_input": "2022-08-06T14:25:56.890815Z",
     "iopub.status.busy": "2022-08-06T14:25:56.890292Z",
     "iopub.status.idle": "2022-08-06T14:25:58.225638Z",
     "shell.execute_reply": "2022-08-06T14:25:58.224767Z"
    },
    "id": "YdxTLx5GN5Eq",
    "papermill": {
     "duration": 1.361811,
     "end_time": "2022-08-06T14:25:58.227515",
     "exception": false,
     "start_time": "2022-08-06T14:25:56.865704",
     "status": "completed"
    },
    "tags": []
   },
   "outputs": [],
   "source": [
    "import pandas as pd\n",
    "from datasets import Dataset, load_metric\n",
    "from transformers import AutoConfig, AutoTokenizer, AutoModelForSeq2SeqLM, DataCollatorForSeq2Seq, Seq2SeqTrainingArguments, Seq2SeqTrainer, EarlyStoppingCallback"
   ]
  },
  {
   "cell_type": "code",
   "execution_count": 9,
   "id": "fd1fbe45",
   "metadata": {
    "execution": {
     "iopub.execute_input": "2022-08-06T14:25:58.275292Z",
     "iopub.status.busy": "2022-08-06T14:25:58.274714Z",
     "iopub.status.idle": "2022-08-06T14:26:03.900775Z",
     "shell.execute_reply": "2022-08-06T14:26:03.899972Z"
    },
    "id": "yy9cR0OJOToH",
    "papermill": {
     "duration": 5.65221,
     "end_time": "2022-08-06T14:26:03.902736",
     "exception": false,
     "start_time": "2022-08-06T14:25:58.250526",
     "status": "completed"
    },
    "tags": []
   },
   "outputs": [],
   "source": [
    "train_df = pd.read_csv('./data/train_domain.csv')\n",
    "val_df = pd.read_csv('./data/val_domain.csv')"
   ]
  },
  {
   "cell_type": "code",
   "execution_count": 10,
   "id": "2dc20c77",
   "metadata": {
    "colab": {
     "base_uri": "https://localhost:8080/",
     "height": 257,
     "referenced_widgets": [
      "24b0deb71033449bbdc985914eed40ed",
      "5bb46349c6d742ada82f4959ae82f940",
      "076e4acb87e440f094b0f3b5bb10f0be",
      "ab38df2ca4d1485f8bb9e4e0de4bef4d",
      "a83062fcdc714294a41c461d6cbda585",
      "945ee74879ed44d6b09c877b8702a043",
      "a3f5aae75bdc4b1a8e0958247c387363",
      "88a5274a150b4b1a840b15b090e1d02e",
      "7e1df09832434349850a718915e69a30",
      "cb8e08101fa94b3fb1f59e0b0b67d77c",
      "bc89aec1a9a343a4bdfbbde001d3dce1",
      "9447cc983c3e48d99d979f0a91249fd3",
      "f9c244477dcb4bf2a1fe53da441086b2",
      "1a34e3b2b9ca427f8f9e6c0bb8d8cce5",
      "79584c3a474b40feab5fe6811d3e2999",
      "4286196fd6aa4a3b8a57da5b604184ed",
      "23227cc6264146a7a4c50a798076cb16",
      "f8d79ce0e969460ba10adec99c112076",
      "73ceac26fe3545558d29a3e67ef1cfb4",
      "38e8870320d84d4280828e97fe0b35cf",
      "014484e26a82463ea8f8c19a7a88d24e",
      "fcc268f3c10c467782ab911146a6822f",
      "b0d96a1f40244617b61b89743fd3bff7",
      "88aef34ea6874aa4a97ba0adb427611a",
      "0fe5c1b6548e4a60ac33279733c6a2a9",
      "13f14056dfe2454ba30c1448ba303110",
      "87658bcc165c4a20a40ab03f0cb2e00c",
      "1d0d2697dea14e4297c3ae2851f0d921",
      "facdce6a9b1448a09417c3e79f36fa8f",
      "3b9a5d4a72774022bc691f876648ecce",
      "23beb26805314718a8fe571aee90e4ea",
      "f31ca04ae2d940699b6747d81a2d785d",
      "9622a784f9db4f2da1543dcf02ddc882",
      "b05d70065db64aec92a02c4553b2b38f",
      "8c38efd2baa04b5bb61953366a753888",
      "c5ea0018f86c47bebce5a161c20e35c5",
      "f3eabfb2573a4ec18d0d9670dfe37b80",
      "daa6be93d5524c0bbdc041c40579a431",
      "ab8cb4ae53094835bdb0707abdae6a26",
      "daaf0c307709419d89b350a15afaddeb",
      "b6d4df1ec722421998d3192a87f54274",
      "795717c66e4d4b59b7813b42a23f20b4",
      "7a7dfc87f9304e6c9d4be4bb3bcba8a0",
      "55930c50408f491eadd092385854355a"
     ]
    },
    "execution": {
     "iopub.execute_input": "2022-08-06T14:26:03.950521Z",
     "iopub.status.busy": "2022-08-06T14:26:03.950103Z",
     "iopub.status.idle": "2022-08-06T14:26:04.852799Z",
     "shell.execute_reply": "2022-08-06T14:26:04.850788Z"
    },
    "id": "_4TJocDGRs5f",
    "outputId": "ea5b671a-87bc-4b4e-edfd-4ac199d7d7da",
    "papermill": {
     "duration": 0.930486,
     "end_time": "2022-08-06T14:26:04.856309",
     "exception": false,
     "start_time": "2022-08-06T14:26:03.925823",
     "status": "completed"
    },
    "tags": []
   },
   "outputs": [],
   "source": [
    "tokenizer = AutoTokenizer.from_pretrained(model_ckpt, use_fast=False)"
   ]
  },
  {
   "cell_type": "markdown",
   "id": "46e3fe34",
   "metadata": {
    "id": "YV3I14qlfNjO",
    "papermill": {
     "duration": 0.044504,
     "end_time": "2022-08-06T14:26:04.962953",
     "exception": false,
     "start_time": "2022-08-06T14:26:04.918449",
     "status": "completed"
    },
    "tags": []
   },
   "source": [
    "### Measure token length"
   ]
  },
  {
   "cell_type": "code",
   "execution_count": 11,
   "id": "7c389552",
   "metadata": {
    "execution": {
     "iopub.execute_input": "2022-08-06T14:26:05.044938Z",
     "iopub.status.busy": "2022-08-06T14:26:05.044107Z",
     "iopub.status.idle": "2022-08-06T14:26:05.049500Z",
     "shell.execute_reply": "2022-08-06T14:26:05.048593Z"
    },
    "id": "qN4QG9JvVtBM",
    "papermill": {
     "duration": 0.047911,
     "end_time": "2022-08-06T14:26:05.051778",
     "exception": false,
     "start_time": "2022-08-06T14:26:05.003867",
     "status": "completed"
    },
    "tags": []
   },
   "outputs": [],
   "source": [
    "def measure_len(sample):\n",
    "    return len(tokenizer.encode(sample))"
   ]
  },
  {
   "cell_type": "code",
   "execution_count": 12,
   "id": "2b2c0b8a",
   "metadata": {
    "colab": {
     "base_uri": "https://localhost:8080/"
    },
    "execution": {
     "iopub.execute_input": "2022-08-06T14:26:05.124865Z",
     "iopub.status.busy": "2022-08-06T14:26:05.123919Z",
     "iopub.status.idle": "2022-08-06T14:26:05.133728Z",
     "shell.execute_reply": "2022-08-06T14:26:05.132569Z"
    },
    "id": "km6c--bWXRZ8",
    "outputId": "4ac1ee5b-25c4-4774-cd9b-ae48d3cb9c81",
    "papermill": {
     "duration": 0.048072,
     "end_time": "2022-08-06T14:26:05.136073",
     "exception": false,
     "start_time": "2022-08-06T14:26:05.088001",
     "status": "completed"
    },
    "tags": []
   },
   "outputs": [
    {
     "name": "stdout",
     "output_type": "stream",
     "text": [
      "length of src_prefix: 7\n",
      "[37194, 259, 37209, 288, 5413, 267, 1]\n",
      "[37194, 259, 37209, 288, 5413, 267, 1]\n"
     ]
    }
   ],
   "source": [
    "src_prefix = \"translate Korean to English: \"\n",
    "\n",
    "print('length of src_prefix:', measure_len(src_prefix))\n",
    "print(tokenizer.encode(src_prefix))\n",
    "with tokenizer.as_target_tokenizer():\n",
    "    print(tokenizer.encode(src_prefix))"
   ]
  },
  {
   "cell_type": "code",
   "execution_count": 13,
   "id": "76b06c4d",
   "metadata": {
    "execution": {
     "iopub.execute_input": "2022-08-06T14:26:05.202033Z",
     "iopub.status.busy": "2022-08-06T14:26:05.201511Z",
     "iopub.status.idle": "2022-08-06T14:26:05.205548Z",
     "shell.execute_reply": "2022-08-06T14:26:05.204768Z"
    },
    "id": "yzUzczwnWJsq",
    "papermill": {
     "duration": 0.038869,
     "end_time": "2022-08-06T14:26:05.207437",
     "exception": false,
     "start_time": "2022-08-06T14:26:05.168568",
     "status": "completed"
    },
    "tags": []
   },
   "outputs": [],
   "source": [
    "# train_df_ko_len = train_df['ko'].apply(measure_len)\n",
    "# train_df_en_len = train_df['en'].apply(measure_len)\n",
    "# val_df_ko_len = val_df['ko'].apply(measure_len)\n",
    "# val_df_en_len = val_df['en'].apply(measure_len)"
   ]
  },
  {
   "cell_type": "code",
   "execution_count": 14,
   "id": "18048b54",
   "metadata": {
    "execution": {
     "iopub.execute_input": "2022-08-06T14:26:05.268904Z",
     "iopub.status.busy": "2022-08-06T14:26:05.268242Z",
     "iopub.status.idle": "2022-08-06T14:26:05.272298Z",
     "shell.execute_reply": "2022-08-06T14:26:05.271594Z"
    },
    "papermill": {
     "duration": 0.03655,
     "end_time": "2022-08-06T14:26:05.274287",
     "exception": false,
     "start_time": "2022-08-06T14:26:05.237737",
     "status": "completed"
    },
    "tags": []
   },
   "outputs": [],
   "source": [
    "# max(train_df_ko_len)+7, max(train_df_en_len),  max(val_df_ko_len)+7, max(val_df_en_len)"
   ]
  },
  {
   "cell_type": "markdown",
   "id": "3ac54d29",
   "metadata": {
    "id": "_VvDz3dbfVP6",
    "papermill": {
     "duration": 0.027924,
     "end_time": "2022-08-06T14:26:05.330419",
     "exception": false,
     "start_time": "2022-08-06T14:26:05.302495",
     "status": "completed"
    },
    "tags": []
   },
   "source": [
    "### df to ds"
   ]
  },
  {
   "cell_type": "code",
   "execution_count": 15,
   "id": "fe99629a",
   "metadata": {
    "colab": {
     "base_uri": "https://localhost:8080/"
    },
    "execution": {
     "iopub.execute_input": "2022-08-06T14:26:05.386270Z",
     "iopub.status.busy": "2022-08-06T14:26:05.385515Z",
     "iopub.status.idle": "2022-08-06T14:26:05.762568Z",
     "shell.execute_reply": "2022-08-06T14:26:05.761774Z"
    },
    "id": "1GuObstwNWwZ",
    "outputId": "6e9e6762-d5ae-4916-85e0-eacc95a25852",
    "papermill": {
     "duration": 0.406686,
     "end_time": "2022-08-06T14:26:05.764648",
     "exception": false,
     "start_time": "2022-08-06T14:26:05.357962",
     "status": "completed"
    },
    "tags": []
   },
   "outputs": [
    {
     "data": {
      "text/plain": [
       "(Dataset({\n",
       "     features: ['ko', 'en'],\n",
       "     num_rows: 319551\n",
       " }),\n",
       " Dataset({\n",
       "     features: ['ko', 'en'],\n",
       "     num_rows: 40359\n",
       " }))"
      ]
     },
     "execution_count": 15,
     "metadata": {},
     "output_type": "execute_result"
    }
   ],
   "source": [
    "train_ds = Dataset.from_pandas(train_df[['ko', 'en']])\n",
    "val_ds = Dataset.from_pandas(val_df[['ko', 'en']])\n",
    "# .shuffle(seed=42)[:val_ds_len]\n",
    "# val_ds = Dataset.from_dict(val_ds)\n",
    "train_ds, val_ds"
   ]
  },
  {
   "cell_type": "code",
   "execution_count": 16,
   "id": "8c4e5057",
   "metadata": {
    "colab": {
     "base_uri": "https://localhost:8080/"
    },
    "execution": {
     "iopub.execute_input": "2022-08-06T14:26:05.813591Z",
     "iopub.status.busy": "2022-08-06T14:26:05.812819Z",
     "iopub.status.idle": "2022-08-06T14:26:05.817651Z",
     "shell.execute_reply": "2022-08-06T14:26:05.816900Z"
    },
    "id": "8OvpUAf3aZiL",
    "outputId": "6ea4d8e3-9553-42f6-80b8-9931cd5c9584",
    "papermill": {
     "duration": 0.031238,
     "end_time": "2022-08-06T14:26:05.819270",
     "exception": false,
     "start_time": "2022-08-06T14:26:05.788032",
     "status": "completed"
    },
    "tags": []
   },
   "outputs": [
    {
     "name": "stdout",
     "output_type": "stream",
     "text": [
      "{'ko': '비교기(1235 및 1237)는 설정에 따라 Relu 활성함수로 나타낼 수 있으며, 시그모이드 함수로 나타낼 수도 있다.', 'en': 'The comparators 1235 and 1237 may be expressed as a Relu activation function or a sigmoid function according to a setting.'}\n",
      "{'ko': '서버(320)는 분석 모델 DB(325)에 소스 영상을 입력하고, 학습 모델에서 출력하는 객체 정보를 수신할 수 있다.', 'en': 'The server 320 may input a source image to the analysis model DB 325 and receive object information output from the training model.'}\n"
     ]
    }
   ],
   "source": [
    "idx = 0\n",
    "for e in train_ds:\n",
    "    print(e)\n",
    "    idx += 1\n",
    "    if idx == 2:\n",
    "        break"
   ]
  },
  {
   "cell_type": "code",
   "execution_count": 17,
   "id": "61ac3b02",
   "metadata": {
    "execution": {
     "iopub.execute_input": "2022-08-06T14:26:05.868324Z",
     "iopub.status.busy": "2022-08-06T14:26:05.867900Z",
     "iopub.status.idle": "2022-08-06T14:26:05.872724Z",
     "shell.execute_reply": "2022-08-06T14:26:05.872035Z"
    },
    "papermill": {
     "duration": 0.031193,
     "end_time": "2022-08-06T14:26:05.874311",
     "exception": false,
     "start_time": "2022-08-06T14:26:05.843118",
     "status": "completed"
    },
    "tags": []
   },
   "outputs": [
    {
     "name": "stdout",
     "output_type": "stream",
     "text": [
      "{'ko': '상기 제1 지점 및 상기 제2 지점은 표시 장치(160) 내에 위치하는 서로 상이한 지점들을 포함할 수 있다.', 'en': 'The first point and the second point may include different points located in the display device 160.'}\n",
      "{'ko': '시선 추적부(206)가 딥러닝 모델(210)을 이용하여 사용자의 시선을 보다 정확히 추적하기 위해서는 딥러닝 모델(210)의 학습용 데이터, 즉 시선 추적을 위한 학습 데이터의 신뢰도가 높아야 한다.', 'en': \"In order for the eye tracking unit 206 to more accurately track the user's gaze using the deep learning model 210, the learning data for the deep learning model 210, that is, the training data for eye tracking, should have high reliability.\"}\n"
     ]
    }
   ],
   "source": [
    "idx = 0\n",
    "for e in val_ds:\n",
    "    print(e)\n",
    "    idx += 1\n",
    "    if idx == 2:\n",
    "        break"
   ]
  },
  {
   "cell_type": "markdown",
   "id": "da5fb0c6",
   "metadata": {
    "id": "L1MWBLv4fcm1",
    "papermill": {
     "duration": 0.023833,
     "end_time": "2022-08-06T14:26:05.921868",
     "exception": false,
     "start_time": "2022-08-06T14:26:05.898035",
     "status": "completed"
    },
    "tags": []
   },
   "source": [
    "### Preprocess"
   ]
  },
  {
   "cell_type": "code",
   "execution_count": 18,
   "id": "95ccb77b",
   "metadata": {
    "execution": {
     "iopub.execute_input": "2022-08-06T14:26:05.971256Z",
     "iopub.status.busy": "2022-08-06T14:26:05.970817Z",
     "iopub.status.idle": "2022-08-06T14:26:05.976225Z",
     "shell.execute_reply": "2022-08-06T14:26:05.975631Z"
    },
    "id": "5Lv5xOHbVO4G",
    "papermill": {
     "duration": 0.03195,
     "end_time": "2022-08-06T14:26:05.977870",
     "exception": false,
     "start_time": "2022-08-06T14:26:05.945920",
     "status": "completed"
    },
    "tags": []
   },
   "outputs": [],
   "source": [
    "source_lang = \"ko\"\n",
    "target_lang = \"en\"\n",
    "prefix = \"translate Korean to English: \"\n",
    "\n",
    "def preprocess_function(examples):\n",
    "    inputs = [prefix + example for example in examples[source_lang]]\n",
    "    targets = [example for example in examples[target_lang]]\n",
    "    model_inputs = tokenizer(inputs, max_length=162, truncation=True)\n",
    "\n",
    "    with tokenizer.as_target_tokenizer():\n",
    "        labels = tokenizer(targets, max_length=122, truncation=True)\n",
    "\n",
    "    model_inputs[\"labels\"] = labels[\"input_ids\"]\n",
    "    return model_inputs"
   ]
  },
  {
   "cell_type": "markdown",
   "id": "d1f4474d",
   "metadata": {
    "id": "w-xGqutYiZjY",
    "papermill": {
     "duration": 0.023897,
     "end_time": "2022-08-06T14:26:06.025761",
     "exception": false,
     "start_time": "2022-08-06T14:26:06.001864",
     "status": "completed"
    },
    "tags": []
   },
   "source": [
    "#### Test preprocess_function"
   ]
  },
  {
   "cell_type": "code",
   "execution_count": 19,
   "id": "0fac0ca2",
   "metadata": {
    "colab": {
     "base_uri": "https://localhost:8080/"
    },
    "execution": {
     "iopub.execute_input": "2022-08-06T14:26:06.075368Z",
     "iopub.status.busy": "2022-08-06T14:26:06.074952Z",
     "iopub.status.idle": "2022-08-06T14:26:06.080233Z",
     "shell.execute_reply": "2022-08-06T14:26:06.079543Z"
    },
    "id": "iKPpEDKMcY1P",
    "outputId": "866aa495-a214-482d-cd29-d3c6dc7fda5b",
    "papermill": {
     "duration": 0.031947,
     "end_time": "2022-08-06T14:26:06.081849",
     "exception": false,
     "start_time": "2022-08-06T14:26:06.049902",
     "status": "completed"
    },
    "tags": []
   },
   "outputs": [
    {
     "data": {
      "text/plain": [
       "{'ko': ['비교기(1235 및 1237)는 설정에 따라 Relu 활성함수로 나타낼 수 있으며, 시그모이드 함수로 나타낼 수도 있다.',\n",
       "  '서버(320)는 분석 모델 DB(325)에 소스 영상을 입력하고, 학습 모델에서 출력하는 객체 정보를 수신할 수 있다.',\n",
       "  '상기 회전을 결정하는 단계는 상기 얼굴 이미지에 포함된 눈의 모양에 기초하여 상기 디스플레이 영상의 회전을 결정할 수 있다.'],\n",
       " 'en': ['The comparators 1235 and 1237 may be expressed as a Relu activation function or a sigmoid function according to a setting.',\n",
       "  'The server 320 may input a source image to the analysis model DB 325 and receive object information output from the training model.',\n",
       "  'The step of determining the rotation may include determining the rotation of the display image based on a shape of an eye included in the face image.']}"
      ]
     },
     "execution_count": 19,
     "metadata": {},
     "output_type": "execute_result"
    }
   ],
   "source": [
    "train_ds[:3]"
   ]
  },
  {
   "cell_type": "code",
   "execution_count": 20,
   "id": "5e30899b",
   "metadata": {
    "colab": {
     "base_uri": "https://localhost:8080/"
    },
    "execution": {
     "iopub.execute_input": "2022-08-06T14:26:06.131124Z",
     "iopub.status.busy": "2022-08-06T14:26:06.130682Z",
     "iopub.status.idle": "2022-08-06T14:26:06.139944Z",
     "shell.execute_reply": "2022-08-06T14:26:06.139376Z"
    },
    "id": "CSVtadpAVO79",
    "outputId": "0f04c26f-26fd-452f-d8de-4e5682b40447",
    "papermill": {
     "duration": 0.035777,
     "end_time": "2022-08-06T14:26:06.141452",
     "exception": false,
     "start_time": "2022-08-06T14:26:06.105675",
     "status": "completed"
    },
    "tags": []
   },
   "outputs": [
    {
     "name": "stdout",
     "output_type": "stream",
     "text": [
      "input id [37194, 259, 37209, 288, 5413, 267, 259, 53789, 1622, 312, 175510, 259, 5593, 644, 101294, 988, 30957, 118645, 259, 18490, 788, 1696, 63019, 3353, 12482, 2277, 1235, 49303, 125462, 1566, 3083, 19023, 261, 6463, 11051, 6763, 63362, 15331, 2277, 1235, 49303, 125462, 259, 44830, 3632, 260, 1]\n",
      "translate Korean to English: 비교기(1235 및 1237)는 설정에 따라 Relu 활성함수로 나타낼 수 있으며, 시그모이드 함수로 나타낼 수도 있다.</s> \n",
      "\n",
      "attention mask [1, 1, 1, 1, 1, 1, 1, 1, 1, 1, 1, 1, 1, 1, 1, 1, 1, 1, 1, 1, 1, 1, 1, 1, 1, 1, 1, 1, 1, 1, 1, 1, 1, 1, 1, 1, 1, 1, 1, 1, 1, 1, 1, 1, 1, 1, 1] \n",
      "\n",
      "label [486, 39959, 19002, 259, 175510, 305, 259, 162249, 1432, 390, 17385, 345, 527, 259, 262, 788, 1696, 259, 97359, 2835, 631, 259, 262, 2002, 1233, 525, 2835, 259, 18775, 288, 259, 262, 36577, 260, 1]\n",
      "The comparators 1235 and 1237 may be expressed as a Relu activation function or a sigmoid function according to a setting.</s>\n"
     ]
    }
   ],
   "source": [
    "preprocess_test = preprocess_function(train_ds[:3])\n",
    "print('input id', preprocess_test.input_ids[0])\n",
    "print(tokenizer.decode(preprocess_test.input_ids[0]), '\\n')\n",
    "print('attention mask', preprocess_test.attention_mask[0], '\\n')\n",
    "print('label', preprocess_test.labels[0])\n",
    "print(tokenizer.decode(preprocess_test.labels[0]))"
   ]
  },
  {
   "cell_type": "code",
   "execution_count": 21,
   "id": "dca38987",
   "metadata": {
    "colab": {
     "base_uri": "https://localhost:8080/",
     "height": 202,
     "referenced_widgets": [
      "0cbdc76b315249e388c35f3a38745fca",
      "dad1fe791b91476ba2def296f1fdc386",
      "77b0b7098d1c46099cf6944d3cf9d47d",
      "563a47a5120c40e69593dbaa7fef4654",
      "94e6d1011dbf412899705bac90e99263",
      "79411235978f44e5b33ba0f6d543a416",
      "04062cda15ae443eb3e63023e71bd62e",
      "9720634bf72c4f65a4cee7e539ad5b35",
      "7eaca1db54794bf6bcd7e49be5d2c8de",
      "c83f303ab01547b9974409b23f5b4d26",
      "a4e80909cef74620bfeb35367cb0c71b",
      "34090f8b758a46df9e12d9d81f2d8157",
      "5f5bfc1eb2004ea4bd21db52da9aa3e7",
      "08b2694644ae474abdd060877a987e46",
      "cbf5f6871efe4f7599f55d27e554fa63",
      "dfa719bdc3554829a339c45e12110026",
      "c9a66ac5b39a4f9192987a92faa6e9dc",
      "0f945d4ba88142248b0720a263756382",
      "cdef03b0078b48ccb1ae120620b50cde",
      "20818f32507a48438036a84c0a10c8b7",
      "a2e0b4050dce463fa7475e9fe87e1736",
      "ce8f34bbda3743eeb7108af0de942119"
     ]
    },
    "execution": {
     "iopub.execute_input": "2022-08-06T14:26:06.191160Z",
     "iopub.status.busy": "2022-08-06T14:26:06.190641Z",
     "iopub.status.idle": "2022-08-06T14:29:51.326974Z",
     "shell.execute_reply": "2022-08-06T14:29:51.326200Z"
    },
    "id": "uhQB-xQ1VO_N",
    "outputId": "c5243a9e-bd35-4f88-bb1c-b5566ab5c494",
    "papermill": {
     "duration": 225.16335,
     "end_time": "2022-08-06T14:29:51.328801",
     "exception": false,
     "start_time": "2022-08-06T14:26:06.165451",
     "status": "completed"
    },
    "tags": []
   },
   "outputs": [
    {
     "data": {
      "application/vnd.jupyter.widget-view+json": {
       "model_id": "6d1e052cfcbd4ee484569513c5a05e7b",
       "version_major": 2,
       "version_minor": 0
      },
      "text/plain": [
       "  0%|          | 0/320 [00:00<?, ?ba/s]"
      ]
     },
     "metadata": {},
     "output_type": "display_data"
    },
    {
     "data": {
      "application/vnd.jupyter.widget-view+json": {
       "model_id": "85b90172139244de8db35512e65e8296",
       "version_major": 2,
       "version_minor": 0
      },
      "text/plain": [
       "  0%|          | 0/41 [00:00<?, ?ba/s]"
      ]
     },
     "metadata": {},
     "output_type": "display_data"
    },
    {
     "data": {
      "text/plain": [
       "(Dataset({\n",
       "     features: ['ko', 'en', 'input_ids', 'attention_mask', 'labels'],\n",
       "     num_rows: 319551\n",
       " }),\n",
       " Dataset({\n",
       "     features: ['ko', 'en', 'input_ids', 'attention_mask', 'labels'],\n",
       "     num_rows: 40359\n",
       " }))"
      ]
     },
     "execution_count": 21,
     "metadata": {},
     "output_type": "execute_result"
    }
   ],
   "source": [
    "tokenized_train = train_ds.map(preprocess_function, batched=True)\n",
    "tokenized_val = val_ds.map(preprocess_function, batched=True)\n",
    "tokenized_train, tokenized_val"
   ]
  },
  {
   "cell_type": "markdown",
   "id": "48610aa7",
   "metadata": {
    "id": "MnuWgfC8igUb",
    "papermill": {
     "duration": 0.024574,
     "end_time": "2022-08-06T14:29:51.378193",
     "exception": false,
     "start_time": "2022-08-06T14:29:51.353619",
     "status": "completed"
    },
    "tags": []
   },
   "source": [
    "### Load metric"
   ]
  },
  {
   "cell_type": "code",
   "execution_count": 22,
   "id": "e7574887",
   "metadata": {
    "colab": {
     "base_uri": "https://localhost:8080/",
     "height": 49,
     "referenced_widgets": [
      "540679896a6f4d6bb7ccb01542bc7d9d",
      "2332555b54e34837ada18e78a8ed4364",
      "0d88c7a9c50343a2a56c6daa9434dde2",
      "cb51dabdac6940d5840b4e5858422e9e",
      "4bce874e9a5f4e43a26dcda4c8fcf82c",
      "70b6dae90afd4a25b754616560fb2120",
      "c1e03c85547345309b67af8969c02a97",
      "f5ff28610f08465287bae0045eda3469",
      "5d239087b08643a8bc0354dfc19b7855",
      "c65115048b794725aeda27e8949b6e40",
      "63b254a6b9224f788682d17eb336cdc7"
     ]
    },
    "execution": {
     "iopub.execute_input": "2022-08-06T14:29:51.428834Z",
     "iopub.status.busy": "2022-08-06T14:29:51.428288Z",
     "iopub.status.idle": "2022-08-06T14:29:51.573207Z",
     "shell.execute_reply": "2022-08-06T14:29:51.572414Z"
    },
    "id": "_QjQuaf9O4YJ",
    "outputId": "b9e60333-8eee-460b-c298-84c067a1c842",
    "papermill": {
     "duration": 0.172134,
     "end_time": "2022-08-06T14:29:51.574685",
     "exception": false,
     "start_time": "2022-08-06T14:29:51.402551",
     "status": "completed"
    },
    "tags": []
   },
   "outputs": [],
   "source": [
    "metric = load_metric(\"sacrebleu\")"
   ]
  },
  {
   "cell_type": "code",
   "execution_count": 23,
   "id": "28495f12",
   "metadata": {
    "execution": {
     "iopub.execute_input": "2022-08-06T14:29:51.625473Z",
     "iopub.status.busy": "2022-08-06T14:29:51.624742Z",
     "iopub.status.idle": "2022-08-06T14:29:51.633192Z",
     "shell.execute_reply": "2022-08-06T14:29:51.632404Z"
    },
    "id": "XKXf0rA-gGPE",
    "papermill": {
     "duration": 0.035945,
     "end_time": "2022-08-06T14:29:51.634949",
     "exception": false,
     "start_time": "2022-08-06T14:29:51.599004",
     "status": "completed"
    },
    "tags": []
   },
   "outputs": [],
   "source": [
    "import numpy as np\n",
    "\n",
    "def postprocess_text(preds, labels):\n",
    "    preds = [pred.strip() for pred in preds]\n",
    "    labels = [[label.strip()] for label in labels]\n",
    "\n",
    "    return preds, labels\n",
    "\n",
    "def compute_metrics(eval_preds):\n",
    "    preds, labels = eval_preds\n",
    "    if isinstance(preds, tuple):\n",
    "        preds = preds[0]\n",
    "    decoded_preds = tokenizer.batch_decode(preds, skip_special_tokens=True)\n",
    "\n",
    "    # Replace -100 in the labels as we can't decode them.\n",
    "    labels = np.where(labels != -100, labels, tokenizer.pad_token_id)\n",
    "    decoded_labels = tokenizer.batch_decode(labels, skip_special_tokens=True)\n",
    "\n",
    "    # Some simple post-processing\n",
    "    decoded_preds, decoded_labels = postprocess_text(decoded_preds, decoded_labels)\n",
    "\n",
    "    result = metric.compute(predictions=decoded_preds, references=decoded_labels)\n",
    "    result = {\"bleu\": result[\"score\"]}\n",
    "\n",
    "    prediction_lens = [np.count_nonzero(pred != tokenizer.pad_token_id) for pred in preds]\n",
    "    result[\"gen_len\"] = np.mean(prediction_lens)\n",
    "    result = {k: round(v, 4) for k, v in result.items()}\n",
    "    return result"
   ]
  },
  {
   "cell_type": "markdown",
   "id": "e9bec839",
   "metadata": {
    "id": "v7YFYMPailL-",
    "papermill": {
     "duration": 0.024558,
     "end_time": "2022-08-06T14:29:51.684073",
     "exception": false,
     "start_time": "2022-08-06T14:29:51.659515",
     "status": "completed"
    },
    "tags": []
   },
   "source": [
    "### Check and Load model"
   ]
  },
  {
   "cell_type": "code",
   "execution_count": 24,
   "id": "559dd9d0",
   "metadata": {
    "execution": {
     "iopub.execute_input": "2022-08-06T14:29:51.734963Z",
     "iopub.status.busy": "2022-08-06T14:29:51.734546Z",
     "iopub.status.idle": "2022-08-06T14:29:51.764107Z",
     "shell.execute_reply": "2022-08-06T14:29:51.763384Z"
    },
    "id": "pyw5xcgqQUaW",
    "papermill": {
     "duration": 0.057208,
     "end_time": "2022-08-06T14:29:51.765937",
     "exception": false,
     "start_time": "2022-08-06T14:29:51.708729",
     "status": "completed"
    },
    "tags": []
   },
   "outputs": [],
   "source": [
    "config = AutoConfig.from_pretrained(model_ckpt)"
   ]
  },
  {
   "cell_type": "code",
   "execution_count": 25,
   "id": "1aa9834d",
   "metadata": {
    "execution": {
     "iopub.execute_input": "2022-08-06T14:29:51.816754Z",
     "iopub.status.busy": "2022-08-06T14:29:51.816206Z",
     "iopub.status.idle": "2022-08-06T14:29:57.796198Z",
     "shell.execute_reply": "2022-08-06T14:29:57.795444Z"
    },
    "id": "q_9rSeWrRKfp",
    "papermill": {
     "duration": 6.007858,
     "end_time": "2022-08-06T14:29:57.798212",
     "exception": false,
     "start_time": "2022-08-06T14:29:51.790354",
     "status": "completed"
    },
    "tags": []
   },
   "outputs": [],
   "source": [
    "model = AutoModelForSeq2SeqLM.from_config(config)"
   ]
  },
  {
   "cell_type": "code",
   "execution_count": 26,
   "id": "b189ab27",
   "metadata": {
    "execution": {
     "iopub.execute_input": "2022-08-06T14:29:57.849470Z",
     "iopub.status.busy": "2022-08-06T14:29:57.849019Z",
     "iopub.status.idle": "2022-08-06T14:29:57.856492Z",
     "shell.execute_reply": "2022-08-06T14:29:57.855742Z"
    },
    "id": "Tzq1F-lNRpLN",
    "papermill": {
     "duration": 0.035123,
     "end_time": "2022-08-06T14:29:57.858253",
     "exception": false,
     "start_time": "2022-08-06T14:29:57.823130",
     "status": "completed"
    },
    "tags": []
   },
   "outputs": [],
   "source": [
    "model_name = model_ckpt.split(\"/\")[-1]\n",
    "args = Seq2SeqTrainingArguments(\n",
    "    f\"{model_name}-finetuned-{source_lang}-to-{target_lang}-domain\",\n",
    "    report_to='wandb',\n",
    "    run_name=run_name,\n",
    "\n",
    "    num_train_epochs=num_train_epochs,\n",
    "    per_device_train_batch_size=batch_size,\n",
    "    per_device_eval_batch_size=batch_size,\n",
    "    gradient_accumulation_steps=gradient_accumulation_steps,\n",
    "\n",
    "    learning_rate=learning_rate,\n",
    "    weight_decay=weight_decay,\n",
    "\n",
    "    lr_scheduler_type=lr_scheduler_type,\n",
    "    warmup_ratio=warmup_ratio,\n",
    "\n",
    "    # predict_with_generate=predict_with_generate,\n",
    "    # generation_max_length=generation_max_length,\n",
    "\n",
    "    save_total_limit=save_total_limit,\n",
    "\n",
    "    load_best_model_at_end=load_best_model_at_end,\n",
    "    metric_for_best_model=metric_for_best_model,\n",
    "    \n",
    "    save_strategy=save_strategy,\n",
    "    evaluation_strategy=evaluation_strategy,\n",
    "    # save_steps=save_steps,\n",
    "    # eval_steps=eval_steps,\n",
    "\n",
    "    logging_strategy=logging_strategy,\n",
    "    logging_first_step=logging_first_step, \n",
    "    logging_steps=logging_steps,\n",
    "    \n",
    "    fp16=fp16,\n",
    ")\n",
    "data_collator = DataCollatorForSeq2Seq(tokenizer, model=model)\n",
    "\n",
    "# es = EarlyStoppingCallback(early_stopping_patience=early_stopping_patience)"
   ]
  },
  {
   "cell_type": "code",
   "execution_count": 27,
   "id": "56e651fa",
   "metadata": {
    "execution": {
     "iopub.execute_input": "2022-08-06T14:29:57.909303Z",
     "iopub.status.busy": "2022-08-06T14:29:57.908761Z",
     "iopub.status.idle": "2022-08-06T14:29:59.271077Z",
     "shell.execute_reply": "2022-08-06T14:29:59.270441Z"
    },
    "id": "CFZFoERSgMoX",
    "papermill": {
     "duration": 1.39016,
     "end_time": "2022-08-06T14:29:59.273023",
     "exception": false,
     "start_time": "2022-08-06T14:29:57.882863",
     "status": "completed"
    },
    "tags": []
   },
   "outputs": [],
   "source": [
    "trainer = Seq2SeqTrainer(\n",
    "    model,\n",
    "    args,\n",
    "    train_dataset=tokenized_train,\n",
    "    eval_dataset=tokenized_val,\n",
    "    data_collator=data_collator,\n",
    "    tokenizer=tokenizer,\n",
    "    # callbacks=[es],\n",
    ")"
   ]
  },
  {
   "cell_type": "code",
   "execution_count": 28,
   "id": "110f59bd",
   "metadata": {
    "colab": {
     "base_uri": "https://localhost:8080/",
     "height": 736
    },
    "execution": {
     "iopub.execute_input": "2022-08-06T14:29:59.325480Z",
     "iopub.status.busy": "2022-08-06T14:29:59.324715Z",
     "iopub.status.idle": "2022-08-08T12:46:52.923615Z",
     "shell.execute_reply": "2022-08-08T12:46:52.922858Z"
    },
    "id": "RlgQ_NgChMRy",
    "outputId": "e5bfb9df-4ffd-49e5-81ab-bc719d28e014",
    "papermill": {
     "duration": 166613.626875,
     "end_time": "2022-08-08T12:46:52.925455",
     "exception": false,
     "start_time": "2022-08-06T14:29:59.298580",
     "status": "completed"
    },
    "tags": []
   },
   "outputs": [
    {
     "name": "stderr",
     "output_type": "stream",
     "text": [
      "The following columns in the training set don't have a corresponding argument in `MT5ForConditionalGeneration.forward` and have been ignored: ko, en. If ko, en are not expected by `MT5ForConditionalGeneration.forward`,  you can safely ignore this message.\n"
     ]
    },
    {
     "name": "stderr",
     "output_type": "stream",
     "text": [
      "/home/ubuntu/anaconda3/envs/transformers/lib/python3.9/site-packages/transformers/optimization.py:306: FutureWarning: This implementation of AdamW is deprecated and will be removed in a future version. Use the PyTorch implementation torch.optim.AdamW instead, or set `no_deprecation_warning=True` to disable this warning\n",
      "  warnings.warn(\n",
      "***** Running training *****\n"
     ]
    },
    {
     "name": "stderr",
     "output_type": "stream",
     "text": [
      "  Num examples = 319551\n"
     ]
    },
    {
     "name": "stderr",
     "output_type": "stream",
     "text": [
      "  Num Epochs = 30\n"
     ]
    },
    {
     "name": "stderr",
     "output_type": "stream",
     "text": [
      "  Instantaneous batch size per device = 8\n"
     ]
    },
    {
     "name": "stderr",
     "output_type": "stream",
     "text": [
      "  Total train batch size (w. parallel, distributed & accumulation) = 16\n"
     ]
    },
    {
     "name": "stderr",
     "output_type": "stream",
     "text": [
      "  Gradient Accumulation steps = 2\n"
     ]
    },
    {
     "name": "stderr",
     "output_type": "stream",
     "text": [
      "  Total optimization steps = 599160\n"
     ]
    },
    {
     "name": "stderr",
     "output_type": "stream",
     "text": [
      "Automatic Weights & Biases logging enabled, to disable set os.environ[\"WANDB_DISABLED\"] = \"true\"\n"
     ]
    },
    {
     "data": {
      "text/html": [
       "wandb version 0.13.1 is available!  To upgrade, please run:\n",
       " $ pip install wandb --upgrade"
      ],
      "text/plain": [
       "<IPython.core.display.HTML object>"
      ]
     },
     "metadata": {},
     "output_type": "display_data"
    },
    {
     "data": {
      "text/html": [
       "Tracking run with wandb version 0.12.21"
      ],
      "text/plain": [
       "<IPython.core.display.HTML object>"
      ]
     },
     "metadata": {},
     "output_type": "display_data"
    },
    {
     "data": {
      "text/html": [
       "Run data is saved locally in <code>/home/ubuntu/codes/NMT-with-transformers/wandb/run-20220806_142959-38e6q675</code>"
      ],
      "text/plain": [
       "<IPython.core.display.HTML object>"
      ]
     },
     "metadata": {},
     "output_type": "display_data"
    },
    {
     "data": {
      "text/html": [
       "Syncing run <strong><a href=\"https://wandb.ai/dotsnangles/ko2en-translator-mt5-small-with-the-domain-data/runs/38e6q675\" target=\"_blank\">ko2en run on aws ec2 with NVIDIA A10G with the domain data</a></strong> to <a href=\"https://wandb.ai/dotsnangles/ko2en-translator-mt5-small-with-the-domain-data\" target=\"_blank\">Weights & Biases</a> (<a href=\"https://wandb.me/run\" target=\"_blank\">docs</a>)<br/>"
      ],
      "text/plain": [
       "<IPython.core.display.HTML object>"
      ]
     },
     "metadata": {},
     "output_type": "display_data"
    },
    {
     "data": {
      "text/html": [
       "\n",
       "    <div>\n",
       "      \n",
       "      <progress value='599160' max='599160' style='width:300px; height:20px; vertical-align: middle;'></progress>\n",
       "      [599160/599160 46:16:34, Epoch 30/30]\n",
       "    </div>\n",
       "    <table border=\"1\" class=\"dataframe\">\n",
       "  <thead>\n",
       " <tr style=\"text-align: left;\">\n",
       "      <th>Epoch</th>\n",
       "      <th>Training Loss</th>\n",
       "      <th>Validation Loss</th>\n",
       "    </tr>\n",
       "  </thead>\n",
       "  <tbody>\n",
       "    <tr>\n",
       "      <td>1</td>\n",
       "      <td>27.359600</td>\n",
       "      <td>20.843443</td>\n",
       "    </tr>\n",
       "    <tr>\n",
       "      <td>2</td>\n",
       "      <td>14.478000</td>\n",
       "      <td>10.387636</td>\n",
       "    </tr>\n",
       "    <tr>\n",
       "      <td>3</td>\n",
       "      <td>6.903200</td>\n",
       "      <td>4.867607</td>\n",
       "    </tr>\n",
       "    <tr>\n",
       "      <td>4</td>\n",
       "      <td>2.958500</td>\n",
       "      <td>2.563420</td>\n",
       "    </tr>\n",
       "    <tr>\n",
       "      <td>5</td>\n",
       "      <td>2.503500</td>\n",
       "      <td>2.189458</td>\n",
       "    </tr>\n",
       "    <tr>\n",
       "      <td>6</td>\n",
       "      <td>2.153100</td>\n",
       "      <td>1.863204</td>\n",
       "    </tr>\n",
       "    <tr>\n",
       "      <td>7</td>\n",
       "      <td>1.861400</td>\n",
       "      <td>1.581821</td>\n",
       "    </tr>\n",
       "    <tr>\n",
       "      <td>8</td>\n",
       "      <td>1.587500</td>\n",
       "      <td>1.298213</td>\n",
       "    </tr>\n",
       "    <tr>\n",
       "      <td>9</td>\n",
       "      <td>1.308300</td>\n",
       "      <td>1.080985</td>\n",
       "    </tr>\n",
       "    <tr>\n",
       "      <td>10</td>\n",
       "      <td>1.132900</td>\n",
       "      <td>0.934237</td>\n",
       "    </tr>\n",
       "    <tr>\n",
       "      <td>11</td>\n",
       "      <td>1.027700</td>\n",
       "      <td>0.833232</td>\n",
       "    </tr>\n",
       "    <tr>\n",
       "      <td>12</td>\n",
       "      <td>0.918300</td>\n",
       "      <td>0.752106</td>\n",
       "    </tr>\n",
       "    <tr>\n",
       "      <td>13</td>\n",
       "      <td>0.850500</td>\n",
       "      <td>0.702788</td>\n",
       "    </tr>\n",
       "    <tr>\n",
       "      <td>14</td>\n",
       "      <td>0.781200</td>\n",
       "      <td>0.655480</td>\n",
       "    </tr>\n",
       "    <tr>\n",
       "      <td>15</td>\n",
       "      <td>0.733100</td>\n",
       "      <td>0.624041</td>\n",
       "    </tr>\n",
       "    <tr>\n",
       "      <td>16</td>\n",
       "      <td>0.693200</td>\n",
       "      <td>0.594096</td>\n",
       "    </tr>\n",
       "    <tr>\n",
       "      <td>17</td>\n",
       "      <td>0.658000</td>\n",
       "      <td>0.575094</td>\n",
       "    </tr>\n",
       "    <tr>\n",
       "      <td>18</td>\n",
       "      <td>0.623200</td>\n",
       "      <td>0.553125</td>\n",
       "    </tr>\n",
       "    <tr>\n",
       "      <td>19</td>\n",
       "      <td>0.607400</td>\n",
       "      <td>0.540758</td>\n",
       "    </tr>\n",
       "    <tr>\n",
       "      <td>20</td>\n",
       "      <td>0.590100</td>\n",
       "      <td>0.526289</td>\n",
       "    </tr>\n",
       "    <tr>\n",
       "      <td>21</td>\n",
       "      <td>0.570600</td>\n",
       "      <td>0.518867</td>\n",
       "    </tr>\n",
       "    <tr>\n",
       "      <td>22</td>\n",
       "      <td>0.565800</td>\n",
       "      <td>0.511483</td>\n",
       "    </tr>\n",
       "    <tr>\n",
       "      <td>23</td>\n",
       "      <td>0.545200</td>\n",
       "      <td>0.506511</td>\n",
       "    </tr>\n",
       "    <tr>\n",
       "      <td>24</td>\n",
       "      <td>0.532400</td>\n",
       "      <td>0.502345</td>\n",
       "    </tr>\n",
       "    <tr>\n",
       "      <td>25</td>\n",
       "      <td>0.526300</td>\n",
       "      <td>0.498554</td>\n",
       "    </tr>\n",
       "    <tr>\n",
       "      <td>26</td>\n",
       "      <td>0.519700</td>\n",
       "      <td>0.495898</td>\n",
       "    </tr>\n",
       "    <tr>\n",
       "      <td>27</td>\n",
       "      <td>0.515100</td>\n",
       "      <td>0.495038</td>\n",
       "    </tr>\n",
       "    <tr>\n",
       "      <td>28</td>\n",
       "      <td>0.506800</td>\n",
       "      <td>0.494686</td>\n",
       "    </tr>\n",
       "    <tr>\n",
       "      <td>29</td>\n",
       "      <td>0.513400</td>\n",
       "      <td>0.494492</td>\n",
       "    </tr>\n",
       "    <tr>\n",
       "      <td>30</td>\n",
       "      <td>0.516100</td>\n",
       "      <td>0.494421</td>\n",
       "    </tr>\n",
       "  </tbody>\n",
       "</table><p>"
      ],
      "text/plain": [
       "<IPython.core.display.HTML object>"
      ]
     },
     "metadata": {},
     "output_type": "display_data"
    },
    {
     "name": "stderr",
     "output_type": "stream",
     "text": [
      "The following columns in the evaluation set don't have a corresponding argument in `MT5ForConditionalGeneration.forward` and have been ignored: ko, en. If ko, en are not expected by `MT5ForConditionalGeneration.forward`,  you can safely ignore this message.\n"
     ]
    },
    {
     "name": "stderr",
     "output_type": "stream",
     "text": [
      "***** Running Evaluation *****\n"
     ]
    },
    {
     "name": "stderr",
     "output_type": "stream",
     "text": [
      "  Num examples = 40359\n"
     ]
    },
    {
     "name": "stderr",
     "output_type": "stream",
     "text": [
      "  Batch size = 8\n"
     ]
    },
    {
     "name": "stderr",
     "output_type": "stream",
     "text": [
      "Saving model checkpoint to mt5-small-finetuned-ko-to-en-domain/checkpoint-19972\n"
     ]
    },
    {
     "name": "stderr",
     "output_type": "stream",
     "text": [
      "Configuration saved in mt5-small-finetuned-ko-to-en-domain/checkpoint-19972/config.json\n"
     ]
    },
    {
     "name": "stderr",
     "output_type": "stream",
     "text": [
      "Model weights saved in mt5-small-finetuned-ko-to-en-domain/checkpoint-19972/pytorch_model.bin\n"
     ]
    },
    {
     "name": "stderr",
     "output_type": "stream",
     "text": [
      "tokenizer config file saved in mt5-small-finetuned-ko-to-en-domain/checkpoint-19972/tokenizer_config.json\n"
     ]
    },
    {
     "name": "stderr",
     "output_type": "stream",
     "text": [
      "Special tokens file saved in mt5-small-finetuned-ko-to-en-domain/checkpoint-19972/special_tokens_map.json\n"
     ]
    },
    {
     "name": "stderr",
     "output_type": "stream",
     "text": [
      "The following columns in the evaluation set don't have a corresponding argument in `MT5ForConditionalGeneration.forward` and have been ignored: ko, en. If ko, en are not expected by `MT5ForConditionalGeneration.forward`,  you can safely ignore this message.\n"
     ]
    },
    {
     "name": "stderr",
     "output_type": "stream",
     "text": [
      "***** Running Evaluation *****\n"
     ]
    },
    {
     "name": "stderr",
     "output_type": "stream",
     "text": [
      "  Num examples = 40359\n"
     ]
    },
    {
     "name": "stderr",
     "output_type": "stream",
     "text": [
      "  Batch size = 8\n"
     ]
    },
    {
     "name": "stderr",
     "output_type": "stream",
     "text": [
      "Saving model checkpoint to mt5-small-finetuned-ko-to-en-domain/checkpoint-39944\n"
     ]
    },
    {
     "name": "stderr",
     "output_type": "stream",
     "text": [
      "Configuration saved in mt5-small-finetuned-ko-to-en-domain/checkpoint-39944/config.json\n"
     ]
    },
    {
     "name": "stderr",
     "output_type": "stream",
     "text": [
      "Model weights saved in mt5-small-finetuned-ko-to-en-domain/checkpoint-39944/pytorch_model.bin\n"
     ]
    },
    {
     "name": "stderr",
     "output_type": "stream",
     "text": [
      "tokenizer config file saved in mt5-small-finetuned-ko-to-en-domain/checkpoint-39944/tokenizer_config.json\n"
     ]
    },
    {
     "name": "stderr",
     "output_type": "stream",
     "text": [
      "Special tokens file saved in mt5-small-finetuned-ko-to-en-domain/checkpoint-39944/special_tokens_map.json\n"
     ]
    },
    {
     "name": "stderr",
     "output_type": "stream",
     "text": [
      "The following columns in the evaluation set don't have a corresponding argument in `MT5ForConditionalGeneration.forward` and have been ignored: ko, en. If ko, en are not expected by `MT5ForConditionalGeneration.forward`,  you can safely ignore this message.\n"
     ]
    },
    {
     "name": "stderr",
     "output_type": "stream",
     "text": [
      "***** Running Evaluation *****\n"
     ]
    },
    {
     "name": "stderr",
     "output_type": "stream",
     "text": [
      "  Num examples = 40359\n"
     ]
    },
    {
     "name": "stderr",
     "output_type": "stream",
     "text": [
      "  Batch size = 8\n"
     ]
    },
    {
     "name": "stderr",
     "output_type": "stream",
     "text": [
      "Saving model checkpoint to mt5-small-finetuned-ko-to-en-domain/checkpoint-59916\n"
     ]
    },
    {
     "name": "stderr",
     "output_type": "stream",
     "text": [
      "Configuration saved in mt5-small-finetuned-ko-to-en-domain/checkpoint-59916/config.json\n"
     ]
    },
    {
     "name": "stderr",
     "output_type": "stream",
     "text": [
      "Model weights saved in mt5-small-finetuned-ko-to-en-domain/checkpoint-59916/pytorch_model.bin\n"
     ]
    },
    {
     "name": "stderr",
     "output_type": "stream",
     "text": [
      "tokenizer config file saved in mt5-small-finetuned-ko-to-en-domain/checkpoint-59916/tokenizer_config.json\n"
     ]
    },
    {
     "name": "stderr",
     "output_type": "stream",
     "text": [
      "Special tokens file saved in mt5-small-finetuned-ko-to-en-domain/checkpoint-59916/special_tokens_map.json\n"
     ]
    },
    {
     "name": "stderr",
     "output_type": "stream",
     "text": [
      "The following columns in the evaluation set don't have a corresponding argument in `MT5ForConditionalGeneration.forward` and have been ignored: ko, en. If ko, en are not expected by `MT5ForConditionalGeneration.forward`,  you can safely ignore this message.\n"
     ]
    },
    {
     "name": "stderr",
     "output_type": "stream",
     "text": [
      "***** Running Evaluation *****\n"
     ]
    },
    {
     "name": "stderr",
     "output_type": "stream",
     "text": [
      "  Num examples = 40359\n"
     ]
    },
    {
     "name": "stderr",
     "output_type": "stream",
     "text": [
      "  Batch size = 8\n"
     ]
    },
    {
     "name": "stderr",
     "output_type": "stream",
     "text": [
      "Saving model checkpoint to mt5-small-finetuned-ko-to-en-domain/checkpoint-79888\n"
     ]
    },
    {
     "name": "stderr",
     "output_type": "stream",
     "text": [
      "Configuration saved in mt5-small-finetuned-ko-to-en-domain/checkpoint-79888/config.json\n"
     ]
    },
    {
     "name": "stderr",
     "output_type": "stream",
     "text": [
      "Model weights saved in mt5-small-finetuned-ko-to-en-domain/checkpoint-79888/pytorch_model.bin\n"
     ]
    },
    {
     "name": "stderr",
     "output_type": "stream",
     "text": [
      "tokenizer config file saved in mt5-small-finetuned-ko-to-en-domain/checkpoint-79888/tokenizer_config.json\n"
     ]
    },
    {
     "name": "stderr",
     "output_type": "stream",
     "text": [
      "Special tokens file saved in mt5-small-finetuned-ko-to-en-domain/checkpoint-79888/special_tokens_map.json\n"
     ]
    },
    {
     "name": "stderr",
     "output_type": "stream",
     "text": [
      "The following columns in the evaluation set don't have a corresponding argument in `MT5ForConditionalGeneration.forward` and have been ignored: ko, en. If ko, en are not expected by `MT5ForConditionalGeneration.forward`,  you can safely ignore this message.\n"
     ]
    },
    {
     "name": "stderr",
     "output_type": "stream",
     "text": [
      "***** Running Evaluation *****\n"
     ]
    },
    {
     "name": "stderr",
     "output_type": "stream",
     "text": [
      "  Num examples = 40359\n"
     ]
    },
    {
     "name": "stderr",
     "output_type": "stream",
     "text": [
      "  Batch size = 8\n"
     ]
    },
    {
     "name": "stderr",
     "output_type": "stream",
     "text": [
      "Saving model checkpoint to mt5-small-finetuned-ko-to-en-domain/checkpoint-99860\n"
     ]
    },
    {
     "name": "stderr",
     "output_type": "stream",
     "text": [
      "Configuration saved in mt5-small-finetuned-ko-to-en-domain/checkpoint-99860/config.json\n"
     ]
    },
    {
     "name": "stderr",
     "output_type": "stream",
     "text": [
      "Model weights saved in mt5-small-finetuned-ko-to-en-domain/checkpoint-99860/pytorch_model.bin\n"
     ]
    },
    {
     "name": "stderr",
     "output_type": "stream",
     "text": [
      "tokenizer config file saved in mt5-small-finetuned-ko-to-en-domain/checkpoint-99860/tokenizer_config.json\n"
     ]
    },
    {
     "name": "stderr",
     "output_type": "stream",
     "text": [
      "Special tokens file saved in mt5-small-finetuned-ko-to-en-domain/checkpoint-99860/special_tokens_map.json\n"
     ]
    },
    {
     "name": "stderr",
     "output_type": "stream",
     "text": [
      "The following columns in the evaluation set don't have a corresponding argument in `MT5ForConditionalGeneration.forward` and have been ignored: ko, en. If ko, en are not expected by `MT5ForConditionalGeneration.forward`,  you can safely ignore this message.\n"
     ]
    },
    {
     "name": "stderr",
     "output_type": "stream",
     "text": [
      "***** Running Evaluation *****\n"
     ]
    },
    {
     "name": "stderr",
     "output_type": "stream",
     "text": [
      "  Num examples = 40359\n"
     ]
    },
    {
     "name": "stderr",
     "output_type": "stream",
     "text": [
      "  Batch size = 8\n"
     ]
    },
    {
     "name": "stderr",
     "output_type": "stream",
     "text": [
      "Saving model checkpoint to mt5-small-finetuned-ko-to-en-domain/checkpoint-119832\n"
     ]
    },
    {
     "name": "stderr",
     "output_type": "stream",
     "text": [
      "Configuration saved in mt5-small-finetuned-ko-to-en-domain/checkpoint-119832/config.json\n"
     ]
    },
    {
     "name": "stderr",
     "output_type": "stream",
     "text": [
      "Model weights saved in mt5-small-finetuned-ko-to-en-domain/checkpoint-119832/pytorch_model.bin\n"
     ]
    },
    {
     "name": "stderr",
     "output_type": "stream",
     "text": [
      "tokenizer config file saved in mt5-small-finetuned-ko-to-en-domain/checkpoint-119832/tokenizer_config.json\n"
     ]
    },
    {
     "name": "stderr",
     "output_type": "stream",
     "text": [
      "Special tokens file saved in mt5-small-finetuned-ko-to-en-domain/checkpoint-119832/special_tokens_map.json\n"
     ]
    },
    {
     "name": "stderr",
     "output_type": "stream",
     "text": [
      "Deleting older checkpoint [mt5-small-finetuned-ko-to-en-domain/checkpoint-19972] due to args.save_total_limit\n"
     ]
    },
    {
     "name": "stderr",
     "output_type": "stream",
     "text": [
      "The following columns in the evaluation set don't have a corresponding argument in `MT5ForConditionalGeneration.forward` and have been ignored: ko, en. If ko, en are not expected by `MT5ForConditionalGeneration.forward`,  you can safely ignore this message.\n"
     ]
    },
    {
     "name": "stderr",
     "output_type": "stream",
     "text": [
      "***** Running Evaluation *****\n"
     ]
    },
    {
     "name": "stderr",
     "output_type": "stream",
     "text": [
      "  Num examples = 40359\n"
     ]
    },
    {
     "name": "stderr",
     "output_type": "stream",
     "text": [
      "  Batch size = 8\n"
     ]
    },
    {
     "name": "stderr",
     "output_type": "stream",
     "text": [
      "Saving model checkpoint to mt5-small-finetuned-ko-to-en-domain/checkpoint-139804\n"
     ]
    },
    {
     "name": "stderr",
     "output_type": "stream",
     "text": [
      "Configuration saved in mt5-small-finetuned-ko-to-en-domain/checkpoint-139804/config.json\n"
     ]
    },
    {
     "name": "stderr",
     "output_type": "stream",
     "text": [
      "Model weights saved in mt5-small-finetuned-ko-to-en-domain/checkpoint-139804/pytorch_model.bin\n"
     ]
    },
    {
     "name": "stderr",
     "output_type": "stream",
     "text": [
      "tokenizer config file saved in mt5-small-finetuned-ko-to-en-domain/checkpoint-139804/tokenizer_config.json\n"
     ]
    },
    {
     "name": "stderr",
     "output_type": "stream",
     "text": [
      "Special tokens file saved in mt5-small-finetuned-ko-to-en-domain/checkpoint-139804/special_tokens_map.json\n"
     ]
    },
    {
     "name": "stderr",
     "output_type": "stream",
     "text": [
      "Deleting older checkpoint [mt5-small-finetuned-ko-to-en-domain/checkpoint-39944] due to args.save_total_limit\n"
     ]
    },
    {
     "name": "stderr",
     "output_type": "stream",
     "text": [
      "The following columns in the evaluation set don't have a corresponding argument in `MT5ForConditionalGeneration.forward` and have been ignored: ko, en. If ko, en are not expected by `MT5ForConditionalGeneration.forward`,  you can safely ignore this message.\n"
     ]
    },
    {
     "name": "stderr",
     "output_type": "stream",
     "text": [
      "***** Running Evaluation *****\n"
     ]
    },
    {
     "name": "stderr",
     "output_type": "stream",
     "text": [
      "  Num examples = 40359\n"
     ]
    },
    {
     "name": "stderr",
     "output_type": "stream",
     "text": [
      "  Batch size = 8\n"
     ]
    },
    {
     "name": "stderr",
     "output_type": "stream",
     "text": [
      "Saving model checkpoint to mt5-small-finetuned-ko-to-en-domain/checkpoint-159776\n"
     ]
    },
    {
     "name": "stderr",
     "output_type": "stream",
     "text": [
      "Configuration saved in mt5-small-finetuned-ko-to-en-domain/checkpoint-159776/config.json\n"
     ]
    },
    {
     "name": "stderr",
     "output_type": "stream",
     "text": [
      "Model weights saved in mt5-small-finetuned-ko-to-en-domain/checkpoint-159776/pytorch_model.bin\n"
     ]
    },
    {
     "name": "stderr",
     "output_type": "stream",
     "text": [
      "tokenizer config file saved in mt5-small-finetuned-ko-to-en-domain/checkpoint-159776/tokenizer_config.json\n"
     ]
    },
    {
     "name": "stderr",
     "output_type": "stream",
     "text": [
      "Special tokens file saved in mt5-small-finetuned-ko-to-en-domain/checkpoint-159776/special_tokens_map.json\n"
     ]
    },
    {
     "name": "stderr",
     "output_type": "stream",
     "text": [
      "Deleting older checkpoint [mt5-small-finetuned-ko-to-en-domain/checkpoint-59916] due to args.save_total_limit\n"
     ]
    },
    {
     "name": "stderr",
     "output_type": "stream",
     "text": [
      "The following columns in the evaluation set don't have a corresponding argument in `MT5ForConditionalGeneration.forward` and have been ignored: ko, en. If ko, en are not expected by `MT5ForConditionalGeneration.forward`,  you can safely ignore this message.\n"
     ]
    },
    {
     "name": "stderr",
     "output_type": "stream",
     "text": [
      "***** Running Evaluation *****\n"
     ]
    },
    {
     "name": "stderr",
     "output_type": "stream",
     "text": [
      "  Num examples = 40359\n"
     ]
    },
    {
     "name": "stderr",
     "output_type": "stream",
     "text": [
      "  Batch size = 8\n"
     ]
    },
    {
     "name": "stderr",
     "output_type": "stream",
     "text": [
      "Saving model checkpoint to mt5-small-finetuned-ko-to-en-domain/checkpoint-179748\n"
     ]
    },
    {
     "name": "stderr",
     "output_type": "stream",
     "text": [
      "Configuration saved in mt5-small-finetuned-ko-to-en-domain/checkpoint-179748/config.json\n"
     ]
    },
    {
     "name": "stderr",
     "output_type": "stream",
     "text": [
      "Model weights saved in mt5-small-finetuned-ko-to-en-domain/checkpoint-179748/pytorch_model.bin\n"
     ]
    },
    {
     "name": "stderr",
     "output_type": "stream",
     "text": [
      "tokenizer config file saved in mt5-small-finetuned-ko-to-en-domain/checkpoint-179748/tokenizer_config.json\n"
     ]
    },
    {
     "name": "stderr",
     "output_type": "stream",
     "text": [
      "Special tokens file saved in mt5-small-finetuned-ko-to-en-domain/checkpoint-179748/special_tokens_map.json\n"
     ]
    },
    {
     "name": "stderr",
     "output_type": "stream",
     "text": [
      "Deleting older checkpoint [mt5-small-finetuned-ko-to-en-domain/checkpoint-79888] due to args.save_total_limit\n"
     ]
    },
    {
     "name": "stderr",
     "output_type": "stream",
     "text": [
      "The following columns in the evaluation set don't have a corresponding argument in `MT5ForConditionalGeneration.forward` and have been ignored: ko, en. If ko, en are not expected by `MT5ForConditionalGeneration.forward`,  you can safely ignore this message.\n"
     ]
    },
    {
     "name": "stderr",
     "output_type": "stream",
     "text": [
      "***** Running Evaluation *****\n"
     ]
    },
    {
     "name": "stderr",
     "output_type": "stream",
     "text": [
      "  Num examples = 40359\n"
     ]
    },
    {
     "name": "stderr",
     "output_type": "stream",
     "text": [
      "  Batch size = 8\n"
     ]
    },
    {
     "name": "stderr",
     "output_type": "stream",
     "text": [
      "Saving model checkpoint to mt5-small-finetuned-ko-to-en-domain/checkpoint-199720\n"
     ]
    },
    {
     "name": "stderr",
     "output_type": "stream",
     "text": [
      "Configuration saved in mt5-small-finetuned-ko-to-en-domain/checkpoint-199720/config.json\n"
     ]
    },
    {
     "name": "stderr",
     "output_type": "stream",
     "text": [
      "Model weights saved in mt5-small-finetuned-ko-to-en-domain/checkpoint-199720/pytorch_model.bin\n"
     ]
    },
    {
     "name": "stderr",
     "output_type": "stream",
     "text": [
      "tokenizer config file saved in mt5-small-finetuned-ko-to-en-domain/checkpoint-199720/tokenizer_config.json\n"
     ]
    },
    {
     "name": "stderr",
     "output_type": "stream",
     "text": [
      "Special tokens file saved in mt5-small-finetuned-ko-to-en-domain/checkpoint-199720/special_tokens_map.json\n"
     ]
    },
    {
     "name": "stderr",
     "output_type": "stream",
     "text": [
      "Deleting older checkpoint [mt5-small-finetuned-ko-to-en-domain/checkpoint-99860] due to args.save_total_limit\n"
     ]
    },
    {
     "name": "stderr",
     "output_type": "stream",
     "text": [
      "The following columns in the evaluation set don't have a corresponding argument in `MT5ForConditionalGeneration.forward` and have been ignored: ko, en. If ko, en are not expected by `MT5ForConditionalGeneration.forward`,  you can safely ignore this message.\n"
     ]
    },
    {
     "name": "stderr",
     "output_type": "stream",
     "text": [
      "***** Running Evaluation *****\n"
     ]
    },
    {
     "name": "stderr",
     "output_type": "stream",
     "text": [
      "  Num examples = 40359\n"
     ]
    },
    {
     "name": "stderr",
     "output_type": "stream",
     "text": [
      "  Batch size = 8\n"
     ]
    },
    {
     "name": "stderr",
     "output_type": "stream",
     "text": [
      "Saving model checkpoint to mt5-small-finetuned-ko-to-en-domain/checkpoint-219692\n"
     ]
    },
    {
     "name": "stderr",
     "output_type": "stream",
     "text": [
      "Configuration saved in mt5-small-finetuned-ko-to-en-domain/checkpoint-219692/config.json\n"
     ]
    },
    {
     "name": "stderr",
     "output_type": "stream",
     "text": [
      "Model weights saved in mt5-small-finetuned-ko-to-en-domain/checkpoint-219692/pytorch_model.bin\n"
     ]
    },
    {
     "name": "stderr",
     "output_type": "stream",
     "text": [
      "tokenizer config file saved in mt5-small-finetuned-ko-to-en-domain/checkpoint-219692/tokenizer_config.json\n"
     ]
    },
    {
     "name": "stderr",
     "output_type": "stream",
     "text": [
      "Special tokens file saved in mt5-small-finetuned-ko-to-en-domain/checkpoint-219692/special_tokens_map.json\n"
     ]
    },
    {
     "name": "stderr",
     "output_type": "stream",
     "text": [
      "Deleting older checkpoint [mt5-small-finetuned-ko-to-en-domain/checkpoint-119832] due to args.save_total_limit\n"
     ]
    },
    {
     "name": "stderr",
     "output_type": "stream",
     "text": [
      "The following columns in the evaluation set don't have a corresponding argument in `MT5ForConditionalGeneration.forward` and have been ignored: ko, en. If ko, en are not expected by `MT5ForConditionalGeneration.forward`,  you can safely ignore this message.\n"
     ]
    },
    {
     "name": "stderr",
     "output_type": "stream",
     "text": [
      "***** Running Evaluation *****\n"
     ]
    },
    {
     "name": "stderr",
     "output_type": "stream",
     "text": [
      "  Num examples = 40359\n"
     ]
    },
    {
     "name": "stderr",
     "output_type": "stream",
     "text": [
      "  Batch size = 8\n"
     ]
    },
    {
     "name": "stderr",
     "output_type": "stream",
     "text": [
      "Saving model checkpoint to mt5-small-finetuned-ko-to-en-domain/checkpoint-239664\n"
     ]
    },
    {
     "name": "stderr",
     "output_type": "stream",
     "text": [
      "Configuration saved in mt5-small-finetuned-ko-to-en-domain/checkpoint-239664/config.json\n"
     ]
    },
    {
     "name": "stderr",
     "output_type": "stream",
     "text": [
      "Model weights saved in mt5-small-finetuned-ko-to-en-domain/checkpoint-239664/pytorch_model.bin\n"
     ]
    },
    {
     "name": "stderr",
     "output_type": "stream",
     "text": [
      "tokenizer config file saved in mt5-small-finetuned-ko-to-en-domain/checkpoint-239664/tokenizer_config.json\n"
     ]
    },
    {
     "name": "stderr",
     "output_type": "stream",
     "text": [
      "Special tokens file saved in mt5-small-finetuned-ko-to-en-domain/checkpoint-239664/special_tokens_map.json\n"
     ]
    },
    {
     "name": "stderr",
     "output_type": "stream",
     "text": [
      "Deleting older checkpoint [mt5-small-finetuned-ko-to-en-domain/checkpoint-139804] due to args.save_total_limit\n"
     ]
    },
    {
     "name": "stderr",
     "output_type": "stream",
     "text": [
      "The following columns in the evaluation set don't have a corresponding argument in `MT5ForConditionalGeneration.forward` and have been ignored: ko, en. If ko, en are not expected by `MT5ForConditionalGeneration.forward`,  you can safely ignore this message.\n"
     ]
    },
    {
     "name": "stderr",
     "output_type": "stream",
     "text": [
      "***** Running Evaluation *****\n"
     ]
    },
    {
     "name": "stderr",
     "output_type": "stream",
     "text": [
      "  Num examples = 40359\n"
     ]
    },
    {
     "name": "stderr",
     "output_type": "stream",
     "text": [
      "  Batch size = 8\n"
     ]
    },
    {
     "name": "stderr",
     "output_type": "stream",
     "text": [
      "Saving model checkpoint to mt5-small-finetuned-ko-to-en-domain/checkpoint-259636\n"
     ]
    },
    {
     "name": "stderr",
     "output_type": "stream",
     "text": [
      "Configuration saved in mt5-small-finetuned-ko-to-en-domain/checkpoint-259636/config.json\n"
     ]
    },
    {
     "name": "stderr",
     "output_type": "stream",
     "text": [
      "Model weights saved in mt5-small-finetuned-ko-to-en-domain/checkpoint-259636/pytorch_model.bin\n"
     ]
    },
    {
     "name": "stderr",
     "output_type": "stream",
     "text": [
      "tokenizer config file saved in mt5-small-finetuned-ko-to-en-domain/checkpoint-259636/tokenizer_config.json\n"
     ]
    },
    {
     "name": "stderr",
     "output_type": "stream",
     "text": [
      "Special tokens file saved in mt5-small-finetuned-ko-to-en-domain/checkpoint-259636/special_tokens_map.json\n"
     ]
    },
    {
     "name": "stderr",
     "output_type": "stream",
     "text": [
      "Deleting older checkpoint [mt5-small-finetuned-ko-to-en-domain/checkpoint-159776] due to args.save_total_limit\n"
     ]
    },
    {
     "name": "stderr",
     "output_type": "stream",
     "text": [
      "The following columns in the evaluation set don't have a corresponding argument in `MT5ForConditionalGeneration.forward` and have been ignored: ko, en. If ko, en are not expected by `MT5ForConditionalGeneration.forward`,  you can safely ignore this message.\n"
     ]
    },
    {
     "name": "stderr",
     "output_type": "stream",
     "text": [
      "***** Running Evaluation *****\n"
     ]
    },
    {
     "name": "stderr",
     "output_type": "stream",
     "text": [
      "  Num examples = 40359\n"
     ]
    },
    {
     "name": "stderr",
     "output_type": "stream",
     "text": [
      "  Batch size = 8\n"
     ]
    },
    {
     "name": "stderr",
     "output_type": "stream",
     "text": [
      "Saving model checkpoint to mt5-small-finetuned-ko-to-en-domain/checkpoint-279608\n"
     ]
    },
    {
     "name": "stderr",
     "output_type": "stream",
     "text": [
      "Configuration saved in mt5-small-finetuned-ko-to-en-domain/checkpoint-279608/config.json\n"
     ]
    },
    {
     "name": "stderr",
     "output_type": "stream",
     "text": [
      "Model weights saved in mt5-small-finetuned-ko-to-en-domain/checkpoint-279608/pytorch_model.bin\n"
     ]
    },
    {
     "name": "stderr",
     "output_type": "stream",
     "text": [
      "tokenizer config file saved in mt5-small-finetuned-ko-to-en-domain/checkpoint-279608/tokenizer_config.json\n"
     ]
    },
    {
     "name": "stderr",
     "output_type": "stream",
     "text": [
      "Special tokens file saved in mt5-small-finetuned-ko-to-en-domain/checkpoint-279608/special_tokens_map.json\n"
     ]
    },
    {
     "name": "stderr",
     "output_type": "stream",
     "text": [
      "Deleting older checkpoint [mt5-small-finetuned-ko-to-en-domain/checkpoint-179748] due to args.save_total_limit\n"
     ]
    },
    {
     "name": "stderr",
     "output_type": "stream",
     "text": [
      "The following columns in the evaluation set don't have a corresponding argument in `MT5ForConditionalGeneration.forward` and have been ignored: ko, en. If ko, en are not expected by `MT5ForConditionalGeneration.forward`,  you can safely ignore this message.\n"
     ]
    },
    {
     "name": "stderr",
     "output_type": "stream",
     "text": [
      "***** Running Evaluation *****\n"
     ]
    },
    {
     "name": "stderr",
     "output_type": "stream",
     "text": [
      "  Num examples = 40359\n"
     ]
    },
    {
     "name": "stderr",
     "output_type": "stream",
     "text": [
      "  Batch size = 8\n"
     ]
    },
    {
     "name": "stderr",
     "output_type": "stream",
     "text": [
      "Saving model checkpoint to mt5-small-finetuned-ko-to-en-domain/checkpoint-299580\n"
     ]
    },
    {
     "name": "stderr",
     "output_type": "stream",
     "text": [
      "Configuration saved in mt5-small-finetuned-ko-to-en-domain/checkpoint-299580/config.json\n"
     ]
    },
    {
     "name": "stderr",
     "output_type": "stream",
     "text": [
      "Model weights saved in mt5-small-finetuned-ko-to-en-domain/checkpoint-299580/pytorch_model.bin\n"
     ]
    },
    {
     "name": "stderr",
     "output_type": "stream",
     "text": [
      "tokenizer config file saved in mt5-small-finetuned-ko-to-en-domain/checkpoint-299580/tokenizer_config.json\n"
     ]
    },
    {
     "name": "stderr",
     "output_type": "stream",
     "text": [
      "Special tokens file saved in mt5-small-finetuned-ko-to-en-domain/checkpoint-299580/special_tokens_map.json\n"
     ]
    },
    {
     "name": "stderr",
     "output_type": "stream",
     "text": [
      "Deleting older checkpoint [mt5-small-finetuned-ko-to-en-domain/checkpoint-199720] due to args.save_total_limit\n"
     ]
    },
    {
     "name": "stderr",
     "output_type": "stream",
     "text": [
      "The following columns in the evaluation set don't have a corresponding argument in `MT5ForConditionalGeneration.forward` and have been ignored: ko, en. If ko, en are not expected by `MT5ForConditionalGeneration.forward`,  you can safely ignore this message.\n"
     ]
    },
    {
     "name": "stderr",
     "output_type": "stream",
     "text": [
      "***** Running Evaluation *****\n"
     ]
    },
    {
     "name": "stderr",
     "output_type": "stream",
     "text": [
      "  Num examples = 40359\n"
     ]
    },
    {
     "name": "stderr",
     "output_type": "stream",
     "text": [
      "  Batch size = 8\n"
     ]
    },
    {
     "name": "stderr",
     "output_type": "stream",
     "text": [
      "Saving model checkpoint to mt5-small-finetuned-ko-to-en-domain/checkpoint-319552\n"
     ]
    },
    {
     "name": "stderr",
     "output_type": "stream",
     "text": [
      "Configuration saved in mt5-small-finetuned-ko-to-en-domain/checkpoint-319552/config.json\n"
     ]
    },
    {
     "name": "stderr",
     "output_type": "stream",
     "text": [
      "Model weights saved in mt5-small-finetuned-ko-to-en-domain/checkpoint-319552/pytorch_model.bin\n"
     ]
    },
    {
     "name": "stderr",
     "output_type": "stream",
     "text": [
      "tokenizer config file saved in mt5-small-finetuned-ko-to-en-domain/checkpoint-319552/tokenizer_config.json\n"
     ]
    },
    {
     "name": "stderr",
     "output_type": "stream",
     "text": [
      "Special tokens file saved in mt5-small-finetuned-ko-to-en-domain/checkpoint-319552/special_tokens_map.json\n"
     ]
    },
    {
     "name": "stderr",
     "output_type": "stream",
     "text": [
      "Deleting older checkpoint [mt5-small-finetuned-ko-to-en-domain/checkpoint-219692] due to args.save_total_limit\n"
     ]
    },
    {
     "name": "stderr",
     "output_type": "stream",
     "text": [
      "The following columns in the evaluation set don't have a corresponding argument in `MT5ForConditionalGeneration.forward` and have been ignored: ko, en. If ko, en are not expected by `MT5ForConditionalGeneration.forward`,  you can safely ignore this message.\n"
     ]
    },
    {
     "name": "stderr",
     "output_type": "stream",
     "text": [
      "***** Running Evaluation *****\n"
     ]
    },
    {
     "name": "stderr",
     "output_type": "stream",
     "text": [
      "  Num examples = 40359\n"
     ]
    },
    {
     "name": "stderr",
     "output_type": "stream",
     "text": [
      "  Batch size = 8\n"
     ]
    },
    {
     "name": "stderr",
     "output_type": "stream",
     "text": [
      "Saving model checkpoint to mt5-small-finetuned-ko-to-en-domain/checkpoint-339524\n"
     ]
    },
    {
     "name": "stderr",
     "output_type": "stream",
     "text": [
      "Configuration saved in mt5-small-finetuned-ko-to-en-domain/checkpoint-339524/config.json\n"
     ]
    },
    {
     "name": "stderr",
     "output_type": "stream",
     "text": [
      "Model weights saved in mt5-small-finetuned-ko-to-en-domain/checkpoint-339524/pytorch_model.bin\n"
     ]
    },
    {
     "name": "stderr",
     "output_type": "stream",
     "text": [
      "tokenizer config file saved in mt5-small-finetuned-ko-to-en-domain/checkpoint-339524/tokenizer_config.json\n"
     ]
    },
    {
     "name": "stderr",
     "output_type": "stream",
     "text": [
      "Special tokens file saved in mt5-small-finetuned-ko-to-en-domain/checkpoint-339524/special_tokens_map.json\n"
     ]
    },
    {
     "name": "stderr",
     "output_type": "stream",
     "text": [
      "Deleting older checkpoint [mt5-small-finetuned-ko-to-en-domain/checkpoint-239664] due to args.save_total_limit\n"
     ]
    },
    {
     "name": "stderr",
     "output_type": "stream",
     "text": [
      "The following columns in the evaluation set don't have a corresponding argument in `MT5ForConditionalGeneration.forward` and have been ignored: ko, en. If ko, en are not expected by `MT5ForConditionalGeneration.forward`,  you can safely ignore this message.\n"
     ]
    },
    {
     "name": "stderr",
     "output_type": "stream",
     "text": [
      "***** Running Evaluation *****\n"
     ]
    },
    {
     "name": "stderr",
     "output_type": "stream",
     "text": [
      "  Num examples = 40359\n"
     ]
    },
    {
     "name": "stderr",
     "output_type": "stream",
     "text": [
      "  Batch size = 8\n"
     ]
    },
    {
     "name": "stderr",
     "output_type": "stream",
     "text": [
      "Saving model checkpoint to mt5-small-finetuned-ko-to-en-domain/checkpoint-359496\n"
     ]
    },
    {
     "name": "stderr",
     "output_type": "stream",
     "text": [
      "Configuration saved in mt5-small-finetuned-ko-to-en-domain/checkpoint-359496/config.json\n"
     ]
    },
    {
     "name": "stderr",
     "output_type": "stream",
     "text": [
      "Model weights saved in mt5-small-finetuned-ko-to-en-domain/checkpoint-359496/pytorch_model.bin\n"
     ]
    },
    {
     "name": "stderr",
     "output_type": "stream",
     "text": [
      "tokenizer config file saved in mt5-small-finetuned-ko-to-en-domain/checkpoint-359496/tokenizer_config.json\n"
     ]
    },
    {
     "name": "stderr",
     "output_type": "stream",
     "text": [
      "Special tokens file saved in mt5-small-finetuned-ko-to-en-domain/checkpoint-359496/special_tokens_map.json\n"
     ]
    },
    {
     "name": "stderr",
     "output_type": "stream",
     "text": [
      "Deleting older checkpoint [mt5-small-finetuned-ko-to-en-domain/checkpoint-259636] due to args.save_total_limit\n"
     ]
    },
    {
     "name": "stderr",
     "output_type": "stream",
     "text": [
      "The following columns in the evaluation set don't have a corresponding argument in `MT5ForConditionalGeneration.forward` and have been ignored: ko, en. If ko, en are not expected by `MT5ForConditionalGeneration.forward`,  you can safely ignore this message.\n"
     ]
    },
    {
     "name": "stderr",
     "output_type": "stream",
     "text": [
      "***** Running Evaluation *****\n"
     ]
    },
    {
     "name": "stderr",
     "output_type": "stream",
     "text": [
      "  Num examples = 40359\n"
     ]
    },
    {
     "name": "stderr",
     "output_type": "stream",
     "text": [
      "  Batch size = 8\n"
     ]
    },
    {
     "name": "stderr",
     "output_type": "stream",
     "text": [
      "Saving model checkpoint to mt5-small-finetuned-ko-to-en-domain/checkpoint-379468\n"
     ]
    },
    {
     "name": "stderr",
     "output_type": "stream",
     "text": [
      "Configuration saved in mt5-small-finetuned-ko-to-en-domain/checkpoint-379468/config.json\n"
     ]
    },
    {
     "name": "stderr",
     "output_type": "stream",
     "text": [
      "Model weights saved in mt5-small-finetuned-ko-to-en-domain/checkpoint-379468/pytorch_model.bin\n"
     ]
    },
    {
     "name": "stderr",
     "output_type": "stream",
     "text": [
      "tokenizer config file saved in mt5-small-finetuned-ko-to-en-domain/checkpoint-379468/tokenizer_config.json\n"
     ]
    },
    {
     "name": "stderr",
     "output_type": "stream",
     "text": [
      "Special tokens file saved in mt5-small-finetuned-ko-to-en-domain/checkpoint-379468/special_tokens_map.json\n"
     ]
    },
    {
     "name": "stderr",
     "output_type": "stream",
     "text": [
      "Deleting older checkpoint [mt5-small-finetuned-ko-to-en-domain/checkpoint-279608] due to args.save_total_limit\n"
     ]
    },
    {
     "name": "stderr",
     "output_type": "stream",
     "text": [
      "The following columns in the evaluation set don't have a corresponding argument in `MT5ForConditionalGeneration.forward` and have been ignored: ko, en. If ko, en are not expected by `MT5ForConditionalGeneration.forward`,  you can safely ignore this message.\n"
     ]
    },
    {
     "name": "stderr",
     "output_type": "stream",
     "text": [
      "***** Running Evaluation *****\n"
     ]
    },
    {
     "name": "stderr",
     "output_type": "stream",
     "text": [
      "  Num examples = 40359\n"
     ]
    },
    {
     "name": "stderr",
     "output_type": "stream",
     "text": [
      "  Batch size = 8\n"
     ]
    },
    {
     "name": "stderr",
     "output_type": "stream",
     "text": [
      "Saving model checkpoint to mt5-small-finetuned-ko-to-en-domain/checkpoint-399440\n"
     ]
    },
    {
     "name": "stderr",
     "output_type": "stream",
     "text": [
      "Configuration saved in mt5-small-finetuned-ko-to-en-domain/checkpoint-399440/config.json\n"
     ]
    },
    {
     "name": "stderr",
     "output_type": "stream",
     "text": [
      "Model weights saved in mt5-small-finetuned-ko-to-en-domain/checkpoint-399440/pytorch_model.bin\n"
     ]
    },
    {
     "name": "stderr",
     "output_type": "stream",
     "text": [
      "tokenizer config file saved in mt5-small-finetuned-ko-to-en-domain/checkpoint-399440/tokenizer_config.json\n"
     ]
    },
    {
     "name": "stderr",
     "output_type": "stream",
     "text": [
      "Special tokens file saved in mt5-small-finetuned-ko-to-en-domain/checkpoint-399440/special_tokens_map.json\n"
     ]
    },
    {
     "name": "stderr",
     "output_type": "stream",
     "text": [
      "Deleting older checkpoint [mt5-small-finetuned-ko-to-en-domain/checkpoint-299580] due to args.save_total_limit\n"
     ]
    },
    {
     "name": "stderr",
     "output_type": "stream",
     "text": [
      "The following columns in the evaluation set don't have a corresponding argument in `MT5ForConditionalGeneration.forward` and have been ignored: ko, en. If ko, en are not expected by `MT5ForConditionalGeneration.forward`,  you can safely ignore this message.\n"
     ]
    },
    {
     "name": "stderr",
     "output_type": "stream",
     "text": [
      "***** Running Evaluation *****\n"
     ]
    },
    {
     "name": "stderr",
     "output_type": "stream",
     "text": [
      "  Num examples = 40359\n"
     ]
    },
    {
     "name": "stderr",
     "output_type": "stream",
     "text": [
      "  Batch size = 8\n"
     ]
    },
    {
     "name": "stderr",
     "output_type": "stream",
     "text": [
      "Saving model checkpoint to mt5-small-finetuned-ko-to-en-domain/checkpoint-419412\n"
     ]
    },
    {
     "name": "stderr",
     "output_type": "stream",
     "text": [
      "Configuration saved in mt5-small-finetuned-ko-to-en-domain/checkpoint-419412/config.json\n"
     ]
    },
    {
     "name": "stderr",
     "output_type": "stream",
     "text": [
      "Model weights saved in mt5-small-finetuned-ko-to-en-domain/checkpoint-419412/pytorch_model.bin\n"
     ]
    },
    {
     "name": "stderr",
     "output_type": "stream",
     "text": [
      "tokenizer config file saved in mt5-small-finetuned-ko-to-en-domain/checkpoint-419412/tokenizer_config.json\n"
     ]
    },
    {
     "name": "stderr",
     "output_type": "stream",
     "text": [
      "Special tokens file saved in mt5-small-finetuned-ko-to-en-domain/checkpoint-419412/special_tokens_map.json\n"
     ]
    },
    {
     "name": "stderr",
     "output_type": "stream",
     "text": [
      "Deleting older checkpoint [mt5-small-finetuned-ko-to-en-domain/checkpoint-319552] due to args.save_total_limit\n"
     ]
    },
    {
     "name": "stderr",
     "output_type": "stream",
     "text": [
      "The following columns in the evaluation set don't have a corresponding argument in `MT5ForConditionalGeneration.forward` and have been ignored: ko, en. If ko, en are not expected by `MT5ForConditionalGeneration.forward`,  you can safely ignore this message.\n"
     ]
    },
    {
     "name": "stderr",
     "output_type": "stream",
     "text": [
      "***** Running Evaluation *****\n"
     ]
    },
    {
     "name": "stderr",
     "output_type": "stream",
     "text": [
      "  Num examples = 40359\n"
     ]
    },
    {
     "name": "stderr",
     "output_type": "stream",
     "text": [
      "  Batch size = 8\n"
     ]
    },
    {
     "name": "stderr",
     "output_type": "stream",
     "text": [
      "Saving model checkpoint to mt5-small-finetuned-ko-to-en-domain/checkpoint-439384\n"
     ]
    },
    {
     "name": "stderr",
     "output_type": "stream",
     "text": [
      "Configuration saved in mt5-small-finetuned-ko-to-en-domain/checkpoint-439384/config.json\n"
     ]
    },
    {
     "name": "stderr",
     "output_type": "stream",
     "text": [
      "Model weights saved in mt5-small-finetuned-ko-to-en-domain/checkpoint-439384/pytorch_model.bin\n"
     ]
    },
    {
     "name": "stderr",
     "output_type": "stream",
     "text": [
      "tokenizer config file saved in mt5-small-finetuned-ko-to-en-domain/checkpoint-439384/tokenizer_config.json\n"
     ]
    },
    {
     "name": "stderr",
     "output_type": "stream",
     "text": [
      "Special tokens file saved in mt5-small-finetuned-ko-to-en-domain/checkpoint-439384/special_tokens_map.json\n"
     ]
    },
    {
     "name": "stderr",
     "output_type": "stream",
     "text": [
      "Deleting older checkpoint [mt5-small-finetuned-ko-to-en-domain/checkpoint-339524] due to args.save_total_limit\n"
     ]
    },
    {
     "name": "stderr",
     "output_type": "stream",
     "text": [
      "The following columns in the evaluation set don't have a corresponding argument in `MT5ForConditionalGeneration.forward` and have been ignored: ko, en. If ko, en are not expected by `MT5ForConditionalGeneration.forward`,  you can safely ignore this message.\n"
     ]
    },
    {
     "name": "stderr",
     "output_type": "stream",
     "text": [
      "***** Running Evaluation *****\n"
     ]
    },
    {
     "name": "stderr",
     "output_type": "stream",
     "text": [
      "  Num examples = 40359\n"
     ]
    },
    {
     "name": "stderr",
     "output_type": "stream",
     "text": [
      "  Batch size = 8\n"
     ]
    },
    {
     "name": "stderr",
     "output_type": "stream",
     "text": [
      "Saving model checkpoint to mt5-small-finetuned-ko-to-en-domain/checkpoint-459356\n"
     ]
    },
    {
     "name": "stderr",
     "output_type": "stream",
     "text": [
      "Configuration saved in mt5-small-finetuned-ko-to-en-domain/checkpoint-459356/config.json\n"
     ]
    },
    {
     "name": "stderr",
     "output_type": "stream",
     "text": [
      "Model weights saved in mt5-small-finetuned-ko-to-en-domain/checkpoint-459356/pytorch_model.bin\n"
     ]
    },
    {
     "name": "stderr",
     "output_type": "stream",
     "text": [
      "tokenizer config file saved in mt5-small-finetuned-ko-to-en-domain/checkpoint-459356/tokenizer_config.json\n"
     ]
    },
    {
     "name": "stderr",
     "output_type": "stream",
     "text": [
      "Special tokens file saved in mt5-small-finetuned-ko-to-en-domain/checkpoint-459356/special_tokens_map.json\n"
     ]
    },
    {
     "name": "stderr",
     "output_type": "stream",
     "text": [
      "Deleting older checkpoint [mt5-small-finetuned-ko-to-en-domain/checkpoint-359496] due to args.save_total_limit\n"
     ]
    },
    {
     "name": "stderr",
     "output_type": "stream",
     "text": [
      "The following columns in the evaluation set don't have a corresponding argument in `MT5ForConditionalGeneration.forward` and have been ignored: ko, en. If ko, en are not expected by `MT5ForConditionalGeneration.forward`,  you can safely ignore this message.\n"
     ]
    },
    {
     "name": "stderr",
     "output_type": "stream",
     "text": [
      "***** Running Evaluation *****\n"
     ]
    },
    {
     "name": "stderr",
     "output_type": "stream",
     "text": [
      "  Num examples = 40359\n"
     ]
    },
    {
     "name": "stderr",
     "output_type": "stream",
     "text": [
      "  Batch size = 8\n"
     ]
    },
    {
     "name": "stderr",
     "output_type": "stream",
     "text": [
      "Saving model checkpoint to mt5-small-finetuned-ko-to-en-domain/checkpoint-479328\n"
     ]
    },
    {
     "name": "stderr",
     "output_type": "stream",
     "text": [
      "Configuration saved in mt5-small-finetuned-ko-to-en-domain/checkpoint-479328/config.json\n"
     ]
    },
    {
     "name": "stderr",
     "output_type": "stream",
     "text": [
      "Model weights saved in mt5-small-finetuned-ko-to-en-domain/checkpoint-479328/pytorch_model.bin\n"
     ]
    },
    {
     "name": "stderr",
     "output_type": "stream",
     "text": [
      "tokenizer config file saved in mt5-small-finetuned-ko-to-en-domain/checkpoint-479328/tokenizer_config.json\n"
     ]
    },
    {
     "name": "stderr",
     "output_type": "stream",
     "text": [
      "Special tokens file saved in mt5-small-finetuned-ko-to-en-domain/checkpoint-479328/special_tokens_map.json\n"
     ]
    },
    {
     "name": "stderr",
     "output_type": "stream",
     "text": [
      "Deleting older checkpoint [mt5-small-finetuned-ko-to-en-domain/checkpoint-379468] due to args.save_total_limit\n"
     ]
    },
    {
     "name": "stderr",
     "output_type": "stream",
     "text": [
      "The following columns in the evaluation set don't have a corresponding argument in `MT5ForConditionalGeneration.forward` and have been ignored: ko, en. If ko, en are not expected by `MT5ForConditionalGeneration.forward`,  you can safely ignore this message.\n"
     ]
    },
    {
     "name": "stderr",
     "output_type": "stream",
     "text": [
      "***** Running Evaluation *****\n"
     ]
    },
    {
     "name": "stderr",
     "output_type": "stream",
     "text": [
      "  Num examples = 40359\n"
     ]
    },
    {
     "name": "stderr",
     "output_type": "stream",
     "text": [
      "  Batch size = 8\n"
     ]
    },
    {
     "name": "stderr",
     "output_type": "stream",
     "text": [
      "Saving model checkpoint to mt5-small-finetuned-ko-to-en-domain/checkpoint-499300\n"
     ]
    },
    {
     "name": "stderr",
     "output_type": "stream",
     "text": [
      "Configuration saved in mt5-small-finetuned-ko-to-en-domain/checkpoint-499300/config.json\n"
     ]
    },
    {
     "name": "stderr",
     "output_type": "stream",
     "text": [
      "Model weights saved in mt5-small-finetuned-ko-to-en-domain/checkpoint-499300/pytorch_model.bin\n"
     ]
    },
    {
     "name": "stderr",
     "output_type": "stream",
     "text": [
      "tokenizer config file saved in mt5-small-finetuned-ko-to-en-domain/checkpoint-499300/tokenizer_config.json\n"
     ]
    },
    {
     "name": "stderr",
     "output_type": "stream",
     "text": [
      "Special tokens file saved in mt5-small-finetuned-ko-to-en-domain/checkpoint-499300/special_tokens_map.json\n"
     ]
    },
    {
     "name": "stderr",
     "output_type": "stream",
     "text": [
      "Deleting older checkpoint [mt5-small-finetuned-ko-to-en-domain/checkpoint-399440] due to args.save_total_limit\n"
     ]
    },
    {
     "name": "stderr",
     "output_type": "stream",
     "text": [
      "The following columns in the evaluation set don't have a corresponding argument in `MT5ForConditionalGeneration.forward` and have been ignored: ko, en. If ko, en are not expected by `MT5ForConditionalGeneration.forward`,  you can safely ignore this message.\n"
     ]
    },
    {
     "name": "stderr",
     "output_type": "stream",
     "text": [
      "***** Running Evaluation *****\n"
     ]
    },
    {
     "name": "stderr",
     "output_type": "stream",
     "text": [
      "  Num examples = 40359\n"
     ]
    },
    {
     "name": "stderr",
     "output_type": "stream",
     "text": [
      "  Batch size = 8\n"
     ]
    },
    {
     "name": "stderr",
     "output_type": "stream",
     "text": [
      "Saving model checkpoint to mt5-small-finetuned-ko-to-en-domain/checkpoint-519272\n"
     ]
    },
    {
     "name": "stderr",
     "output_type": "stream",
     "text": [
      "Configuration saved in mt5-small-finetuned-ko-to-en-domain/checkpoint-519272/config.json\n"
     ]
    },
    {
     "name": "stderr",
     "output_type": "stream",
     "text": [
      "Model weights saved in mt5-small-finetuned-ko-to-en-domain/checkpoint-519272/pytorch_model.bin\n"
     ]
    },
    {
     "name": "stderr",
     "output_type": "stream",
     "text": [
      "tokenizer config file saved in mt5-small-finetuned-ko-to-en-domain/checkpoint-519272/tokenizer_config.json\n"
     ]
    },
    {
     "name": "stderr",
     "output_type": "stream",
     "text": [
      "Special tokens file saved in mt5-small-finetuned-ko-to-en-domain/checkpoint-519272/special_tokens_map.json\n"
     ]
    },
    {
     "name": "stderr",
     "output_type": "stream",
     "text": [
      "Deleting older checkpoint [mt5-small-finetuned-ko-to-en-domain/checkpoint-419412] due to args.save_total_limit\n"
     ]
    },
    {
     "name": "stderr",
     "output_type": "stream",
     "text": [
      "The following columns in the evaluation set don't have a corresponding argument in `MT5ForConditionalGeneration.forward` and have been ignored: ko, en. If ko, en are not expected by `MT5ForConditionalGeneration.forward`,  you can safely ignore this message.\n"
     ]
    },
    {
     "name": "stderr",
     "output_type": "stream",
     "text": [
      "***** Running Evaluation *****\n"
     ]
    },
    {
     "name": "stderr",
     "output_type": "stream",
     "text": [
      "  Num examples = 40359\n"
     ]
    },
    {
     "name": "stderr",
     "output_type": "stream",
     "text": [
      "  Batch size = 8\n"
     ]
    },
    {
     "name": "stderr",
     "output_type": "stream",
     "text": [
      "Saving model checkpoint to mt5-small-finetuned-ko-to-en-domain/checkpoint-539244\n"
     ]
    },
    {
     "name": "stderr",
     "output_type": "stream",
     "text": [
      "Configuration saved in mt5-small-finetuned-ko-to-en-domain/checkpoint-539244/config.json\n"
     ]
    },
    {
     "name": "stderr",
     "output_type": "stream",
     "text": [
      "Model weights saved in mt5-small-finetuned-ko-to-en-domain/checkpoint-539244/pytorch_model.bin\n"
     ]
    },
    {
     "name": "stderr",
     "output_type": "stream",
     "text": [
      "tokenizer config file saved in mt5-small-finetuned-ko-to-en-domain/checkpoint-539244/tokenizer_config.json\n"
     ]
    },
    {
     "name": "stderr",
     "output_type": "stream",
     "text": [
      "Special tokens file saved in mt5-small-finetuned-ko-to-en-domain/checkpoint-539244/special_tokens_map.json\n"
     ]
    },
    {
     "name": "stderr",
     "output_type": "stream",
     "text": [
      "Deleting older checkpoint [mt5-small-finetuned-ko-to-en-domain/checkpoint-439384] due to args.save_total_limit\n"
     ]
    },
    {
     "name": "stderr",
     "output_type": "stream",
     "text": [
      "The following columns in the evaluation set don't have a corresponding argument in `MT5ForConditionalGeneration.forward` and have been ignored: ko, en. If ko, en are not expected by `MT5ForConditionalGeneration.forward`,  you can safely ignore this message.\n"
     ]
    },
    {
     "name": "stderr",
     "output_type": "stream",
     "text": [
      "***** Running Evaluation *****\n"
     ]
    },
    {
     "name": "stderr",
     "output_type": "stream",
     "text": [
      "  Num examples = 40359\n"
     ]
    },
    {
     "name": "stderr",
     "output_type": "stream",
     "text": [
      "  Batch size = 8\n"
     ]
    },
    {
     "name": "stderr",
     "output_type": "stream",
     "text": [
      "Saving model checkpoint to mt5-small-finetuned-ko-to-en-domain/checkpoint-559216\n"
     ]
    },
    {
     "name": "stderr",
     "output_type": "stream",
     "text": [
      "Configuration saved in mt5-small-finetuned-ko-to-en-domain/checkpoint-559216/config.json\n"
     ]
    },
    {
     "name": "stderr",
     "output_type": "stream",
     "text": [
      "Model weights saved in mt5-small-finetuned-ko-to-en-domain/checkpoint-559216/pytorch_model.bin\n"
     ]
    },
    {
     "name": "stderr",
     "output_type": "stream",
     "text": [
      "tokenizer config file saved in mt5-small-finetuned-ko-to-en-domain/checkpoint-559216/tokenizer_config.json\n"
     ]
    },
    {
     "name": "stderr",
     "output_type": "stream",
     "text": [
      "Special tokens file saved in mt5-small-finetuned-ko-to-en-domain/checkpoint-559216/special_tokens_map.json\n"
     ]
    },
    {
     "name": "stderr",
     "output_type": "stream",
     "text": [
      "Deleting older checkpoint [mt5-small-finetuned-ko-to-en-domain/checkpoint-459356] due to args.save_total_limit\n"
     ]
    },
    {
     "name": "stderr",
     "output_type": "stream",
     "text": [
      "The following columns in the evaluation set don't have a corresponding argument in `MT5ForConditionalGeneration.forward` and have been ignored: ko, en. If ko, en are not expected by `MT5ForConditionalGeneration.forward`,  you can safely ignore this message.\n"
     ]
    },
    {
     "name": "stderr",
     "output_type": "stream",
     "text": [
      "***** Running Evaluation *****\n"
     ]
    },
    {
     "name": "stderr",
     "output_type": "stream",
     "text": [
      "  Num examples = 40359\n"
     ]
    },
    {
     "name": "stderr",
     "output_type": "stream",
     "text": [
      "  Batch size = 8\n"
     ]
    },
    {
     "name": "stderr",
     "output_type": "stream",
     "text": [
      "Saving model checkpoint to mt5-small-finetuned-ko-to-en-domain/checkpoint-579188\n"
     ]
    },
    {
     "name": "stderr",
     "output_type": "stream",
     "text": [
      "Configuration saved in mt5-small-finetuned-ko-to-en-domain/checkpoint-579188/config.json\n"
     ]
    },
    {
     "name": "stderr",
     "output_type": "stream",
     "text": [
      "Model weights saved in mt5-small-finetuned-ko-to-en-domain/checkpoint-579188/pytorch_model.bin\n"
     ]
    },
    {
     "name": "stderr",
     "output_type": "stream",
     "text": [
      "tokenizer config file saved in mt5-small-finetuned-ko-to-en-domain/checkpoint-579188/tokenizer_config.json\n"
     ]
    },
    {
     "name": "stderr",
     "output_type": "stream",
     "text": [
      "Special tokens file saved in mt5-small-finetuned-ko-to-en-domain/checkpoint-579188/special_tokens_map.json\n"
     ]
    },
    {
     "name": "stderr",
     "output_type": "stream",
     "text": [
      "Deleting older checkpoint [mt5-small-finetuned-ko-to-en-domain/checkpoint-479328] due to args.save_total_limit\n"
     ]
    },
    {
     "name": "stderr",
     "output_type": "stream",
     "text": [
      "The following columns in the evaluation set don't have a corresponding argument in `MT5ForConditionalGeneration.forward` and have been ignored: ko, en. If ko, en are not expected by `MT5ForConditionalGeneration.forward`,  you can safely ignore this message.\n"
     ]
    },
    {
     "name": "stderr",
     "output_type": "stream",
     "text": [
      "***** Running Evaluation *****\n"
     ]
    },
    {
     "name": "stderr",
     "output_type": "stream",
     "text": [
      "  Num examples = 40359\n"
     ]
    },
    {
     "name": "stderr",
     "output_type": "stream",
     "text": [
      "  Batch size = 8\n"
     ]
    },
    {
     "name": "stderr",
     "output_type": "stream",
     "text": [
      "Saving model checkpoint to mt5-small-finetuned-ko-to-en-domain/checkpoint-599160\n"
     ]
    },
    {
     "name": "stderr",
     "output_type": "stream",
     "text": [
      "Configuration saved in mt5-small-finetuned-ko-to-en-domain/checkpoint-599160/config.json\n"
     ]
    },
    {
     "name": "stderr",
     "output_type": "stream",
     "text": [
      "Model weights saved in mt5-small-finetuned-ko-to-en-domain/checkpoint-599160/pytorch_model.bin\n"
     ]
    },
    {
     "name": "stderr",
     "output_type": "stream",
     "text": [
      "tokenizer config file saved in mt5-small-finetuned-ko-to-en-domain/checkpoint-599160/tokenizer_config.json\n"
     ]
    },
    {
     "name": "stderr",
     "output_type": "stream",
     "text": [
      "Special tokens file saved in mt5-small-finetuned-ko-to-en-domain/checkpoint-599160/special_tokens_map.json\n"
     ]
    },
    {
     "name": "stderr",
     "output_type": "stream",
     "text": [
      "Deleting older checkpoint [mt5-small-finetuned-ko-to-en-domain/checkpoint-499300] due to args.save_total_limit\n"
     ]
    },
    {
     "name": "stderr",
     "output_type": "stream",
     "text": [
      "\n",
      "\n",
      "Training completed. Do not forget to share your model on huggingface.co/models =)\n",
      "\n",
      "\n"
     ]
    },
    {
     "name": "stderr",
     "output_type": "stream",
     "text": [
      "Saving model checkpoint to /tmp/tmppnnq87r_\n"
     ]
    },
    {
     "name": "stderr",
     "output_type": "stream",
     "text": [
      "Configuration saved in /tmp/tmppnnq87r_/config.json\n"
     ]
    },
    {
     "name": "stderr",
     "output_type": "stream",
     "text": [
      "Model weights saved in /tmp/tmppnnq87r_/pytorch_model.bin\n"
     ]
    },
    {
     "name": "stderr",
     "output_type": "stream",
     "text": [
      "tokenizer config file saved in /tmp/tmppnnq87r_/tokenizer_config.json\n"
     ]
    },
    {
     "name": "stderr",
     "output_type": "stream",
     "text": [
      "Special tokens file saved in /tmp/tmppnnq87r_/special_tokens_map.json\n"
     ]
    },
    {
     "data": {
      "text/html": [
       "Waiting for W&B process to finish... <strong style=\"color:green\">(success).</strong>"
      ],
      "text/plain": [
       "<IPython.core.display.HTML object>"
      ]
     },
     "metadata": {},
     "output_type": "display_data"
    },
    {
     "data": {
      "application/vnd.jupyter.widget-view+json": {
       "model_id": "e6db9804650947b2879fcc11a5275b12",
       "version_major": 2,
       "version_minor": 0
      },
      "text/plain": [
       "VBox(children=(Label(value='1149.260 MB of 1149.260 MB uploaded (0.000 MB deduped)\\r'), FloatProgress(value=1.…"
      ]
     },
     "metadata": {},
     "output_type": "display_data"
    },
    {
     "data": {
      "text/html": [
       "<style>\n",
       "    table.wandb td:nth-child(1) { padding: 0 10px; text-align: left ; width: auto;} td:nth-child(2) {text-align: left ; width: 100%}\n",
       "    .wandb-row { display: flex; flex-direction: row; flex-wrap: wrap; justify-content: flex-start; width: 100% }\n",
       "    .wandb-col { display: flex; flex-direction: column; flex-basis: 100%; flex: 1; padding: 10px; }\n",
       "    </style>\n",
       "<div class=\"wandb-row\"><div class=\"wandb-col\"><h3>Run history:</h3><br/><table class=\"wandb\"><tr><td>eval/loss</td><td>█▄▃▂▂▁▁▁▁▁▁▁▁▁▁▁▁▁▁▁▁▁▁▁▁▁▁▁▁▁</td></tr><tr><td>eval/runtime</td><td>██▅▁▃▅▁▄▁▃▆▄█▃█▂▁▃▅▃▁▂▂▂▁▁██▅▄</td></tr><tr><td>eval/samples_per_second</td><td>▁▁▄█▆▄█▅█▆▃▅▁▅▁▇█▆▄▆█▆▆▇██▁▁▄▅</td></tr><tr><td>eval/steps_per_second</td><td>▁▁▄█▆▄█▅█▆▃▅▁▅▁▇█▆▄▆█▆▆▇██▁▁▄▅</td></tr><tr><td>train/epoch</td><td>▁▁▁▁▂▂▂▂▂▃▃▃▃▃▃▄▄▄▄▄▅▅▅▅▅▅▆▆▆▆▆▇▇▇▇▇▇███</td></tr><tr><td>train/global_step</td><td>▁▁▁▁▂▂▂▂▂▃▃▃▃▃▃▄▄▄▄▄▅▅▅▅▅▅▆▆▆▆▆▇▇▇▇▇▇███</td></tr><tr><td>train/learning_rate</td><td>▂▃▅▇███████▇▇▇▇▆▆▆▆▅▅▅▄▄▄▄▃▃▃▂▂▂▂▂▁▁▁▁▁▁</td></tr><tr><td>train/loss</td><td>█▆▄▃▂▁▁▁▁▁▁▁▁▁▁▁▁▁▁▁▁▁▁▁▁▁▁▁▁▁▁▁▁▁▁▁▁▁▁▁</td></tr><tr><td>train/total_flos</td><td>▁</td></tr><tr><td>train/train_loss</td><td>▁</td></tr><tr><td>train/train_runtime</td><td>▁</td></tr><tr><td>train/train_samples_per_second</td><td>▁</td></tr><tr><td>train/train_steps_per_second</td><td>▁</td></tr></table><br/></div><div class=\"wandb-col\"><h3>Run summary:</h3><br/><table class=\"wandb\"><tr><td>eval/loss</td><td>0.49442</td></tr><tr><td>eval/runtime</td><td>203.2087</td></tr><tr><td>eval/samples_per_second</td><td>198.609</td></tr><tr><td>eval/steps_per_second</td><td>24.827</td></tr><tr><td>train/epoch</td><td>30.0</td></tr><tr><td>train/global_step</td><td>599160</td></tr><tr><td>train/learning_rate</td><td>0.0</td></tr><tr><td>train/loss</td><td>0.5161</td></tr><tr><td>train/total_flos</td><td>7.48077003127081e+17</td></tr><tr><td>train/train_loss</td><td>3.34988</td></tr><tr><td>train/train_runtime</td><td>166554.9978</td></tr><tr><td>train/train_samples_per_second</td><td>57.558</td></tr><tr><td>train/train_steps_per_second</td><td>3.597</td></tr></table><br/></div></div>"
      ],
      "text/plain": [
       "<IPython.core.display.HTML object>"
      ]
     },
     "metadata": {},
     "output_type": "display_data"
    },
    {
     "data": {
      "text/html": [
       "Synced <strong style=\"color:#cdcd00\">ko2en run on aws ec2 with NVIDIA A10G with the domain data</strong>: <a href=\"https://wandb.ai/dotsnangles/ko2en-translator-mt5-small-with-the-domain-data/runs/38e6q675\" target=\"_blank\">https://wandb.ai/dotsnangles/ko2en-translator-mt5-small-with-the-domain-data/runs/38e6q675</a><br/>Synced 6 W&B file(s), 0 media file(s), 6 artifact file(s) and 0 other file(s)"
      ],
      "text/plain": [
       "<IPython.core.display.HTML object>"
      ]
     },
     "metadata": {},
     "output_type": "display_data"
    },
    {
     "data": {
      "text/html": [
       "Find logs at: <code>./wandb/run-20220806_142959-38e6q675/logs</code>"
      ],
      "text/plain": [
       "<IPython.core.display.HTML object>"
      ]
     },
     "metadata": {},
     "output_type": "display_data"
    }
   ],
   "source": [
    "trainer.train()\n",
    "wandb.finish()"
   ]
  },
  {
   "cell_type": "code",
   "execution_count": 29,
   "id": "c0d9c956",
   "metadata": {
    "colab": {
     "base_uri": "https://localhost:8080/"
    },
    "execution": {
     "iopub.execute_input": "2022-08-08T12:46:53.018154Z",
     "iopub.status.busy": "2022-08-08T12:46:53.017699Z",
     "iopub.status.idle": "2022-08-08T12:46:55.453663Z",
     "shell.execute_reply": "2022-08-08T12:46:55.452876Z"
    },
    "id": "ZWQFS1LtIoDx",
    "outputId": "76e912fd-3f68-4611-a8d5-988154bc0130",
    "papermill": {
     "duration": 2.484559,
     "end_time": "2022-08-08T12:46:55.455646",
     "exception": false,
     "start_time": "2022-08-08T12:46:52.971087",
     "status": "completed"
    },
    "tags": []
   },
   "outputs": [
    {
     "name": "stderr",
     "output_type": "stream",
     "text": [
      "Saving model checkpoint to ./save_model\n"
     ]
    },
    {
     "name": "stderr",
     "output_type": "stream",
     "text": [
      "Configuration saved in ./save_model/config.json\n"
     ]
    },
    {
     "name": "stderr",
     "output_type": "stream",
     "text": [
      "Model weights saved in ./save_model/pytorch_model.bin\n"
     ]
    },
    {
     "name": "stderr",
     "output_type": "stream",
     "text": [
      "tokenizer config file saved in ./save_model/tokenizer_config.json\n"
     ]
    },
    {
     "name": "stderr",
     "output_type": "stream",
     "text": [
      "Special tokens file saved in ./save_model/special_tokens_map.json\n"
     ]
    }
   ],
   "source": [
    "trainer.save_model('./save_model')"
   ]
  },
  {
   "cell_type": "code",
   "execution_count": 30,
   "id": "4a35ef75",
   "metadata": {
    "colab": {
     "base_uri": "https://localhost:8080/"
    },
    "execution": {
     "iopub.execute_input": "2022-08-08T12:46:55.554055Z",
     "iopub.status.busy": "2022-08-08T12:46:55.553432Z",
     "iopub.status.idle": "2022-08-08T12:46:57.447923Z",
     "shell.execute_reply": "2022-08-08T12:46:57.447166Z"
    },
    "id": "nt23W3jxhf92",
    "outputId": "ed858636-f8f8-44b9-9e35-d7b3d7c0f3ac",
    "papermill": {
     "duration": 1.949141,
     "end_time": "2022-08-08T12:46:57.453627",
     "exception": false,
     "start_time": "2022-08-08T12:46:55.504486",
     "status": "completed"
    },
    "tags": []
   },
   "outputs": [
    {
     "name": "stderr",
     "output_type": "stream",
     "text": [
      "Didn't find file ./save_model/tokenizer.json. We won't load it.\n"
     ]
    },
    {
     "name": "stderr",
     "output_type": "stream",
     "text": [
      "Didn't find file ./save_model/added_tokens.json. We won't load it.\n"
     ]
    },
    {
     "name": "stderr",
     "output_type": "stream",
     "text": [
      "loading file ./save_model/spiece.model\n"
     ]
    },
    {
     "name": "stderr",
     "output_type": "stream",
     "text": [
      "loading file None\n"
     ]
    },
    {
     "name": "stderr",
     "output_type": "stream",
     "text": [
      "loading file None\n"
     ]
    },
    {
     "name": "stderr",
     "output_type": "stream",
     "text": [
      "loading file ./save_model/special_tokens_map.json\n"
     ]
    },
    {
     "name": "stderr",
     "output_type": "stream",
     "text": [
      "loading file ./save_model/tokenizer_config.json\n"
     ]
    },
    {
     "name": "stderr",
     "output_type": "stream",
     "text": [
      "/home/ubuntu/anaconda3/envs/transformers/lib/python3.9/site-packages/transformers/convert_slow_tokenizer.py:434: UserWarning: The sentencepiece tokenizer that you are converting to a fast tokenizer uses the byte fallback option which is not implemented in the fast tokenizers. In practice this means that the fast version of the tokenizer can produce unknown tokens whereas the sentencepiece version would have converted these unknown tokens into a sequence of byte tokens matching the original piece of text.\n",
      "  warnings.warn(\n"
     ]
    }
   ],
   "source": [
    "tokenizer = AutoTokenizer.from_pretrained('./save_model')"
   ]
  },
  {
   "cell_type": "code",
   "execution_count": 31,
   "id": "6df1e487",
   "metadata": {
    "colab": {
     "base_uri": "https://localhost:8080/"
    },
    "execution": {
     "iopub.execute_input": "2022-08-08T12:46:57.564814Z",
     "iopub.status.busy": "2022-08-08T12:46:57.564446Z",
     "iopub.status.idle": "2022-08-08T12:47:01.024893Z",
     "shell.execute_reply": "2022-08-08T12:47:01.024294Z"
    },
    "id": "MCv92WSqhi9N",
    "outputId": "4c7583ce-775f-4708-8d1a-42522a18cfee",
    "papermill": {
     "duration": 3.525955,
     "end_time": "2022-08-08T12:47:01.026555",
     "exception": false,
     "start_time": "2022-08-08T12:46:57.500600",
     "status": "completed"
    },
    "tags": []
   },
   "outputs": [
    {
     "name": "stderr",
     "output_type": "stream",
     "text": [
      "loading configuration file ./save_model/config.json\n"
     ]
    },
    {
     "name": "stderr",
     "output_type": "stream",
     "text": [
      "Model config MT5Config {\n",
      "  \"_name_or_path\": \"./save_model\",\n",
      "  \"architectures\": [\n",
      "    \"MT5ForConditionalGeneration\"\n",
      "  ],\n",
      "  \"d_ff\": 1024,\n",
      "  \"d_kv\": 64,\n",
      "  \"d_model\": 512,\n",
      "  \"decoder_start_token_id\": 0,\n",
      "  \"dense_act_fn\": \"gelu_new\",\n",
      "  \"dropout_rate\": 0.1,\n",
      "  \"eos_token_id\": 1,\n",
      "  \"feed_forward_proj\": \"gated-gelu\",\n",
      "  \"initializer_factor\": 1.0,\n",
      "  \"is_encoder_decoder\": true,\n",
      "  \"is_gated_act\": true,\n",
      "  \"layer_norm_epsilon\": 1e-06,\n",
      "  \"model_type\": \"mt5\",\n",
      "  \"num_decoder_layers\": 8,\n",
      "  \"num_heads\": 6,\n",
      "  \"num_layers\": 8,\n",
      "  \"pad_token_id\": 0,\n",
      "  \"relative_attention_max_distance\": 128,\n",
      "  \"relative_attention_num_buckets\": 32,\n",
      "  \"tie_word_embeddings\": false,\n",
      "  \"tokenizer_class\": \"T5Tokenizer\",\n",
      "  \"torch_dtype\": \"float32\",\n",
      "  \"transformers_version\": \"4.21.0\",\n",
      "  \"use_cache\": true,\n",
      "  \"vocab_size\": 250112\n",
      "}\n",
      "\n"
     ]
    },
    {
     "name": "stderr",
     "output_type": "stream",
     "text": [
      "loading weights file ./save_model/pytorch_model.bin\n"
     ]
    },
    {
     "name": "stderr",
     "output_type": "stream",
     "text": [
      "All model checkpoint weights were used when initializing MT5ForConditionalGeneration.\n",
      "\n"
     ]
    },
    {
     "name": "stderr",
     "output_type": "stream",
     "text": [
      "All the weights of MT5ForConditionalGeneration were initialized from the model checkpoint at ./save_model.\n",
      "If your task is similar to the task the model of the checkpoint was trained on, you can already use MT5ForConditionalGeneration for predictions without further training.\n"
     ]
    }
   ],
   "source": [
    "model = AutoModelForSeq2SeqLM.from_pretrained('./save_model')"
   ]
  },
  {
   "cell_type": "code",
   "execution_count": 32,
   "id": "ec99e65d",
   "metadata": {
    "colab": {
     "base_uri": "https://localhost:8080/"
    },
    "execution": {
     "iopub.execute_input": "2022-08-08T12:47:01.122186Z",
     "iopub.status.busy": "2022-08-08T12:47:01.121527Z",
     "iopub.status.idle": "2022-08-08T12:47:01.127926Z",
     "shell.execute_reply": "2022-08-08T12:47:01.127385Z"
    },
    "id": "h-MU2rwQTDOF",
    "outputId": "ce940f2c-0648-43f2-95f5-bfcfaf13eb30",
    "papermill": {
     "duration": 0.056549,
     "end_time": "2022-08-08T12:47:01.129582",
     "exception": false,
     "start_time": "2022-08-08T12:47:01.073033",
     "status": "completed"
    },
    "tags": []
   },
   "outputs": [
    {
     "name": "stderr",
     "output_type": "stream",
     "text": [
      "PyTorch: setting up devices\n"
     ]
    },
    {
     "name": "stderr",
     "output_type": "stream",
     "text": [
      "The default value for the training argument `--report_to` will change in v5 (from all installed integrations to none). In v5, you will need to use `--report_to all` to get the same behavior as now. You should start updating your code and make this info disappear :-).\n"
     ]
    }
   ],
   "source": [
    "args = Seq2SeqTrainingArguments(\n",
    "    'eval',\n",
    "    per_device_eval_batch_size=16,\n",
    "    predict_with_generate=True,\n",
    "    generation_max_length=256,\n",
    ")\n",
    "data_collator = DataCollatorForSeq2Seq(tokenizer, model=model)"
   ]
  },
  {
   "cell_type": "code",
   "execution_count": 33,
   "id": "8addb58e",
   "metadata": {
    "execution": {
     "iopub.execute_input": "2022-08-08T12:47:01.221702Z",
     "iopub.status.busy": "2022-08-08T12:47:01.221457Z",
     "iopub.status.idle": "2022-08-08T12:47:01.412230Z",
     "shell.execute_reply": "2022-08-08T12:47:01.411505Z"
    },
    "id": "Iq7ljAlnhU_r",
    "papermill": {
     "duration": 0.240944,
     "end_time": "2022-08-08T12:47:01.414052",
     "exception": false,
     "start_time": "2022-08-08T12:47:01.173108",
     "status": "completed"
    },
    "tags": []
   },
   "outputs": [],
   "source": [
    "trainer = Seq2SeqTrainer(\n",
    "    model,\n",
    "    args,\n",
    "    # train_dataset=tokenized_train,\n",
    "    eval_dataset=tokenized_val,\n",
    "    data_collator=data_collator,\n",
    "    tokenizer=tokenizer,\n",
    "    compute_metrics=compute_metrics,\n",
    ")"
   ]
  },
  {
   "cell_type": "code",
   "execution_count": 34,
   "id": "11833797",
   "metadata": {
    "colab": {
     "base_uri": "https://localhost:8080/",
     "height": 437
    },
    "execution": {
     "iopub.execute_input": "2022-08-08T12:47:01.487027Z",
     "iopub.status.busy": "2022-08-08T12:47:01.486281Z",
     "iopub.status.idle": "2022-08-08T13:17:12.679631Z",
     "shell.execute_reply": "2022-08-08T13:17:12.678993Z"
    },
    "id": "URLgEbWshXAW",
    "outputId": "02811c0b-f8ce-468b-96d4-9fb60714643f",
    "papermill": {
     "duration": 1811.231875,
     "end_time": "2022-08-08T13:17:12.681588",
     "exception": false,
     "start_time": "2022-08-08T12:47:01.449713",
     "status": "completed"
    },
    "tags": []
   },
   "outputs": [
    {
     "name": "stderr",
     "output_type": "stream",
     "text": [
      "The following columns in the evaluation set don't have a corresponding argument in `MT5ForConditionalGeneration.forward` and have been ignored: ko, en. If ko, en are not expected by `MT5ForConditionalGeneration.forward`,  you can safely ignore this message.\n"
     ]
    },
    {
     "name": "stderr",
     "output_type": "stream",
     "text": [
      "***** Running Evaluation *****\n"
     ]
    },
    {
     "name": "stderr",
     "output_type": "stream",
     "text": [
      "  Num examples = 40359\n"
     ]
    },
    {
     "name": "stderr",
     "output_type": "stream",
     "text": [
      "  Batch size = 16\n"
     ]
    },
    {
     "data": {
      "text/html": [
       "\n",
       "    <div>\n",
       "      \n",
       "      <progress value='2523' max='2523' style='width:300px; height:20px; vertical-align: middle;'></progress>\n",
       "      [2523/2523 29:45]\n",
       "    </div>\n",
       "    "
      ],
      "text/plain": [
       "<IPython.core.display.HTML object>"
      ]
     },
     "metadata": {},
     "output_type": "display_data"
    },
    {
     "name": "stderr",
     "output_type": "stream",
     "text": [
      "Automatic Weights & Biases logging enabled, to disable set os.environ[\"WANDB_DISABLED\"] = \"true\"\n"
     ]
    },
    {
     "data": {
      "text/html": [
       "wandb version 0.13.1 is available!  To upgrade, please run:\n",
       " $ pip install wandb --upgrade"
      ],
      "text/plain": [
       "<IPython.core.display.HTML object>"
      ]
     },
     "metadata": {},
     "output_type": "display_data"
    },
    {
     "data": {
      "text/html": [
       "Tracking run with wandb version 0.12.21"
      ],
      "text/plain": [
       "<IPython.core.display.HTML object>"
      ]
     },
     "metadata": {},
     "output_type": "display_data"
    },
    {
     "data": {
      "text/html": [
       "Run data is saved locally in <code>/home/ubuntu/codes/NMT-with-transformers/wandb/run-20220808_131706-1msjv15h</code>"
      ],
      "text/plain": [
       "<IPython.core.display.HTML object>"
      ]
     },
     "metadata": {},
     "output_type": "display_data"
    },
    {
     "data": {
      "text/html": [
       "Syncing run <strong><a href=\"https://wandb.ai/dotsnangles/ko2en-translator-mt5-small-with-the-domain-data/runs/1msjv15h\" target=\"_blank\">eval</a></strong> to <a href=\"https://wandb.ai/dotsnangles/ko2en-translator-mt5-small-with-the-domain-data\" target=\"_blank\">Weights & Biases</a> (<a href=\"https://wandb.me/run\" target=\"_blank\">docs</a>)<br/>"
      ],
      "text/plain": [
       "<IPython.core.display.HTML object>"
      ]
     },
     "metadata": {},
     "output_type": "display_data"
    },
    {
     "data": {
      "text/plain": [
       "{'eval_loss': 0.49537065625190735,\n",
       " 'eval_bleu': 67.5308,\n",
       " 'eval_gen_len': 41.5994,\n",
       " 'eval_runtime': 1804.8666,\n",
       " 'eval_samples_per_second': 22.361,\n",
       " 'eval_steps_per_second': 1.398}"
      ]
     },
     "execution_count": 34,
     "metadata": {},
     "output_type": "execute_result"
    }
   ],
   "source": [
    "trainer.evaluate()"
   ]
  },
  {
   "cell_type": "code",
   "execution_count": null,
   "id": "c334213f",
   "metadata": {
    "id": "rHwfFS4diwaO",
    "papermill": {
     "duration": 0.048292,
     "end_time": "2022-08-08T13:17:12.778520",
     "exception": false,
     "start_time": "2022-08-08T13:17:12.730228",
     "status": "completed"
    },
    "tags": []
   },
   "outputs": [],
   "source": []
  }
 ],
 "metadata": {
  "accelerator": "GPU",
  "colab": {
   "authorship_tag": "ABX9TyMu2NcRsBTJdUDtPCavk47j",
   "collapsed_sections": [],
   "include_colab_link": true,
   "machine_shape": "hm",
   "name": "training.ipynb",
   "provenance": []
  },
  "gpuClass": "standard",
  "kernelspec": {
   "display_name": "Python 3.9.13 ('transformers')",
   "language": "python",
   "name": "python3"
  },
  "language_info": {
   "codemirror_mode": {
    "name": "ipython",
    "version": 3
   },
   "file_extension": ".py",
   "mimetype": "text/x-python",
   "name": "python",
   "nbconvert_exporter": "python",
   "pygments_lexer": "ipython3",
   "version": "3.9.13"
  },
  "papermill": {
   "default_parameters": {},
   "duration": 168682.084773,
   "end_time": "2022-08-08T13:17:16.087110",
   "environment_variables": {},
   "exception": null,
   "input_path": "training_mT5_small_domain_ko2en.ipynb",
   "output_path": "./papermill/run002_training_mT5_small_domain_ko2en.ipynb",
   "parameters": {},
   "start_time": "2022-08-06T14:25:54.002337",
   "version": "2.3.4"
  },
  "vscode": {
   "interpreter": {
    "hash": "767374a86bae7d8032e50d9a81fa65c6124ef470b8039294cd4e5f7d98318fac"
   }
  },
  "widgets": {
   "application/vnd.jupyter.widget-state+json": {
    "state": {
     "07277a4f306d45758dd9f25e00b7aa66": {
      "model_module": "@jupyter-widgets/base",
      "model_module_version": "1.2.0",
      "model_name": "LayoutModel",
      "state": {
       "_model_module": "@jupyter-widgets/base",
       "_model_module_version": "1.2.0",
       "_model_name": "LayoutModel",
       "_view_count": null,
       "_view_module": "@jupyter-widgets/base",
       "_view_module_version": "1.2.0",
       "_view_name": "LayoutView",
       "align_content": null,
       "align_items": null,
       "align_self": null,
       "border": null,
       "bottom": null,
       "display": null,
       "flex": null,
       "flex_flow": null,
       "grid_area": null,
       "grid_auto_columns": null,
       "grid_auto_flow": null,
       "grid_auto_rows": null,
       "grid_column": null,
       "grid_gap": null,
       "grid_row": null,
       "grid_template_areas": null,
       "grid_template_columns": null,
       "grid_template_rows": null,
       "height": null,
       "justify_content": null,
       "justify_items": null,
       "left": null,
       "margin": null,
       "max_height": null,
       "max_width": null,
       "min_height": null,
       "min_width": null,
       "object_fit": null,
       "object_position": null,
       "order": null,
       "overflow": null,
       "overflow_x": null,
       "overflow_y": null,
       "padding": null,
       "right": null,
       "top": null,
       "visibility": null,
       "width": null
      }
     },
     "0f43b7d478be4098bc5292cccea9ec37": {
      "model_module": "@jupyter-widgets/controls",
      "model_module_version": "1.5.0",
      "model_name": "DescriptionStyleModel",
      "state": {
       "_model_module": "@jupyter-widgets/controls",
       "_model_module_version": "1.5.0",
       "_model_name": "DescriptionStyleModel",
       "_view_count": null,
       "_view_module": "@jupyter-widgets/base",
       "_view_module_version": "1.2.0",
       "_view_name": "StyleView",
       "description_width": ""
      }
     },
     "141d9f0118f4439abc3a909d59f6abb9": {
      "model_module": "@jupyter-widgets/base",
      "model_module_version": "1.2.0",
      "model_name": "LayoutModel",
      "state": {
       "_model_module": "@jupyter-widgets/base",
       "_model_module_version": "1.2.0",
       "_model_name": "LayoutModel",
       "_view_count": null,
       "_view_module": "@jupyter-widgets/base",
       "_view_module_version": "1.2.0",
       "_view_name": "LayoutView",
       "align_content": null,
       "align_items": null,
       "align_self": null,
       "border": null,
       "bottom": null,
       "display": null,
       "flex": null,
       "flex_flow": null,
       "grid_area": null,
       "grid_auto_columns": null,
       "grid_auto_flow": null,
       "grid_auto_rows": null,
       "grid_column": null,
       "grid_gap": null,
       "grid_row": null,
       "grid_template_areas": null,
       "grid_template_columns": null,
       "grid_template_rows": null,
       "height": null,
       "justify_content": null,
       "justify_items": null,
       "left": null,
       "margin": null,
       "max_height": null,
       "max_width": null,
       "min_height": null,
       "min_width": null,
       "object_fit": null,
       "object_position": null,
       "order": null,
       "overflow": null,
       "overflow_x": null,
       "overflow_y": null,
       "padding": null,
       "right": null,
       "top": null,
       "visibility": null,
       "width": null
      }
     },
     "1e1cd5b9d3014cc39a21b9ec6f4f7a36": {
      "model_module": "@jupyter-widgets/controls",
      "model_module_version": "1.5.0",
      "model_name": "VBoxModel",
      "state": {
       "_dom_classes": [],
       "_model_module": "@jupyter-widgets/controls",
       "_model_module_version": "1.5.0",
       "_model_name": "VBoxModel",
       "_view_count": null,
       "_view_module": "@jupyter-widgets/controls",
       "_view_module_version": "1.5.0",
       "_view_name": "VBoxView",
       "box_style": "",
       "children": [
        "IPY_MODEL_27ee20ea4cf64e0a8b11df92630ac632",
        "IPY_MODEL_6cb1095e9c67416d9ceeee2fe4d66884"
       ],
       "layout": "IPY_MODEL_e4a5bc91e10b4631b8d2dad9f33980ed"
      }
     },
     "1f0d07507f814c7d8d198f9a221e037a": {
      "model_module": "@jupyter-widgets/base",
      "model_module_version": "1.2.0",
      "model_name": "LayoutModel",
      "state": {
       "_model_module": "@jupyter-widgets/base",
       "_model_module_version": "1.2.0",
       "_model_name": "LayoutModel",
       "_view_count": null,
       "_view_module": "@jupyter-widgets/base",
       "_view_module_version": "1.2.0",
       "_view_name": "LayoutView",
       "align_content": null,
       "align_items": null,
       "align_self": null,
       "border": null,
       "bottom": null,
       "display": null,
       "flex": null,
       "flex_flow": null,
       "grid_area": null,
       "grid_auto_columns": null,
       "grid_auto_flow": null,
       "grid_auto_rows": null,
       "grid_column": null,
       "grid_gap": null,
       "grid_row": null,
       "grid_template_areas": null,
       "grid_template_columns": null,
       "grid_template_rows": null,
       "height": null,
       "justify_content": null,
       "justify_items": null,
       "left": null,
       "margin": null,
       "max_height": null,
       "max_width": null,
       "min_height": null,
       "min_width": null,
       "object_fit": null,
       "object_position": null,
       "order": null,
       "overflow": null,
       "overflow_x": null,
       "overflow_y": null,
       "padding": null,
       "right": null,
       "top": null,
       "visibility": null,
       "width": null
      }
     },
     "2693b164fa35427ab99852982ff30e01": {
      "model_module": "@jupyter-widgets/controls",
      "model_module_version": "1.5.0",
      "model_name": "ProgressStyleModel",
      "state": {
       "_model_module": "@jupyter-widgets/controls",
       "_model_module_version": "1.5.0",
       "_model_name": "ProgressStyleModel",
       "_view_count": null,
       "_view_module": "@jupyter-widgets/base",
       "_view_module_version": "1.2.0",
       "_view_name": "StyleView",
       "bar_color": null,
       "description_width": ""
      }
     },
     "27ee20ea4cf64e0a8b11df92630ac632": {
      "model_module": "@jupyter-widgets/controls",
      "model_module_version": "1.5.0",
      "model_name": "LabelModel",
      "state": {
       "_dom_classes": [],
       "_model_module": "@jupyter-widgets/controls",
       "_model_module_version": "1.5.0",
       "_model_name": "LabelModel",
       "_view_count": null,
       "_view_module": "@jupyter-widgets/controls",
       "_view_module_version": "1.5.0",
       "_view_name": "LabelView",
       "description": "",
       "description_tooltip": null,
       "layout": "IPY_MODEL_1f0d07507f814c7d8d198f9a221e037a",
       "placeholder": "​",
       "style": "IPY_MODEL_31c6e3a43daa454ebce343b61a46c444",
       "value": ""
      }
     },
     "31c6e3a43daa454ebce343b61a46c444": {
      "model_module": "@jupyter-widgets/controls",
      "model_module_version": "1.5.0",
      "model_name": "DescriptionStyleModel",
      "state": {
       "_model_module": "@jupyter-widgets/controls",
       "_model_module_version": "1.5.0",
       "_model_name": "DescriptionStyleModel",
       "_view_count": null,
       "_view_module": "@jupyter-widgets/base",
       "_view_module_version": "1.2.0",
       "_view_name": "StyleView",
       "description_width": ""
      }
     },
     "32c7fba6ae3d4a2b974593eb9b2587ff": {
      "model_module": "@jupyter-widgets/controls",
      "model_module_version": "1.5.0",
      "model_name": "ProgressStyleModel",
      "state": {
       "_model_module": "@jupyter-widgets/controls",
       "_model_module_version": "1.5.0",
       "_model_name": "ProgressStyleModel",
       "_view_count": null,
       "_view_module": "@jupyter-widgets/base",
       "_view_module_version": "1.2.0",
       "_view_name": "StyleView",
       "bar_color": null,
       "description_width": ""
      }
     },
     "38e9402366204ecbbf1f8edd4b20d3ce": {
      "model_module": "@jupyter-widgets/controls",
      "model_module_version": "1.5.0",
      "model_name": "HTMLModel",
      "state": {
       "_dom_classes": [],
       "_model_module": "@jupyter-widgets/controls",
       "_model_module_version": "1.5.0",
       "_model_name": "HTMLModel",
       "_view_count": null,
       "_view_module": "@jupyter-widgets/controls",
       "_view_module_version": "1.5.0",
       "_view_name": "HTMLView",
       "description": "",
       "description_tooltip": null,
       "layout": "IPY_MODEL_48d48cc014b149cebe529f9f2df71ff4",
       "placeholder": "​",
       "style": "IPY_MODEL_9b1dad29c78f4749b02745bc741e7e72",
       "value": "100%"
      }
     },
     "3cb27b1069154d11bf3dd1a4398de04c": {
      "model_module": "@jupyter-widgets/base",
      "model_module_version": "1.2.0",
      "model_name": "LayoutModel",
      "state": {
       "_model_module": "@jupyter-widgets/base",
       "_model_module_version": "1.2.0",
       "_model_name": "LayoutModel",
       "_view_count": null,
       "_view_module": "@jupyter-widgets/base",
       "_view_module_version": "1.2.0",
       "_view_name": "LayoutView",
       "align_content": null,
       "align_items": null,
       "align_self": null,
       "border": null,
       "bottom": null,
       "display": null,
       "flex": null,
       "flex_flow": null,
       "grid_area": null,
       "grid_auto_columns": null,
       "grid_auto_flow": null,
       "grid_auto_rows": null,
       "grid_column": null,
       "grid_gap": null,
       "grid_row": null,
       "grid_template_areas": null,
       "grid_template_columns": null,
       "grid_template_rows": null,
       "height": null,
       "justify_content": null,
       "justify_items": null,
       "left": null,
       "margin": null,
       "max_height": null,
       "max_width": null,
       "min_height": null,
       "min_width": null,
       "object_fit": null,
       "object_position": null,
       "order": null,
       "overflow": null,
       "overflow_x": null,
       "overflow_y": null,
       "padding": null,
       "right": null,
       "top": null,
       "visibility": null,
       "width": null
      }
     },
     "3df62d928da8447ab10a094e0fb51414": {
      "model_module": "@jupyter-widgets/controls",
      "model_module_version": "1.5.0",
      "model_name": "ProgressStyleModel",
      "state": {
       "_model_module": "@jupyter-widgets/controls",
       "_model_module_version": "1.5.0",
       "_model_name": "ProgressStyleModel",
       "_view_count": null,
       "_view_module": "@jupyter-widgets/base",
       "_view_module_version": "1.2.0",
       "_view_name": "StyleView",
       "bar_color": null,
       "description_width": ""
      }
     },
     "42915e0561a14df78d145334aaafeeca": {
      "model_module": "@jupyter-widgets/controls",
      "model_module_version": "1.5.0",
      "model_name": "FloatProgressModel",
      "state": {
       "_dom_classes": [],
       "_model_module": "@jupyter-widgets/controls",
       "_model_module_version": "1.5.0",
       "_model_name": "FloatProgressModel",
       "_view_count": null,
       "_view_module": "@jupyter-widgets/controls",
       "_view_module_version": "1.5.0",
       "_view_name": "ProgressView",
       "bar_style": "success",
       "description": "",
       "description_tooltip": null,
       "layout": "IPY_MODEL_b1fa9b70e7094971a1ade052924c8f8f",
       "max": 320.0,
       "min": 0.0,
       "orientation": "horizontal",
       "style": "IPY_MODEL_3df62d928da8447ab10a094e0fb51414",
       "value": 320.0
      }
     },
     "430bf034fc7f43bca204b2e4f25f5181": {
      "model_module": "@jupyter-widgets/base",
      "model_module_version": "1.2.0",
      "model_name": "LayoutModel",
      "state": {
       "_model_module": "@jupyter-widgets/base",
       "_model_module_version": "1.2.0",
       "_model_name": "LayoutModel",
       "_view_count": null,
       "_view_module": "@jupyter-widgets/base",
       "_view_module_version": "1.2.0",
       "_view_name": "LayoutView",
       "align_content": null,
       "align_items": null,
       "align_self": null,
       "border": null,
       "bottom": null,
       "display": null,
       "flex": null,
       "flex_flow": null,
       "grid_area": null,
       "grid_auto_columns": null,
       "grid_auto_flow": null,
       "grid_auto_rows": null,
       "grid_column": null,
       "grid_gap": null,
       "grid_row": null,
       "grid_template_areas": null,
       "grid_template_columns": null,
       "grid_template_rows": null,
       "height": null,
       "justify_content": null,
       "justify_items": null,
       "left": null,
       "margin": null,
       "max_height": null,
       "max_width": null,
       "min_height": null,
       "min_width": null,
       "object_fit": null,
       "object_position": null,
       "order": null,
       "overflow": null,
       "overflow_x": null,
       "overflow_y": null,
       "padding": null,
       "right": null,
       "top": null,
       "visibility": null,
       "width": null
      }
     },
     "48d48cc014b149cebe529f9f2df71ff4": {
      "model_module": "@jupyter-widgets/base",
      "model_module_version": "1.2.0",
      "model_name": "LayoutModel",
      "state": {
       "_model_module": "@jupyter-widgets/base",
       "_model_module_version": "1.2.0",
       "_model_name": "LayoutModel",
       "_view_count": null,
       "_view_module": "@jupyter-widgets/base",
       "_view_module_version": "1.2.0",
       "_view_name": "LayoutView",
       "align_content": null,
       "align_items": null,
       "align_self": null,
       "border": null,
       "bottom": null,
       "display": null,
       "flex": null,
       "flex_flow": null,
       "grid_area": null,
       "grid_auto_columns": null,
       "grid_auto_flow": null,
       "grid_auto_rows": null,
       "grid_column": null,
       "grid_gap": null,
       "grid_row": null,
       "grid_template_areas": null,
       "grid_template_columns": null,
       "grid_template_rows": null,
       "height": null,
       "justify_content": null,
       "justify_items": null,
       "left": null,
       "margin": null,
       "max_height": null,
       "max_width": null,
       "min_height": null,
       "min_width": null,
       "object_fit": null,
       "object_position": null,
       "order": null,
       "overflow": null,
       "overflow_x": null,
       "overflow_y": null,
       "padding": null,
       "right": null,
       "top": null,
       "visibility": null,
       "width": null
      }
     },
     "4bdf8307e6b64f06be79154a284ad7dc": {
      "model_module": "@jupyter-widgets/controls",
      "model_module_version": "1.5.0",
      "model_name": "HTMLModel",
      "state": {
       "_dom_classes": [],
       "_model_module": "@jupyter-widgets/controls",
       "_model_module_version": "1.5.0",
       "_model_name": "HTMLModel",
       "_view_count": null,
       "_view_module": "@jupyter-widgets/controls",
       "_view_module_version": "1.5.0",
       "_view_name": "HTMLView",
       "description": "",
       "description_tooltip": null,
       "layout": "IPY_MODEL_72d69659c7a84fb09984f63468256024",
       "placeholder": "​",
       "style": "IPY_MODEL_671bb36487b74ac4975520ac24602f48",
       "value": "100%"
      }
     },
     "500956a8aaef4645a5d73fe0d923fd09": {
      "model_module": "@jupyter-widgets/controls",
      "model_module_version": "1.5.0",
      "model_name": "ProgressStyleModel",
      "state": {
       "_model_module": "@jupyter-widgets/controls",
       "_model_module_version": "1.5.0",
       "_model_name": "ProgressStyleModel",
       "_view_count": null,
       "_view_module": "@jupyter-widgets/base",
       "_view_module_version": "1.2.0",
       "_view_name": "StyleView",
       "bar_color": null,
       "description_width": ""
      }
     },
     "58abb5d17e8d40e5a0d9af80ba785d66": {
      "model_module": "@jupyter-widgets/base",
      "model_module_version": "1.2.0",
      "model_name": "LayoutModel",
      "state": {
       "_model_module": "@jupyter-widgets/base",
       "_model_module_version": "1.2.0",
       "_model_name": "LayoutModel",
       "_view_count": null,
       "_view_module": "@jupyter-widgets/base",
       "_view_module_version": "1.2.0",
       "_view_name": "LayoutView",
       "align_content": null,
       "align_items": null,
       "align_self": null,
       "border": null,
       "bottom": null,
       "display": null,
       "flex": null,
       "flex_flow": null,
       "grid_area": null,
       "grid_auto_columns": null,
       "grid_auto_flow": null,
       "grid_auto_rows": null,
       "grid_column": null,
       "grid_gap": null,
       "grid_row": null,
       "grid_template_areas": null,
       "grid_template_columns": null,
       "grid_template_rows": null,
       "height": null,
       "justify_content": null,
       "justify_items": null,
       "left": null,
       "margin": null,
       "max_height": null,
       "max_width": null,
       "min_height": null,
       "min_width": null,
       "object_fit": null,
       "object_position": null,
       "order": null,
       "overflow": null,
       "overflow_x": null,
       "overflow_y": null,
       "padding": null,
       "right": null,
       "top": null,
       "visibility": null,
       "width": null
      }
     },
     "671bb36487b74ac4975520ac24602f48": {
      "model_module": "@jupyter-widgets/controls",
      "model_module_version": "1.5.0",
      "model_name": "DescriptionStyleModel",
      "state": {
       "_model_module": "@jupyter-widgets/controls",
       "_model_module_version": "1.5.0",
       "_model_name": "DescriptionStyleModel",
       "_view_count": null,
       "_view_module": "@jupyter-widgets/base",
       "_view_module_version": "1.2.0",
       "_view_name": "StyleView",
       "description_width": ""
      }
     },
     "6b9fd40a2ebe428da5ee1115d695a96e": {
      "model_module": "@jupyter-widgets/base",
      "model_module_version": "1.2.0",
      "model_name": "LayoutModel",
      "state": {
       "_model_module": "@jupyter-widgets/base",
       "_model_module_version": "1.2.0",
       "_model_name": "LayoutModel",
       "_view_count": null,
       "_view_module": "@jupyter-widgets/base",
       "_view_module_version": "1.2.0",
       "_view_name": "LayoutView",
       "align_content": null,
       "align_items": null,
       "align_self": null,
       "border": null,
       "bottom": null,
       "display": null,
       "flex": null,
       "flex_flow": null,
       "grid_area": null,
       "grid_auto_columns": null,
       "grid_auto_flow": null,
       "grid_auto_rows": null,
       "grid_column": null,
       "grid_gap": null,
       "grid_row": null,
       "grid_template_areas": null,
       "grid_template_columns": null,
       "grid_template_rows": null,
       "height": null,
       "justify_content": null,
       "justify_items": null,
       "left": null,
       "margin": null,
       "max_height": null,
       "max_width": null,
       "min_height": null,
       "min_width": null,
       "object_fit": null,
       "object_position": null,
       "order": null,
       "overflow": null,
       "overflow_x": null,
       "overflow_y": null,
       "padding": null,
       "right": null,
       "top": null,
       "visibility": null,
       "width": null
      }
     },
     "6cb1095e9c67416d9ceeee2fe4d66884": {
      "model_module": "@jupyter-widgets/controls",
      "model_module_version": "1.5.0",
      "model_name": "FloatProgressModel",
      "state": {
       "_dom_classes": [],
       "_model_module": "@jupyter-widgets/controls",
       "_model_module_version": "1.5.0",
       "_model_name": "FloatProgressModel",
       "_view_count": null,
       "_view_module": "@jupyter-widgets/controls",
       "_view_module_version": "1.5.0",
       "_view_name": "ProgressView",
       "bar_style": "",
       "description": "",
       "description_tooltip": null,
       "layout": "IPY_MODEL_fb9f3cf23cc0420a89aafa2b362cc3d4",
       "max": 1.0,
       "min": 0.0,
       "orientation": "horizontal",
       "style": "IPY_MODEL_32c7fba6ae3d4a2b974593eb9b2587ff",
       "value": 0.0
      }
     },
     "6d1e052cfcbd4ee484569513c5a05e7b": {
      "model_module": "@jupyter-widgets/controls",
      "model_module_version": "1.5.0",
      "model_name": "HBoxModel",
      "state": {
       "_dom_classes": [],
       "_model_module": "@jupyter-widgets/controls",
       "_model_module_version": "1.5.0",
       "_model_name": "HBoxModel",
       "_view_count": null,
       "_view_module": "@jupyter-widgets/controls",
       "_view_module_version": "1.5.0",
       "_view_name": "HBoxView",
       "box_style": "",
       "children": [
        "IPY_MODEL_38e9402366204ecbbf1f8edd4b20d3ce",
        "IPY_MODEL_42915e0561a14df78d145334aaafeeca",
        "IPY_MODEL_cc563f47b79c45d69878f64c21711849"
       ],
       "layout": "IPY_MODEL_bd631aea7fe64779b7226ecdffe3a1b1"
      }
     },
     "70b141b01f3146e9b412cb73ea7716ae": {
      "model_module": "@jupyter-widgets/controls",
      "model_module_version": "1.5.0",
      "model_name": "FloatProgressModel",
      "state": {
       "_dom_classes": [],
       "_model_module": "@jupyter-widgets/controls",
       "_model_module_version": "1.5.0",
       "_model_name": "FloatProgressModel",
       "_view_count": null,
       "_view_module": "@jupyter-widgets/controls",
       "_view_module_version": "1.5.0",
       "_view_name": "ProgressView",
       "bar_style": "",
       "description": "",
       "description_tooltip": null,
       "layout": "IPY_MODEL_141d9f0118f4439abc3a909d59f6abb9",
       "max": 1.0,
       "min": 0.0,
       "orientation": "horizontal",
       "style": "IPY_MODEL_500956a8aaef4645a5d73fe0d923fd09",
       "value": 0.0
      }
     },
     "70b28953cb454fc7acdea8b5129d6453": {
      "model_module": "@jupyter-widgets/controls",
      "model_module_version": "1.5.0",
      "model_name": "VBoxModel",
      "state": {
       "_dom_classes": [],
       "_model_module": "@jupyter-widgets/controls",
       "_model_module_version": "1.5.0",
       "_model_name": "VBoxModel",
       "_view_count": null,
       "_view_module": "@jupyter-widgets/controls",
       "_view_module_version": "1.5.0",
       "_view_name": "VBoxView",
       "box_style": "",
       "children": [
        "IPY_MODEL_a884368c77ac40a7aa9059c2ab8b17fa",
        "IPY_MODEL_70b141b01f3146e9b412cb73ea7716ae"
       ],
       "layout": "IPY_MODEL_3cb27b1069154d11bf3dd1a4398de04c"
      }
     },
     "72d69659c7a84fb09984f63468256024": {
      "model_module": "@jupyter-widgets/base",
      "model_module_version": "1.2.0",
      "model_name": "LayoutModel",
      "state": {
       "_model_module": "@jupyter-widgets/base",
       "_model_module_version": "1.2.0",
       "_model_name": "LayoutModel",
       "_view_count": null,
       "_view_module": "@jupyter-widgets/base",
       "_view_module_version": "1.2.0",
       "_view_name": "LayoutView",
       "align_content": null,
       "align_items": null,
       "align_self": null,
       "border": null,
       "bottom": null,
       "display": null,
       "flex": null,
       "flex_flow": null,
       "grid_area": null,
       "grid_auto_columns": null,
       "grid_auto_flow": null,
       "grid_auto_rows": null,
       "grid_column": null,
       "grid_gap": null,
       "grid_row": null,
       "grid_template_areas": null,
       "grid_template_columns": null,
       "grid_template_rows": null,
       "height": null,
       "justify_content": null,
       "justify_items": null,
       "left": null,
       "margin": null,
       "max_height": null,
       "max_width": null,
       "min_height": null,
       "min_width": null,
       "object_fit": null,
       "object_position": null,
       "order": null,
       "overflow": null,
       "overflow_x": null,
       "overflow_y": null,
       "padding": null,
       "right": null,
       "top": null,
       "visibility": null,
       "width": null
      }
     },
     "7aa6bb55eb4f4083926d80b1e416b542": {
      "model_module": "@jupyter-widgets/controls",
      "model_module_version": "1.5.0",
      "model_name": "ProgressStyleModel",
      "state": {
       "_model_module": "@jupyter-widgets/controls",
       "_model_module_version": "1.5.0",
       "_model_name": "ProgressStyleModel",
       "_view_count": null,
       "_view_module": "@jupyter-widgets/base",
       "_view_module_version": "1.2.0",
       "_view_name": "StyleView",
       "bar_color": null,
       "description_width": ""
      }
     },
     "85b90172139244de8db35512e65e8296": {
      "model_module": "@jupyter-widgets/controls",
      "model_module_version": "1.5.0",
      "model_name": "HBoxModel",
      "state": {
       "_dom_classes": [],
       "_model_module": "@jupyter-widgets/controls",
       "_model_module_version": "1.5.0",
       "_model_name": "HBoxModel",
       "_view_count": null,
       "_view_module": "@jupyter-widgets/controls",
       "_view_module_version": "1.5.0",
       "_view_name": "HBoxView",
       "box_style": "",
       "children": [
        "IPY_MODEL_4bdf8307e6b64f06be79154a284ad7dc",
        "IPY_MODEL_de1d0a6e5e0c447dab19249b2d0a33b5",
        "IPY_MODEL_8a8193493cf04dac8b53b9d408ecd42b"
       ],
       "layout": "IPY_MODEL_07277a4f306d45758dd9f25e00b7aa66"
      }
     },
     "87fd1d70a8c04c0bb6858ad0f813d2df": {
      "model_module": "@jupyter-widgets/controls",
      "model_module_version": "1.5.0",
      "model_name": "DescriptionStyleModel",
      "state": {
       "_model_module": "@jupyter-widgets/controls",
       "_model_module_version": "1.5.0",
       "_model_name": "DescriptionStyleModel",
       "_view_count": null,
       "_view_module": "@jupyter-widgets/base",
       "_view_module_version": "1.2.0",
       "_view_name": "StyleView",
       "description_width": ""
      }
     },
     "884ce5b593c64fbea1ecdbaead5ee141": {
      "model_module": "@jupyter-widgets/base",
      "model_module_version": "1.2.0",
      "model_name": "LayoutModel",
      "state": {
       "_model_module": "@jupyter-widgets/base",
       "_model_module_version": "1.2.0",
       "_model_name": "LayoutModel",
       "_view_count": null,
       "_view_module": "@jupyter-widgets/base",
       "_view_module_version": "1.2.0",
       "_view_name": "LayoutView",
       "align_content": null,
       "align_items": null,
       "align_self": null,
       "border": null,
       "bottom": null,
       "display": null,
       "flex": null,
       "flex_flow": null,
       "grid_area": null,
       "grid_auto_columns": null,
       "grid_auto_flow": null,
       "grid_auto_rows": null,
       "grid_column": null,
       "grid_gap": null,
       "grid_row": null,
       "grid_template_areas": null,
       "grid_template_columns": null,
       "grid_template_rows": null,
       "height": null,
       "justify_content": null,
       "justify_items": null,
       "left": null,
       "margin": null,
       "max_height": null,
       "max_width": null,
       "min_height": null,
       "min_width": null,
       "object_fit": null,
       "object_position": null,
       "order": null,
       "overflow": null,
       "overflow_x": null,
       "overflow_y": null,
       "padding": null,
       "right": null,
       "top": null,
       "visibility": null,
       "width": null
      }
     },
     "8a8193493cf04dac8b53b9d408ecd42b": {
      "model_module": "@jupyter-widgets/controls",
      "model_module_version": "1.5.0",
      "model_name": "HTMLModel",
      "state": {
       "_dom_classes": [],
       "_model_module": "@jupyter-widgets/controls",
       "_model_module_version": "1.5.0",
       "_model_name": "HTMLModel",
       "_view_count": null,
       "_view_module": "@jupyter-widgets/controls",
       "_view_module_version": "1.5.0",
       "_view_name": "HTMLView",
       "description": "",
       "description_tooltip": null,
       "layout": "IPY_MODEL_df187aac98e14fd69b1d66318edde90f",
       "placeholder": "​",
       "style": "IPY_MODEL_87fd1d70a8c04c0bb6858ad0f813d2df",
       "value": " 41/41 [00:26&lt;00:00,  1.81ba/s]"
      }
     },
     "9390ee80b3734ce28430277a051d9e8e": {
      "model_module": "@jupyter-widgets/base",
      "model_module_version": "1.2.0",
      "model_name": "LayoutModel",
      "state": {
       "_model_module": "@jupyter-widgets/base",
       "_model_module_version": "1.2.0",
       "_model_name": "LayoutModel",
       "_view_count": null,
       "_view_module": "@jupyter-widgets/base",
       "_view_module_version": "1.2.0",
       "_view_name": "LayoutView",
       "align_content": null,
       "align_items": null,
       "align_self": null,
       "border": null,
       "bottom": null,
       "display": null,
       "flex": null,
       "flex_flow": null,
       "grid_area": null,
       "grid_auto_columns": null,
       "grid_auto_flow": null,
       "grid_auto_rows": null,
       "grid_column": null,
       "grid_gap": null,
       "grid_row": null,
       "grid_template_areas": null,
       "grid_template_columns": null,
       "grid_template_rows": null,
       "height": null,
       "justify_content": null,
       "justify_items": null,
       "left": null,
       "margin": null,
       "max_height": null,
       "max_width": null,
       "min_height": null,
       "min_width": null,
       "object_fit": null,
       "object_position": null,
       "order": null,
       "overflow": null,
       "overflow_x": null,
       "overflow_y": null,
       "padding": null,
       "right": null,
       "top": null,
       "visibility": null,
       "width": null
      }
     },
     "9b1dad29c78f4749b02745bc741e7e72": {
      "model_module": "@jupyter-widgets/controls",
      "model_module_version": "1.5.0",
      "model_name": "DescriptionStyleModel",
      "state": {
       "_model_module": "@jupyter-widgets/controls",
       "_model_module_version": "1.5.0",
       "_model_name": "DescriptionStyleModel",
       "_view_count": null,
       "_view_module": "@jupyter-widgets/base",
       "_view_module_version": "1.2.0",
       "_view_name": "StyleView",
       "description_width": ""
      }
     },
     "9d75e465c7b1431fae2d874e9bb5a003": {
      "model_module": "@jupyter-widgets/controls",
      "model_module_version": "1.5.0",
      "model_name": "DescriptionStyleModel",
      "state": {
       "_model_module": "@jupyter-widgets/controls",
       "_model_module_version": "1.5.0",
       "_model_name": "DescriptionStyleModel",
       "_view_count": null,
       "_view_module": "@jupyter-widgets/base",
       "_view_module_version": "1.2.0",
       "_view_name": "StyleView",
       "description_width": ""
      }
     },
     "a884368c77ac40a7aa9059c2ab8b17fa": {
      "model_module": "@jupyter-widgets/controls",
      "model_module_version": "1.5.0",
      "model_name": "LabelModel",
      "state": {
       "_dom_classes": [],
       "_model_module": "@jupyter-widgets/controls",
       "_model_module_version": "1.5.0",
       "_model_name": "LabelModel",
       "_view_count": null,
       "_view_module": "@jupyter-widgets/controls",
       "_view_module_version": "1.5.0",
       "_view_name": "LabelView",
       "description": "",
       "description_tooltip": null,
       "layout": "IPY_MODEL_ea6bb1638e93434191ef9faa8d280eb1",
       "placeholder": "​",
       "style": "IPY_MODEL_c98b1e8d410a48838e6120daffff7af0",
       "value": ""
      }
     },
     "ab9bbda661164548b56c4fd032499637": {
      "model_module": "@jupyter-widgets/controls",
      "model_module_version": "1.5.0",
      "model_name": "ProgressStyleModel",
      "state": {
       "_model_module": "@jupyter-widgets/controls",
       "_model_module_version": "1.5.0",
       "_model_name": "ProgressStyleModel",
       "_view_count": null,
       "_view_module": "@jupyter-widgets/base",
       "_view_module_version": "1.2.0",
       "_view_name": "StyleView",
       "bar_color": null,
       "description_width": ""
      }
     },
     "ad781f404b0d44b48d6ba89fc73b336d": {
      "model_module": "@jupyter-widgets/controls",
      "model_module_version": "1.5.0",
      "model_name": "FloatProgressModel",
      "state": {
       "_dom_classes": [],
       "_model_module": "@jupyter-widgets/controls",
       "_model_module_version": "1.5.0",
       "_model_name": "FloatProgressModel",
       "_view_count": null,
       "_view_module": "@jupyter-widgets/controls",
       "_view_module_version": "1.5.0",
       "_view_name": "ProgressView",
       "bar_style": "",
       "description": "",
       "description_tooltip": null,
       "layout": "IPY_MODEL_9390ee80b3734ce28430277a051d9e8e",
       "max": 1.0,
       "min": 0.0,
       "orientation": "horizontal",
       "style": "IPY_MODEL_2693b164fa35427ab99852982ff30e01",
       "value": 1.0
      }
     },
     "aec4631bf86a4a56b80dede0449b112c": {
      "model_module": "@jupyter-widgets/base",
      "model_module_version": "1.2.0",
      "model_name": "LayoutModel",
      "state": {
       "_model_module": "@jupyter-widgets/base",
       "_model_module_version": "1.2.0",
       "_model_name": "LayoutModel",
       "_view_count": null,
       "_view_module": "@jupyter-widgets/base",
       "_view_module_version": "1.2.0",
       "_view_name": "LayoutView",
       "align_content": null,
       "align_items": null,
       "align_self": null,
       "border": null,
       "bottom": null,
       "display": null,
       "flex": null,
       "flex_flow": null,
       "grid_area": null,
       "grid_auto_columns": null,
       "grid_auto_flow": null,
       "grid_auto_rows": null,
       "grid_column": null,
       "grid_gap": null,
       "grid_row": null,
       "grid_template_areas": null,
       "grid_template_columns": null,
       "grid_template_rows": null,
       "height": null,
       "justify_content": null,
       "justify_items": null,
       "left": null,
       "margin": null,
       "max_height": null,
       "max_width": null,
       "min_height": null,
       "min_width": null,
       "object_fit": null,
       "object_position": null,
       "order": null,
       "overflow": null,
       "overflow_x": null,
       "overflow_y": null,
       "padding": null,
       "right": null,
       "top": null,
       "visibility": null,
       "width": null
      }
     },
     "b1fa9b70e7094971a1ade052924c8f8f": {
      "model_module": "@jupyter-widgets/base",
      "model_module_version": "1.2.0",
      "model_name": "LayoutModel",
      "state": {
       "_model_module": "@jupyter-widgets/base",
       "_model_module_version": "1.2.0",
       "_model_name": "LayoutModel",
       "_view_count": null,
       "_view_module": "@jupyter-widgets/base",
       "_view_module_version": "1.2.0",
       "_view_name": "LayoutView",
       "align_content": null,
       "align_items": null,
       "align_self": null,
       "border": null,
       "bottom": null,
       "display": null,
       "flex": null,
       "flex_flow": null,
       "grid_area": null,
       "grid_auto_columns": null,
       "grid_auto_flow": null,
       "grid_auto_rows": null,
       "grid_column": null,
       "grid_gap": null,
       "grid_row": null,
       "grid_template_areas": null,
       "grid_template_columns": null,
       "grid_template_rows": null,
       "height": null,
       "justify_content": null,
       "justify_items": null,
       "left": null,
       "margin": null,
       "max_height": null,
       "max_width": null,
       "min_height": null,
       "min_width": null,
       "object_fit": null,
       "object_position": null,
       "order": null,
       "overflow": null,
       "overflow_x": null,
       "overflow_y": null,
       "padding": null,
       "right": null,
       "top": null,
       "visibility": null,
       "width": null
      }
     },
     "bd631aea7fe64779b7226ecdffe3a1b1": {
      "model_module": "@jupyter-widgets/base",
      "model_module_version": "1.2.0",
      "model_name": "LayoutModel",
      "state": {
       "_model_module": "@jupyter-widgets/base",
       "_model_module_version": "1.2.0",
       "_model_name": "LayoutModel",
       "_view_count": null,
       "_view_module": "@jupyter-widgets/base",
       "_view_module_version": "1.2.0",
       "_view_name": "LayoutView",
       "align_content": null,
       "align_items": null,
       "align_self": null,
       "border": null,
       "bottom": null,
       "display": null,
       "flex": null,
       "flex_flow": null,
       "grid_area": null,
       "grid_auto_columns": null,
       "grid_auto_flow": null,
       "grid_auto_rows": null,
       "grid_column": null,
       "grid_gap": null,
       "grid_row": null,
       "grid_template_areas": null,
       "grid_template_columns": null,
       "grid_template_rows": null,
       "height": null,
       "justify_content": null,
       "justify_items": null,
       "left": null,
       "margin": null,
       "max_height": null,
       "max_width": null,
       "min_height": null,
       "min_width": null,
       "object_fit": null,
       "object_position": null,
       "order": null,
       "overflow": null,
       "overflow_x": null,
       "overflow_y": null,
       "padding": null,
       "right": null,
       "top": null,
       "visibility": null,
       "width": null
      }
     },
     "be4fce64aa704bc4bfcaec9cc661669d": {
      "model_module": "@jupyter-widgets/base",
      "model_module_version": "1.2.0",
      "model_name": "LayoutModel",
      "state": {
       "_model_module": "@jupyter-widgets/base",
       "_model_module_version": "1.2.0",
       "_model_name": "LayoutModel",
       "_view_count": null,
       "_view_module": "@jupyter-widgets/base",
       "_view_module_version": "1.2.0",
       "_view_name": "LayoutView",
       "align_content": null,
       "align_items": null,
       "align_self": null,
       "border": null,
       "bottom": null,
       "display": null,
       "flex": null,
       "flex_flow": null,
       "grid_area": null,
       "grid_auto_columns": null,
       "grid_auto_flow": null,
       "grid_auto_rows": null,
       "grid_column": null,
       "grid_gap": null,
       "grid_row": null,
       "grid_template_areas": null,
       "grid_template_columns": null,
       "grid_template_rows": null,
       "height": null,
       "justify_content": null,
       "justify_items": null,
       "left": null,
       "margin": null,
       "max_height": null,
       "max_width": null,
       "min_height": null,
       "min_width": null,
       "object_fit": null,
       "object_position": null,
       "order": null,
       "overflow": null,
       "overflow_x": null,
       "overflow_y": null,
       "padding": null,
       "right": null,
       "top": null,
       "visibility": null,
       "width": null
      }
     },
     "c98b1e8d410a48838e6120daffff7af0": {
      "model_module": "@jupyter-widgets/controls",
      "model_module_version": "1.5.0",
      "model_name": "DescriptionStyleModel",
      "state": {
       "_model_module": "@jupyter-widgets/controls",
       "_model_module_version": "1.5.0",
       "_model_name": "DescriptionStyleModel",
       "_view_count": null,
       "_view_module": "@jupyter-widgets/base",
       "_view_module_version": "1.2.0",
       "_view_name": "StyleView",
       "description_width": ""
      }
     },
     "cc563f47b79c45d69878f64c21711849": {
      "model_module": "@jupyter-widgets/controls",
      "model_module_version": "1.5.0",
      "model_name": "HTMLModel",
      "state": {
       "_dom_classes": [],
       "_model_module": "@jupyter-widgets/controls",
       "_model_module_version": "1.5.0",
       "_model_name": "HTMLModel",
       "_view_count": null,
       "_view_module": "@jupyter-widgets/controls",
       "_view_module_version": "1.5.0",
       "_view_name": "HTMLView",
       "description": "",
       "description_tooltip": null,
       "layout": "IPY_MODEL_aec4631bf86a4a56b80dede0449b112c",
       "placeholder": "​",
       "style": "IPY_MODEL_0f43b7d478be4098bc5292cccea9ec37",
       "value": " 320/320 [03:18&lt;00:00,  1.70ba/s]"
      }
     },
     "dd6fd2c4d55c4e1482d7a84375d8ad8a": {
      "model_module": "@jupyter-widgets/controls",
      "model_module_version": "1.5.0",
      "model_name": "LabelModel",
      "state": {
       "_dom_classes": [],
       "_model_module": "@jupyter-widgets/controls",
       "_model_module_version": "1.5.0",
       "_model_name": "LabelModel",
       "_view_count": null,
       "_view_module": "@jupyter-widgets/controls",
       "_view_module_version": "1.5.0",
       "_view_name": "LabelView",
       "description": "",
       "description_tooltip": null,
       "layout": "IPY_MODEL_e01f75b2498b4202bb4494fa7281ade6",
       "placeholder": "​",
       "style": "IPY_MODEL_f2c186537d1841d2a3c5905a0b2c9a1a",
       "value": "1150.133 MB of 1150.133 MB uploaded (0.000 MB deduped)\r"
      }
     },
     "de1d0a6e5e0c447dab19249b2d0a33b5": {
      "model_module": "@jupyter-widgets/controls",
      "model_module_version": "1.5.0",
      "model_name": "FloatProgressModel",
      "state": {
       "_dom_classes": [],
       "_model_module": "@jupyter-widgets/controls",
       "_model_module_version": "1.5.0",
       "_model_name": "FloatProgressModel",
       "_view_count": null,
       "_view_module": "@jupyter-widgets/controls",
       "_view_module_version": "1.5.0",
       "_view_name": "ProgressView",
       "bar_style": "success",
       "description": "",
       "description_tooltip": null,
       "layout": "IPY_MODEL_430bf034fc7f43bca204b2e4f25f5181",
       "max": 41.0,
       "min": 0.0,
       "orientation": "horizontal",
       "style": "IPY_MODEL_ab9bbda661164548b56c4fd032499637",
       "value": 41.0
      }
     },
     "df187aac98e14fd69b1d66318edde90f": {
      "model_module": "@jupyter-widgets/base",
      "model_module_version": "1.2.0",
      "model_name": "LayoutModel",
      "state": {
       "_model_module": "@jupyter-widgets/base",
       "_model_module_version": "1.2.0",
       "_model_name": "LayoutModel",
       "_view_count": null,
       "_view_module": "@jupyter-widgets/base",
       "_view_module_version": "1.2.0",
       "_view_name": "LayoutView",
       "align_content": null,
       "align_items": null,
       "align_self": null,
       "border": null,
       "bottom": null,
       "display": null,
       "flex": null,
       "flex_flow": null,
       "grid_area": null,
       "grid_auto_columns": null,
       "grid_auto_flow": null,
       "grid_auto_rows": null,
       "grid_column": null,
       "grid_gap": null,
       "grid_row": null,
       "grid_template_areas": null,
       "grid_template_columns": null,
       "grid_template_rows": null,
       "height": null,
       "justify_content": null,
       "justify_items": null,
       "left": null,
       "margin": null,
       "max_height": null,
       "max_width": null,
       "min_height": null,
       "min_width": null,
       "object_fit": null,
       "object_position": null,
       "order": null,
       "overflow": null,
       "overflow_x": null,
       "overflow_y": null,
       "padding": null,
       "right": null,
       "top": null,
       "visibility": null,
       "width": null
      }
     },
     "e01f75b2498b4202bb4494fa7281ade6": {
      "model_module": "@jupyter-widgets/base",
      "model_module_version": "1.2.0",
      "model_name": "LayoutModel",
      "state": {
       "_model_module": "@jupyter-widgets/base",
       "_model_module_version": "1.2.0",
       "_model_name": "LayoutModel",
       "_view_count": null,
       "_view_module": "@jupyter-widgets/base",
       "_view_module_version": "1.2.0",
       "_view_name": "LayoutView",
       "align_content": null,
       "align_items": null,
       "align_self": null,
       "border": null,
       "bottom": null,
       "display": null,
       "flex": null,
       "flex_flow": null,
       "grid_area": null,
       "grid_auto_columns": null,
       "grid_auto_flow": null,
       "grid_auto_rows": null,
       "grid_column": null,
       "grid_gap": null,
       "grid_row": null,
       "grid_template_areas": null,
       "grid_template_columns": null,
       "grid_template_rows": null,
       "height": null,
       "justify_content": null,
       "justify_items": null,
       "left": null,
       "margin": null,
       "max_height": null,
       "max_width": null,
       "min_height": null,
       "min_width": null,
       "object_fit": null,
       "object_position": null,
       "order": null,
       "overflow": null,
       "overflow_x": null,
       "overflow_y": null,
       "padding": null,
       "right": null,
       "top": null,
       "visibility": null,
       "width": null
      }
     },
     "e4a5bc91e10b4631b8d2dad9f33980ed": {
      "model_module": "@jupyter-widgets/base",
      "model_module_version": "1.2.0",
      "model_name": "LayoutModel",
      "state": {
       "_model_module": "@jupyter-widgets/base",
       "_model_module_version": "1.2.0",
       "_model_name": "LayoutModel",
       "_view_count": null,
       "_view_module": "@jupyter-widgets/base",
       "_view_module_version": "1.2.0",
       "_view_name": "LayoutView",
       "align_content": null,
       "align_items": null,
       "align_self": null,
       "border": null,
       "bottom": null,
       "display": null,
       "flex": null,
       "flex_flow": null,
       "grid_area": null,
       "grid_auto_columns": null,
       "grid_auto_flow": null,
       "grid_auto_rows": null,
       "grid_column": null,
       "grid_gap": null,
       "grid_row": null,
       "grid_template_areas": null,
       "grid_template_columns": null,
       "grid_template_rows": null,
       "height": null,
       "justify_content": null,
       "justify_items": null,
       "left": null,
       "margin": null,
       "max_height": null,
       "max_width": null,
       "min_height": null,
       "min_width": null,
       "object_fit": null,
       "object_position": null,
       "order": null,
       "overflow": null,
       "overflow_x": null,
       "overflow_y": null,
       "padding": null,
       "right": null,
       "top": null,
       "visibility": null,
       "width": null
      }
     },
     "e6db9804650947b2879fcc11a5275b12": {
      "model_module": "@jupyter-widgets/controls",
      "model_module_version": "1.5.0",
      "model_name": "VBoxModel",
      "state": {
       "_dom_classes": [],
       "_model_module": "@jupyter-widgets/controls",
       "_model_module_version": "1.5.0",
       "_model_name": "VBoxModel",
       "_view_count": null,
       "_view_module": "@jupyter-widgets/controls",
       "_view_module_version": "1.5.0",
       "_view_name": "VBoxView",
       "box_style": "",
       "children": [
        "IPY_MODEL_dd6fd2c4d55c4e1482d7a84375d8ad8a",
        "IPY_MODEL_ad781f404b0d44b48d6ba89fc73b336d"
       ],
       "layout": "IPY_MODEL_6b9fd40a2ebe428da5ee1115d695a96e"
      }
     },
     "e7cf4d78794f43e1be760d495d6639a6": {
      "model_module": "@jupyter-widgets/controls",
      "model_module_version": "1.5.0",
      "model_name": "FloatProgressModel",
      "state": {
       "_dom_classes": [],
       "_model_module": "@jupyter-widgets/controls",
       "_model_module_version": "1.5.0",
       "_model_name": "FloatProgressModel",
       "_view_count": null,
       "_view_module": "@jupyter-widgets/controls",
       "_view_module_version": "1.5.0",
       "_view_name": "ProgressView",
       "bar_style": "",
       "description": "",
       "description_tooltip": null,
       "layout": "IPY_MODEL_be4fce64aa704bc4bfcaec9cc661669d",
       "max": 1.0,
       "min": 0.0,
       "orientation": "horizontal",
       "style": "IPY_MODEL_7aa6bb55eb4f4083926d80b1e416b542",
       "value": 0.0
      }
     },
     "e92f4ff8fa0b48d09b4e2ff97782b5d0": {
      "model_module": "@jupyter-widgets/controls",
      "model_module_version": "1.5.0",
      "model_name": "VBoxModel",
      "state": {
       "_dom_classes": [],
       "_model_module": "@jupyter-widgets/controls",
       "_model_module_version": "1.5.0",
       "_model_name": "VBoxModel",
       "_view_count": null,
       "_view_module": "@jupyter-widgets/controls",
       "_view_module_version": "1.5.0",
       "_view_name": "VBoxView",
       "box_style": "",
       "children": [
        "IPY_MODEL_eebf673bd82b4e739eb71ad7af4fe8f3",
        "IPY_MODEL_e7cf4d78794f43e1be760d495d6639a6"
       ],
       "layout": "IPY_MODEL_58abb5d17e8d40e5a0d9af80ba785d66"
      }
     },
     "ea6bb1638e93434191ef9faa8d280eb1": {
      "model_module": "@jupyter-widgets/base",
      "model_module_version": "1.2.0",
      "model_name": "LayoutModel",
      "state": {
       "_model_module": "@jupyter-widgets/base",
       "_model_module_version": "1.2.0",
       "_model_name": "LayoutModel",
       "_view_count": null,
       "_view_module": "@jupyter-widgets/base",
       "_view_module_version": "1.2.0",
       "_view_name": "LayoutView",
       "align_content": null,
       "align_items": null,
       "align_self": null,
       "border": null,
       "bottom": null,
       "display": null,
       "flex": null,
       "flex_flow": null,
       "grid_area": null,
       "grid_auto_columns": null,
       "grid_auto_flow": null,
       "grid_auto_rows": null,
       "grid_column": null,
       "grid_gap": null,
       "grid_row": null,
       "grid_template_areas": null,
       "grid_template_columns": null,
       "grid_template_rows": null,
       "height": null,
       "justify_content": null,
       "justify_items": null,
       "left": null,
       "margin": null,
       "max_height": null,
       "max_width": null,
       "min_height": null,
       "min_width": null,
       "object_fit": null,
       "object_position": null,
       "order": null,
       "overflow": null,
       "overflow_x": null,
       "overflow_y": null,
       "padding": null,
       "right": null,
       "top": null,
       "visibility": null,
       "width": null
      }
     },
     "eebf673bd82b4e739eb71ad7af4fe8f3": {
      "model_module": "@jupyter-widgets/controls",
      "model_module_version": "1.5.0",
      "model_name": "LabelModel",
      "state": {
       "_dom_classes": [],
       "_model_module": "@jupyter-widgets/controls",
       "_model_module_version": "1.5.0",
       "_model_name": "LabelModel",
       "_view_count": null,
       "_view_module": "@jupyter-widgets/controls",
       "_view_module_version": "1.5.0",
       "_view_name": "LabelView",
       "description": "",
       "description_tooltip": null,
       "layout": "IPY_MODEL_884ce5b593c64fbea1ecdbaead5ee141",
       "placeholder": "​",
       "style": "IPY_MODEL_9d75e465c7b1431fae2d874e9bb5a003",
       "value": ""
      }
     },
     "f2c186537d1841d2a3c5905a0b2c9a1a": {
      "model_module": "@jupyter-widgets/controls",
      "model_module_version": "1.5.0",
      "model_name": "DescriptionStyleModel",
      "state": {
       "_model_module": "@jupyter-widgets/controls",
       "_model_module_version": "1.5.0",
       "_model_name": "DescriptionStyleModel",
       "_view_count": null,
       "_view_module": "@jupyter-widgets/base",
       "_view_module_version": "1.2.0",
       "_view_name": "StyleView",
       "description_width": ""
      }
     },
     "fb9f3cf23cc0420a89aafa2b362cc3d4": {
      "model_module": "@jupyter-widgets/base",
      "model_module_version": "1.2.0",
      "model_name": "LayoutModel",
      "state": {
       "_model_module": "@jupyter-widgets/base",
       "_model_module_version": "1.2.0",
       "_model_name": "LayoutModel",
       "_view_count": null,
       "_view_module": "@jupyter-widgets/base",
       "_view_module_version": "1.2.0",
       "_view_name": "LayoutView",
       "align_content": null,
       "align_items": null,
       "align_self": null,
       "border": null,
       "bottom": null,
       "display": null,
       "flex": null,
       "flex_flow": null,
       "grid_area": null,
       "grid_auto_columns": null,
       "grid_auto_flow": null,
       "grid_auto_rows": null,
       "grid_column": null,
       "grid_gap": null,
       "grid_row": null,
       "grid_template_areas": null,
       "grid_template_columns": null,
       "grid_template_rows": null,
       "height": null,
       "justify_content": null,
       "justify_items": null,
       "left": null,
       "margin": null,
       "max_height": null,
       "max_width": null,
       "min_height": null,
       "min_width": null,
       "object_fit": null,
       "object_position": null,
       "order": null,
       "overflow": null,
       "overflow_x": null,
       "overflow_y": null,
       "padding": null,
       "right": null,
       "top": null,
       "visibility": null,
       "width": null
      }
     }
    },
    "version_major": 2,
    "version_minor": 0
   }
  }
 },
 "nbformat": 4,
 "nbformat_minor": 5
}