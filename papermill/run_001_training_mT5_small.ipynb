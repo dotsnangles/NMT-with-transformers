{
 "cells": [
  {
   "cell_type": "markdown",
   "id": "66a803ea",
   "metadata": {
    "colab_type": "text",
    "id": "view-in-github",
    "papermill": {
     "duration": 0.047265,
     "end_time": "2022-08-03T05:26:32.387420",
     "exception": false,
     "start_time": "2022-08-03T05:26:32.340155",
     "status": "completed"
    },
    "tags": []
   },
   "source": [
    "<a href=\"https://colab.research.google.com/github/dotsnangles/NMT-with-transformers/blob/master/training_mT5-small.ipynb\" target=\"_parent\"><img src=\"https://colab.research.google.com/assets/colab-badge.svg\" alt=\"Open In Colab\"/></a>"
   ]
  },
  {
   "cell_type": "code",
   "execution_count": 1,
   "id": "dc512da8",
   "metadata": {
    "colab": {
     "base_uri": "https://localhost:8080/"
    },
    "execution": {
     "iopub.execute_input": "2022-08-03T05:26:32.419137Z",
     "iopub.status.busy": "2022-08-03T05:26:32.418501Z",
     "iopub.status.idle": "2022-08-03T05:26:32.717698Z",
     "shell.execute_reply": "2022-08-03T05:26:32.716970Z"
    },
    "id": "szmDNko71tqn",
    "outputId": "07c5af30-d82e-4967-e30f-27480b660631",
    "papermill": {
     "duration": 0.317037,
     "end_time": "2022-08-03T05:26:32.719591",
     "exception": false,
     "start_time": "2022-08-03T05:26:32.402554",
     "status": "completed"
    },
    "tags": []
   },
   "outputs": [
    {
     "name": "stdout",
     "output_type": "stream",
     "text": [
      "Wed Aug  3 05:26:32 2022       \r\n",
      "+-----------------------------------------------------------------------------+\r\n",
      "| NVIDIA-SMI 510.47.03    Driver Version: 510.47.03    CUDA Version: 11.6     |\r\n",
      "|-------------------------------+----------------------+----------------------+\r\n",
      "| GPU  Name        Persistence-M| Bus-Id        Disp.A | Volatile Uncorr. ECC |\r\n",
      "| Fan  Temp  Perf  Pwr:Usage/Cap|         Memory-Usage | GPU-Util  Compute M. |\r\n",
      "|                               |                      |               MIG M. |\r\n",
      "|===============================+======================+======================|\r\n",
      "|   0  NVIDIA A10G         On   | 00000000:00:1E.0 Off |                    0 |\r\n",
      "|  0%   27C    P8    15W / 300W |      0MiB / 23028MiB |      0%      Default |\r\n",
      "|                               |                      |                  N/A |\r\n",
      "+-------------------------------+----------------------+----------------------+\r\n",
      "                                                                               \r\n",
      "+-----------------------------------------------------------------------------+\r\n",
      "| Processes:                                                                  |\r\n",
      "|  GPU   GI   CI        PID   Type   Process name                  GPU Memory |\r\n",
      "|        ID   ID                                                   Usage      |\r\n",
      "|=============================================================================|\r\n",
      "|  No running processes found                                                 |\r\n",
      "+-----------------------------------------------------------------------------+\r\n"
     ]
    }
   ],
   "source": [
    "!nvidia-smi"
   ]
  },
  {
   "cell_type": "markdown",
   "id": "b49eb727",
   "metadata": {
    "id": "tm-IS9TOoSfD",
    "papermill": {
     "duration": 0.015486,
     "end_time": "2022-08-03T05:26:32.752655",
     "exception": false,
     "start_time": "2022-08-03T05:26:32.737169",
     "status": "completed"
    },
    "tags": []
   },
   "source": [
    "### Set notebook parameters"
   ]
  },
  {
   "cell_type": "code",
   "execution_count": 2,
   "id": "f577884f",
   "metadata": {
    "execution": {
     "iopub.execute_input": "2022-08-03T05:26:32.785010Z",
     "iopub.status.busy": "2022-08-03T05:26:32.784456Z",
     "iopub.status.idle": "2022-08-03T05:26:32.790749Z",
     "shell.execute_reply": "2022-08-03T05:26:32.789899Z"
    },
    "id": "4Xt5ekSsoZ5d",
    "papermill": {
     "duration": 0.024377,
     "end_time": "2022-08-03T05:26:32.792191",
     "exception": false,
     "start_time": "2022-08-03T05:26:32.767814",
     "status": "completed"
    },
    "tags": []
   },
   "outputs": [],
   "source": [
    "run_name = 'en2ko run on aws ec2 with NVIDIA A10G'\n",
    "\n",
    "project_name = 'en2ko-translator-mt5-small'\n",
    "\n",
    "num_train_epochs = 100\n",
    "batch_size = 16\n",
    "gradient_accumulation_steps = 1\n",
    "\n",
    "learning_rate = 2e-5\n",
    "weight_decay = 0.01\n",
    "\n",
    "lr_scheduler_type = 'cosine'\n",
    "warmup_ratio = 0.1\n",
    "\n",
    "predict_with_generate = False\n",
    "generation_max_length = 256\n",
    "\n",
    "# early_stopping_patience = 5\n",
    "save_total_limit = 50\n",
    "\n",
    "load_best_model_at_end = True\n",
    "metric_for_best_model='eval_loss'\n",
    "\n",
    "save_strategy = \"epoch\"\n",
    "evaluation_strategy = \"epoch\"\n",
    "# save_steps = 1250\n",
    "# eval_steps = 1250\n",
    "\n",
    "logging_strategy = \"steps\"\n",
    "logging_first_step = True \n",
    "logging_steps = 500\n",
    "\n",
    "fp16 = False"
   ]
  },
  {
   "cell_type": "markdown",
   "id": "9be2112d",
   "metadata": {
    "id": "P1KUryBDS826",
    "papermill": {
     "duration": 0.015149,
     "end_time": "2022-08-03T05:26:32.824823",
     "exception": false,
     "start_time": "2022-08-03T05:26:32.809674",
     "status": "completed"
    },
    "tags": []
   },
   "source": [
    "### Prerequisites"
   ]
  },
  {
   "cell_type": "code",
   "execution_count": 3,
   "id": "9a96942d",
   "metadata": {
    "colab": {
     "base_uri": "https://localhost:8080/"
    },
    "execution": {
     "iopub.execute_input": "2022-08-03T05:26:32.856812Z",
     "iopub.status.busy": "2022-08-03T05:26:32.856230Z",
     "iopub.status.idle": "2022-08-03T05:26:32.859314Z",
     "shell.execute_reply": "2022-08-03T05:26:32.858801Z"
    },
    "id": "RIDQm6YMN7MI",
    "outputId": "4e5da6be-d9bf-4709-80fe-bd4016af35d3",
    "papermill": {
     "duration": 0.020438,
     "end_time": "2022-08-03T05:26:32.860665",
     "exception": false,
     "start_time": "2022-08-03T05:26:32.840227",
     "status": "completed"
    },
    "tags": []
   },
   "outputs": [],
   "source": [
    "# !conda install -c conda-forge datasets transformers sentencepiece sacrebleu folium wandb pandas gdown jupyterlab ipywidgets"
   ]
  },
  {
   "cell_type": "code",
   "execution_count": 4,
   "id": "cee53d81",
   "metadata": {
    "execution": {
     "iopub.execute_input": "2022-08-03T05:26:32.892191Z",
     "iopub.status.busy": "2022-08-03T05:26:32.891817Z",
     "iopub.status.idle": "2022-08-03T05:26:32.894875Z",
     "shell.execute_reply": "2022-08-03T05:26:32.894227Z"
    },
    "id": "STwW2vB4Nn2X",
    "papermill": {
     "duration": 0.020668,
     "end_time": "2022-08-03T05:26:32.896276",
     "exception": false,
     "start_time": "2022-08-03T05:26:32.875608",
     "status": "completed"
    },
    "tags": []
   },
   "outputs": [],
   "source": [
    "# import gdown\n",
    "# id = \"1J21-T8wYjlj-91CxtxEzrcE34CDt7CM3\"\n",
    "# gdown.download_folder(id=id, quiet=True, use_cookies=False)"
   ]
  },
  {
   "cell_type": "markdown",
   "id": "ec1a673d",
   "metadata": {
    "id": "-SYiaMTojqod",
    "papermill": {
     "duration": 0.015006,
     "end_time": "2022-08-03T05:26:32.926319",
     "exception": false,
     "start_time": "2022-08-03T05:26:32.911313",
     "status": "completed"
    },
    "tags": []
   },
   "source": [
    "### Set WandB "
   ]
  },
  {
   "cell_type": "code",
   "execution_count": 5,
   "id": "0f070908",
   "metadata": {
    "colab": {
     "base_uri": "https://localhost:8080/"
    },
    "execution": {
     "iopub.execute_input": "2022-08-03T05:26:32.957538Z",
     "iopub.status.busy": "2022-08-03T05:26:32.957056Z",
     "iopub.status.idle": "2022-08-03T05:26:32.963131Z",
     "shell.execute_reply": "2022-08-03T05:26:32.962553Z"
    },
    "id": "z_sIlAvvmzmw",
    "outputId": "63b7471c-fc08-49ed-d171-6a6168ee7916",
    "papermill": {
     "duration": 0.023447,
     "end_time": "2022-08-03T05:26:32.964648",
     "exception": false,
     "start_time": "2022-08-03T05:26:32.941201",
     "status": "completed"
    },
    "tags": []
   },
   "outputs": [
    {
     "name": "stdout",
     "output_type": "stream",
     "text": [
      "env: WANDB_NOTEBOOK_NAME=/home/ubuntu/codes/NMT-with-transformers/training_mT5-small.ipynb\n",
      "env: WANDB_PROJECT=en2ko-translator-mt5-small\n",
      "env: WANDB_LOG_MODEL=true\n",
      "env: WANDB_WATCH=all\n"
     ]
    }
   ],
   "source": [
    "%env WANDB_NOTEBOOK_NAME=/home/ubuntu/codes/NMT-with-transformers/training_mT5-small.ipynb\n",
    "%env WANDB_PROJECT=$project_name\n",
    "%env WANDB_LOG_MODEL=true\n",
    "%env WANDB_WATCH=all"
   ]
  },
  {
   "cell_type": "code",
   "execution_count": 6,
   "id": "e79969c8",
   "metadata": {
    "colab": {
     "base_uri": "https://localhost:8080/",
     "height": 69
    },
    "execution": {
     "iopub.execute_input": "2022-08-03T05:26:32.995998Z",
     "iopub.status.busy": "2022-08-03T05:26:32.995611Z",
     "iopub.status.idle": "2022-08-03T05:26:33.482404Z",
     "shell.execute_reply": "2022-08-03T05:26:33.481794Z"
    },
    "id": "p7qDzf-ajvlP",
    "outputId": "046fb57f-0f22-4ab7-bd50-ce4619c1ce45",
    "papermill": {
     "duration": 0.504071,
     "end_time": "2022-08-03T05:26:33.483765",
     "exception": false,
     "start_time": "2022-08-03T05:26:32.979694",
     "status": "completed"
    },
    "tags": []
   },
   "outputs": [
    {
     "name": "stderr",
     "output_type": "stream",
     "text": [
      "\u001b[34m\u001b[1mwandb\u001b[0m: \u001b[33mWARNING\u001b[0m WANDB_NOTEBOOK_NAME should be a path to a notebook file, couldn't find /home/ubuntu/codes/NMT-with-transformers/training_mT5-small.ipynb.\n"
     ]
    },
    {
     "name": "stderr",
     "output_type": "stream",
     "text": [
      "\u001b[34m\u001b[1mwandb\u001b[0m: Currently logged in as: \u001b[33mdotsnangles\u001b[0m. Use \u001b[1m`wandb login --relogin`\u001b[0m to force relogin\n"
     ]
    },
    {
     "data": {
      "text/plain": [
       "True"
      ]
     },
     "execution_count": 6,
     "metadata": {},
     "output_type": "execute_result"
    }
   ],
   "source": [
    "import wandb\n",
    "wandb.login()"
   ]
  },
  {
   "cell_type": "markdown",
   "id": "c272380d",
   "metadata": {
    "id": "HUg3W8tlTIs3",
    "papermill": {
     "duration": 0.014841,
     "end_time": "2022-08-03T05:26:33.513805",
     "exception": false,
     "start_time": "2022-08-03T05:26:33.498964",
     "status": "completed"
    },
    "tags": []
   },
   "source": [
    "### Model Selection"
   ]
  },
  {
   "cell_type": "code",
   "execution_count": 7,
   "id": "e57b9005",
   "metadata": {
    "execution": {
     "iopub.execute_input": "2022-08-03T05:26:33.546115Z",
     "iopub.status.busy": "2022-08-03T05:26:33.545387Z",
     "iopub.status.idle": "2022-08-03T05:26:33.548913Z",
     "shell.execute_reply": "2022-08-03T05:26:33.548359Z"
    },
    "id": "fqj75pbLR4am",
    "papermill": {
     "duration": 0.02099,
     "end_time": "2022-08-03T05:26:33.550234",
     "exception": false,
     "start_time": "2022-08-03T05:26:33.529244",
     "status": "completed"
    },
    "tags": []
   },
   "outputs": [],
   "source": [
    "model_ckpt = 'google/mt5-small'"
   ]
  },
  {
   "cell_type": "markdown",
   "id": "90375367",
   "metadata": {
    "id": "cUS1L0gQTDWE",
    "papermill": {
     "duration": 0.015274,
     "end_time": "2022-08-03T05:26:33.580889",
     "exception": false,
     "start_time": "2022-08-03T05:26:33.565615",
     "status": "completed"
    },
    "tags": []
   },
   "source": [
    "### Import stuff"
   ]
  },
  {
   "cell_type": "code",
   "execution_count": 8,
   "id": "8524c61d",
   "metadata": {
    "execution": {
     "iopub.execute_input": "2022-08-03T05:26:33.612837Z",
     "iopub.status.busy": "2022-08-03T05:26:33.612446Z",
     "iopub.status.idle": "2022-08-03T05:26:34.627566Z",
     "shell.execute_reply": "2022-08-03T05:26:34.626975Z"
    },
    "id": "YdxTLx5GN5Eq",
    "papermill": {
     "duration": 1.033059,
     "end_time": "2022-08-03T05:26:34.629172",
     "exception": false,
     "start_time": "2022-08-03T05:26:33.596113",
     "status": "completed"
    },
    "tags": []
   },
   "outputs": [],
   "source": [
    "import pandas as pd\n",
    "from datasets import Dataset, load_metric\n",
    "from transformers import AutoConfig, AutoTokenizer, AutoModelForSeq2SeqLM, DataCollatorForSeq2Seq, Seq2SeqTrainingArguments, Seq2SeqTrainer, EarlyStoppingCallback"
   ]
  },
  {
   "cell_type": "code",
   "execution_count": 9,
   "id": "81049950",
   "metadata": {
    "execution": {
     "iopub.execute_input": "2022-08-03T05:26:34.661352Z",
     "iopub.status.busy": "2022-08-03T05:26:34.660846Z",
     "iopub.status.idle": "2022-08-03T05:26:35.588024Z",
     "shell.execute_reply": "2022-08-03T05:26:35.587435Z"
    },
    "id": "yy9cR0OJOToH",
    "papermill": {
     "duration": 0.944907,
     "end_time": "2022-08-03T05:26:35.589554",
     "exception": false,
     "start_time": "2022-08-03T05:26:34.644647",
     "status": "completed"
    },
    "tags": []
   },
   "outputs": [],
   "source": [
    "train_df = pd.read_csv('./data/train.csv')\n",
    "val_df = pd.read_csv('./data/val.csv')"
   ]
  },
  {
   "cell_type": "code",
   "execution_count": 10,
   "id": "d2f9a6c8",
   "metadata": {
    "colab": {
     "base_uri": "https://localhost:8080/",
     "height": 257,
     "referenced_widgets": [
      "24b0deb71033449bbdc985914eed40ed",
      "5bb46349c6d742ada82f4959ae82f940",
      "076e4acb87e440f094b0f3b5bb10f0be",
      "ab38df2ca4d1485f8bb9e4e0de4bef4d",
      "a83062fcdc714294a41c461d6cbda585",
      "945ee74879ed44d6b09c877b8702a043",
      "a3f5aae75bdc4b1a8e0958247c387363",
      "88a5274a150b4b1a840b15b090e1d02e",
      "7e1df09832434349850a718915e69a30",
      "cb8e08101fa94b3fb1f59e0b0b67d77c",
      "bc89aec1a9a343a4bdfbbde001d3dce1",
      "9447cc983c3e48d99d979f0a91249fd3",
      "f9c244477dcb4bf2a1fe53da441086b2",
      "1a34e3b2b9ca427f8f9e6c0bb8d8cce5",
      "79584c3a474b40feab5fe6811d3e2999",
      "4286196fd6aa4a3b8a57da5b604184ed",
      "23227cc6264146a7a4c50a798076cb16",
      "f8d79ce0e969460ba10adec99c112076",
      "73ceac26fe3545558d29a3e67ef1cfb4",
      "38e8870320d84d4280828e97fe0b35cf",
      "014484e26a82463ea8f8c19a7a88d24e",
      "fcc268f3c10c467782ab911146a6822f",
      "b0d96a1f40244617b61b89743fd3bff7",
      "88aef34ea6874aa4a97ba0adb427611a",
      "0fe5c1b6548e4a60ac33279733c6a2a9",
      "13f14056dfe2454ba30c1448ba303110",
      "87658bcc165c4a20a40ab03f0cb2e00c",
      "1d0d2697dea14e4297c3ae2851f0d921",
      "facdce6a9b1448a09417c3e79f36fa8f",
      "3b9a5d4a72774022bc691f876648ecce",
      "23beb26805314718a8fe571aee90e4ea",
      "f31ca04ae2d940699b6747d81a2d785d",
      "9622a784f9db4f2da1543dcf02ddc882",
      "b05d70065db64aec92a02c4553b2b38f",
      "8c38efd2baa04b5bb61953366a753888",
      "c5ea0018f86c47bebce5a161c20e35c5",
      "f3eabfb2573a4ec18d0d9670dfe37b80",
      "daa6be93d5524c0bbdc041c40579a431",
      "ab8cb4ae53094835bdb0707abdae6a26",
      "daaf0c307709419d89b350a15afaddeb",
      "b6d4df1ec722421998d3192a87f54274",
      "795717c66e4d4b59b7813b42a23f20b4",
      "7a7dfc87f9304e6c9d4be4bb3bcba8a0",
      "55930c50408f491eadd092385854355a"
     ]
    },
    "execution": {
     "iopub.execute_input": "2022-08-03T05:26:35.621984Z",
     "iopub.status.busy": "2022-08-03T05:26:35.621301Z",
     "iopub.status.idle": "2022-08-03T05:26:36.252326Z",
     "shell.execute_reply": "2022-08-03T05:26:36.251628Z"
    },
    "id": "_4TJocDGRs5f",
    "outputId": "ea5b671a-87bc-4b4e-edfd-4ac199d7d7da",
    "papermill": {
     "duration": 0.649276,
     "end_time": "2022-08-03T05:26:36.254226",
     "exception": false,
     "start_time": "2022-08-03T05:26:35.604950",
     "status": "completed"
    },
    "tags": []
   },
   "outputs": [],
   "source": [
    "tokenizer = AutoTokenizer.from_pretrained(model_ckpt, use_fast=False)"
   ]
  },
  {
   "cell_type": "markdown",
   "id": "42e75bd2",
   "metadata": {
    "id": "YV3I14qlfNjO",
    "papermill": {
     "duration": 0.015098,
     "end_time": "2022-08-03T05:26:36.284735",
     "exception": false,
     "start_time": "2022-08-03T05:26:36.269637",
     "status": "completed"
    },
    "tags": []
   },
   "source": [
    "### Measure token length"
   ]
  },
  {
   "cell_type": "code",
   "execution_count": 11,
   "id": "e36b66a7",
   "metadata": {
    "execution": {
     "iopub.execute_input": "2022-08-03T05:26:36.316954Z",
     "iopub.status.busy": "2022-08-03T05:26:36.316369Z",
     "iopub.status.idle": "2022-08-03T05:26:36.319844Z",
     "shell.execute_reply": "2022-08-03T05:26:36.319196Z"
    },
    "id": "qN4QG9JvVtBM",
    "papermill": {
     "duration": 0.021015,
     "end_time": "2022-08-03T05:26:36.321171",
     "exception": false,
     "start_time": "2022-08-03T05:26:36.300156",
     "status": "completed"
    },
    "tags": []
   },
   "outputs": [],
   "source": [
    "def measure_len(sample):\n",
    "    return len(tokenizer.encode(sample))"
   ]
  },
  {
   "cell_type": "code",
   "execution_count": 12,
   "id": "b0bebdf5",
   "metadata": {
    "colab": {
     "base_uri": "https://localhost:8080/"
    },
    "execution": {
     "iopub.execute_input": "2022-08-03T05:26:36.353483Z",
     "iopub.status.busy": "2022-08-03T05:26:36.353111Z",
     "iopub.status.idle": "2022-08-03T05:26:36.358063Z",
     "shell.execute_reply": "2022-08-03T05:26:36.357377Z"
    },
    "id": "km6c--bWXRZ8",
    "outputId": "4ac1ee5b-25c4-4774-cd9b-ae48d3cb9c81",
    "papermill": {
     "duration": 0.0229,
     "end_time": "2022-08-03T05:26:36.359456",
     "exception": false,
     "start_time": "2022-08-03T05:26:36.336556",
     "status": "completed"
    },
    "tags": []
   },
   "outputs": [
    {
     "name": "stdout",
     "output_type": "stream",
     "text": [
      "length of src_prefix: 7\n",
      "[37194, 5413, 288, 259, 37209, 267, 1]\n",
      "[37194, 5413, 288, 259, 37209, 267, 1]\n"
     ]
    }
   ],
   "source": [
    "src_prefix = \"translate English to Korean: \"\n",
    "\n",
    "print('length of src_prefix:', measure_len(src_prefix))\n",
    "print(tokenizer.encode(src_prefix))\n",
    "with tokenizer.as_target_tokenizer():\n",
    "    print(tokenizer.encode(src_prefix))"
   ]
  },
  {
   "cell_type": "code",
   "execution_count": 13,
   "id": "8bd72383",
   "metadata": {
    "execution": {
     "iopub.execute_input": "2022-08-03T05:26:36.391979Z",
     "iopub.status.busy": "2022-08-03T05:26:36.391456Z",
     "iopub.status.idle": "2022-08-03T05:27:13.109724Z",
     "shell.execute_reply": "2022-08-03T05:27:13.109107Z"
    },
    "id": "yzUzczwnWJsq",
    "papermill": {
     "duration": 36.736219,
     "end_time": "2022-08-03T05:27:13.111273",
     "exception": false,
     "start_time": "2022-08-03T05:26:36.375054",
     "status": "completed"
    },
    "tags": []
   },
   "outputs": [],
   "source": [
    "train_df_en_len = train_df['en'].apply(measure_len)\n",
    "train_df_ko_len = train_df['ko'].apply(measure_len)\n",
    "val_df_en_len = val_df['en'].apply(measure_len)\n",
    "val_df_ko_len = val_df['ko'].apply(measure_len)"
   ]
  },
  {
   "cell_type": "code",
   "execution_count": 14,
   "id": "e6cc9550",
   "metadata": {
    "execution": {
     "iopub.execute_input": "2022-08-03T05:27:13.143779Z",
     "iopub.status.busy": "2022-08-03T05:27:13.143392Z",
     "iopub.status.idle": "2022-08-03T05:27:13.159901Z",
     "shell.execute_reply": "2022-08-03T05:27:13.159361Z"
    },
    "papermill": {
     "duration": 0.034203,
     "end_time": "2022-08-03T05:27:13.161151",
     "exception": false,
     "start_time": "2022-08-03T05:27:13.126948",
     "status": "completed"
    },
    "tags": []
   },
   "outputs": [
    {
     "data": {
      "text/plain": [
       "(117, 154, 99, 102)"
      ]
     },
     "execution_count": 14,
     "metadata": {},
     "output_type": "execute_result"
    }
   ],
   "source": [
    "max(train_df_en_len)+7, max(train_df_ko_len), max(val_df_en_len)+7, max(val_df_ko_len)"
   ]
  },
  {
   "cell_type": "markdown",
   "id": "9ac6c8b9",
   "metadata": {
    "id": "_VvDz3dbfVP6",
    "papermill": {
     "duration": 0.015625,
     "end_time": "2022-08-03T05:27:13.192381",
     "exception": false,
     "start_time": "2022-08-03T05:27:13.176756",
     "status": "completed"
    },
    "tags": []
   },
   "source": [
    "### df to ds"
   ]
  },
  {
   "cell_type": "code",
   "execution_count": 15,
   "id": "0bd72c79",
   "metadata": {
    "colab": {
     "base_uri": "https://localhost:8080/"
    },
    "execution": {
     "iopub.execute_input": "2022-08-03T05:27:13.224904Z",
     "iopub.status.busy": "2022-08-03T05:27:13.224543Z",
     "iopub.status.idle": "2022-08-03T05:27:13.272717Z",
     "shell.execute_reply": "2022-08-03T05:27:13.272099Z"
    },
    "id": "1GuObstwNWwZ",
    "outputId": "6e9e6762-d5ae-4916-85e0-eacc95a25852",
    "papermill": {
     "duration": 0.066284,
     "end_time": "2022-08-03T05:27:13.274163",
     "exception": false,
     "start_time": "2022-08-03T05:27:13.207879",
     "status": "completed"
    },
    "tags": []
   },
   "outputs": [
    {
     "data": {
      "text/plain": [
       "(Dataset({\n",
       "     features: ['en', 'ko'],\n",
       "     num_rows: 79979\n",
       " }),\n",
       " Dataset({\n",
       "     features: ['en', 'ko'],\n",
       "     num_rows: 10131\n",
       " }))"
      ]
     },
     "execution_count": 15,
     "metadata": {},
     "output_type": "execute_result"
    }
   ],
   "source": [
    "train_ds = Dataset.from_pandas(train_df[['en', 'ko']])\n",
    "val_ds = Dataset.from_pandas(val_df[['en', 'ko']])\n",
    "# .shuffle(seed=42)[:val_ds_len]\n",
    "# val_ds = Dataset.from_dict(val_ds)\n",
    "train_ds, val_ds"
   ]
  },
  {
   "cell_type": "code",
   "execution_count": 16,
   "id": "9c306856",
   "metadata": {
    "colab": {
     "base_uri": "https://localhost:8080/"
    },
    "execution": {
     "iopub.execute_input": "2022-08-03T05:27:13.307423Z",
     "iopub.status.busy": "2022-08-03T05:27:13.306943Z",
     "iopub.status.idle": "2022-08-03T05:27:13.311132Z",
     "shell.execute_reply": "2022-08-03T05:27:13.310481Z"
    },
    "id": "8OvpUAf3aZiL",
    "outputId": "6ea4d8e3-9553-42f6-80b8-9931cd5c9584",
    "papermill": {
     "duration": 0.022319,
     "end_time": "2022-08-03T05:27:13.312466",
     "exception": false,
     "start_time": "2022-08-03T05:27:13.290147",
     "status": "completed"
    },
    "tags": []
   },
   "outputs": [
    {
     "name": "stdout",
     "output_type": "stream",
     "text": [
      "{'en': 'The comparators 1235 and 1237 may be expressed as a Relu activation function or a sigmoid function according to a setting.', 'ko': '비교기(1235 및 1237)는 설정에 따라 Relu 활성함수로 나타낼 수 있으며, 시그모이드 함수로 나타낼 수도 있다.'}\n",
      "{'en': 'The server 320 may input a source image to the analysis model DB 325 and receive object information output from the training model.', 'ko': '서버(320)는 분석 모델 DB(325)에 소스 영상을 입력하고, 학습 모델에서 출력하는 객체 정보를 수신할 수 있다.'}\n"
     ]
    }
   ],
   "source": [
    "idx = 0\n",
    "for e in train_ds:\n",
    "    print(e)\n",
    "    idx += 1\n",
    "    if idx == 2:\n",
    "        break"
   ]
  },
  {
   "cell_type": "markdown",
   "id": "17f6a9c4",
   "metadata": {
    "id": "L1MWBLv4fcm1",
    "papermill": {
     "duration": 0.015554,
     "end_time": "2022-08-03T05:27:13.343654",
     "exception": false,
     "start_time": "2022-08-03T05:27:13.328100",
     "status": "completed"
    },
    "tags": []
   },
   "source": [
    "### Preprocess"
   ]
  },
  {
   "cell_type": "code",
   "execution_count": 17,
   "id": "a5ae8028",
   "metadata": {
    "execution": {
     "iopub.execute_input": "2022-08-03T05:27:13.376021Z",
     "iopub.status.busy": "2022-08-03T05:27:13.375642Z",
     "iopub.status.idle": "2022-08-03T05:27:13.381012Z",
     "shell.execute_reply": "2022-08-03T05:27:13.380494Z"
    },
    "id": "5Lv5xOHbVO4G",
    "papermill": {
     "duration": 0.023167,
     "end_time": "2022-08-03T05:27:13.382291",
     "exception": false,
     "start_time": "2022-08-03T05:27:13.359124",
     "status": "completed"
    },
    "tags": []
   },
   "outputs": [],
   "source": [
    "source_lang = \"en\"\n",
    "target_lang = \"ko\"\n",
    "prefix = \"translate English to Korean: \"\n",
    "\n",
    "def preprocess_function(examples):\n",
    "    inputs = [prefix + example for example in examples[source_lang]]\n",
    "    targets = [example for example in examples[target_lang]]\n",
    "    model_inputs = tokenizer(inputs, max_length=128, truncation=True)\n",
    "\n",
    "    with tokenizer.as_target_tokenizer():\n",
    "        labels = tokenizer(targets, max_length=160, truncation=True)\n",
    "\n",
    "    model_inputs[\"labels\"] = labels[\"input_ids\"]\n",
    "    return model_inputs"
   ]
  },
  {
   "cell_type": "markdown",
   "id": "e3d80947",
   "metadata": {
    "id": "w-xGqutYiZjY",
    "papermill": {
     "duration": 0.015526,
     "end_time": "2022-08-03T05:27:13.413627",
     "exception": false,
     "start_time": "2022-08-03T05:27:13.398101",
     "status": "completed"
    },
    "tags": []
   },
   "source": [
    "#### Test preprocess_function"
   ]
  },
  {
   "cell_type": "code",
   "execution_count": 18,
   "id": "7ee8f99b",
   "metadata": {
    "colab": {
     "base_uri": "https://localhost:8080/"
    },
    "execution": {
     "iopub.execute_input": "2022-08-03T05:27:13.446867Z",
     "iopub.status.busy": "2022-08-03T05:27:13.446467Z",
     "iopub.status.idle": "2022-08-03T05:27:13.451341Z",
     "shell.execute_reply": "2022-08-03T05:27:13.450656Z"
    },
    "id": "iKPpEDKMcY1P",
    "outputId": "866aa495-a214-482d-cd29-d3c6dc7fda5b",
    "papermill": {
     "duration": 0.023215,
     "end_time": "2022-08-03T05:27:13.452602",
     "exception": false,
     "start_time": "2022-08-03T05:27:13.429387",
     "status": "completed"
    },
    "tags": []
   },
   "outputs": [
    {
     "data": {
      "text/plain": [
       "{'en': ['The comparators 1235 and 1237 may be expressed as a Relu activation function or a sigmoid function according to a setting.',\n",
       "  'The server 320 may input a source image to the analysis model DB 325 and receive object information output from the training model.',\n",
       "  'The block shape and the split shape may be differently determined for each picture or slice, or differently determined for each largest coding unit.'],\n",
       " 'ko': ['비교기(1235 및 1237)는 설정에 따라 Relu 활성함수로 나타낼 수 있으며, 시그모이드 함수로 나타낼 수도 있다.',\n",
       "  '서버(320)는 분석 모델 DB(325)에 소스 영상을 입력하고, 학습 모델에서 출력하는 객체 정보를 수신할 수 있다.',\n",
       "  '블록 형태 및 분할 형태는 픽처 또는 슬라이스마다 상이하게 결정되거나, 각각의 최대 부호화 단위마다 상이하게 결정될 수도 있다.']}"
      ]
     },
     "execution_count": 18,
     "metadata": {},
     "output_type": "execute_result"
    }
   ],
   "source": [
    "train_ds[:3]"
   ]
  },
  {
   "cell_type": "code",
   "execution_count": 19,
   "id": "800f9af3",
   "metadata": {
    "colab": {
     "base_uri": "https://localhost:8080/"
    },
    "execution": {
     "iopub.execute_input": "2022-08-03T05:27:13.485906Z",
     "iopub.status.busy": "2022-08-03T05:27:13.485623Z",
     "iopub.status.idle": "2022-08-03T05:27:13.493155Z",
     "shell.execute_reply": "2022-08-03T05:27:13.492527Z"
    },
    "id": "CSVtadpAVO79",
    "outputId": "0f04c26f-26fd-452f-d8de-4e5682b40447",
    "papermill": {
     "duration": 0.025878,
     "end_time": "2022-08-03T05:27:13.494443",
     "exception": false,
     "start_time": "2022-08-03T05:27:13.468565",
     "status": "completed"
    },
    "tags": []
   },
   "outputs": [
    {
     "name": "stdout",
     "output_type": "stream",
     "text": [
      "input id [37194, 5413, 288, 259, 37209, 267, 486, 39959, 19002, 259, 175510, 305, 259, 162249, 1432, 390, 17385, 345, 527, 259, 262, 788, 1696, 259, 97359, 2835, 631, 259, 262, 2002, 1233, 525, 2835, 259, 18775, 288, 259, 262, 36577, 260, 1]\n",
      "translate English to Korean: The comparators 1235 and 1237 may be expressed as a Relu activation function or a sigmoid function according to a setting.</s> \n",
      "\n",
      "attention mask [1, 1, 1, 1, 1, 1, 1, 1, 1, 1, 1, 1, 1, 1, 1, 1, 1, 1, 1, 1, 1, 1, 1, 1, 1, 1, 1, 1, 1, 1, 1, 1, 1, 1, 1, 1, 1, 1, 1, 1, 1] \n",
      "\n",
      "label [259, 53789, 1622, 312, 175510, 259, 5593, 644, 101294, 988, 30957, 118645, 259, 18490, 788, 1696, 63019, 3353, 12482, 2277, 1235, 49303, 125462, 1566, 3083, 19023, 261, 6463, 11051, 6763, 63362, 15331, 2277, 1235, 49303, 125462, 259, 44830, 3632, 260, 1]\n",
      "비교기(1235 및 1237)는 설정에 따라 Relu 활성함수로 나타낼 수 있으며, 시그모이드 함수로 나타낼 수도 있다.</s>\n"
     ]
    }
   ],
   "source": [
    "preprocess_test = preprocess_function(train_ds[:3])\n",
    "print('input id', preprocess_test.input_ids[0])\n",
    "print(tokenizer.decode(preprocess_test.input_ids[0]), '\\n')\n",
    "print('attention mask', preprocess_test.attention_mask[0], '\\n')\n",
    "print('label', preprocess_test.labels[0])\n",
    "print(tokenizer.decode(preprocess_test.labels[0]))"
   ]
  },
  {
   "cell_type": "code",
   "execution_count": 20,
   "id": "716b9e83",
   "metadata": {
    "colab": {
     "base_uri": "https://localhost:8080/",
     "height": 202,
     "referenced_widgets": [
      "0cbdc76b315249e388c35f3a38745fca",
      "dad1fe791b91476ba2def296f1fdc386",
      "77b0b7098d1c46099cf6944d3cf9d47d",
      "563a47a5120c40e69593dbaa7fef4654",
      "94e6d1011dbf412899705bac90e99263",
      "79411235978f44e5b33ba0f6d543a416",
      "04062cda15ae443eb3e63023e71bd62e",
      "9720634bf72c4f65a4cee7e539ad5b35",
      "7eaca1db54794bf6bcd7e49be5d2c8de",
      "c83f303ab01547b9974409b23f5b4d26",
      "a4e80909cef74620bfeb35367cb0c71b",
      "34090f8b758a46df9e12d9d81f2d8157",
      "5f5bfc1eb2004ea4bd21db52da9aa3e7",
      "08b2694644ae474abdd060877a987e46",
      "cbf5f6871efe4f7599f55d27e554fa63",
      "dfa719bdc3554829a339c45e12110026",
      "c9a66ac5b39a4f9192987a92faa6e9dc",
      "0f945d4ba88142248b0720a263756382",
      "cdef03b0078b48ccb1ae120620b50cde",
      "20818f32507a48438036a84c0a10c8b7",
      "a2e0b4050dce463fa7475e9fe87e1736",
      "ce8f34bbda3743eeb7108af0de942119"
     ]
    },
    "execution": {
     "iopub.execute_input": "2022-08-03T05:27:13.528243Z",
     "iopub.status.busy": "2022-08-03T05:27:13.527832Z",
     "iopub.status.idle": "2022-08-03T05:27:50.629211Z",
     "shell.execute_reply": "2022-08-03T05:27:50.628571Z"
    },
    "id": "uhQB-xQ1VO_N",
    "outputId": "c5243a9e-bd35-4f88-bb1c-b5566ab5c494",
    "papermill": {
     "duration": 37.120094,
     "end_time": "2022-08-03T05:27:50.630735",
     "exception": false,
     "start_time": "2022-08-03T05:27:13.510641",
     "status": "completed"
    },
    "tags": []
   },
   "outputs": [
    {
     "data": {
      "application/vnd.jupyter.widget-view+json": {
       "model_id": "d6a360db8d99467d9336f541248d9742",
       "version_major": 2,
       "version_minor": 0
      },
      "text/plain": [
       "  0%|          | 0/80 [00:00<?, ?ba/s]"
      ]
     },
     "metadata": {},
     "output_type": "display_data"
    },
    {
     "data": {
      "application/vnd.jupyter.widget-view+json": {
       "model_id": "b381a8983a3845f38890d056cbbadced",
       "version_major": 2,
       "version_minor": 0
      },
      "text/plain": [
       "  0%|          | 0/11 [00:00<?, ?ba/s]"
      ]
     },
     "metadata": {},
     "output_type": "display_data"
    },
    {
     "data": {
      "text/plain": [
       "(Dataset({\n",
       "     features: ['en', 'ko', 'input_ids', 'attention_mask', 'labels'],\n",
       "     num_rows: 79979\n",
       " }),\n",
       " Dataset({\n",
       "     features: ['en', 'ko', 'input_ids', 'attention_mask', 'labels'],\n",
       "     num_rows: 10131\n",
       " }))"
      ]
     },
     "execution_count": 20,
     "metadata": {},
     "output_type": "execute_result"
    }
   ],
   "source": [
    "tokenized_train = train_ds.map(preprocess_function, batched=True)\n",
    "tokenized_val = val_ds.map(preprocess_function, batched=True)\n",
    "tokenized_train, tokenized_val"
   ]
  },
  {
   "cell_type": "markdown",
   "id": "c3615c6b",
   "metadata": {
    "id": "MnuWgfC8igUb",
    "papermill": {
     "duration": 0.017009,
     "end_time": "2022-08-03T05:27:50.664752",
     "exception": false,
     "start_time": "2022-08-03T05:27:50.647743",
     "status": "completed"
    },
    "tags": []
   },
   "source": [
    "### Load metric"
   ]
  },
  {
   "cell_type": "code",
   "execution_count": 21,
   "id": "79e6238d",
   "metadata": {
    "colab": {
     "base_uri": "https://localhost:8080/",
     "height": 49,
     "referenced_widgets": [
      "540679896a6f4d6bb7ccb01542bc7d9d",
      "2332555b54e34837ada18e78a8ed4364",
      "0d88c7a9c50343a2a56c6daa9434dde2",
      "cb51dabdac6940d5840b4e5858422e9e",
      "4bce874e9a5f4e43a26dcda4c8fcf82c",
      "70b6dae90afd4a25b754616560fb2120",
      "c1e03c85547345309b67af8969c02a97",
      "f5ff28610f08465287bae0045eda3469",
      "5d239087b08643a8bc0354dfc19b7855",
      "c65115048b794725aeda27e8949b6e40",
      "63b254a6b9224f788682d17eb336cdc7"
     ]
    },
    "execution": {
     "iopub.execute_input": "2022-08-03T05:27:50.700127Z",
     "iopub.status.busy": "2022-08-03T05:27:50.699741Z",
     "iopub.status.idle": "2022-08-03T05:27:50.769046Z",
     "shell.execute_reply": "2022-08-03T05:27:50.768342Z"
    },
    "id": "_QjQuaf9O4YJ",
    "outputId": "b9e60333-8eee-460b-c298-84c067a1c842",
    "papermill": {
     "duration": 0.089129,
     "end_time": "2022-08-03T05:27:50.770715",
     "exception": false,
     "start_time": "2022-08-03T05:27:50.681586",
     "status": "completed"
    },
    "tags": []
   },
   "outputs": [],
   "source": [
    "metric = load_metric(\"sacrebleu\")"
   ]
  },
  {
   "cell_type": "code",
   "execution_count": 22,
   "id": "6638d15f",
   "metadata": {
    "execution": {
     "iopub.execute_input": "2022-08-03T05:27:50.806027Z",
     "iopub.status.busy": "2022-08-03T05:27:50.805737Z",
     "iopub.status.idle": "2022-08-03T05:27:50.812809Z",
     "shell.execute_reply": "2022-08-03T05:27:50.812089Z"
    },
    "id": "XKXf0rA-gGPE",
    "papermill": {
     "duration": 0.026607,
     "end_time": "2022-08-03T05:27:50.814363",
     "exception": false,
     "start_time": "2022-08-03T05:27:50.787756",
     "status": "completed"
    },
    "tags": []
   },
   "outputs": [],
   "source": [
    "import numpy as np\n",
    "\n",
    "def postprocess_text(preds, labels):\n",
    "    preds = [pred.strip() for pred in preds]\n",
    "    labels = [[label.strip()] for label in labels]\n",
    "\n",
    "    return preds, labels\n",
    "\n",
    "def compute_metrics(eval_preds):\n",
    "    preds, labels = eval_preds\n",
    "    if isinstance(preds, tuple):\n",
    "        preds = preds[0]\n",
    "    decoded_preds = tokenizer.batch_decode(preds, skip_special_tokens=True)\n",
    "\n",
    "    # Replace -100 in the labels as we can't decode them.\n",
    "    labels = np.where(labels != -100, labels, tokenizer.pad_token_id)\n",
    "    decoded_labels = tokenizer.batch_decode(labels, skip_special_tokens=True)\n",
    "\n",
    "    # Some simple post-processing\n",
    "    decoded_preds, decoded_labels = postprocess_text(decoded_preds, decoded_labels)\n",
    "\n",
    "    result = metric.compute(predictions=decoded_preds, references=decoded_labels)\n",
    "    result = {\"bleu\": result[\"score\"]}\n",
    "\n",
    "    prediction_lens = [np.count_nonzero(pred != tokenizer.pad_token_id) for pred in preds]\n",
    "    result[\"gen_len\"] = np.mean(prediction_lens)\n",
    "    result = {k: round(v, 4) for k, v in result.items()}\n",
    "    return result"
   ]
  },
  {
   "cell_type": "markdown",
   "id": "6c70ea1a",
   "metadata": {
    "id": "v7YFYMPailL-",
    "papermill": {
     "duration": 0.017376,
     "end_time": "2022-08-03T05:27:50.848683",
     "exception": false,
     "start_time": "2022-08-03T05:27:50.831307",
     "status": "completed"
    },
    "tags": []
   },
   "source": [
    "### Check and Load model"
   ]
  },
  {
   "cell_type": "code",
   "execution_count": 23,
   "id": "4f39b88d",
   "metadata": {
    "execution": {
     "iopub.execute_input": "2022-08-03T05:27:50.884238Z",
     "iopub.status.busy": "2022-08-03T05:27:50.883639Z",
     "iopub.status.idle": "2022-08-03T05:27:50.909482Z",
     "shell.execute_reply": "2022-08-03T05:27:50.908759Z"
    },
    "id": "pyw5xcgqQUaW",
    "papermill": {
     "duration": 0.045493,
     "end_time": "2022-08-03T05:27:50.911106",
     "exception": false,
     "start_time": "2022-08-03T05:27:50.865613",
     "status": "completed"
    },
    "tags": []
   },
   "outputs": [],
   "source": [
    "config = AutoConfig.from_pretrained(model_ckpt)"
   ]
  },
  {
   "cell_type": "code",
   "execution_count": 24,
   "id": "91c4d547",
   "metadata": {
    "execution": {
     "iopub.execute_input": "2022-08-03T05:27:50.947000Z",
     "iopub.status.busy": "2022-08-03T05:27:50.946397Z",
     "iopub.status.idle": "2022-08-03T05:27:54.155865Z",
     "shell.execute_reply": "2022-08-03T05:27:54.155162Z"
    },
    "id": "q_9rSeWrRKfp",
    "papermill": {
     "duration": 3.229692,
     "end_time": "2022-08-03T05:27:54.157953",
     "exception": false,
     "start_time": "2022-08-03T05:27:50.928261",
     "status": "completed"
    },
    "tags": []
   },
   "outputs": [],
   "source": [
    "model = AutoModelForSeq2SeqLM.from_config(config)"
   ]
  },
  {
   "cell_type": "code",
   "execution_count": 25,
   "id": "f34b4c31",
   "metadata": {
    "execution": {
     "iopub.execute_input": "2022-08-03T05:27:54.192350Z",
     "iopub.status.busy": "2022-08-03T05:27:54.191754Z",
     "iopub.status.idle": "2022-08-03T05:27:54.197995Z",
     "shell.execute_reply": "2022-08-03T05:27:54.197245Z"
    },
    "id": "Tzq1F-lNRpLN",
    "papermill": {
     "duration": 0.025041,
     "end_time": "2022-08-03T05:27:54.199399",
     "exception": false,
     "start_time": "2022-08-03T05:27:54.174358",
     "status": "completed"
    },
    "tags": []
   },
   "outputs": [],
   "source": [
    "model_name = model_ckpt.split(\"/\")[-1]\n",
    "args = Seq2SeqTrainingArguments(\n",
    "    f\"{model_name}-finetuned-{source_lang}-to-{target_lang}\",\n",
    "    report_to='wandb',\n",
    "    run_name=run_name,\n",
    "\n",
    "    num_train_epochs=num_train_epochs,\n",
    "    per_device_train_batch_size=batch_size,\n",
    "    per_device_eval_batch_size=batch_size,\n",
    "    gradient_accumulation_steps=gradient_accumulation_steps,\n",
    "\n",
    "    learning_rate=learning_rate,\n",
    "    weight_decay=weight_decay,\n",
    "\n",
    "    lr_scheduler_type=lr_scheduler_type,\n",
    "    warmup_ratio=warmup_ratio,\n",
    "\n",
    "    # predict_with_generate=predict_with_generate,\n",
    "    # generation_max_length=generation_max_length,\n",
    "\n",
    "    save_total_limit=save_total_limit,\n",
    "\n",
    "    load_best_model_at_end=load_best_model_at_end,\n",
    "    metric_for_best_model=metric_for_best_model,\n",
    "    \n",
    "    save_strategy=save_strategy,\n",
    "    evaluation_strategy=evaluation_strategy,\n",
    "    # save_steps=save_steps,\n",
    "    # eval_steps=eval_steps,\n",
    "\n",
    "    logging_strategy=logging_strategy,\n",
    "    logging_first_step=logging_first_step, \n",
    "    logging_steps=logging_steps,\n",
    "    \n",
    "    fp16=fp16,\n",
    ")\n",
    "data_collator = DataCollatorForSeq2Seq(tokenizer, model=model)\n",
    "\n",
    "# es = EarlyStoppingCallback(early_stopping_patience=early_stopping_patience)"
   ]
  },
  {
   "cell_type": "code",
   "execution_count": 26,
   "id": "0e7d471f",
   "metadata": {
    "execution": {
     "iopub.execute_input": "2022-08-03T05:27:54.233857Z",
     "iopub.status.busy": "2022-08-03T05:27:54.233596Z",
     "iopub.status.idle": "2022-08-03T05:27:55.239139Z",
     "shell.execute_reply": "2022-08-03T05:27:55.238463Z"
    },
    "id": "CFZFoERSgMoX",
    "papermill": {
     "duration": 1.0248,
     "end_time": "2022-08-03T05:27:55.240905",
     "exception": false,
     "start_time": "2022-08-03T05:27:54.216105",
     "status": "completed"
    },
    "tags": []
   },
   "outputs": [],
   "source": [
    "trainer = Seq2SeqTrainer(\n",
    "    model,\n",
    "    args,\n",
    "    train_dataset=tokenized_train,\n",
    "    eval_dataset=tokenized_val,\n",
    "    data_collator=data_collator,\n",
    "    tokenizer=tokenizer,\n",
    "    # callbacks=[es],\n",
    ")"
   ]
  },
  {
   "cell_type": "code",
   "execution_count": 27,
   "id": "65709cd8",
   "metadata": {
    "colab": {
     "base_uri": "https://localhost:8080/",
     "height": 736
    },
    "execution": {
     "iopub.execute_input": "2022-08-03T05:27:55.286514Z",
     "iopub.status.busy": "2022-08-03T05:27:55.285715Z"
    },
    "id": "RlgQ_NgChMRy",
    "outputId": "e5bfb9df-4ffd-49e5-81ab-bc719d28e014",
    "papermill": {
     "duration": null,
     "end_time": null,
     "exception": false,
     "start_time": "2022-08-03T05:27:55.262697",
     "status": "running"
    },
    "tags": []
   },
   "outputs": [
    {
     "name": "stderr",
     "output_type": "stream",
     "text": [
      "The following columns in the training set don't have a corresponding argument in `MT5ForConditionalGeneration.forward` and have been ignored: en, ko. If en, ko are not expected by `MT5ForConditionalGeneration.forward`,  you can safely ignore this message.\n"
     ]
    },
    {
     "name": "stderr",
     "output_type": "stream",
     "text": [
      "/home/ubuntu/anaconda3/envs/transformers/lib/python3.9/site-packages/transformers/optimization.py:306: FutureWarning: This implementation of AdamW is deprecated and will be removed in a future version. Use the PyTorch implementation torch.optim.AdamW instead, or set `no_deprecation_warning=True` to disable this warning\n",
      "  warnings.warn(\n",
      "***** Running training *****\n"
     ]
    },
    {
     "name": "stderr",
     "output_type": "stream",
     "text": [
      "  Num examples = 79979\n"
     ]
    },
    {
     "name": "stderr",
     "output_type": "stream",
     "text": [
      "  Num Epochs = 100\n"
     ]
    },
    {
     "name": "stderr",
     "output_type": "stream",
     "text": [
      "  Instantaneous batch size per device = 16\n"
     ]
    },
    {
     "name": "stderr",
     "output_type": "stream",
     "text": [
      "  Total train batch size (w. parallel, distributed & accumulation) = 16\n"
     ]
    },
    {
     "name": "stderr",
     "output_type": "stream",
     "text": [
      "  Gradient Accumulation steps = 1\n"
     ]
    },
    {
     "name": "stderr",
     "output_type": "stream",
     "text": [
      "  Total optimization steps = 499900\n"
     ]
    },
    {
     "name": "stderr",
     "output_type": "stream",
     "text": [
      "Automatic Weights & Biases logging enabled, to disable set os.environ[\"WANDB_DISABLED\"] = \"true\"\n"
     ]
    },
    {
     "data": {
      "text/html": [
       "Tracking run with wandb version 0.12.21"
      ],
      "text/plain": [
       "<IPython.core.display.HTML object>"
      ]
     },
     "metadata": {},
     "output_type": "display_data"
    },
    {
     "data": {
      "text/html": [
       "Run data is saved locally in <code>/home/ubuntu/codes/NMT-with-transformers/wandb/run-20220803_052755-n2omz7iv</code>"
      ],
      "text/plain": [
       "<IPython.core.display.HTML object>"
      ]
     },
     "metadata": {},
     "output_type": "display_data"
    },
    {
     "data": {
      "text/html": [
       "Syncing run <strong><a href=\"https://wandb.ai/dotsnangles/en2ko-translator-mt5-small/runs/n2omz7iv\" target=\"_blank\">en2ko run on aws ec2 with NVIDIA A10G</a></strong> to <a href=\"https://wandb.ai/dotsnangles/en2ko-translator-mt5-small\" target=\"_blank\">Weights & Biases</a> (<a href=\"https://wandb.me/run\" target=\"_blank\">docs</a>)<br/>"
      ],
      "text/plain": [
       "<IPython.core.display.HTML object>"
      ]
     },
     "metadata": {},
     "output_type": "display_data"
    },
    {
     "data": {
      "text/html": [
       "\n",
       "    <div>\n",
       "      \n",
       "      <progress value='1339' max='499900' style='width:300px; height:20px; vertical-align: middle;'></progress>\n",
       "      [  1339/499900 04:25 < 27:30:02, 5.04 it/s, Epoch 0.27/100]\n",
       "    </div>\n",
       "    <table border=\"1\" class=\"dataframe\">\n",
       "  <thead>\n",
       " <tr style=\"text-align: left;\">\n",
       "      <th>Epoch</th>\n",
       "      <th>Training Loss</th>\n",
       "      <th>Validation Loss</th>\n",
       "    </tr>\n",
       "  </thead>\n",
       "  <tbody>\n",
       "  </tbody>\n",
       "</table><p>"
      ],
      "text/plain": [
       "<IPython.core.display.HTML object>"
      ]
     },
     "metadata": {},
     "output_type": "display_data"
    }
   ],
   "source": [
    "trainer.train()\n",
    "wandb.finish()"
   ]
  },
  {
   "cell_type": "code",
   "execution_count": null,
   "id": "cff3d761",
   "metadata": {
    "colab": {
     "base_uri": "https://localhost:8080/"
    },
    "id": "ZWQFS1LtIoDx",
    "outputId": "76e912fd-3f68-4611-a8d5-988154bc0130",
    "papermill": {
     "duration": null,
     "end_time": null,
     "exception": null,
     "start_time": null,
     "status": "pending"
    },
    "tags": []
   },
   "outputs": [],
   "source": [
    "trainer.save_model('./save_model')"
   ]
  },
  {
   "cell_type": "code",
   "execution_count": null,
   "id": "74c7a5fe",
   "metadata": {
    "colab": {
     "base_uri": "https://localhost:8080/"
    },
    "id": "nt23W3jxhf92",
    "outputId": "ed858636-f8f8-44b9-9e35-d7b3d7c0f3ac",
    "papermill": {
     "duration": null,
     "end_time": null,
     "exception": null,
     "start_time": null,
     "status": "pending"
    },
    "tags": []
   },
   "outputs": [],
   "source": [
    "tokenizer = AutoTokenizer.from_pretrained('./save_model')"
   ]
  },
  {
   "cell_type": "code",
   "execution_count": null,
   "id": "682449e1",
   "metadata": {
    "colab": {
     "base_uri": "https://localhost:8080/"
    },
    "id": "MCv92WSqhi9N",
    "outputId": "4c7583ce-775f-4708-8d1a-42522a18cfee",
    "papermill": {
     "duration": null,
     "end_time": null,
     "exception": null,
     "start_time": null,
     "status": "pending"
    },
    "tags": []
   },
   "outputs": [],
   "source": [
    "model = AutoModelForSeq2SeqLM.from_pretrained('./save_model')"
   ]
  },
  {
   "cell_type": "code",
   "execution_count": null,
   "id": "7f5d9225",
   "metadata": {
    "colab": {
     "base_uri": "https://localhost:8080/"
    },
    "id": "h-MU2rwQTDOF",
    "outputId": "ce940f2c-0648-43f2-95f5-bfcfaf13eb30",
    "papermill": {
     "duration": null,
     "end_time": null,
     "exception": null,
     "start_time": null,
     "status": "pending"
    },
    "tags": []
   },
   "outputs": [],
   "source": [
    "args = Seq2SeqTrainingArguments(\n",
    "    'eval',\n",
    "    per_device_eval_batch_size=16,\n",
    "    predict_with_generate=True,\n",
    "    generation_max_length=256,\n",
    ")\n",
    "data_collator = DataCollatorForSeq2Seq(tokenizer, model=model)"
   ]
  },
  {
   "cell_type": "code",
   "execution_count": null,
   "id": "55657c2f",
   "metadata": {
    "id": "Iq7ljAlnhU_r",
    "papermill": {
     "duration": null,
     "end_time": null,
     "exception": null,
     "start_time": null,
     "status": "pending"
    },
    "tags": []
   },
   "outputs": [],
   "source": [
    "trainer = Seq2SeqTrainer(\n",
    "    model,\n",
    "    args,\n",
    "    # train_dataset=tokenized_train,\n",
    "    eval_dataset=tokenized_val,\n",
    "    data_collator=data_collator,\n",
    "    tokenizer=tokenizer,\n",
    "    compute_metrics=compute_metrics,\n",
    ")"
   ]
  },
  {
   "cell_type": "code",
   "execution_count": null,
   "id": "21a107f2",
   "metadata": {
    "colab": {
     "base_uri": "https://localhost:8080/",
     "height": 437
    },
    "id": "URLgEbWshXAW",
    "outputId": "02811c0b-f8ce-468b-96d4-9fb60714643f",
    "papermill": {
     "duration": null,
     "end_time": null,
     "exception": null,
     "start_time": null,
     "status": "pending"
    },
    "tags": []
   },
   "outputs": [],
   "source": [
    "trainer.evaluate()"
   ]
  },
  {
   "cell_type": "code",
   "execution_count": null,
   "id": "89b8b7d6",
   "metadata": {
    "id": "rHwfFS4diwaO",
    "papermill": {
     "duration": null,
     "end_time": null,
     "exception": null,
     "start_time": null,
     "status": "pending"
    },
    "tags": []
   },
   "outputs": [],
   "source": []
  }
 ],
 "metadata": {
  "accelerator": "GPU",
  "colab": {
   "authorship_tag": "ABX9TyMu2NcRsBTJdUDtPCavk47j",
   "collapsed_sections": [],
   "include_colab_link": true,
   "machine_shape": "hm",
   "name": "training.ipynb",
   "provenance": []
  },
  "gpuClass": "standard",
  "kernelspec": {
   "display_name": "Python 3.9.13 ('transformers')",
   "language": "python",
   "name": "python3"
  },
  "language_info": {
   "codemirror_mode": {
    "name": "ipython",
    "version": 3
   },
   "file_extension": ".py",
   "mimetype": "text/x-python",
   "name": "python",
   "nbconvert_exporter": "python",
   "pygments_lexer": "ipython3",
   "version": "3.9.13"
  },
  "papermill": {
   "default_parameters": {},
   "duration": null,
   "end_time": null,
   "environment_variables": {},
   "exception": null,
   "input_path": "training_mT5_small.ipynb",
   "output_path": "./papermill/run_001_training_mT5_small.ipynb",
   "parameters": {},
   "start_time": "2022-08-03T05:26:31.353643",
   "version": "2.3.4"
  },
  "vscode": {
   "interpreter": {
    "hash": "767374a86bae7d8032e50d9a81fa65c6124ef470b8039294cd4e5f7d98318fac"
   }
  },
  "widgets": {
   "application/vnd.jupyter.widget-state+json": {
    "014484e26a82463ea8f8c19a7a88d24e": {
     "model_module": "@jupyter-widgets/base",
     "model_module_version": "1.2.0",
     "model_name": "LayoutModel",
     "state": {
      "_model_module": "@jupyter-widgets/base",
      "_model_module_version": "1.2.0",
      "_model_name": "LayoutModel",
      "_view_count": null,
      "_view_module": "@jupyter-widgets/base",
      "_view_module_version": "1.2.0",
      "_view_name": "LayoutView",
      "align_content": null,
      "align_items": null,
      "align_self": null,
      "border": null,
      "bottom": null,
      "display": null,
      "flex": null,
      "flex_flow": null,
      "grid_area": null,
      "grid_auto_columns": null,
      "grid_auto_flow": null,
      "grid_auto_rows": null,
      "grid_column": null,
      "grid_gap": null,
      "grid_row": null,
      "grid_template_areas": null,
      "grid_template_columns": null,
      "grid_template_rows": null,
      "height": null,
      "justify_content": null,
      "justify_items": null,
      "left": null,
      "margin": null,
      "max_height": null,
      "max_width": null,
      "min_height": null,
      "min_width": null,
      "object_fit": null,
      "object_position": null,
      "order": null,
      "overflow": null,
      "overflow_x": null,
      "overflow_y": null,
      "padding": null,
      "right": null,
      "top": null,
      "visibility": null,
      "width": null
     }
    },
    "04062cda15ae443eb3e63023e71bd62e": {
     "model_module": "@jupyter-widgets/controls",
     "model_module_version": "1.5.0",
     "model_name": "DescriptionStyleModel",
     "state": {
      "_model_module": "@jupyter-widgets/controls",
      "_model_module_version": "1.5.0",
      "_model_name": "DescriptionStyleModel",
      "_view_count": null,
      "_view_module": "@jupyter-widgets/base",
      "_view_module_version": "1.2.0",
      "_view_name": "StyleView",
      "description_width": ""
     }
    },
    "076e4acb87e440f094b0f3b5bb10f0be": {
     "model_module": "@jupyter-widgets/controls",
     "model_module_version": "1.5.0",
     "model_name": "FloatProgressModel",
     "state": {
      "_dom_classes": [],
      "_model_module": "@jupyter-widgets/controls",
      "_model_module_version": "1.5.0",
      "_model_name": "FloatProgressModel",
      "_view_count": null,
      "_view_module": "@jupyter-widgets/controls",
      "_view_module_version": "1.5.0",
      "_view_name": "ProgressView",
      "bar_style": "success",
      "description": "",
      "description_tooltip": null,
      "layout": "IPY_MODEL_88a5274a150b4b1a840b15b090e1d02e",
      "max": 82,
      "min": 0,
      "orientation": "horizontal",
      "style": "IPY_MODEL_7e1df09832434349850a718915e69a30",
      "value": 82
     }
    },
    "08b2694644ae474abdd060877a987e46": {
     "model_module": "@jupyter-widgets/controls",
     "model_module_version": "1.5.0",
     "model_name": "FloatProgressModel",
     "state": {
      "_dom_classes": [],
      "_model_module": "@jupyter-widgets/controls",
      "_model_module_version": "1.5.0",
      "_model_name": "FloatProgressModel",
      "_view_count": null,
      "_view_module": "@jupyter-widgets/controls",
      "_view_module_version": "1.5.0",
      "_view_name": "ProgressView",
      "bar_style": "success",
      "description": "",
      "description_tooltip": null,
      "layout": "IPY_MODEL_cdef03b0078b48ccb1ae120620b50cde",
      "max": 11,
      "min": 0,
      "orientation": "horizontal",
      "style": "IPY_MODEL_20818f32507a48438036a84c0a10c8b7",
      "value": 11
     }
    },
    "0cbdc76b315249e388c35f3a38745fca": {
     "model_module": "@jupyter-widgets/controls",
     "model_module_version": "1.5.0",
     "model_name": "HBoxModel",
     "state": {
      "_dom_classes": [],
      "_model_module": "@jupyter-widgets/controls",
      "_model_module_version": "1.5.0",
      "_model_name": "HBoxModel",
      "_view_count": null,
      "_view_module": "@jupyter-widgets/controls",
      "_view_module_version": "1.5.0",
      "_view_name": "HBoxView",
      "box_style": "",
      "children": [
       "IPY_MODEL_dad1fe791b91476ba2def296f1fdc386",
       "IPY_MODEL_77b0b7098d1c46099cf6944d3cf9d47d",
       "IPY_MODEL_563a47a5120c40e69593dbaa7fef4654"
      ],
      "layout": "IPY_MODEL_94e6d1011dbf412899705bac90e99263"
     }
    },
    "0d88c7a9c50343a2a56c6daa9434dde2": {
     "model_module": "@jupyter-widgets/controls",
     "model_module_version": "1.5.0",
     "model_name": "FloatProgressModel",
     "state": {
      "_dom_classes": [],
      "_model_module": "@jupyter-widgets/controls",
      "_model_module_version": "1.5.0",
      "_model_name": "FloatProgressModel",
      "_view_count": null,
      "_view_module": "@jupyter-widgets/controls",
      "_view_module_version": "1.5.0",
      "_view_name": "ProgressView",
      "bar_style": "success",
      "description": "",
      "description_tooltip": null,
      "layout": "IPY_MODEL_f5ff28610f08465287bae0045eda3469",
      "max": 2848,
      "min": 0,
      "orientation": "horizontal",
      "style": "IPY_MODEL_5d239087b08643a8bc0354dfc19b7855",
      "value": 2848
     }
    },
    "0f945d4ba88142248b0720a263756382": {
     "model_module": "@jupyter-widgets/controls",
     "model_module_version": "1.5.0",
     "model_name": "DescriptionStyleModel",
     "state": {
      "_model_module": "@jupyter-widgets/controls",
      "_model_module_version": "1.5.0",
      "_model_name": "DescriptionStyleModel",
      "_view_count": null,
      "_view_module": "@jupyter-widgets/base",
      "_view_module_version": "1.2.0",
      "_view_name": "StyleView",
      "description_width": ""
     }
    },
    "0fe5c1b6548e4a60ac33279733c6a2a9": {
     "model_module": "@jupyter-widgets/controls",
     "model_module_version": "1.5.0",
     "model_name": "FloatProgressModel",
     "state": {
      "_dom_classes": [],
      "_model_module": "@jupyter-widgets/controls",
      "_model_module_version": "1.5.0",
      "_model_name": "FloatProgressModel",
      "_view_count": null,
      "_view_module": "@jupyter-widgets/controls",
      "_view_module_version": "1.5.0",
      "_view_name": "ProgressView",
      "bar_style": "success",
      "description": "",
      "description_tooltip": null,
      "layout": "IPY_MODEL_3b9a5d4a72774022bc691f876648ecce",
      "max": 4309802,
      "min": 0,
      "orientation": "horizontal",
      "style": "IPY_MODEL_23beb26805314718a8fe571aee90e4ea",
      "value": 4309802
     }
    },
    "13f14056dfe2454ba30c1448ba303110": {
     "model_module": "@jupyter-widgets/controls",
     "model_module_version": "1.5.0",
     "model_name": "HTMLModel",
     "state": {
      "_dom_classes": [],
      "_model_module": "@jupyter-widgets/controls",
      "_model_module_version": "1.5.0",
      "_model_name": "HTMLModel",
      "_view_count": null,
      "_view_module": "@jupyter-widgets/controls",
      "_view_module_version": "1.5.0",
      "_view_name": "HTMLView",
      "description": "",
      "description_tooltip": null,
      "layout": "IPY_MODEL_f31ca04ae2d940699b6747d81a2d785d",
      "placeholder": "​",
      "style": "IPY_MODEL_9622a784f9db4f2da1543dcf02ddc882",
      "value": " 4.11M/4.11M [00:01&lt;00:00, 4.37MB/s]"
     }
    },
    "1a34e3b2b9ca427f8f9e6c0bb8d8cce5": {
     "model_module": "@jupyter-widgets/controls",
     "model_module_version": "1.5.0",
     "model_name": "FloatProgressModel",
     "state": {
      "_dom_classes": [],
      "_model_module": "@jupyter-widgets/controls",
      "_model_module_version": "1.5.0",
      "_model_name": "FloatProgressModel",
      "_view_count": null,
      "_view_module": "@jupyter-widgets/controls",
      "_view_module_version": "1.5.0",
      "_view_name": "ProgressView",
      "bar_style": "success",
      "description": "",
      "description_tooltip": null,
      "layout": "IPY_MODEL_73ceac26fe3545558d29a3e67ef1cfb4",
      "max": 553,
      "min": 0,
      "orientation": "horizontal",
      "style": "IPY_MODEL_38e8870320d84d4280828e97fe0b35cf",
      "value": 553
     }
    },
    "1d0d2697dea14e4297c3ae2851f0d921": {
     "model_module": "@jupyter-widgets/base",
     "model_module_version": "1.2.0",
     "model_name": "LayoutModel",
     "state": {
      "_model_module": "@jupyter-widgets/base",
      "_model_module_version": "1.2.0",
      "_model_name": "LayoutModel",
      "_view_count": null,
      "_view_module": "@jupyter-widgets/base",
      "_view_module_version": "1.2.0",
      "_view_name": "LayoutView",
      "align_content": null,
      "align_items": null,
      "align_self": null,
      "border": null,
      "bottom": null,
      "display": null,
      "flex": null,
      "flex_flow": null,
      "grid_area": null,
      "grid_auto_columns": null,
      "grid_auto_flow": null,
      "grid_auto_rows": null,
      "grid_column": null,
      "grid_gap": null,
      "grid_row": null,
      "grid_template_areas": null,
      "grid_template_columns": null,
      "grid_template_rows": null,
      "height": null,
      "justify_content": null,
      "justify_items": null,
      "left": null,
      "margin": null,
      "max_height": null,
      "max_width": null,
      "min_height": null,
      "min_width": null,
      "object_fit": null,
      "object_position": null,
      "order": null,
      "overflow": null,
      "overflow_x": null,
      "overflow_y": null,
      "padding": null,
      "right": null,
      "top": null,
      "visibility": null,
      "width": null
     }
    },
    "20818f32507a48438036a84c0a10c8b7": {
     "model_module": "@jupyter-widgets/controls",
     "model_module_version": "1.5.0",
     "model_name": "ProgressStyleModel",
     "state": {
      "_model_module": "@jupyter-widgets/controls",
      "_model_module_version": "1.5.0",
      "_model_name": "ProgressStyleModel",
      "_view_count": null,
      "_view_module": "@jupyter-widgets/base",
      "_view_module_version": "1.2.0",
      "_view_name": "StyleView",
      "bar_color": null,
      "description_width": ""
     }
    },
    "23227cc6264146a7a4c50a798076cb16": {
     "model_module": "@jupyter-widgets/base",
     "model_module_version": "1.2.0",
     "model_name": "LayoutModel",
     "state": {
      "_model_module": "@jupyter-widgets/base",
      "_model_module_version": "1.2.0",
      "_model_name": "LayoutModel",
      "_view_count": null,
      "_view_module": "@jupyter-widgets/base",
      "_view_module_version": "1.2.0",
      "_view_name": "LayoutView",
      "align_content": null,
      "align_items": null,
      "align_self": null,
      "border": null,
      "bottom": null,
      "display": null,
      "flex": null,
      "flex_flow": null,
      "grid_area": null,
      "grid_auto_columns": null,
      "grid_auto_flow": null,
      "grid_auto_rows": null,
      "grid_column": null,
      "grid_gap": null,
      "grid_row": null,
      "grid_template_areas": null,
      "grid_template_columns": null,
      "grid_template_rows": null,
      "height": null,
      "justify_content": null,
      "justify_items": null,
      "left": null,
      "margin": null,
      "max_height": null,
      "max_width": null,
      "min_height": null,
      "min_width": null,
      "object_fit": null,
      "object_position": null,
      "order": null,
      "overflow": null,
      "overflow_x": null,
      "overflow_y": null,
      "padding": null,
      "right": null,
      "top": null,
      "visibility": null,
      "width": null
     }
    },
    "2332555b54e34837ada18e78a8ed4364": {
     "model_module": "@jupyter-widgets/controls",
     "model_module_version": "1.5.0",
     "model_name": "HTMLModel",
     "state": {
      "_dom_classes": [],
      "_model_module": "@jupyter-widgets/controls",
      "_model_module_version": "1.5.0",
      "_model_name": "HTMLModel",
      "_view_count": null,
      "_view_module": "@jupyter-widgets/controls",
      "_view_module_version": "1.5.0",
      "_view_name": "HTMLView",
      "description": "",
      "description_tooltip": null,
      "layout": "IPY_MODEL_70b6dae90afd4a25b754616560fb2120",
      "placeholder": "​",
      "style": "IPY_MODEL_c1e03c85547345309b67af8969c02a97",
      "value": "Downloading builder script: "
     }
    },
    "23beb26805314718a8fe571aee90e4ea": {
     "model_module": "@jupyter-widgets/controls",
     "model_module_version": "1.5.0",
     "model_name": "ProgressStyleModel",
     "state": {
      "_model_module": "@jupyter-widgets/controls",
      "_model_module_version": "1.5.0",
      "_model_name": "ProgressStyleModel",
      "_view_count": null,
      "_view_module": "@jupyter-widgets/base",
      "_view_module_version": "1.2.0",
      "_view_name": "StyleView",
      "bar_color": null,
      "description_width": ""
     }
    },
    "24b0deb71033449bbdc985914eed40ed": {
     "model_module": "@jupyter-widgets/controls",
     "model_module_version": "1.5.0",
     "model_name": "HBoxModel",
     "state": {
      "_dom_classes": [],
      "_model_module": "@jupyter-widgets/controls",
      "_model_module_version": "1.5.0",
      "_model_name": "HBoxModel",
      "_view_count": null,
      "_view_module": "@jupyter-widgets/controls",
      "_view_module_version": "1.5.0",
      "_view_name": "HBoxView",
      "box_style": "",
      "children": [
       "IPY_MODEL_5bb46349c6d742ada82f4959ae82f940",
       "IPY_MODEL_076e4acb87e440f094b0f3b5bb10f0be",
       "IPY_MODEL_ab38df2ca4d1485f8bb9e4e0de4bef4d"
      ],
      "layout": "IPY_MODEL_a83062fcdc714294a41c461d6cbda585"
     }
    },
    "34090f8b758a46df9e12d9d81f2d8157": {
     "model_module": "@jupyter-widgets/controls",
     "model_module_version": "1.5.0",
     "model_name": "HBoxModel",
     "state": {
      "_dom_classes": [],
      "_model_module": "@jupyter-widgets/controls",
      "_model_module_version": "1.5.0",
      "_model_name": "HBoxModel",
      "_view_count": null,
      "_view_module": "@jupyter-widgets/controls",
      "_view_module_version": "1.5.0",
      "_view_name": "HBoxView",
      "box_style": "",
      "children": [
       "IPY_MODEL_5f5bfc1eb2004ea4bd21db52da9aa3e7",
       "IPY_MODEL_08b2694644ae474abdd060877a987e46",
       "IPY_MODEL_cbf5f6871efe4f7599f55d27e554fa63"
      ],
      "layout": "IPY_MODEL_dfa719bdc3554829a339c45e12110026"
     }
    },
    "38e8870320d84d4280828e97fe0b35cf": {
     "model_module": "@jupyter-widgets/controls",
     "model_module_version": "1.5.0",
     "model_name": "ProgressStyleModel",
     "state": {
      "_model_module": "@jupyter-widgets/controls",
      "_model_module_version": "1.5.0",
      "_model_name": "ProgressStyleModel",
      "_view_count": null,
      "_view_module": "@jupyter-widgets/base",
      "_view_module_version": "1.2.0",
      "_view_name": "StyleView",
      "bar_color": null,
      "description_width": ""
     }
    },
    "3b9a5d4a72774022bc691f876648ecce": {
     "model_module": "@jupyter-widgets/base",
     "model_module_version": "1.2.0",
     "model_name": "LayoutModel",
     "state": {
      "_model_module": "@jupyter-widgets/base",
      "_model_module_version": "1.2.0",
      "_model_name": "LayoutModel",
      "_view_count": null,
      "_view_module": "@jupyter-widgets/base",
      "_view_module_version": "1.2.0",
      "_view_name": "LayoutView",
      "align_content": null,
      "align_items": null,
      "align_self": null,
      "border": null,
      "bottom": null,
      "display": null,
      "flex": null,
      "flex_flow": null,
      "grid_area": null,
      "grid_auto_columns": null,
      "grid_auto_flow": null,
      "grid_auto_rows": null,
      "grid_column": null,
      "grid_gap": null,
      "grid_row": null,
      "grid_template_areas": null,
      "grid_template_columns": null,
      "grid_template_rows": null,
      "height": null,
      "justify_content": null,
      "justify_items": null,
      "left": null,
      "margin": null,
      "max_height": null,
      "max_width": null,
      "min_height": null,
      "min_width": null,
      "object_fit": null,
      "object_position": null,
      "order": null,
      "overflow": null,
      "overflow_x": null,
      "overflow_y": null,
      "padding": null,
      "right": null,
      "top": null,
      "visibility": null,
      "width": null
     }
    },
    "4286196fd6aa4a3b8a57da5b604184ed": {
     "model_module": "@jupyter-widgets/base",
     "model_module_version": "1.2.0",
     "model_name": "LayoutModel",
     "state": {
      "_model_module": "@jupyter-widgets/base",
      "_model_module_version": "1.2.0",
      "_model_name": "LayoutModel",
      "_view_count": null,
      "_view_module": "@jupyter-widgets/base",
      "_view_module_version": "1.2.0",
      "_view_name": "LayoutView",
      "align_content": null,
      "align_items": null,
      "align_self": null,
      "border": null,
      "bottom": null,
      "display": null,
      "flex": null,
      "flex_flow": null,
      "grid_area": null,
      "grid_auto_columns": null,
      "grid_auto_flow": null,
      "grid_auto_rows": null,
      "grid_column": null,
      "grid_gap": null,
      "grid_row": null,
      "grid_template_areas": null,
      "grid_template_columns": null,
      "grid_template_rows": null,
      "height": null,
      "justify_content": null,
      "justify_items": null,
      "left": null,
      "margin": null,
      "max_height": null,
      "max_width": null,
      "min_height": null,
      "min_width": null,
      "object_fit": null,
      "object_position": null,
      "order": null,
      "overflow": null,
      "overflow_x": null,
      "overflow_y": null,
      "padding": null,
      "right": null,
      "top": null,
      "visibility": null,
      "width": null
     }
    },
    "4bce874e9a5f4e43a26dcda4c8fcf82c": {
     "model_module": "@jupyter-widgets/base",
     "model_module_version": "1.2.0",
     "model_name": "LayoutModel",
     "state": {
      "_model_module": "@jupyter-widgets/base",
      "_model_module_version": "1.2.0",
      "_model_name": "LayoutModel",
      "_view_count": null,
      "_view_module": "@jupyter-widgets/base",
      "_view_module_version": "1.2.0",
      "_view_name": "LayoutView",
      "align_content": null,
      "align_items": null,
      "align_self": null,
      "border": null,
      "bottom": null,
      "display": null,
      "flex": null,
      "flex_flow": null,
      "grid_area": null,
      "grid_auto_columns": null,
      "grid_auto_flow": null,
      "grid_auto_rows": null,
      "grid_column": null,
      "grid_gap": null,
      "grid_row": null,
      "grid_template_areas": null,
      "grid_template_columns": null,
      "grid_template_rows": null,
      "height": null,
      "justify_content": null,
      "justify_items": null,
      "left": null,
      "margin": null,
      "max_height": null,
      "max_width": null,
      "min_height": null,
      "min_width": null,
      "object_fit": null,
      "object_position": null,
      "order": null,
      "overflow": null,
      "overflow_x": null,
      "overflow_y": null,
      "padding": null,
      "right": null,
      "top": null,
      "visibility": null,
      "width": null
     }
    },
    "540679896a6f4d6bb7ccb01542bc7d9d": {
     "model_module": "@jupyter-widgets/controls",
     "model_module_version": "1.5.0",
     "model_name": "HBoxModel",
     "state": {
      "_dom_classes": [],
      "_model_module": "@jupyter-widgets/controls",
      "_model_module_version": "1.5.0",
      "_model_name": "HBoxModel",
      "_view_count": null,
      "_view_module": "@jupyter-widgets/controls",
      "_view_module_version": "1.5.0",
      "_view_name": "HBoxView",
      "box_style": "",
      "children": [
       "IPY_MODEL_2332555b54e34837ada18e78a8ed4364",
       "IPY_MODEL_0d88c7a9c50343a2a56c6daa9434dde2",
       "IPY_MODEL_cb51dabdac6940d5840b4e5858422e9e"
      ],
      "layout": "IPY_MODEL_4bce874e9a5f4e43a26dcda4c8fcf82c"
     }
    },
    "55930c50408f491eadd092385854355a": {
     "model_module": "@jupyter-widgets/controls",
     "model_module_version": "1.5.0",
     "model_name": "DescriptionStyleModel",
     "state": {
      "_model_module": "@jupyter-widgets/controls",
      "_model_module_version": "1.5.0",
      "_model_name": "DescriptionStyleModel",
      "_view_count": null,
      "_view_module": "@jupyter-widgets/base",
      "_view_module_version": "1.2.0",
      "_view_name": "StyleView",
      "description_width": ""
     }
    },
    "563a47a5120c40e69593dbaa7fef4654": {
     "model_module": "@jupyter-widgets/controls",
     "model_module_version": "1.5.0",
     "model_name": "HTMLModel",
     "state": {
      "_dom_classes": [],
      "_model_module": "@jupyter-widgets/controls",
      "_model_module_version": "1.5.0",
      "_model_name": "HTMLModel",
      "_view_count": null,
      "_view_module": "@jupyter-widgets/controls",
      "_view_module_version": "1.5.0",
      "_view_name": "HTMLView",
      "description": "",
      "description_tooltip": null,
      "layout": "IPY_MODEL_c83f303ab01547b9974409b23f5b4d26",
      "placeholder": "​",
      "style": "IPY_MODEL_a4e80909cef74620bfeb35367cb0c71b",
      "value": " 80/80 [00:34&lt;00:00,  2.33ba/s]"
     }
    },
    "5bb46349c6d742ada82f4959ae82f940": {
     "model_module": "@jupyter-widgets/controls",
     "model_module_version": "1.5.0",
     "model_name": "HTMLModel",
     "state": {
      "_dom_classes": [],
      "_model_module": "@jupyter-widgets/controls",
      "_model_module_version": "1.5.0",
      "_model_name": "HTMLModel",
      "_view_count": null,
      "_view_module": "@jupyter-widgets/controls",
      "_view_module_version": "1.5.0",
      "_view_name": "HTMLView",
      "description": "",
      "description_tooltip": null,
      "layout": "IPY_MODEL_945ee74879ed44d6b09c877b8702a043",
      "placeholder": "​",
      "style": "IPY_MODEL_a3f5aae75bdc4b1a8e0958247c387363",
      "value": "Downloading tokenizer_config.json: 100%"
     }
    },
    "5d239087b08643a8bc0354dfc19b7855": {
     "model_module": "@jupyter-widgets/controls",
     "model_module_version": "1.5.0",
     "model_name": "ProgressStyleModel",
     "state": {
      "_model_module": "@jupyter-widgets/controls",
      "_model_module_version": "1.5.0",
      "_model_name": "ProgressStyleModel",
      "_view_count": null,
      "_view_module": "@jupyter-widgets/base",
      "_view_module_version": "1.2.0",
      "_view_name": "StyleView",
      "bar_color": null,
      "description_width": ""
     }
    },
    "5f5bfc1eb2004ea4bd21db52da9aa3e7": {
     "model_module": "@jupyter-widgets/controls",
     "model_module_version": "1.5.0",
     "model_name": "HTMLModel",
     "state": {
      "_dom_classes": [],
      "_model_module": "@jupyter-widgets/controls",
      "_model_module_version": "1.5.0",
      "_model_name": "HTMLModel",
      "_view_count": null,
      "_view_module": "@jupyter-widgets/controls",
      "_view_module_version": "1.5.0",
      "_view_name": "HTMLView",
      "description": "",
      "description_tooltip": null,
      "layout": "IPY_MODEL_c9a66ac5b39a4f9192987a92faa6e9dc",
      "placeholder": "​",
      "style": "IPY_MODEL_0f945d4ba88142248b0720a263756382",
      "value": "100%"
     }
    },
    "63b254a6b9224f788682d17eb336cdc7": {
     "model_module": "@jupyter-widgets/controls",
     "model_module_version": "1.5.0",
     "model_name": "DescriptionStyleModel",
     "state": {
      "_model_module": "@jupyter-widgets/controls",
      "_model_module_version": "1.5.0",
      "_model_name": "DescriptionStyleModel",
      "_view_count": null,
      "_view_module": "@jupyter-widgets/base",
      "_view_module_version": "1.2.0",
      "_view_name": "StyleView",
      "description_width": ""
     }
    },
    "70b6dae90afd4a25b754616560fb2120": {
     "model_module": "@jupyter-widgets/base",
     "model_module_version": "1.2.0",
     "model_name": "LayoutModel",
     "state": {
      "_model_module": "@jupyter-widgets/base",
      "_model_module_version": "1.2.0",
      "_model_name": "LayoutModel",
      "_view_count": null,
      "_view_module": "@jupyter-widgets/base",
      "_view_module_version": "1.2.0",
      "_view_name": "LayoutView",
      "align_content": null,
      "align_items": null,
      "align_self": null,
      "border": null,
      "bottom": null,
      "display": null,
      "flex": null,
      "flex_flow": null,
      "grid_area": null,
      "grid_auto_columns": null,
      "grid_auto_flow": null,
      "grid_auto_rows": null,
      "grid_column": null,
      "grid_gap": null,
      "grid_row": null,
      "grid_template_areas": null,
      "grid_template_columns": null,
      "grid_template_rows": null,
      "height": null,
      "justify_content": null,
      "justify_items": null,
      "left": null,
      "margin": null,
      "max_height": null,
      "max_width": null,
      "min_height": null,
      "min_width": null,
      "object_fit": null,
      "object_position": null,
      "order": null,
      "overflow": null,
      "overflow_x": null,
      "overflow_y": null,
      "padding": null,
      "right": null,
      "top": null,
      "visibility": null,
      "width": null
     }
    },
    "73ceac26fe3545558d29a3e67ef1cfb4": {
     "model_module": "@jupyter-widgets/base",
     "model_module_version": "1.2.0",
     "model_name": "LayoutModel",
     "state": {
      "_model_module": "@jupyter-widgets/base",
      "_model_module_version": "1.2.0",
      "_model_name": "LayoutModel",
      "_view_count": null,
      "_view_module": "@jupyter-widgets/base",
      "_view_module_version": "1.2.0",
      "_view_name": "LayoutView",
      "align_content": null,
      "align_items": null,
      "align_self": null,
      "border": null,
      "bottom": null,
      "display": null,
      "flex": null,
      "flex_flow": null,
      "grid_area": null,
      "grid_auto_columns": null,
      "grid_auto_flow": null,
      "grid_auto_rows": null,
      "grid_column": null,
      "grid_gap": null,
      "grid_row": null,
      "grid_template_areas": null,
      "grid_template_columns": null,
      "grid_template_rows": null,
      "height": null,
      "justify_content": null,
      "justify_items": null,
      "left": null,
      "margin": null,
      "max_height": null,
      "max_width": null,
      "min_height": null,
      "min_width": null,
      "object_fit": null,
      "object_position": null,
      "order": null,
      "overflow": null,
      "overflow_x": null,
      "overflow_y": null,
      "padding": null,
      "right": null,
      "top": null,
      "visibility": null,
      "width": null
     }
    },
    "77b0b7098d1c46099cf6944d3cf9d47d": {
     "model_module": "@jupyter-widgets/controls",
     "model_module_version": "1.5.0",
     "model_name": "FloatProgressModel",
     "state": {
      "_dom_classes": [],
      "_model_module": "@jupyter-widgets/controls",
      "_model_module_version": "1.5.0",
      "_model_name": "FloatProgressModel",
      "_view_count": null,
      "_view_module": "@jupyter-widgets/controls",
      "_view_module_version": "1.5.0",
      "_view_name": "ProgressView",
      "bar_style": "success",
      "description": "",
      "description_tooltip": null,
      "layout": "IPY_MODEL_9720634bf72c4f65a4cee7e539ad5b35",
      "max": 80,
      "min": 0,
      "orientation": "horizontal",
      "style": "IPY_MODEL_7eaca1db54794bf6bcd7e49be5d2c8de",
      "value": 80
     }
    },
    "79411235978f44e5b33ba0f6d543a416": {
     "model_module": "@jupyter-widgets/base",
     "model_module_version": "1.2.0",
     "model_name": "LayoutModel",
     "state": {
      "_model_module": "@jupyter-widgets/base",
      "_model_module_version": "1.2.0",
      "_model_name": "LayoutModel",
      "_view_count": null,
      "_view_module": "@jupyter-widgets/base",
      "_view_module_version": "1.2.0",
      "_view_name": "LayoutView",
      "align_content": null,
      "align_items": null,
      "align_self": null,
      "border": null,
      "bottom": null,
      "display": null,
      "flex": null,
      "flex_flow": null,
      "grid_area": null,
      "grid_auto_columns": null,
      "grid_auto_flow": null,
      "grid_auto_rows": null,
      "grid_column": null,
      "grid_gap": null,
      "grid_row": null,
      "grid_template_areas": null,
      "grid_template_columns": null,
      "grid_template_rows": null,
      "height": null,
      "justify_content": null,
      "justify_items": null,
      "left": null,
      "margin": null,
      "max_height": null,
      "max_width": null,
      "min_height": null,
      "min_width": null,
      "object_fit": null,
      "object_position": null,
      "order": null,
      "overflow": null,
      "overflow_x": null,
      "overflow_y": null,
      "padding": null,
      "right": null,
      "top": null,
      "visibility": null,
      "width": null
     }
    },
    "795717c66e4d4b59b7813b42a23f20b4": {
     "model_module": "@jupyter-widgets/controls",
     "model_module_version": "1.5.0",
     "model_name": "ProgressStyleModel",
     "state": {
      "_model_module": "@jupyter-widgets/controls",
      "_model_module_version": "1.5.0",
      "_model_name": "ProgressStyleModel",
      "_view_count": null,
      "_view_module": "@jupyter-widgets/base",
      "_view_module_version": "1.2.0",
      "_view_name": "StyleView",
      "bar_color": null,
      "description_width": ""
     }
    },
    "79584c3a474b40feab5fe6811d3e2999": {
     "model_module": "@jupyter-widgets/controls",
     "model_module_version": "1.5.0",
     "model_name": "HTMLModel",
     "state": {
      "_dom_classes": [],
      "_model_module": "@jupyter-widgets/controls",
      "_model_module_version": "1.5.0",
      "_model_name": "HTMLModel",
      "_view_count": null,
      "_view_module": "@jupyter-widgets/controls",
      "_view_module_version": "1.5.0",
      "_view_name": "HTMLView",
      "description": "",
      "description_tooltip": null,
      "layout": "IPY_MODEL_014484e26a82463ea8f8c19a7a88d24e",
      "placeholder": "​",
      "style": "IPY_MODEL_fcc268f3c10c467782ab911146a6822f",
      "value": " 553/553 [00:00&lt;00:00, 11.0kB/s]"
     }
    },
    "7a7dfc87f9304e6c9d4be4bb3bcba8a0": {
     "model_module": "@jupyter-widgets/base",
     "model_module_version": "1.2.0",
     "model_name": "LayoutModel",
     "state": {
      "_model_module": "@jupyter-widgets/base",
      "_model_module_version": "1.2.0",
      "_model_name": "LayoutModel",
      "_view_count": null,
      "_view_module": "@jupyter-widgets/base",
      "_view_module_version": "1.2.0",
      "_view_name": "LayoutView",
      "align_content": null,
      "align_items": null,
      "align_self": null,
      "border": null,
      "bottom": null,
      "display": null,
      "flex": null,
      "flex_flow": null,
      "grid_area": null,
      "grid_auto_columns": null,
      "grid_auto_flow": null,
      "grid_auto_rows": null,
      "grid_column": null,
      "grid_gap": null,
      "grid_row": null,
      "grid_template_areas": null,
      "grid_template_columns": null,
      "grid_template_rows": null,
      "height": null,
      "justify_content": null,
      "justify_items": null,
      "left": null,
      "margin": null,
      "max_height": null,
      "max_width": null,
      "min_height": null,
      "min_width": null,
      "object_fit": null,
      "object_position": null,
      "order": null,
      "overflow": null,
      "overflow_x": null,
      "overflow_y": null,
      "padding": null,
      "right": null,
      "top": null,
      "visibility": null,
      "width": null
     }
    },
    "7e1df09832434349850a718915e69a30": {
     "model_module": "@jupyter-widgets/controls",
     "model_module_version": "1.5.0",
     "model_name": "ProgressStyleModel",
     "state": {
      "_model_module": "@jupyter-widgets/controls",
      "_model_module_version": "1.5.0",
      "_model_name": "ProgressStyleModel",
      "_view_count": null,
      "_view_module": "@jupyter-widgets/base",
      "_view_module_version": "1.2.0",
      "_view_name": "StyleView",
      "bar_color": null,
      "description_width": ""
     }
    },
    "7eaca1db54794bf6bcd7e49be5d2c8de": {
     "model_module": "@jupyter-widgets/controls",
     "model_module_version": "1.5.0",
     "model_name": "ProgressStyleModel",
     "state": {
      "_model_module": "@jupyter-widgets/controls",
      "_model_module_version": "1.5.0",
      "_model_name": "ProgressStyleModel",
      "_view_count": null,
      "_view_module": "@jupyter-widgets/base",
      "_view_module_version": "1.2.0",
      "_view_name": "StyleView",
      "bar_color": null,
      "description_width": ""
     }
    },
    "87658bcc165c4a20a40ab03f0cb2e00c": {
     "model_module": "@jupyter-widgets/base",
     "model_module_version": "1.2.0",
     "model_name": "LayoutModel",
     "state": {
      "_model_module": "@jupyter-widgets/base",
      "_model_module_version": "1.2.0",
      "_model_name": "LayoutModel",
      "_view_count": null,
      "_view_module": "@jupyter-widgets/base",
      "_view_module_version": "1.2.0",
      "_view_name": "LayoutView",
      "align_content": null,
      "align_items": null,
      "align_self": null,
      "border": null,
      "bottom": null,
      "display": null,
      "flex": null,
      "flex_flow": null,
      "grid_area": null,
      "grid_auto_columns": null,
      "grid_auto_flow": null,
      "grid_auto_rows": null,
      "grid_column": null,
      "grid_gap": null,
      "grid_row": null,
      "grid_template_areas": null,
      "grid_template_columns": null,
      "grid_template_rows": null,
      "height": null,
      "justify_content": null,
      "justify_items": null,
      "left": null,
      "margin": null,
      "max_height": null,
      "max_width": null,
      "min_height": null,
      "min_width": null,
      "object_fit": null,
      "object_position": null,
      "order": null,
      "overflow": null,
      "overflow_x": null,
      "overflow_y": null,
      "padding": null,
      "right": null,
      "top": null,
      "visibility": null,
      "width": null
     }
    },
    "88a5274a150b4b1a840b15b090e1d02e": {
     "model_module": "@jupyter-widgets/base",
     "model_module_version": "1.2.0",
     "model_name": "LayoutModel",
     "state": {
      "_model_module": "@jupyter-widgets/base",
      "_model_module_version": "1.2.0",
      "_model_name": "LayoutModel",
      "_view_count": null,
      "_view_module": "@jupyter-widgets/base",
      "_view_module_version": "1.2.0",
      "_view_name": "LayoutView",
      "align_content": null,
      "align_items": null,
      "align_self": null,
      "border": null,
      "bottom": null,
      "display": null,
      "flex": null,
      "flex_flow": null,
      "grid_area": null,
      "grid_auto_columns": null,
      "grid_auto_flow": null,
      "grid_auto_rows": null,
      "grid_column": null,
      "grid_gap": null,
      "grid_row": null,
      "grid_template_areas": null,
      "grid_template_columns": null,
      "grid_template_rows": null,
      "height": null,
      "justify_content": null,
      "justify_items": null,
      "left": null,
      "margin": null,
      "max_height": null,
      "max_width": null,
      "min_height": null,
      "min_width": null,
      "object_fit": null,
      "object_position": null,
      "order": null,
      "overflow": null,
      "overflow_x": null,
      "overflow_y": null,
      "padding": null,
      "right": null,
      "top": null,
      "visibility": null,
      "width": null
     }
    },
    "88aef34ea6874aa4a97ba0adb427611a": {
     "model_module": "@jupyter-widgets/controls",
     "model_module_version": "1.5.0",
     "model_name": "HTMLModel",
     "state": {
      "_dom_classes": [],
      "_model_module": "@jupyter-widgets/controls",
      "_model_module_version": "1.5.0",
      "_model_name": "HTMLModel",
      "_view_count": null,
      "_view_module": "@jupyter-widgets/controls",
      "_view_module_version": "1.5.0",
      "_view_name": "HTMLView",
      "description": "",
      "description_tooltip": null,
      "layout": "IPY_MODEL_1d0d2697dea14e4297c3ae2851f0d921",
      "placeholder": "​",
      "style": "IPY_MODEL_facdce6a9b1448a09417c3e79f36fa8f",
      "value": "Downloading spiece.model: 100%"
     }
    },
    "8c38efd2baa04b5bb61953366a753888": {
     "model_module": "@jupyter-widgets/controls",
     "model_module_version": "1.5.0",
     "model_name": "HTMLModel",
     "state": {
      "_dom_classes": [],
      "_model_module": "@jupyter-widgets/controls",
      "_model_module_version": "1.5.0",
      "_model_name": "HTMLModel",
      "_view_count": null,
      "_view_module": "@jupyter-widgets/controls",
      "_view_module_version": "1.5.0",
      "_view_name": "HTMLView",
      "description": "",
      "description_tooltip": null,
      "layout": "IPY_MODEL_ab8cb4ae53094835bdb0707abdae6a26",
      "placeholder": "​",
      "style": "IPY_MODEL_daaf0c307709419d89b350a15afaddeb",
      "value": "Downloading special_tokens_map.json: 100%"
     }
    },
    "9447cc983c3e48d99d979f0a91249fd3": {
     "model_module": "@jupyter-widgets/controls",
     "model_module_version": "1.5.0",
     "model_name": "HBoxModel",
     "state": {
      "_dom_classes": [],
      "_model_module": "@jupyter-widgets/controls",
      "_model_module_version": "1.5.0",
      "_model_name": "HBoxModel",
      "_view_count": null,
      "_view_module": "@jupyter-widgets/controls",
      "_view_module_version": "1.5.0",
      "_view_name": "HBoxView",
      "box_style": "",
      "children": [
       "IPY_MODEL_f9c244477dcb4bf2a1fe53da441086b2",
       "IPY_MODEL_1a34e3b2b9ca427f8f9e6c0bb8d8cce5",
       "IPY_MODEL_79584c3a474b40feab5fe6811d3e2999"
      ],
      "layout": "IPY_MODEL_4286196fd6aa4a3b8a57da5b604184ed"
     }
    },
    "945ee74879ed44d6b09c877b8702a043": {
     "model_module": "@jupyter-widgets/base",
     "model_module_version": "1.2.0",
     "model_name": "LayoutModel",
     "state": {
      "_model_module": "@jupyter-widgets/base",
      "_model_module_version": "1.2.0",
      "_model_name": "LayoutModel",
      "_view_count": null,
      "_view_module": "@jupyter-widgets/base",
      "_view_module_version": "1.2.0",
      "_view_name": "LayoutView",
      "align_content": null,
      "align_items": null,
      "align_self": null,
      "border": null,
      "bottom": null,
      "display": null,
      "flex": null,
      "flex_flow": null,
      "grid_area": null,
      "grid_auto_columns": null,
      "grid_auto_flow": null,
      "grid_auto_rows": null,
      "grid_column": null,
      "grid_gap": null,
      "grid_row": null,
      "grid_template_areas": null,
      "grid_template_columns": null,
      "grid_template_rows": null,
      "height": null,
      "justify_content": null,
      "justify_items": null,
      "left": null,
      "margin": null,
      "max_height": null,
      "max_width": null,
      "min_height": null,
      "min_width": null,
      "object_fit": null,
      "object_position": null,
      "order": null,
      "overflow": null,
      "overflow_x": null,
      "overflow_y": null,
      "padding": null,
      "right": null,
      "top": null,
      "visibility": null,
      "width": null
     }
    },
    "94e6d1011dbf412899705bac90e99263": {
     "model_module": "@jupyter-widgets/base",
     "model_module_version": "1.2.0",
     "model_name": "LayoutModel",
     "state": {
      "_model_module": "@jupyter-widgets/base",
      "_model_module_version": "1.2.0",
      "_model_name": "LayoutModel",
      "_view_count": null,
      "_view_module": "@jupyter-widgets/base",
      "_view_module_version": "1.2.0",
      "_view_name": "LayoutView",
      "align_content": null,
      "align_items": null,
      "align_self": null,
      "border": null,
      "bottom": null,
      "display": null,
      "flex": null,
      "flex_flow": null,
      "grid_area": null,
      "grid_auto_columns": null,
      "grid_auto_flow": null,
      "grid_auto_rows": null,
      "grid_column": null,
      "grid_gap": null,
      "grid_row": null,
      "grid_template_areas": null,
      "grid_template_columns": null,
      "grid_template_rows": null,
      "height": null,
      "justify_content": null,
      "justify_items": null,
      "left": null,
      "margin": null,
      "max_height": null,
      "max_width": null,
      "min_height": null,
      "min_width": null,
      "object_fit": null,
      "object_position": null,
      "order": null,
      "overflow": null,
      "overflow_x": null,
      "overflow_y": null,
      "padding": null,
      "right": null,
      "top": null,
      "visibility": null,
      "width": null
     }
    },
    "9622a784f9db4f2da1543dcf02ddc882": {
     "model_module": "@jupyter-widgets/controls",
     "model_module_version": "1.5.0",
     "model_name": "DescriptionStyleModel",
     "state": {
      "_model_module": "@jupyter-widgets/controls",
      "_model_module_version": "1.5.0",
      "_model_name": "DescriptionStyleModel",
      "_view_count": null,
      "_view_module": "@jupyter-widgets/base",
      "_view_module_version": "1.2.0",
      "_view_name": "StyleView",
      "description_width": ""
     }
    },
    "9720634bf72c4f65a4cee7e539ad5b35": {
     "model_module": "@jupyter-widgets/base",
     "model_module_version": "1.2.0",
     "model_name": "LayoutModel",
     "state": {
      "_model_module": "@jupyter-widgets/base",
      "_model_module_version": "1.2.0",
      "_model_name": "LayoutModel",
      "_view_count": null,
      "_view_module": "@jupyter-widgets/base",
      "_view_module_version": "1.2.0",
      "_view_name": "LayoutView",
      "align_content": null,
      "align_items": null,
      "align_self": null,
      "border": null,
      "bottom": null,
      "display": null,
      "flex": null,
      "flex_flow": null,
      "grid_area": null,
      "grid_auto_columns": null,
      "grid_auto_flow": null,
      "grid_auto_rows": null,
      "grid_column": null,
      "grid_gap": null,
      "grid_row": null,
      "grid_template_areas": null,
      "grid_template_columns": null,
      "grid_template_rows": null,
      "height": null,
      "justify_content": null,
      "justify_items": null,
      "left": null,
      "margin": null,
      "max_height": null,
      "max_width": null,
      "min_height": null,
      "min_width": null,
      "object_fit": null,
      "object_position": null,
      "order": null,
      "overflow": null,
      "overflow_x": null,
      "overflow_y": null,
      "padding": null,
      "right": null,
      "top": null,
      "visibility": null,
      "width": null
     }
    },
    "a2e0b4050dce463fa7475e9fe87e1736": {
     "model_module": "@jupyter-widgets/base",
     "model_module_version": "1.2.0",
     "model_name": "LayoutModel",
     "state": {
      "_model_module": "@jupyter-widgets/base",
      "_model_module_version": "1.2.0",
      "_model_name": "LayoutModel",
      "_view_count": null,
      "_view_module": "@jupyter-widgets/base",
      "_view_module_version": "1.2.0",
      "_view_name": "LayoutView",
      "align_content": null,
      "align_items": null,
      "align_self": null,
      "border": null,
      "bottom": null,
      "display": null,
      "flex": null,
      "flex_flow": null,
      "grid_area": null,
      "grid_auto_columns": null,
      "grid_auto_flow": null,
      "grid_auto_rows": null,
      "grid_column": null,
      "grid_gap": null,
      "grid_row": null,
      "grid_template_areas": null,
      "grid_template_columns": null,
      "grid_template_rows": null,
      "height": null,
      "justify_content": null,
      "justify_items": null,
      "left": null,
      "margin": null,
      "max_height": null,
      "max_width": null,
      "min_height": null,
      "min_width": null,
      "object_fit": null,
      "object_position": null,
      "order": null,
      "overflow": null,
      "overflow_x": null,
      "overflow_y": null,
      "padding": null,
      "right": null,
      "top": null,
      "visibility": null,
      "width": null
     }
    },
    "a3f5aae75bdc4b1a8e0958247c387363": {
     "model_module": "@jupyter-widgets/controls",
     "model_module_version": "1.5.0",
     "model_name": "DescriptionStyleModel",
     "state": {
      "_model_module": "@jupyter-widgets/controls",
      "_model_module_version": "1.5.0",
      "_model_name": "DescriptionStyleModel",
      "_view_count": null,
      "_view_module": "@jupyter-widgets/base",
      "_view_module_version": "1.2.0",
      "_view_name": "StyleView",
      "description_width": ""
     }
    },
    "a4e80909cef74620bfeb35367cb0c71b": {
     "model_module": "@jupyter-widgets/controls",
     "model_module_version": "1.5.0",
     "model_name": "DescriptionStyleModel",
     "state": {
      "_model_module": "@jupyter-widgets/controls",
      "_model_module_version": "1.5.0",
      "_model_name": "DescriptionStyleModel",
      "_view_count": null,
      "_view_module": "@jupyter-widgets/base",
      "_view_module_version": "1.2.0",
      "_view_name": "StyleView",
      "description_width": ""
     }
    },
    "a83062fcdc714294a41c461d6cbda585": {
     "model_module": "@jupyter-widgets/base",
     "model_module_version": "1.2.0",
     "model_name": "LayoutModel",
     "state": {
      "_model_module": "@jupyter-widgets/base",
      "_model_module_version": "1.2.0",
      "_model_name": "LayoutModel",
      "_view_count": null,
      "_view_module": "@jupyter-widgets/base",
      "_view_module_version": "1.2.0",
      "_view_name": "LayoutView",
      "align_content": null,
      "align_items": null,
      "align_self": null,
      "border": null,
      "bottom": null,
      "display": null,
      "flex": null,
      "flex_flow": null,
      "grid_area": null,
      "grid_auto_columns": null,
      "grid_auto_flow": null,
      "grid_auto_rows": null,
      "grid_column": null,
      "grid_gap": null,
      "grid_row": null,
      "grid_template_areas": null,
      "grid_template_columns": null,
      "grid_template_rows": null,
      "height": null,
      "justify_content": null,
      "justify_items": null,
      "left": null,
      "margin": null,
      "max_height": null,
      "max_width": null,
      "min_height": null,
      "min_width": null,
      "object_fit": null,
      "object_position": null,
      "order": null,
      "overflow": null,
      "overflow_x": null,
      "overflow_y": null,
      "padding": null,
      "right": null,
      "top": null,
      "visibility": null,
      "width": null
     }
    },
    "ab38df2ca4d1485f8bb9e4e0de4bef4d": {
     "model_module": "@jupyter-widgets/controls",
     "model_module_version": "1.5.0",
     "model_name": "HTMLModel",
     "state": {
      "_dom_classes": [],
      "_model_module": "@jupyter-widgets/controls",
      "_model_module_version": "1.5.0",
      "_model_name": "HTMLModel",
      "_view_count": null,
      "_view_module": "@jupyter-widgets/controls",
      "_view_module_version": "1.5.0",
      "_view_name": "HTMLView",
      "description": "",
      "description_tooltip": null,
      "layout": "IPY_MODEL_cb8e08101fa94b3fb1f59e0b0b67d77c",
      "placeholder": "​",
      "style": "IPY_MODEL_bc89aec1a9a343a4bdfbbde001d3dce1",
      "value": " 82.0/82.0 [00:00&lt;00:00, 3.02kB/s]"
     }
    },
    "ab8cb4ae53094835bdb0707abdae6a26": {
     "model_module": "@jupyter-widgets/base",
     "model_module_version": "1.2.0",
     "model_name": "LayoutModel",
     "state": {
      "_model_module": "@jupyter-widgets/base",
      "_model_module_version": "1.2.0",
      "_model_name": "LayoutModel",
      "_view_count": null,
      "_view_module": "@jupyter-widgets/base",
      "_view_module_version": "1.2.0",
      "_view_name": "LayoutView",
      "align_content": null,
      "align_items": null,
      "align_self": null,
      "border": null,
      "bottom": null,
      "display": null,
      "flex": null,
      "flex_flow": null,
      "grid_area": null,
      "grid_auto_columns": null,
      "grid_auto_flow": null,
      "grid_auto_rows": null,
      "grid_column": null,
      "grid_gap": null,
      "grid_row": null,
      "grid_template_areas": null,
      "grid_template_columns": null,
      "grid_template_rows": null,
      "height": null,
      "justify_content": null,
      "justify_items": null,
      "left": null,
      "margin": null,
      "max_height": null,
      "max_width": null,
      "min_height": null,
      "min_width": null,
      "object_fit": null,
      "object_position": null,
      "order": null,
      "overflow": null,
      "overflow_x": null,
      "overflow_y": null,
      "padding": null,
      "right": null,
      "top": null,
      "visibility": null,
      "width": null
     }
    },
    "b05d70065db64aec92a02c4553b2b38f": {
     "model_module": "@jupyter-widgets/controls",
     "model_module_version": "1.5.0",
     "model_name": "HBoxModel",
     "state": {
      "_dom_classes": [],
      "_model_module": "@jupyter-widgets/controls",
      "_model_module_version": "1.5.0",
      "_model_name": "HBoxModel",
      "_view_count": null,
      "_view_module": "@jupyter-widgets/controls",
      "_view_module_version": "1.5.0",
      "_view_name": "HBoxView",
      "box_style": "",
      "children": [
       "IPY_MODEL_8c38efd2baa04b5bb61953366a753888",
       "IPY_MODEL_c5ea0018f86c47bebce5a161c20e35c5",
       "IPY_MODEL_f3eabfb2573a4ec18d0d9670dfe37b80"
      ],
      "layout": "IPY_MODEL_daa6be93d5524c0bbdc041c40579a431"
     }
    },
    "b0d96a1f40244617b61b89743fd3bff7": {
     "model_module": "@jupyter-widgets/controls",
     "model_module_version": "1.5.0",
     "model_name": "HBoxModel",
     "state": {
      "_dom_classes": [],
      "_model_module": "@jupyter-widgets/controls",
      "_model_module_version": "1.5.0",
      "_model_name": "HBoxModel",
      "_view_count": null,
      "_view_module": "@jupyter-widgets/controls",
      "_view_module_version": "1.5.0",
      "_view_name": "HBoxView",
      "box_style": "",
      "children": [
       "IPY_MODEL_88aef34ea6874aa4a97ba0adb427611a",
       "IPY_MODEL_0fe5c1b6548e4a60ac33279733c6a2a9",
       "IPY_MODEL_13f14056dfe2454ba30c1448ba303110"
      ],
      "layout": "IPY_MODEL_87658bcc165c4a20a40ab03f0cb2e00c"
     }
    },
    "b6d4df1ec722421998d3192a87f54274": {
     "model_module": "@jupyter-widgets/base",
     "model_module_version": "1.2.0",
     "model_name": "LayoutModel",
     "state": {
      "_model_module": "@jupyter-widgets/base",
      "_model_module_version": "1.2.0",
      "_model_name": "LayoutModel",
      "_view_count": null,
      "_view_module": "@jupyter-widgets/base",
      "_view_module_version": "1.2.0",
      "_view_name": "LayoutView",
      "align_content": null,
      "align_items": null,
      "align_self": null,
      "border": null,
      "bottom": null,
      "display": null,
      "flex": null,
      "flex_flow": null,
      "grid_area": null,
      "grid_auto_columns": null,
      "grid_auto_flow": null,
      "grid_auto_rows": null,
      "grid_column": null,
      "grid_gap": null,
      "grid_row": null,
      "grid_template_areas": null,
      "grid_template_columns": null,
      "grid_template_rows": null,
      "height": null,
      "justify_content": null,
      "justify_items": null,
      "left": null,
      "margin": null,
      "max_height": null,
      "max_width": null,
      "min_height": null,
      "min_width": null,
      "object_fit": null,
      "object_position": null,
      "order": null,
      "overflow": null,
      "overflow_x": null,
      "overflow_y": null,
      "padding": null,
      "right": null,
      "top": null,
      "visibility": null,
      "width": null
     }
    },
    "bc89aec1a9a343a4bdfbbde001d3dce1": {
     "model_module": "@jupyter-widgets/controls",
     "model_module_version": "1.5.0",
     "model_name": "DescriptionStyleModel",
     "state": {
      "_model_module": "@jupyter-widgets/controls",
      "_model_module_version": "1.5.0",
      "_model_name": "DescriptionStyleModel",
      "_view_count": null,
      "_view_module": "@jupyter-widgets/base",
      "_view_module_version": "1.2.0",
      "_view_name": "StyleView",
      "description_width": ""
     }
    },
    "c1e03c85547345309b67af8969c02a97": {
     "model_module": "@jupyter-widgets/controls",
     "model_module_version": "1.5.0",
     "model_name": "DescriptionStyleModel",
     "state": {
      "_model_module": "@jupyter-widgets/controls",
      "_model_module_version": "1.5.0",
      "_model_name": "DescriptionStyleModel",
      "_view_count": null,
      "_view_module": "@jupyter-widgets/base",
      "_view_module_version": "1.2.0",
      "_view_name": "StyleView",
      "description_width": ""
     }
    },
    "c5ea0018f86c47bebce5a161c20e35c5": {
     "model_module": "@jupyter-widgets/controls",
     "model_module_version": "1.5.0",
     "model_name": "FloatProgressModel",
     "state": {
      "_dom_classes": [],
      "_model_module": "@jupyter-widgets/controls",
      "_model_module_version": "1.5.0",
      "_model_name": "FloatProgressModel",
      "_view_count": null,
      "_view_module": "@jupyter-widgets/controls",
      "_view_module_version": "1.5.0",
      "_view_name": "ProgressView",
      "bar_style": "success",
      "description": "",
      "description_tooltip": null,
      "layout": "IPY_MODEL_b6d4df1ec722421998d3192a87f54274",
      "max": 99,
      "min": 0,
      "orientation": "horizontal",
      "style": "IPY_MODEL_795717c66e4d4b59b7813b42a23f20b4",
      "value": 99
     }
    },
    "c65115048b794725aeda27e8949b6e40": {
     "model_module": "@jupyter-widgets/base",
     "model_module_version": "1.2.0",
     "model_name": "LayoutModel",
     "state": {
      "_model_module": "@jupyter-widgets/base",
      "_model_module_version": "1.2.0",
      "_model_name": "LayoutModel",
      "_view_count": null,
      "_view_module": "@jupyter-widgets/base",
      "_view_module_version": "1.2.0",
      "_view_name": "LayoutView",
      "align_content": null,
      "align_items": null,
      "align_self": null,
      "border": null,
      "bottom": null,
      "display": null,
      "flex": null,
      "flex_flow": null,
      "grid_area": null,
      "grid_auto_columns": null,
      "grid_auto_flow": null,
      "grid_auto_rows": null,
      "grid_column": null,
      "grid_gap": null,
      "grid_row": null,
      "grid_template_areas": null,
      "grid_template_columns": null,
      "grid_template_rows": null,
      "height": null,
      "justify_content": null,
      "justify_items": null,
      "left": null,
      "margin": null,
      "max_height": null,
      "max_width": null,
      "min_height": null,
      "min_width": null,
      "object_fit": null,
      "object_position": null,
      "order": null,
      "overflow": null,
      "overflow_x": null,
      "overflow_y": null,
      "padding": null,
      "right": null,
      "top": null,
      "visibility": null,
      "width": null
     }
    },
    "c83f303ab01547b9974409b23f5b4d26": {
     "model_module": "@jupyter-widgets/base",
     "model_module_version": "1.2.0",
     "model_name": "LayoutModel",
     "state": {
      "_model_module": "@jupyter-widgets/base",
      "_model_module_version": "1.2.0",
      "_model_name": "LayoutModel",
      "_view_count": null,
      "_view_module": "@jupyter-widgets/base",
      "_view_module_version": "1.2.0",
      "_view_name": "LayoutView",
      "align_content": null,
      "align_items": null,
      "align_self": null,
      "border": null,
      "bottom": null,
      "display": null,
      "flex": null,
      "flex_flow": null,
      "grid_area": null,
      "grid_auto_columns": null,
      "grid_auto_flow": null,
      "grid_auto_rows": null,
      "grid_column": null,
      "grid_gap": null,
      "grid_row": null,
      "grid_template_areas": null,
      "grid_template_columns": null,
      "grid_template_rows": null,
      "height": null,
      "justify_content": null,
      "justify_items": null,
      "left": null,
      "margin": null,
      "max_height": null,
      "max_width": null,
      "min_height": null,
      "min_width": null,
      "object_fit": null,
      "object_position": null,
      "order": null,
      "overflow": null,
      "overflow_x": null,
      "overflow_y": null,
      "padding": null,
      "right": null,
      "top": null,
      "visibility": null,
      "width": null
     }
    },
    "c9a66ac5b39a4f9192987a92faa6e9dc": {
     "model_module": "@jupyter-widgets/base",
     "model_module_version": "1.2.0",
     "model_name": "LayoutModel",
     "state": {
      "_model_module": "@jupyter-widgets/base",
      "_model_module_version": "1.2.0",
      "_model_name": "LayoutModel",
      "_view_count": null,
      "_view_module": "@jupyter-widgets/base",
      "_view_module_version": "1.2.0",
      "_view_name": "LayoutView",
      "align_content": null,
      "align_items": null,
      "align_self": null,
      "border": null,
      "bottom": null,
      "display": null,
      "flex": null,
      "flex_flow": null,
      "grid_area": null,
      "grid_auto_columns": null,
      "grid_auto_flow": null,
      "grid_auto_rows": null,
      "grid_column": null,
      "grid_gap": null,
      "grid_row": null,
      "grid_template_areas": null,
      "grid_template_columns": null,
      "grid_template_rows": null,
      "height": null,
      "justify_content": null,
      "justify_items": null,
      "left": null,
      "margin": null,
      "max_height": null,
      "max_width": null,
      "min_height": null,
      "min_width": null,
      "object_fit": null,
      "object_position": null,
      "order": null,
      "overflow": null,
      "overflow_x": null,
      "overflow_y": null,
      "padding": null,
      "right": null,
      "top": null,
      "visibility": null,
      "width": null
     }
    },
    "cb51dabdac6940d5840b4e5858422e9e": {
     "model_module": "@jupyter-widgets/controls",
     "model_module_version": "1.5.0",
     "model_name": "HTMLModel",
     "state": {
      "_dom_classes": [],
      "_model_module": "@jupyter-widgets/controls",
      "_model_module_version": "1.5.0",
      "_model_name": "HTMLModel",
      "_view_count": null,
      "_view_module": "@jupyter-widgets/controls",
      "_view_module_version": "1.5.0",
      "_view_name": "HTMLView",
      "description": "",
      "description_tooltip": null,
      "layout": "IPY_MODEL_c65115048b794725aeda27e8949b6e40",
      "placeholder": "​",
      "style": "IPY_MODEL_63b254a6b9224f788682d17eb336cdc7",
      "value": " 7.65k/? [00:00&lt;00:00, 211kB/s]"
     }
    },
    "cb8e08101fa94b3fb1f59e0b0b67d77c": {
     "model_module": "@jupyter-widgets/base",
     "model_module_version": "1.2.0",
     "model_name": "LayoutModel",
     "state": {
      "_model_module": "@jupyter-widgets/base",
      "_model_module_version": "1.2.0",
      "_model_name": "LayoutModel",
      "_view_count": null,
      "_view_module": "@jupyter-widgets/base",
      "_view_module_version": "1.2.0",
      "_view_name": "LayoutView",
      "align_content": null,
      "align_items": null,
      "align_self": null,
      "border": null,
      "bottom": null,
      "display": null,
      "flex": null,
      "flex_flow": null,
      "grid_area": null,
      "grid_auto_columns": null,
      "grid_auto_flow": null,
      "grid_auto_rows": null,
      "grid_column": null,
      "grid_gap": null,
      "grid_row": null,
      "grid_template_areas": null,
      "grid_template_columns": null,
      "grid_template_rows": null,
      "height": null,
      "justify_content": null,
      "justify_items": null,
      "left": null,
      "margin": null,
      "max_height": null,
      "max_width": null,
      "min_height": null,
      "min_width": null,
      "object_fit": null,
      "object_position": null,
      "order": null,
      "overflow": null,
      "overflow_x": null,
      "overflow_y": null,
      "padding": null,
      "right": null,
      "top": null,
      "visibility": null,
      "width": null
     }
    },
    "cbf5f6871efe4f7599f55d27e554fa63": {
     "model_module": "@jupyter-widgets/controls",
     "model_module_version": "1.5.0",
     "model_name": "HTMLModel",
     "state": {
      "_dom_classes": [],
      "_model_module": "@jupyter-widgets/controls",
      "_model_module_version": "1.5.0",
      "_model_name": "HTMLModel",
      "_view_count": null,
      "_view_module": "@jupyter-widgets/controls",
      "_view_module_version": "1.5.0",
      "_view_name": "HTMLView",
      "description": "",
      "description_tooltip": null,
      "layout": "IPY_MODEL_a2e0b4050dce463fa7475e9fe87e1736",
      "placeholder": "​",
      "style": "IPY_MODEL_ce8f34bbda3743eeb7108af0de942119",
      "value": " 11/11 [00:04&lt;00:00,  2.34ba/s]"
     }
    },
    "cdef03b0078b48ccb1ae120620b50cde": {
     "model_module": "@jupyter-widgets/base",
     "model_module_version": "1.2.0",
     "model_name": "LayoutModel",
     "state": {
      "_model_module": "@jupyter-widgets/base",
      "_model_module_version": "1.2.0",
      "_model_name": "LayoutModel",
      "_view_count": null,
      "_view_module": "@jupyter-widgets/base",
      "_view_module_version": "1.2.0",
      "_view_name": "LayoutView",
      "align_content": null,
      "align_items": null,
      "align_self": null,
      "border": null,
      "bottom": null,
      "display": null,
      "flex": null,
      "flex_flow": null,
      "grid_area": null,
      "grid_auto_columns": null,
      "grid_auto_flow": null,
      "grid_auto_rows": null,
      "grid_column": null,
      "grid_gap": null,
      "grid_row": null,
      "grid_template_areas": null,
      "grid_template_columns": null,
      "grid_template_rows": null,
      "height": null,
      "justify_content": null,
      "justify_items": null,
      "left": null,
      "margin": null,
      "max_height": null,
      "max_width": null,
      "min_height": null,
      "min_width": null,
      "object_fit": null,
      "object_position": null,
      "order": null,
      "overflow": null,
      "overflow_x": null,
      "overflow_y": null,
      "padding": null,
      "right": null,
      "top": null,
      "visibility": null,
      "width": null
     }
    },
    "ce8f34bbda3743eeb7108af0de942119": {
     "model_module": "@jupyter-widgets/controls",
     "model_module_version": "1.5.0",
     "model_name": "DescriptionStyleModel",
     "state": {
      "_model_module": "@jupyter-widgets/controls",
      "_model_module_version": "1.5.0",
      "_model_name": "DescriptionStyleModel",
      "_view_count": null,
      "_view_module": "@jupyter-widgets/base",
      "_view_module_version": "1.2.0",
      "_view_name": "StyleView",
      "description_width": ""
     }
    },
    "daa6be93d5524c0bbdc041c40579a431": {
     "model_module": "@jupyter-widgets/base",
     "model_module_version": "1.2.0",
     "model_name": "LayoutModel",
     "state": {
      "_model_module": "@jupyter-widgets/base",
      "_model_module_version": "1.2.0",
      "_model_name": "LayoutModel",
      "_view_count": null,
      "_view_module": "@jupyter-widgets/base",
      "_view_module_version": "1.2.0",
      "_view_name": "LayoutView",
      "align_content": null,
      "align_items": null,
      "align_self": null,
      "border": null,
      "bottom": null,
      "display": null,
      "flex": null,
      "flex_flow": null,
      "grid_area": null,
      "grid_auto_columns": null,
      "grid_auto_flow": null,
      "grid_auto_rows": null,
      "grid_column": null,
      "grid_gap": null,
      "grid_row": null,
      "grid_template_areas": null,
      "grid_template_columns": null,
      "grid_template_rows": null,
      "height": null,
      "justify_content": null,
      "justify_items": null,
      "left": null,
      "margin": null,
      "max_height": null,
      "max_width": null,
      "min_height": null,
      "min_width": null,
      "object_fit": null,
      "object_position": null,
      "order": null,
      "overflow": null,
      "overflow_x": null,
      "overflow_y": null,
      "padding": null,
      "right": null,
      "top": null,
      "visibility": null,
      "width": null
     }
    },
    "daaf0c307709419d89b350a15afaddeb": {
     "model_module": "@jupyter-widgets/controls",
     "model_module_version": "1.5.0",
     "model_name": "DescriptionStyleModel",
     "state": {
      "_model_module": "@jupyter-widgets/controls",
      "_model_module_version": "1.5.0",
      "_model_name": "DescriptionStyleModel",
      "_view_count": null,
      "_view_module": "@jupyter-widgets/base",
      "_view_module_version": "1.2.0",
      "_view_name": "StyleView",
      "description_width": ""
     }
    },
    "dad1fe791b91476ba2def296f1fdc386": {
     "model_module": "@jupyter-widgets/controls",
     "model_module_version": "1.5.0",
     "model_name": "HTMLModel",
     "state": {
      "_dom_classes": [],
      "_model_module": "@jupyter-widgets/controls",
      "_model_module_version": "1.5.0",
      "_model_name": "HTMLModel",
      "_view_count": null,
      "_view_module": "@jupyter-widgets/controls",
      "_view_module_version": "1.5.0",
      "_view_name": "HTMLView",
      "description": "",
      "description_tooltip": null,
      "layout": "IPY_MODEL_79411235978f44e5b33ba0f6d543a416",
      "placeholder": "​",
      "style": "IPY_MODEL_04062cda15ae443eb3e63023e71bd62e",
      "value": "100%"
     }
    },
    "dfa719bdc3554829a339c45e12110026": {
     "model_module": "@jupyter-widgets/base",
     "model_module_version": "1.2.0",
     "model_name": "LayoutModel",
     "state": {
      "_model_module": "@jupyter-widgets/base",
      "_model_module_version": "1.2.0",
      "_model_name": "LayoutModel",
      "_view_count": null,
      "_view_module": "@jupyter-widgets/base",
      "_view_module_version": "1.2.0",
      "_view_name": "LayoutView",
      "align_content": null,
      "align_items": null,
      "align_self": null,
      "border": null,
      "bottom": null,
      "display": null,
      "flex": null,
      "flex_flow": null,
      "grid_area": null,
      "grid_auto_columns": null,
      "grid_auto_flow": null,
      "grid_auto_rows": null,
      "grid_column": null,
      "grid_gap": null,
      "grid_row": null,
      "grid_template_areas": null,
      "grid_template_columns": null,
      "grid_template_rows": null,
      "height": null,
      "justify_content": null,
      "justify_items": null,
      "left": null,
      "margin": null,
      "max_height": null,
      "max_width": null,
      "min_height": null,
      "min_width": null,
      "object_fit": null,
      "object_position": null,
      "order": null,
      "overflow": null,
      "overflow_x": null,
      "overflow_y": null,
      "padding": null,
      "right": null,
      "top": null,
      "visibility": null,
      "width": null
     }
    },
    "f31ca04ae2d940699b6747d81a2d785d": {
     "model_module": "@jupyter-widgets/base",
     "model_module_version": "1.2.0",
     "model_name": "LayoutModel",
     "state": {
      "_model_module": "@jupyter-widgets/base",
      "_model_module_version": "1.2.0",
      "_model_name": "LayoutModel",
      "_view_count": null,
      "_view_module": "@jupyter-widgets/base",
      "_view_module_version": "1.2.0",
      "_view_name": "LayoutView",
      "align_content": null,
      "align_items": null,
      "align_self": null,
      "border": null,
      "bottom": null,
      "display": null,
      "flex": null,
      "flex_flow": null,
      "grid_area": null,
      "grid_auto_columns": null,
      "grid_auto_flow": null,
      "grid_auto_rows": null,
      "grid_column": null,
      "grid_gap": null,
      "grid_row": null,
      "grid_template_areas": null,
      "grid_template_columns": null,
      "grid_template_rows": null,
      "height": null,
      "justify_content": null,
      "justify_items": null,
      "left": null,
      "margin": null,
      "max_height": null,
      "max_width": null,
      "min_height": null,
      "min_width": null,
      "object_fit": null,
      "object_position": null,
      "order": null,
      "overflow": null,
      "overflow_x": null,
      "overflow_y": null,
      "padding": null,
      "right": null,
      "top": null,
      "visibility": null,
      "width": null
     }
    },
    "f3eabfb2573a4ec18d0d9670dfe37b80": {
     "model_module": "@jupyter-widgets/controls",
     "model_module_version": "1.5.0",
     "model_name": "HTMLModel",
     "state": {
      "_dom_classes": [],
      "_model_module": "@jupyter-widgets/controls",
      "_model_module_version": "1.5.0",
      "_model_name": "HTMLModel",
      "_view_count": null,
      "_view_module": "@jupyter-widgets/controls",
      "_view_module_version": "1.5.0",
      "_view_name": "HTMLView",
      "description": "",
      "description_tooltip": null,
      "layout": "IPY_MODEL_7a7dfc87f9304e6c9d4be4bb3bcba8a0",
      "placeholder": "​",
      "style": "IPY_MODEL_55930c50408f491eadd092385854355a",
      "value": " 99.0/99.0 [00:00&lt;00:00, 1.40kB/s]"
     }
    },
    "f5ff28610f08465287bae0045eda3469": {
     "model_module": "@jupyter-widgets/base",
     "model_module_version": "1.2.0",
     "model_name": "LayoutModel",
     "state": {
      "_model_module": "@jupyter-widgets/base",
      "_model_module_version": "1.2.0",
      "_model_name": "LayoutModel",
      "_view_count": null,
      "_view_module": "@jupyter-widgets/base",
      "_view_module_version": "1.2.0",
      "_view_name": "LayoutView",
      "align_content": null,
      "align_items": null,
      "align_self": null,
      "border": null,
      "bottom": null,
      "display": null,
      "flex": null,
      "flex_flow": null,
      "grid_area": null,
      "grid_auto_columns": null,
      "grid_auto_flow": null,
      "grid_auto_rows": null,
      "grid_column": null,
      "grid_gap": null,
      "grid_row": null,
      "grid_template_areas": null,
      "grid_template_columns": null,
      "grid_template_rows": null,
      "height": null,
      "justify_content": null,
      "justify_items": null,
      "left": null,
      "margin": null,
      "max_height": null,
      "max_width": null,
      "min_height": null,
      "min_width": null,
      "object_fit": null,
      "object_position": null,
      "order": null,
      "overflow": null,
      "overflow_x": null,
      "overflow_y": null,
      "padding": null,
      "right": null,
      "top": null,
      "visibility": null,
      "width": null
     }
    },
    "f8d79ce0e969460ba10adec99c112076": {
     "model_module": "@jupyter-widgets/controls",
     "model_module_version": "1.5.0",
     "model_name": "DescriptionStyleModel",
     "state": {
      "_model_module": "@jupyter-widgets/controls",
      "_model_module_version": "1.5.0",
      "_model_name": "DescriptionStyleModel",
      "_view_count": null,
      "_view_module": "@jupyter-widgets/base",
      "_view_module_version": "1.2.0",
      "_view_name": "StyleView",
      "description_width": ""
     }
    },
    "f9c244477dcb4bf2a1fe53da441086b2": {
     "model_module": "@jupyter-widgets/controls",
     "model_module_version": "1.5.0",
     "model_name": "HTMLModel",
     "state": {
      "_dom_classes": [],
      "_model_module": "@jupyter-widgets/controls",
      "_model_module_version": "1.5.0",
      "_model_name": "HTMLModel",
      "_view_count": null,
      "_view_module": "@jupyter-widgets/controls",
      "_view_module_version": "1.5.0",
      "_view_name": "HTMLView",
      "description": "",
      "description_tooltip": null,
      "layout": "IPY_MODEL_23227cc6264146a7a4c50a798076cb16",
      "placeholder": "​",
      "style": "IPY_MODEL_f8d79ce0e969460ba10adec99c112076",
      "value": "Downloading config.json: 100%"
     }
    },
    "facdce6a9b1448a09417c3e79f36fa8f": {
     "model_module": "@jupyter-widgets/controls",
     "model_module_version": "1.5.0",
     "model_name": "DescriptionStyleModel",
     "state": {
      "_model_module": "@jupyter-widgets/controls",
      "_model_module_version": "1.5.0",
      "_model_name": "DescriptionStyleModel",
      "_view_count": null,
      "_view_module": "@jupyter-widgets/base",
      "_view_module_version": "1.2.0",
      "_view_name": "StyleView",
      "description_width": ""
     }
    },
    "fcc268f3c10c467782ab911146a6822f": {
     "model_module": "@jupyter-widgets/controls",
     "model_module_version": "1.5.0",
     "model_name": "DescriptionStyleModel",
     "state": {
      "_model_module": "@jupyter-widgets/controls",
      "_model_module_version": "1.5.0",
      "_model_name": "DescriptionStyleModel",
      "_view_count": null,
      "_view_module": "@jupyter-widgets/base",
      "_view_module_version": "1.2.0",
      "_view_name": "StyleView",
      "description_width": ""
     }
    }
   }
  }
 },
 "nbformat": 4,
 "nbformat_minor": 5
}