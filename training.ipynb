{
  "nbformat": 4,
  "nbformat_minor": 0,
  "metadata": {
    "colab": {
      "name": "training.ipynb",
      "provenance": [],
      "collapsed_sections": [],
      "machine_shape": "hm",
      "authorship_tag": "ABX9TyNG8vK90J+1K//bZQDi8kXs",
      "include_colab_link": true
    },
    "kernelspec": {
      "name": "python3",
      "display_name": "Python 3"
    },
    "language_info": {
      "name": "python"
    },
    "accelerator": "GPU",
    "gpuClass": "standard",
    "widgets": {
      "application/vnd.jupyter.widget-state+json": {
        "40c7538d2b5c4f4c9640a1230aa7222c": {
          "model_module": "@jupyter-widgets/controls",
          "model_name": "HBoxModel",
          "model_module_version": "1.5.0",
          "state": {
            "_dom_classes": [],
            "_model_module": "@jupyter-widgets/controls",
            "_model_module_version": "1.5.0",
            "_model_name": "HBoxModel",
            "_view_count": null,
            "_view_module": "@jupyter-widgets/controls",
            "_view_module_version": "1.5.0",
            "_view_name": "HBoxView",
            "box_style": "",
            "children": [
              "IPY_MODEL_5234ceedc67b4e01b07aa419127165f9",
              "IPY_MODEL_5e644f0e347c427aa26e92d3e289d29a",
              "IPY_MODEL_a1a0f35d68874b18947f906d8c5719b4"
            ],
            "layout": "IPY_MODEL_0cea335262104ed385901c087f43b57e"
          }
        },
        "5234ceedc67b4e01b07aa419127165f9": {
          "model_module": "@jupyter-widgets/controls",
          "model_name": "HTMLModel",
          "model_module_version": "1.5.0",
          "state": {
            "_dom_classes": [],
            "_model_module": "@jupyter-widgets/controls",
            "_model_module_version": "1.5.0",
            "_model_name": "HTMLModel",
            "_view_count": null,
            "_view_module": "@jupyter-widgets/controls",
            "_view_module_version": "1.5.0",
            "_view_name": "HTMLView",
            "description": "",
            "description_tooltip": null,
            "layout": "IPY_MODEL_9fe02d3f1ea7408e802b799842e8167e",
            "placeholder": "​",
            "style": "IPY_MODEL_a726a7e22926440aa9a769647fc966c6",
            "value": "100%"
          }
        },
        "5e644f0e347c427aa26e92d3e289d29a": {
          "model_module": "@jupyter-widgets/controls",
          "model_name": "FloatProgressModel",
          "model_module_version": "1.5.0",
          "state": {
            "_dom_classes": [],
            "_model_module": "@jupyter-widgets/controls",
            "_model_module_version": "1.5.0",
            "_model_name": "FloatProgressModel",
            "_view_count": null,
            "_view_module": "@jupyter-widgets/controls",
            "_view_module_version": "1.5.0",
            "_view_name": "ProgressView",
            "bar_style": "success",
            "description": "",
            "description_tooltip": null,
            "layout": "IPY_MODEL_a9bcb92c472c467dbf51ea6f3372b37a",
            "max": 80,
            "min": 0,
            "orientation": "horizontal",
            "style": "IPY_MODEL_99070a6b207f49a1a4e3b68efebb9c7e",
            "value": 80
          }
        },
        "a1a0f35d68874b18947f906d8c5719b4": {
          "model_module": "@jupyter-widgets/controls",
          "model_name": "HTMLModel",
          "model_module_version": "1.5.0",
          "state": {
            "_dom_classes": [],
            "_model_module": "@jupyter-widgets/controls",
            "_model_module_version": "1.5.0",
            "_model_name": "HTMLModel",
            "_view_count": null,
            "_view_module": "@jupyter-widgets/controls",
            "_view_module_version": "1.5.0",
            "_view_name": "HTMLView",
            "description": "",
            "description_tooltip": null,
            "layout": "IPY_MODEL_5051db9f8d6b42b9830d96c4862d0dc4",
            "placeholder": "​",
            "style": "IPY_MODEL_ca7d20dba4f845ebb7966c2ce4e49a2d",
            "value": " 80/80 [00:35&lt;00:00,  2.27ba/s]"
          }
        },
        "0cea335262104ed385901c087f43b57e": {
          "model_module": "@jupyter-widgets/base",
          "model_name": "LayoutModel",
          "model_module_version": "1.2.0",
          "state": {
            "_model_module": "@jupyter-widgets/base",
            "_model_module_version": "1.2.0",
            "_model_name": "LayoutModel",
            "_view_count": null,
            "_view_module": "@jupyter-widgets/base",
            "_view_module_version": "1.2.0",
            "_view_name": "LayoutView",
            "align_content": null,
            "align_items": null,
            "align_self": null,
            "border": null,
            "bottom": null,
            "display": null,
            "flex": null,
            "flex_flow": null,
            "grid_area": null,
            "grid_auto_columns": null,
            "grid_auto_flow": null,
            "grid_auto_rows": null,
            "grid_column": null,
            "grid_gap": null,
            "grid_row": null,
            "grid_template_areas": null,
            "grid_template_columns": null,
            "grid_template_rows": null,
            "height": null,
            "justify_content": null,
            "justify_items": null,
            "left": null,
            "margin": null,
            "max_height": null,
            "max_width": null,
            "min_height": null,
            "min_width": null,
            "object_fit": null,
            "object_position": null,
            "order": null,
            "overflow": null,
            "overflow_x": null,
            "overflow_y": null,
            "padding": null,
            "right": null,
            "top": null,
            "visibility": null,
            "width": null
          }
        },
        "9fe02d3f1ea7408e802b799842e8167e": {
          "model_module": "@jupyter-widgets/base",
          "model_name": "LayoutModel",
          "model_module_version": "1.2.0",
          "state": {
            "_model_module": "@jupyter-widgets/base",
            "_model_module_version": "1.2.0",
            "_model_name": "LayoutModel",
            "_view_count": null,
            "_view_module": "@jupyter-widgets/base",
            "_view_module_version": "1.2.0",
            "_view_name": "LayoutView",
            "align_content": null,
            "align_items": null,
            "align_self": null,
            "border": null,
            "bottom": null,
            "display": null,
            "flex": null,
            "flex_flow": null,
            "grid_area": null,
            "grid_auto_columns": null,
            "grid_auto_flow": null,
            "grid_auto_rows": null,
            "grid_column": null,
            "grid_gap": null,
            "grid_row": null,
            "grid_template_areas": null,
            "grid_template_columns": null,
            "grid_template_rows": null,
            "height": null,
            "justify_content": null,
            "justify_items": null,
            "left": null,
            "margin": null,
            "max_height": null,
            "max_width": null,
            "min_height": null,
            "min_width": null,
            "object_fit": null,
            "object_position": null,
            "order": null,
            "overflow": null,
            "overflow_x": null,
            "overflow_y": null,
            "padding": null,
            "right": null,
            "top": null,
            "visibility": null,
            "width": null
          }
        },
        "a726a7e22926440aa9a769647fc966c6": {
          "model_module": "@jupyter-widgets/controls",
          "model_name": "DescriptionStyleModel",
          "model_module_version": "1.5.0",
          "state": {
            "_model_module": "@jupyter-widgets/controls",
            "_model_module_version": "1.5.0",
            "_model_name": "DescriptionStyleModel",
            "_view_count": null,
            "_view_module": "@jupyter-widgets/base",
            "_view_module_version": "1.2.0",
            "_view_name": "StyleView",
            "description_width": ""
          }
        },
        "a9bcb92c472c467dbf51ea6f3372b37a": {
          "model_module": "@jupyter-widgets/base",
          "model_name": "LayoutModel",
          "model_module_version": "1.2.0",
          "state": {
            "_model_module": "@jupyter-widgets/base",
            "_model_module_version": "1.2.0",
            "_model_name": "LayoutModel",
            "_view_count": null,
            "_view_module": "@jupyter-widgets/base",
            "_view_module_version": "1.2.0",
            "_view_name": "LayoutView",
            "align_content": null,
            "align_items": null,
            "align_self": null,
            "border": null,
            "bottom": null,
            "display": null,
            "flex": null,
            "flex_flow": null,
            "grid_area": null,
            "grid_auto_columns": null,
            "grid_auto_flow": null,
            "grid_auto_rows": null,
            "grid_column": null,
            "grid_gap": null,
            "grid_row": null,
            "grid_template_areas": null,
            "grid_template_columns": null,
            "grid_template_rows": null,
            "height": null,
            "justify_content": null,
            "justify_items": null,
            "left": null,
            "margin": null,
            "max_height": null,
            "max_width": null,
            "min_height": null,
            "min_width": null,
            "object_fit": null,
            "object_position": null,
            "order": null,
            "overflow": null,
            "overflow_x": null,
            "overflow_y": null,
            "padding": null,
            "right": null,
            "top": null,
            "visibility": null,
            "width": null
          }
        },
        "99070a6b207f49a1a4e3b68efebb9c7e": {
          "model_module": "@jupyter-widgets/controls",
          "model_name": "ProgressStyleModel",
          "model_module_version": "1.5.0",
          "state": {
            "_model_module": "@jupyter-widgets/controls",
            "_model_module_version": "1.5.0",
            "_model_name": "ProgressStyleModel",
            "_view_count": null,
            "_view_module": "@jupyter-widgets/base",
            "_view_module_version": "1.2.0",
            "_view_name": "StyleView",
            "bar_color": null,
            "description_width": ""
          }
        },
        "5051db9f8d6b42b9830d96c4862d0dc4": {
          "model_module": "@jupyter-widgets/base",
          "model_name": "LayoutModel",
          "model_module_version": "1.2.0",
          "state": {
            "_model_module": "@jupyter-widgets/base",
            "_model_module_version": "1.2.0",
            "_model_name": "LayoutModel",
            "_view_count": null,
            "_view_module": "@jupyter-widgets/base",
            "_view_module_version": "1.2.0",
            "_view_name": "LayoutView",
            "align_content": null,
            "align_items": null,
            "align_self": null,
            "border": null,
            "bottom": null,
            "display": null,
            "flex": null,
            "flex_flow": null,
            "grid_area": null,
            "grid_auto_columns": null,
            "grid_auto_flow": null,
            "grid_auto_rows": null,
            "grid_column": null,
            "grid_gap": null,
            "grid_row": null,
            "grid_template_areas": null,
            "grid_template_columns": null,
            "grid_template_rows": null,
            "height": null,
            "justify_content": null,
            "justify_items": null,
            "left": null,
            "margin": null,
            "max_height": null,
            "max_width": null,
            "min_height": null,
            "min_width": null,
            "object_fit": null,
            "object_position": null,
            "order": null,
            "overflow": null,
            "overflow_x": null,
            "overflow_y": null,
            "padding": null,
            "right": null,
            "top": null,
            "visibility": null,
            "width": null
          }
        },
        "ca7d20dba4f845ebb7966c2ce4e49a2d": {
          "model_module": "@jupyter-widgets/controls",
          "model_name": "DescriptionStyleModel",
          "model_module_version": "1.5.0",
          "state": {
            "_model_module": "@jupyter-widgets/controls",
            "_model_module_version": "1.5.0",
            "_model_name": "DescriptionStyleModel",
            "_view_count": null,
            "_view_module": "@jupyter-widgets/base",
            "_view_module_version": "1.2.0",
            "_view_name": "StyleView",
            "description_width": ""
          }
        },
        "f025a198cc144f0693d0a57e36234a03": {
          "model_module": "@jupyter-widgets/controls",
          "model_name": "HBoxModel",
          "model_module_version": "1.5.0",
          "state": {
            "_dom_classes": [],
            "_model_module": "@jupyter-widgets/controls",
            "_model_module_version": "1.5.0",
            "_model_name": "HBoxModel",
            "_view_count": null,
            "_view_module": "@jupyter-widgets/controls",
            "_view_module_version": "1.5.0",
            "_view_name": "HBoxView",
            "box_style": "",
            "children": [
              "IPY_MODEL_eb5bb289639948fe9de745a4fd52fdf5",
              "IPY_MODEL_483ee1058c694bcea01c758dd59196e6",
              "IPY_MODEL_85bbffba8f9a4b3cbf17bd271e0bee5e"
            ],
            "layout": "IPY_MODEL_0c1e54f343ad4d5288cb5712676c6364"
          }
        },
        "eb5bb289639948fe9de745a4fd52fdf5": {
          "model_module": "@jupyter-widgets/controls",
          "model_name": "HTMLModel",
          "model_module_version": "1.5.0",
          "state": {
            "_dom_classes": [],
            "_model_module": "@jupyter-widgets/controls",
            "_model_module_version": "1.5.0",
            "_model_name": "HTMLModel",
            "_view_count": null,
            "_view_module": "@jupyter-widgets/controls",
            "_view_module_version": "1.5.0",
            "_view_name": "HTMLView",
            "description": "",
            "description_tooltip": null,
            "layout": "IPY_MODEL_450656da32454d0e8a621c1ff1b9d571",
            "placeholder": "​",
            "style": "IPY_MODEL_4f339e96f91f40b9be7b61b1624751c0",
            "value": "100%"
          }
        },
        "483ee1058c694bcea01c758dd59196e6": {
          "model_module": "@jupyter-widgets/controls",
          "model_name": "FloatProgressModel",
          "model_module_version": "1.5.0",
          "state": {
            "_dom_classes": [],
            "_model_module": "@jupyter-widgets/controls",
            "_model_module_version": "1.5.0",
            "_model_name": "FloatProgressModel",
            "_view_count": null,
            "_view_module": "@jupyter-widgets/controls",
            "_view_module_version": "1.5.0",
            "_view_name": "ProgressView",
            "bar_style": "success",
            "description": "",
            "description_tooltip": null,
            "layout": "IPY_MODEL_a08a65dac4be45d1a00a873e0b02963e",
            "max": 11,
            "min": 0,
            "orientation": "horizontal",
            "style": "IPY_MODEL_21eec0a92478485b9322d6dd5d90b93a",
            "value": 11
          }
        },
        "85bbffba8f9a4b3cbf17bd271e0bee5e": {
          "model_module": "@jupyter-widgets/controls",
          "model_name": "HTMLModel",
          "model_module_version": "1.5.0",
          "state": {
            "_dom_classes": [],
            "_model_module": "@jupyter-widgets/controls",
            "_model_module_version": "1.5.0",
            "_model_name": "HTMLModel",
            "_view_count": null,
            "_view_module": "@jupyter-widgets/controls",
            "_view_module_version": "1.5.0",
            "_view_name": "HTMLView",
            "description": "",
            "description_tooltip": null,
            "layout": "IPY_MODEL_8bc6821cc1e545b8bd95b4c5e7d6a798",
            "placeholder": "​",
            "style": "IPY_MODEL_981c0bee05b34fd0ab9463325c882a81",
            "value": " 11/11 [00:04&lt;00:00,  2.24ba/s]"
          }
        },
        "0c1e54f343ad4d5288cb5712676c6364": {
          "model_module": "@jupyter-widgets/base",
          "model_name": "LayoutModel",
          "model_module_version": "1.2.0",
          "state": {
            "_model_module": "@jupyter-widgets/base",
            "_model_module_version": "1.2.0",
            "_model_name": "LayoutModel",
            "_view_count": null,
            "_view_module": "@jupyter-widgets/base",
            "_view_module_version": "1.2.0",
            "_view_name": "LayoutView",
            "align_content": null,
            "align_items": null,
            "align_self": null,
            "border": null,
            "bottom": null,
            "display": null,
            "flex": null,
            "flex_flow": null,
            "grid_area": null,
            "grid_auto_columns": null,
            "grid_auto_flow": null,
            "grid_auto_rows": null,
            "grid_column": null,
            "grid_gap": null,
            "grid_row": null,
            "grid_template_areas": null,
            "grid_template_columns": null,
            "grid_template_rows": null,
            "height": null,
            "justify_content": null,
            "justify_items": null,
            "left": null,
            "margin": null,
            "max_height": null,
            "max_width": null,
            "min_height": null,
            "min_width": null,
            "object_fit": null,
            "object_position": null,
            "order": null,
            "overflow": null,
            "overflow_x": null,
            "overflow_y": null,
            "padding": null,
            "right": null,
            "top": null,
            "visibility": null,
            "width": null
          }
        },
        "450656da32454d0e8a621c1ff1b9d571": {
          "model_module": "@jupyter-widgets/base",
          "model_name": "LayoutModel",
          "model_module_version": "1.2.0",
          "state": {
            "_model_module": "@jupyter-widgets/base",
            "_model_module_version": "1.2.0",
            "_model_name": "LayoutModel",
            "_view_count": null,
            "_view_module": "@jupyter-widgets/base",
            "_view_module_version": "1.2.0",
            "_view_name": "LayoutView",
            "align_content": null,
            "align_items": null,
            "align_self": null,
            "border": null,
            "bottom": null,
            "display": null,
            "flex": null,
            "flex_flow": null,
            "grid_area": null,
            "grid_auto_columns": null,
            "grid_auto_flow": null,
            "grid_auto_rows": null,
            "grid_column": null,
            "grid_gap": null,
            "grid_row": null,
            "grid_template_areas": null,
            "grid_template_columns": null,
            "grid_template_rows": null,
            "height": null,
            "justify_content": null,
            "justify_items": null,
            "left": null,
            "margin": null,
            "max_height": null,
            "max_width": null,
            "min_height": null,
            "min_width": null,
            "object_fit": null,
            "object_position": null,
            "order": null,
            "overflow": null,
            "overflow_x": null,
            "overflow_y": null,
            "padding": null,
            "right": null,
            "top": null,
            "visibility": null,
            "width": null
          }
        },
        "4f339e96f91f40b9be7b61b1624751c0": {
          "model_module": "@jupyter-widgets/controls",
          "model_name": "DescriptionStyleModel",
          "model_module_version": "1.5.0",
          "state": {
            "_model_module": "@jupyter-widgets/controls",
            "_model_module_version": "1.5.0",
            "_model_name": "DescriptionStyleModel",
            "_view_count": null,
            "_view_module": "@jupyter-widgets/base",
            "_view_module_version": "1.2.0",
            "_view_name": "StyleView",
            "description_width": ""
          }
        },
        "a08a65dac4be45d1a00a873e0b02963e": {
          "model_module": "@jupyter-widgets/base",
          "model_name": "LayoutModel",
          "model_module_version": "1.2.0",
          "state": {
            "_model_module": "@jupyter-widgets/base",
            "_model_module_version": "1.2.0",
            "_model_name": "LayoutModel",
            "_view_count": null,
            "_view_module": "@jupyter-widgets/base",
            "_view_module_version": "1.2.0",
            "_view_name": "LayoutView",
            "align_content": null,
            "align_items": null,
            "align_self": null,
            "border": null,
            "bottom": null,
            "display": null,
            "flex": null,
            "flex_flow": null,
            "grid_area": null,
            "grid_auto_columns": null,
            "grid_auto_flow": null,
            "grid_auto_rows": null,
            "grid_column": null,
            "grid_gap": null,
            "grid_row": null,
            "grid_template_areas": null,
            "grid_template_columns": null,
            "grid_template_rows": null,
            "height": null,
            "justify_content": null,
            "justify_items": null,
            "left": null,
            "margin": null,
            "max_height": null,
            "max_width": null,
            "min_height": null,
            "min_width": null,
            "object_fit": null,
            "object_position": null,
            "order": null,
            "overflow": null,
            "overflow_x": null,
            "overflow_y": null,
            "padding": null,
            "right": null,
            "top": null,
            "visibility": null,
            "width": null
          }
        },
        "21eec0a92478485b9322d6dd5d90b93a": {
          "model_module": "@jupyter-widgets/controls",
          "model_name": "ProgressStyleModel",
          "model_module_version": "1.5.0",
          "state": {
            "_model_module": "@jupyter-widgets/controls",
            "_model_module_version": "1.5.0",
            "_model_name": "ProgressStyleModel",
            "_view_count": null,
            "_view_module": "@jupyter-widgets/base",
            "_view_module_version": "1.2.0",
            "_view_name": "StyleView",
            "bar_color": null,
            "description_width": ""
          }
        },
        "8bc6821cc1e545b8bd95b4c5e7d6a798": {
          "model_module": "@jupyter-widgets/base",
          "model_name": "LayoutModel",
          "model_module_version": "1.2.0",
          "state": {
            "_model_module": "@jupyter-widgets/base",
            "_model_module_version": "1.2.0",
            "_model_name": "LayoutModel",
            "_view_count": null,
            "_view_module": "@jupyter-widgets/base",
            "_view_module_version": "1.2.0",
            "_view_name": "LayoutView",
            "align_content": null,
            "align_items": null,
            "align_self": null,
            "border": null,
            "bottom": null,
            "display": null,
            "flex": null,
            "flex_flow": null,
            "grid_area": null,
            "grid_auto_columns": null,
            "grid_auto_flow": null,
            "grid_auto_rows": null,
            "grid_column": null,
            "grid_gap": null,
            "grid_row": null,
            "grid_template_areas": null,
            "grid_template_columns": null,
            "grid_template_rows": null,
            "height": null,
            "justify_content": null,
            "justify_items": null,
            "left": null,
            "margin": null,
            "max_height": null,
            "max_width": null,
            "min_height": null,
            "min_width": null,
            "object_fit": null,
            "object_position": null,
            "order": null,
            "overflow": null,
            "overflow_x": null,
            "overflow_y": null,
            "padding": null,
            "right": null,
            "top": null,
            "visibility": null,
            "width": null
          }
        },
        "981c0bee05b34fd0ab9463325c882a81": {
          "model_module": "@jupyter-widgets/controls",
          "model_name": "DescriptionStyleModel",
          "model_module_version": "1.5.0",
          "state": {
            "_model_module": "@jupyter-widgets/controls",
            "_model_module_version": "1.5.0",
            "_model_name": "DescriptionStyleModel",
            "_view_count": null,
            "_view_module": "@jupyter-widgets/base",
            "_view_module_version": "1.2.0",
            "_view_name": "StyleView",
            "description_width": ""
          }
        }
      }
    }
  },
  "cells": [
    {
      "cell_type": "markdown",
      "metadata": {
        "id": "view-in-github",
        "colab_type": "text"
      },
      "source": [
        "<a href=\"https://colab.research.google.com/github/dotsnangles/en2ko-ko2en-translator-mT5-small/blob/master/training.ipynb\" target=\"_parent\"><img src=\"https://colab.research.google.com/assets/colab-badge.svg\" alt=\"Open In Colab\"/></a>"
      ]
    },
    {
      "cell_type": "code",
      "source": [
        "# !rm -rf /content/mt5-small-finetuned-en-to-ko_original /content/wandb"
      ],
      "metadata": {
        "id": "nGFUJPolmhzk"
      },
      "execution_count": 4,
      "outputs": []
    },
    {
      "cell_type": "code",
      "source": [
        "!nvidia-smi"
      ],
      "metadata": {
        "colab": {
          "base_uri": "https://localhost:8080/"
        },
        "id": "szmDNko71tqn",
        "outputId": "5dd1c271-5830-426e-afa0-ccbcbcd0fec3"
      },
      "execution_count": 2,
      "outputs": [
        {
          "output_type": "stream",
          "name": "stdout",
          "text": [
            "Tue Aug  2 05:20:16 2022       \n",
            "+-----------------------------------------------------------------------------+\n",
            "| NVIDIA-SMI 460.32.03    Driver Version: 460.32.03    CUDA Version: 11.2     |\n",
            "|-------------------------------+----------------------+----------------------+\n",
            "| GPU  Name        Persistence-M| Bus-Id        Disp.A | Volatile Uncorr. ECC |\n",
            "| Fan  Temp  Perf  Pwr:Usage/Cap|         Memory-Usage | GPU-Util  Compute M. |\n",
            "|                               |                      |               MIG M. |\n",
            "|===============================+======================+======================|\n",
            "|   0  Tesla P100-PCIE...  Off  | 00000000:00:04.0 Off |                    0 |\n",
            "| N/A   43C    P0    28W / 250W |      0MiB / 16280MiB |      0%      Default |\n",
            "|                               |                      |                  N/A |\n",
            "+-------------------------------+----------------------+----------------------+\n",
            "                                                                               \n",
            "+-----------------------------------------------------------------------------+\n",
            "| Processes:                                                                  |\n",
            "|  GPU   GI   CI        PID   Type   Process name                  GPU Memory |\n",
            "|        ID   ID                                                   Usage      |\n",
            "|=============================================================================|\n",
            "|  No running processes found                                                 |\n",
            "+-----------------------------------------------------------------------------+\n"
          ]
        }
      ]
    },
    {
      "cell_type": "markdown",
      "source": [
        "### Set notebook parameters"
      ],
      "metadata": {
        "id": "tm-IS9TOoSfD"
      }
    },
    {
      "cell_type": "code",
      "source": [
        "project_name = 'en2ko-translator-mt5-small'\n",
        "run_name = 'test run 002'\n",
        "\n",
        "num_train_epochs = 3\n",
        "batch_size = 4\n",
        "gradient_accumulation_steps = 4\n",
        "\n",
        "lr_scheduler_type = 'cosine'\n",
        "warmup_ratio = 0.1\n",
        "\n",
        "generation_max_length = 256\n",
        "\n",
        "early_stopping_patience = 3\n",
        "save_total_limit = 5\n",
        "\n",
        "load_best_model_at_end = True\n",
        "metric_for_best_model='eval_loss'\n",
        "\n",
        "fp16 = True"
      ],
      "metadata": {
        "id": "4Xt5ekSsoZ5d"
      },
      "execution_count": 3,
      "outputs": []
    },
    {
      "cell_type": "markdown",
      "source": [
        "### Prerequisites"
      ],
      "metadata": {
        "id": "P1KUryBDS826"
      }
    },
    {
      "cell_type": "code",
      "source": [
        "!pip install -q datasets transformers sentencepiece sacrebleu folium wandb"
      ],
      "metadata": {
        "id": "RIDQm6YMN7MI"
      },
      "execution_count": 5,
      "outputs": []
    },
    {
      "cell_type": "code",
      "source": [
        "import gdown\n",
        "id = \"1J21-T8wYjlj-91CxtxEzrcE34CDt7CM3\"\n",
        "gdown.download_folder(id=id, quiet=True, use_cookies=False)\n",
        "!unzip -q /content/data/TS1.zip -d /content/data\n",
        "!unzip -q /content/data/VS1.zip -d /content/data"
      ],
      "metadata": {
        "id": "STwW2vB4Nn2X"
      },
      "execution_count": 6,
      "outputs": []
    },
    {
      "cell_type": "markdown",
      "source": [
        "### Set WandB "
      ],
      "metadata": {
        "id": "-SYiaMTojqod"
      }
    },
    {
      "cell_type": "code",
      "source": [
        "import wandb\n",
        "wandb.login()"
      ],
      "metadata": {
        "colab": {
          "base_uri": "https://localhost:8080/"
        },
        "id": "p7qDzf-ajvlP",
        "outputId": "cda228b1-f353-4781-cfb2-64d7fc919bd3"
      },
      "execution_count": 7,
      "outputs": [
        {
          "output_type": "stream",
          "name": "stderr",
          "text": [
            "\u001b[34m\u001b[1mwandb\u001b[0m: Currently logged in as: \u001b[33mdotsnangles\u001b[0m. Use \u001b[1m`wandb login --relogin`\u001b[0m to force relogin\n"
          ]
        },
        {
          "output_type": "execute_result",
          "data": {
            "text/plain": [
              "True"
            ]
          },
          "metadata": {},
          "execution_count": 7
        }
      ]
    },
    {
      "cell_type": "code",
      "source": [
        "%env WANDB_PROJECT=$project_name\n",
        "%env WANDB_LOG_MODEL=true\n",
        "%env WANDB_WATCH=all"
      ],
      "metadata": {
        "colab": {
          "base_uri": "https://localhost:8080/"
        },
        "id": "z_sIlAvvmzmw",
        "outputId": "6e6405fb-d5e7-46ed-d28b-2dba69966f56"
      },
      "execution_count": 8,
      "outputs": [
        {
          "output_type": "stream",
          "name": "stdout",
          "text": [
            "env: WANDB_PROJECT=en2ko-translator-mt5-small\n",
            "env: WANDB_LOG_MODEL=true\n",
            "env: WANDB_WATCH=all\n"
          ]
        }
      ]
    },
    {
      "cell_type": "markdown",
      "source": [
        "### Model Selection"
      ],
      "metadata": {
        "id": "HUg3W8tlTIs3"
      }
    },
    {
      "cell_type": "code",
      "source": [
        "model_ckpt = 'google/mt5-small'"
      ],
      "metadata": {
        "id": "fqj75pbLR4am"
      },
      "execution_count": 9,
      "outputs": []
    },
    {
      "cell_type": "markdown",
      "source": [
        "### Import stuff"
      ],
      "metadata": {
        "id": "cUS1L0gQTDWE"
      }
    },
    {
      "cell_type": "code",
      "source": [
        "import json, gdown\n",
        "import pandas as pd\n",
        "from datasets import Dataset, load_metric\n",
        "from transformers import AutoConfig, AutoTokenizer, AutoModelForSeq2SeqLM, DataCollatorForSeq2Seq, Seq2SeqTrainingArguments, Seq2SeqTrainer, EarlyStoppingCallback\n"
      ],
      "metadata": {
        "id": "YdxTLx5GN5Eq"
      },
      "execution_count": 10,
      "outputs": []
    },
    {
      "cell_type": "code",
      "source": [
        "train_df = pd.read_csv('./data/train.csv')\n",
        "val_df = pd.read_csv('./data/val.csv')"
      ],
      "metadata": {
        "id": "yy9cR0OJOToH"
      },
      "execution_count": 11,
      "outputs": []
    },
    {
      "cell_type": "code",
      "source": [
        "tokenizer = AutoTokenizer.from_pretrained(model_ckpt, use_fast=False)"
      ],
      "metadata": {
        "id": "_4TJocDGRs5f"
      },
      "execution_count": 12,
      "outputs": []
    },
    {
      "cell_type": "markdown",
      "source": [
        "### Measure token length"
      ],
      "metadata": {
        "id": "YV3I14qlfNjO"
      }
    },
    {
      "cell_type": "code",
      "source": [
        "def measure_len(sample):\n",
        "    return len(tokenizer.encode(sample))"
      ],
      "metadata": {
        "id": "qN4QG9JvVtBM"
      },
      "execution_count": 13,
      "outputs": []
    },
    {
      "cell_type": "code",
      "source": [
        "src_prefix = \"translate English to Korean: \"\n",
        "\n",
        "print('length of src_prefix:', measure_len(src_prefix))\n",
        "print(tokenizer.encode(src_prefix))\n",
        "with tokenizer.as_target_tokenizer():\n",
        "    print(tokenizer.encode(src_prefix))"
      ],
      "metadata": {
        "colab": {
          "base_uri": "https://localhost:8080/"
        },
        "id": "km6c--bWXRZ8",
        "outputId": "4b410271-f4a8-45a2-b224-ef8851245d20"
      },
      "execution_count": 14,
      "outputs": [
        {
          "output_type": "stream",
          "name": "stdout",
          "text": [
            "length of src_prefix: 7\n",
            "[37194, 5413, 288, 259, 37209, 267, 1]\n",
            "[37194, 5413, 288, 259, 37209, 267, 1]\n"
          ]
        }
      ]
    },
    {
      "cell_type": "code",
      "source": [
        "train_df_en_len = train_df['en'].apply(measure_len)\n",
        "train_df_ko_len = train_df['ko_original'].apply(measure_len)\n",
        "val_df_en_len = val_df['en'].apply(measure_len)\n",
        "val_df_ko_len = val_df['ko_original'].apply(measure_len)"
      ],
      "metadata": {
        "id": "yzUzczwnWJsq"
      },
      "execution_count": 15,
      "outputs": []
    },
    {
      "cell_type": "code",
      "source": [
        "max(train_df_en_len)+7, max(train_df_ko_len), max(val_df_en_len)+7, max(val_df_ko_len)"
      ],
      "metadata": {
        "colab": {
          "base_uri": "https://localhost:8080/"
        },
        "id": "MAGxXOMkWlwz",
        "outputId": "92086ba0-853b-4bcd-a352-036173f31e9d"
      },
      "execution_count": 16,
      "outputs": [
        {
          "output_type": "execute_result",
          "data": {
            "text/plain": [
              "(117, 154, 99, 102)"
            ]
          },
          "metadata": {},
          "execution_count": 16
        }
      ]
    },
    {
      "cell_type": "markdown",
      "source": [
        "### df to ds"
      ],
      "metadata": {
        "id": "_VvDz3dbfVP6"
      }
    },
    {
      "cell_type": "code",
      "execution_count": 17,
      "metadata": {
        "colab": {
          "base_uri": "https://localhost:8080/"
        },
        "id": "1GuObstwNWwZ",
        "outputId": "d99e08f4-7be6-4128-b18e-78c57e9036b0"
      },
      "outputs": [
        {
          "output_type": "execute_result",
          "data": {
            "text/plain": [
              "(Dataset({\n",
              "     features: ['en', 'ko_original'],\n",
              "     num_rows: 79979\n",
              " }), Dataset({\n",
              "     features: ['en', 'ko_original'],\n",
              "     num_rows: 10131\n",
              " }))"
            ]
          },
          "metadata": {},
          "execution_count": 17
        }
      ],
      "source": [
        "train_ds = Dataset.from_pandas(train_df)\n",
        "val_ds = Dataset.from_pandas(val_df)\n",
        "train_ds, val_ds"
      ]
    },
    {
      "cell_type": "code",
      "source": [
        "idx = 0\n",
        "for e in train_ds:\n",
        "    print(e)\n",
        "    idx += 1\n",
        "    if idx == 2:\n",
        "        break"
      ],
      "metadata": {
        "colab": {
          "base_uri": "https://localhost:8080/"
        },
        "id": "8OvpUAf3aZiL",
        "outputId": "bd2c4c16-4445-484d-848f-8f78a1c73e1f"
      },
      "execution_count": 18,
      "outputs": [
        {
          "output_type": "stream",
          "name": "stdout",
          "text": [
            "{'en': 'The comparators 1235 and 1237 may be expressed as a Relu activation function or a sigmoid function according to a setting.', 'ko_original': '비교기(1235 및 1237)는 설정에 따라 Relu 활성함수로 나타낼 수 있으며, 시그모이드 함수로 나타낼 수도 있다.'}\n",
            "{'en': 'The server 320 may input a source image to the analysis model DB 325 and receive object information output from the training model.', 'ko_original': '서버(320)는 분석 모델 DB(325)에 소스 영상을 입력하고, 학습 모델에서 출력하는 객체 정보를 수신할 수 있다.'}\n"
          ]
        }
      ]
    },
    {
      "cell_type": "markdown",
      "source": [
        "### Preprocess"
      ],
      "metadata": {
        "id": "L1MWBLv4fcm1"
      }
    },
    {
      "cell_type": "code",
      "source": [
        "source_lang = \"en\"\n",
        "target_lang = \"ko_original\"\n",
        "prefix = \"translate English to Korean: \"\n",
        "\n",
        "def preprocess_function(examples):\n",
        "    inputs = [prefix + example for example in examples[source_lang]]\n",
        "    targets = [example for example in examples[target_lang]]\n",
        "    model_inputs = tokenizer(inputs, max_length=128, truncation=True)\n",
        "\n",
        "    with tokenizer.as_target_tokenizer():\n",
        "        labels = tokenizer(targets, max_length=160, truncation=True)\n",
        "\n",
        "    model_inputs[\"labels\"] = labels[\"input_ids\"]\n",
        "    return model_inputs"
      ],
      "metadata": {
        "id": "5Lv5xOHbVO4G"
      },
      "execution_count": 19,
      "outputs": []
    },
    {
      "cell_type": "markdown",
      "source": [
        "### Test preprocess_function"
      ],
      "metadata": {
        "id": "w-xGqutYiZjY"
      }
    },
    {
      "cell_type": "code",
      "source": [
        "train_ds[:3]"
      ],
      "metadata": {
        "colab": {
          "base_uri": "https://localhost:8080/"
        },
        "id": "iKPpEDKMcY1P",
        "outputId": "e949f6d2-13c0-40ab-9ba5-94b75475dcfa"
      },
      "execution_count": 20,
      "outputs": [
        {
          "output_type": "execute_result",
          "data": {
            "text/plain": [
              "{'en': ['The comparators 1235 and 1237 may be expressed as a Relu activation function or a sigmoid function according to a setting.',\n",
              "  'The server 320 may input a source image to the analysis model DB 325 and receive object information output from the training model.',\n",
              "  'The block shape and the split shape may be differently determined for each picture or slice, or differently determined for each largest coding unit.'],\n",
              " 'ko_original': ['비교기(1235 및 1237)는 설정에 따라 Relu 활성함수로 나타낼 수 있으며, 시그모이드 함수로 나타낼 수도 있다.',\n",
              "  '서버(320)는 분석 모델 DB(325)에 소스 영상을 입력하고, 학습 모델에서 출력하는 객체 정보를 수신할 수 있다.',\n",
              "  '블록 형태 및 분할 형태는 픽처 또는 슬라이스마다 상이하게 결정되거나, 각각의 최대 부호화 단위마다 상이하게 결정될 수도 있다.']}"
            ]
          },
          "metadata": {},
          "execution_count": 20
        }
      ]
    },
    {
      "cell_type": "code",
      "source": [
        "preprocess_test = preprocess_function(train_ds[:3])\n",
        "print('input id', preprocess_test.input_ids[0])\n",
        "print(tokenizer.decode(preprocess_test.input_ids[0]), '\\n')\n",
        "print('attention mask', preprocess_test.attention_mask[0], '\\n')\n",
        "print('label', preprocess_test.labels[0])\n",
        "print(tokenizer.decode(preprocess_test.labels[0]))"
      ],
      "metadata": {
        "colab": {
          "base_uri": "https://localhost:8080/"
        },
        "id": "CSVtadpAVO79",
        "outputId": "8a467c0b-db76-4c5b-dbe6-1beb1c55a931"
      },
      "execution_count": 21,
      "outputs": [
        {
          "output_type": "stream",
          "name": "stdout",
          "text": [
            "input id [37194, 5413, 288, 259, 37209, 267, 486, 39959, 19002, 259, 175510, 305, 259, 162249, 1432, 390, 17385, 345, 527, 259, 262, 788, 1696, 259, 97359, 2835, 631, 259, 262, 2002, 1233, 525, 2835, 259, 18775, 288, 259, 262, 36577, 260, 1]\n",
            "translate English to Korean: The comparators 1235 and 1237 may be expressed as a Relu activation function or a sigmoid function according to a setting.</s> \n",
            "\n",
            "attention mask [1, 1, 1, 1, 1, 1, 1, 1, 1, 1, 1, 1, 1, 1, 1, 1, 1, 1, 1, 1, 1, 1, 1, 1, 1, 1, 1, 1, 1, 1, 1, 1, 1, 1, 1, 1, 1, 1, 1, 1, 1] \n",
            "\n",
            "label [259, 53789, 1622, 312, 175510, 259, 5593, 644, 101294, 988, 30957, 118645, 259, 18490, 788, 1696, 63019, 3353, 12482, 2277, 1235, 49303, 125462, 1566, 3083, 19023, 261, 6463, 11051, 6763, 63362, 15331, 2277, 1235, 49303, 125462, 259, 44830, 3632, 260, 1]\n",
            "비교기(1235 및 1237)는 설정에 따라 Relu 활성함수로 나타낼 수 있으며, 시그모이드 함수로 나타낼 수도 있다.</s>\n"
          ]
        }
      ]
    },
    {
      "cell_type": "code",
      "source": [
        "tokenized_train = train_ds.map(preprocess_function, batched=True)\n",
        "tokenized_val = val_ds.map(preprocess_function, batched=True)\n",
        "tokenized_train, tokenized_val"
      ],
      "metadata": {
        "colab": {
          "base_uri": "https://localhost:8080/",
          "height": 202,
          "referenced_widgets": [
            "40c7538d2b5c4f4c9640a1230aa7222c",
            "5234ceedc67b4e01b07aa419127165f9",
            "5e644f0e347c427aa26e92d3e289d29a",
            "a1a0f35d68874b18947f906d8c5719b4",
            "0cea335262104ed385901c087f43b57e",
            "9fe02d3f1ea7408e802b799842e8167e",
            "a726a7e22926440aa9a769647fc966c6",
            "a9bcb92c472c467dbf51ea6f3372b37a",
            "99070a6b207f49a1a4e3b68efebb9c7e",
            "5051db9f8d6b42b9830d96c4862d0dc4",
            "ca7d20dba4f845ebb7966c2ce4e49a2d",
            "f025a198cc144f0693d0a57e36234a03",
            "eb5bb289639948fe9de745a4fd52fdf5",
            "483ee1058c694bcea01c758dd59196e6",
            "85bbffba8f9a4b3cbf17bd271e0bee5e",
            "0c1e54f343ad4d5288cb5712676c6364",
            "450656da32454d0e8a621c1ff1b9d571",
            "4f339e96f91f40b9be7b61b1624751c0",
            "a08a65dac4be45d1a00a873e0b02963e",
            "21eec0a92478485b9322d6dd5d90b93a",
            "8bc6821cc1e545b8bd95b4c5e7d6a798",
            "981c0bee05b34fd0ab9463325c882a81"
          ]
        },
        "id": "uhQB-xQ1VO_N",
        "outputId": "82ba7866-3e4d-4633-b39f-bedfb8e331c2"
      },
      "execution_count": 22,
      "outputs": [
        {
          "output_type": "display_data",
          "data": {
            "text/plain": [
              "  0%|          | 0/80 [00:00<?, ?ba/s]"
            ],
            "application/vnd.jupyter.widget-view+json": {
              "version_major": 2,
              "version_minor": 0,
              "model_id": "40c7538d2b5c4f4c9640a1230aa7222c"
            }
          },
          "metadata": {}
        },
        {
          "output_type": "display_data",
          "data": {
            "text/plain": [
              "  0%|          | 0/11 [00:00<?, ?ba/s]"
            ],
            "application/vnd.jupyter.widget-view+json": {
              "version_major": 2,
              "version_minor": 0,
              "model_id": "f025a198cc144f0693d0a57e36234a03"
            }
          },
          "metadata": {}
        },
        {
          "output_type": "execute_result",
          "data": {
            "text/plain": [
              "(Dataset({\n",
              "     features: ['en', 'ko_original', 'input_ids', 'attention_mask', 'labels'],\n",
              "     num_rows: 79979\n",
              " }), Dataset({\n",
              "     features: ['en', 'ko_original', 'input_ids', 'attention_mask', 'labels'],\n",
              "     num_rows: 10131\n",
              " }))"
            ]
          },
          "metadata": {},
          "execution_count": 22
        }
      ]
    },
    {
      "cell_type": "markdown",
      "source": [
        "### Load metric"
      ],
      "metadata": {
        "id": "MnuWgfC8igUb"
      }
    },
    {
      "cell_type": "code",
      "source": [
        "metric = load_metric(\"sacrebleu\")\n",
        "# fake_preds = [\"hello there\", \"general kenobi\"]\n",
        "# fake_labels = [[\"hello there\"], [\"general kenobi\"]]\n",
        "# metric.compute(predictions=fake_preds, references=fake_labels)"
      ],
      "metadata": {
        "id": "_QjQuaf9O4YJ"
      },
      "execution_count": 23,
      "outputs": []
    },
    {
      "cell_type": "code",
      "source": [
        "import numpy as np\n",
        "\n",
        "def postprocess_text(preds, labels):\n",
        "    preds = [pred.strip() for pred in preds]\n",
        "    labels = [[label.strip()] for label in labels]\n",
        "\n",
        "    return preds, labels\n",
        "\n",
        "def compute_metrics(eval_preds):\n",
        "    preds, labels = eval_preds\n",
        "    if isinstance(preds, tuple):\n",
        "        preds = preds[0]\n",
        "    decoded_preds = tokenizer.batch_decode(preds, skip_special_tokens=True)\n",
        "\n",
        "    # Replace -100 in the labels as we can't decode them.\n",
        "    labels = np.where(labels != -100, labels, tokenizer.pad_token_id)\n",
        "    decoded_labels = tokenizer.batch_decode(labels, skip_special_tokens=True)\n",
        "\n",
        "    # Some simple post-processing\n",
        "    decoded_preds, decoded_labels = postprocess_text(decoded_preds, decoded_labels)\n",
        "\n",
        "    result = metric.compute(predictions=decoded_preds, references=decoded_labels)\n",
        "    result = {\"bleu\": result[\"score\"]}\n",
        "\n",
        "    prediction_lens = [np.count_nonzero(pred != tokenizer.pad_token_id) for pred in preds]\n",
        "    result[\"gen_len\"] = np.mean(prediction_lens)\n",
        "    result = {k: round(v, 4) for k, v in result.items()}\n",
        "    return result"
      ],
      "metadata": {
        "id": "XKXf0rA-gGPE"
      },
      "execution_count": 24,
      "outputs": []
    },
    {
      "cell_type": "markdown",
      "source": [
        "### Check and Load model"
      ],
      "metadata": {
        "id": "v7YFYMPailL-"
      }
    },
    {
      "cell_type": "code",
      "source": [
        "config = AutoConfig.from_pretrained(model_ckpt)"
      ],
      "metadata": {
        "id": "pyw5xcgqQUaW"
      },
      "execution_count": 25,
      "outputs": []
    },
    {
      "cell_type": "code",
      "source": [
        "model = AutoModelForSeq2SeqLM.from_config(config)"
      ],
      "metadata": {
        "id": "q_9rSeWrRKfp"
      },
      "execution_count": 26,
      "outputs": []
    },
    {
      "cell_type": "code",
      "source": [
        "# Run Specifics\n",
        "# run_name = \n",
        "# seed = \n",
        "# data_seed = \n",
        "\n",
        "# Dir\n",
        "# report_to = \n",
        "# output_dir = \n",
        "# logging_dir = \n",
        "# overwrite_output_dir = \n",
        "\n",
        "# Hyper Parameters\n",
        "# num_train_epochs = \n",
        "# per_device_train_batch_size = \n",
        "# per_device_eval_batch_size = \n",
        "# gradient_accumulation_steps = \n",
        "# learning_rate = \n",
        "# weight_decay = \n",
        "# adam_beta1 = \n",
        "# adam_beta2 = \n",
        "# adam_epsilon = \n",
        "# max_grad_norm = \n",
        "# lr_scheduler_type = \n",
        "# warmup_ratio = \n",
        "# warmup_steps = \n",
        "# optim = \n",
        "# adafactor = \n",
        "\n",
        "# Eval\n",
        "# predict_with_generate = \n",
        "# generation_max_length = \n",
        "# generation_num_beams = \n",
        "# evaluation_strategy = \n",
        "# eval_delay = \n",
        "# eval_steps = \n",
        "\n",
        "# Logging\n",
        "# logging_strategy = \n",
        "# logging_first_step = \n",
        "# logging_steps = \n",
        "\n",
        "# Archving\n",
        "# save_strategy = \n",
        "# save_steps = \n",
        "# save_total_limit = \n",
        "# load_best_model_at_end = \n",
        "# metric_for_best_model = \n",
        "\n",
        "# etc.\n",
        "# resume_from_checkpoint = \n",
        "# remove_unused_columns = \n",
        "# label_names = \n",
        "# group_by_length = \n",
        "\n",
        "# for System\n",
        "# fp16 = \n",
        "# gradient_checkpointing = \n",
        "\n",
        "\n",
        "\n",
        "# not in use\n",
        "\n",
        "# do_train = \n",
        "# do_eval = \n",
        "# do_predict = \n",
        "# prediction_loss_only = \n",
        "\n",
        "# half_precision_backend = \n",
        "# no_cuda = \n",
        "# jit_mode_eval = \n",
        "# use_ipex = \n",
        "# bf16 = \n",
        "# fp16_opt_level = \n",
        "# bf16_full_eval = \n",
        "# fp16_full_eval = \n",
        "# tf32 = \n",
        "# local_rank = \n",
        "# xpu_backend = \n",
        "# tpu_num_cores = \n",
        "# tpu_metrics_debug = \n",
        "# debug = \n",
        "# dataloader_drop_last = \n",
        "\n",
        "# dataloader_num_workers = \n",
        "# past_index = \n",
        "# disable_tqdm = \n",
        "# greater_is_better = \n",
        "# ignore_data_skip = \n",
        "# sharded_ddp = \n",
        "# fsdp = \n",
        "# fsdp_min_num_params = \n",
        "# fsdp_transformer_layer_cls_to_wrap = \n",
        "# deepspeed = \n",
        "# label_smoothing_factor = \n",
        "\n",
        "# length_column_name = \n",
        "# ddp_find_unused_parameters = \n",
        "# ddp_bucket_cap_mb = \n",
        "# dataloader_pin_memory = \n",
        "# skip_memory_metrics = \n",
        "# use_legacy_prediction_loop = \n",
        "\n",
        "# include_inputs_for_metrics = \n",
        "# fp16_backend = \n",
        "# mp_parameters = \n",
        "# auto_find_batch_size = \n",
        "# full_determinism = \n",
        "# torchdynamo = \n",
        "# ray_scope = \n",
        "# sortish_sampler = \n",
        "\n",
        "# per_gpu_train_batch_size = \n",
        "# per_gpu_eval_batch_size = \n",
        "\n",
        "# max_steps = \n",
        "# log_level = \n",
        "# log_level_replica = \n",
        "# log_on_each_node = \n",
        "# logging_nan_inf_filter = \n",
        "# save_on_each_node = \n",
        "# push_to_hub = \n",
        "# hub_model_id = \n",
        "# hub_strategy = \n",
        "# hub_token = \n",
        "# hub_private_repo = \n",
        "# push_to_hub_model_id = \n",
        "# push_to_hub_organization = \n",
        "# push_to_hub_token = \n",
        "# eval_accumulation_steps = "
      ],
      "metadata": {
        "id": "eYwlo37NuMSz"
      },
      "execution_count": 27,
      "outputs": []
    },
    {
      "cell_type": "code",
      "source": [
        "model_name = model_ckpt.split(\"/\")[-1]\n",
        "args = Seq2SeqTrainingArguments(\n",
        "    f\"{model_name}-finetuned-{source_lang}-to-{target_lang}\",\n",
        "    \n",
        "    report_to='wandb',\n",
        "    run_name=run_name,\n",
        "\n",
        "    num_train_epochs=num_train_epochs,\n",
        "    per_device_train_batch_size=batch_size,\n",
        "    per_device_eval_batch_size=batch_size,\n",
        "    gradient_accumulation_steps=gradient_accumulation_steps,\n",
        "\n",
        "    learning_rate=2e-5,\n",
        "    weight_decay=0.01,\n",
        "\n",
        "    lr_scheduler_type=lr_scheduler_type,\n",
        "    warmup_ratio=warmup_ratio,\n",
        "    \n",
        "    evaluation_strategy=\"epoch\",\n",
        "    predict_with_generate=True,\n",
        "    generation_max_length=generation_max_length,\n",
        "    \n",
        "    save_strategy=\"epoch\",\n",
        "    save_total_limit=save_total_limit,\n",
        "    load_best_model_at_end=load_best_model_at_end,\n",
        "    metric_for_best_model=metric_for_best_model,\n",
        "    \n",
        "    fp16=fp16,\n",
        ")\n",
        "data_collator = DataCollatorForSeq2Seq(tokenizer, model=model)\n",
        "\n",
        "es = EarlyStoppingCallback(early_stopping_patience=early_stopping_patience)"
      ],
      "metadata": {
        "id": "Tzq1F-lNRpLN"
      },
      "execution_count": 29,
      "outputs": []
    },
    {
      "cell_type": "code",
      "source": [
        "trainer = Seq2SeqTrainer(\n",
        "    model,\n",
        "    args,\n",
        "    train_dataset=tokenized_train,\n",
        "    eval_dataset=tokenized_val,\n",
        "    data_collator=data_collator,\n",
        "    tokenizer=tokenizer,\n",
        "    compute_metrics=compute_metrics,\n",
        "    callbacks=[es],\n",
        ")"
      ],
      "metadata": {
        "colab": {
          "base_uri": "https://localhost:8080/"
        },
        "id": "CFZFoERSgMoX",
        "outputId": "0f85a2e7-a5d8-49cb-f4a0-46fd47042cb0"
      },
      "execution_count": 30,
      "outputs": [
        {
          "output_type": "stream",
          "name": "stderr",
          "text": [
            "Using cuda_amp half precision backend\n"
          ]
        }
      ]
    },
    {
      "cell_type": "code",
      "source": [
        "trainer.train()\n",
        "wandb.finish()"
      ],
      "metadata": {
        "colab": {
          "base_uri": "https://localhost:8080/",
          "height": 373
        },
        "id": "RlgQ_NgChMRy",
        "outputId": "5ec1a0a5-d461-4386-c152-224d482cb40b"
      },
      "execution_count": null,
      "outputs": [
        {
          "output_type": "stream",
          "name": "stderr",
          "text": [
            "The following columns in the training set don't have a corresponding argument in `MT5ForConditionalGeneration.forward` and have been ignored: en, ko_original. If en, ko_original are not expected by `MT5ForConditionalGeneration.forward`,  you can safely ignore this message.\n",
            "/usr/local/lib/python3.7/dist-packages/transformers/optimization.py:310: FutureWarning: This implementation of AdamW is deprecated and will be removed in a future version. Use the PyTorch implementation torch.optim.AdamW instead, or set `no_deprecation_warning=True` to disable this warning\n",
            "  FutureWarning,\n",
            "***** Running training *****\n",
            "  Num examples = 79979\n",
            "  Num Epochs = 3\n",
            "  Instantaneous batch size per device = 4\n",
            "  Total train batch size (w. parallel, distributed & accumulation) = 16\n",
            "  Gradient Accumulation steps = 4\n",
            "  Total optimization steps = 14994\n",
            "Automatic Weights & Biases logging enabled, to disable set os.environ[\"WANDB_DISABLED\"] = \"true\"\n"
          ]
        },
        {
          "output_type": "display_data",
          "data": {
            "text/plain": [
              "<IPython.core.display.HTML object>"
            ],
            "text/html": [
              "Changes to your `wandb` environment variables will be ignored because your `wandb` session has already started. For more information on how to modify your settings with `wandb.init()` arguments, please refer to <a href=\"https://wandb.me/wandb-init\" target=\"_blank\">the W&B docs</a>."
            ]
          },
          "metadata": {}
        },
        {
          "output_type": "display_data",
          "data": {
            "text/plain": [
              "<IPython.core.display.HTML object>"
            ],
            "text/html": [
              "Tracking run with wandb version 0.12.21"
            ]
          },
          "metadata": {}
        },
        {
          "output_type": "display_data",
          "data": {
            "text/plain": [
              "<IPython.core.display.HTML object>"
            ],
            "text/html": [
              "Run data is saved locally in <code>/content/wandb/run-20220802_052429-2l5wvenm</code>"
            ]
          },
          "metadata": {}
        },
        {
          "output_type": "display_data",
          "data": {
            "text/plain": [
              "<IPython.core.display.HTML object>"
            ],
            "text/html": [
              "Syncing run <strong><a href=\"https://wandb.ai/dotsnangles/en2ko-translator-mt5-small/runs/2l5wvenm\" target=\"_blank\">test run 002</a></strong> to <a href=\"https://wandb.ai/dotsnangles/en2ko-translator-mt5-small\" target=\"_blank\">Weights & Biases</a> (<a href=\"https://wandb.me/run\" target=\"_blank\">docs</a>)<br/>"
            ]
          },
          "metadata": {}
        },
        {
          "output_type": "display_data",
          "data": {
            "text/plain": [
              "<IPython.core.display.HTML object>"
            ],
            "text/html": [
              "\n",
              "    <div>\n",
              "      \n",
              "      <progress value='826' max='14994' style='width:300px; height:20px; vertical-align: middle;'></progress>\n",
              "      [  826/14994 07:05 < 2:01:51, 1.94 it/s, Epoch 0.17/3]\n",
              "    </div>\n",
              "    <table border=\"1\" class=\"dataframe\">\n",
              "  <thead>\n",
              " <tr style=\"text-align: left;\">\n",
              "      <th>Epoch</th>\n",
              "      <th>Training Loss</th>\n",
              "      <th>Validation Loss</th>\n",
              "    </tr>\n",
              "  </thead>\n",
              "  <tbody>\n",
              "  </tbody>\n",
              "</table><p>"
            ]
          },
          "metadata": {}
        }
      ]
    }
  ]
}