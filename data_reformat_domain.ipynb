{
  "nbformat": 4,
  "nbformat_minor": 0,
  "metadata": {
    "colab": {
      "name": "data_reformat_domain.ipynb",
      "provenance": [],
      "collapsed_sections": [],
      "authorship_tag": "ABX9TyNuB8ehDNVFnHU4BRahtXYl",
      "include_colab_link": true
    },
    "kernelspec": {
      "name": "python3",
      "display_name": "Python 3"
    },
    "language_info": {
      "name": "python"
    }
  },
  "cells": [
    {
      "cell_type": "markdown",
      "metadata": {
        "id": "view-in-github",
        "colab_type": "text"
      },
      "source": [
        "<a href=\"https://colab.research.google.com/github/dotsnangles/NMT-with-transformers/blob/master/data_reformat_domain.ipynb\" target=\"_parent\"><img src=\"https://colab.research.google.com/assets/colab-badge.svg\" alt=\"Open In Colab\"/></a>"
      ]
    },
    {
      "cell_type": "code",
      "source": [
        "# !rm -rf ./data"
      ],
      "metadata": {
        "id": "6qdI93ShD1on"
      },
      "execution_count": null,
      "outputs": []
    },
    {
      "cell_type": "code",
      "source": [
        "from google.colab import drive\n",
        "drive.mount('/content/drive')"
      ],
      "metadata": {
        "colab": {
          "base_uri": "https://localhost:8080/"
        },
        "id": "sWRF9_vof9HW",
        "outputId": "f8e76ba5-76c3-4630-e391-05a84f1bcccb"
      },
      "execution_count": null,
      "outputs": [
        {
          "output_type": "stream",
          "name": "stdout",
          "text": [
            "Drive already mounted at /content/drive; to attempt to forcibly remount, call drive.mount(\"/content/drive\", force_remount=True).\n"
          ]
        }
      ]
    },
    {
      "cell_type": "code",
      "execution_count": null,
      "metadata": {
        "id": "VaE32XoGVmYd"
      },
      "outputs": [],
      "source": [
        "import json, gdown\n",
        "import pandas as pd"
      ]
    },
    {
      "cell_type": "code",
      "source": [
        "id = \"1J21-T8wYjlj-91CxtxEzrcE34CDt7CM3\"\n",
        "gdown.download_folder(id=id, quiet=True, use_cookies=False)\n",
        "!unzip /content/data/TS1.zip -d /content/data\n",
        "!unzip /content/data/VS1.zip -d /content/data"
      ],
      "metadata": {
        "colab": {
          "base_uri": "https://localhost:8080/"
        },
        "id": "OI8UvS02Vspg",
        "outputId": "fb08c63c-9aa8-48db-f1ad-59c260e4a917"
      },
      "execution_count": null,
      "outputs": [
        {
          "output_type": "stream",
          "name": "stdout",
          "text": [
            "Archive:  /content/data/TS1.zip\n",
            "  inflating: /content/data/기술과학분야_한영_train_set.json  \n",
            "Archive:  /content/data/VS1.zip\n",
            "  inflating: /content/data/기술과학분야_한영_valid_set.json  \n"
          ]
        }
      ]
    },
    {
      "cell_type": "code",
      "source": [
        "train_json_path = './data/기술과학분야_한영_train_set.json'\n",
        "val_json_path = './data/기술과학분야_한영_valid_set.json'\n",
        "\n",
        "with open(train_json_path, 'rb') as f:\n",
        "    train_json = json.load(f)\n",
        "with open(val_json_path, 'rb') as f:\n",
        "    val_json = json.load(f)\n",
        "\n",
        "len(train_json['data']), len(val_json['data'])"
      ],
      "metadata": {
        "id": "aK4aeRYzWp4v",
        "colab": {
          "base_uri": "https://localhost:8080/"
        },
        "outputId": "9172995b-c69c-43c2-f5e7-bec2fb011412"
      },
      "execution_count": null,
      "outputs": [
        {
          "output_type": "execute_result",
          "data": {
            "text/plain": [
              "(1200144, 150018)"
            ]
          },
          "metadata": {},
          "execution_count": 3
        }
      ]
    },
    {
      "cell_type": "code",
      "source": [
        "train = pd.json_normalize(train_json['data'])\n",
        "val = pd.json_normalize(val_json['data'])\n",
        "train.info(), val.info()"
      ],
      "metadata": {
        "colab": {
          "base_uri": "https://localhost:8080/"
        },
        "id": "ybqa9TcyyaTG",
        "outputId": "576a8bc3-bfaf-400e-ce13-56cd8a4417fa"
      },
      "execution_count": null,
      "outputs": [
        {
          "output_type": "stream",
          "name": "stdout",
          "text": [
            "<class 'pandas.core.frame.DataFrame'>\n",
            "RangeIndex: 1200144 entries, 0 to 1200143\n",
            "Data columns (total 21 columns):\n",
            " #   Column                  Non-Null Count    Dtype  \n",
            "---  ------                  --------------    -----  \n",
            " 0   sn                      1200144 non-null  object \n",
            " 1   data_set                1200144 non-null  object \n",
            " 2   domain                  1200144 non-null  object \n",
            " 3   subdomain               1200144 non-null  object \n",
            " 4   ko_original             1200144 non-null  object \n",
            " 5   ko                      1200144 non-null  object \n",
            " 6   mt                      1200144 non-null  object \n",
            " 7   en                      1200144 non-null  object \n",
            " 8   source_language         1200144 non-null  object \n",
            " 9   target_language         1200144 non-null  object \n",
            " 10  word_count_ko           1200144 non-null  int64  \n",
            " 11  word_count_en           1200144 non-null  int64  \n",
            " 12  word_ratio              1200144 non-null  float64\n",
            " 13  file_name               1200144 non-null  object \n",
            " 14  source                  1200144 non-null  object \n",
            " 15  license                 1200144 non-null  object \n",
            " 16  style                   1200144 non-null  object \n",
            " 17  included_unknown_words  1200144 non-null  bool   \n",
            " 18  ner                     0 non-null        float64\n",
            " 19  ner.text                196313 non-null   object \n",
            " 20  ner.tags                196313 non-null   object \n",
            "dtypes: bool(1), float64(2), int64(2), object(16)\n",
            "memory usage: 184.3+ MB\n",
            "<class 'pandas.core.frame.DataFrame'>\n",
            "RangeIndex: 150018 entries, 0 to 150017\n",
            "Data columns (total 21 columns):\n",
            " #   Column                  Non-Null Count   Dtype  \n",
            "---  ------                  --------------   -----  \n",
            " 0   sn                      150018 non-null  object \n",
            " 1   data_set                150018 non-null  object \n",
            " 2   domain                  150018 non-null  object \n",
            " 3   subdomain               150018 non-null  object \n",
            " 4   ko_original             150018 non-null  object \n",
            " 5   ko                      150018 non-null  object \n",
            " 6   mt                      150018 non-null  object \n",
            " 7   en                      150018 non-null  object \n",
            " 8   source_language         150018 non-null  object \n",
            " 9   target_language         150018 non-null  object \n",
            " 10  word_count_ko           150018 non-null  int64  \n",
            " 11  word_count_en           150018 non-null  int64  \n",
            " 12  word_ratio              150018 non-null  float64\n",
            " 13  file_name               150018 non-null  object \n",
            " 14  source                  150018 non-null  object \n",
            " 15  license                 150018 non-null  object \n",
            " 16  style                   150018 non-null  object \n",
            " 17  included_unknown_words  150018 non-null  bool   \n",
            " 18  ner                     0 non-null       float64\n",
            " 19  ner.text                24646 non-null   object \n",
            " 20  ner.tags                24646 non-null   object \n",
            "dtypes: bool(1), float64(2), int64(2), object(16)\n",
            "memory usage: 23.0+ MB\n"
          ]
        },
        {
          "output_type": "execute_result",
          "data": {
            "text/plain": [
              "(None, None)"
            ]
          },
          "metadata": {},
          "execution_count": 4
        }
      ]
    },
    {
      "cell_type": "code",
      "source": [
        "train = train[['ko_original', 'ko', 'en', 'mt', 'domain', 'subdomain']]\n",
        "val = val[['ko_original', 'ko', 'en', 'mt', 'domain', 'subdomain']]\n",
        "train.info(), val.info()"
      ],
      "metadata": {
        "colab": {
          "base_uri": "https://localhost:8080/"
        },
        "id": "hWfQpyWSW_Pk",
        "outputId": "a9242ff3-a778-44c3-8851-7d6b18cc632e"
      },
      "execution_count": null,
      "outputs": [
        {
          "output_type": "stream",
          "name": "stdout",
          "text": [
            "<class 'pandas.core.frame.DataFrame'>\n",
            "RangeIndex: 1200144 entries, 0 to 1200143\n",
            "Data columns (total 6 columns):\n",
            " #   Column       Non-Null Count    Dtype \n",
            "---  ------       --------------    ----- \n",
            " 0   ko_original  1200144 non-null  object\n",
            " 1   ko           1200144 non-null  object\n",
            " 2   en           1200144 non-null  object\n",
            " 3   mt           1200144 non-null  object\n",
            " 4   domain       1200144 non-null  object\n",
            " 5   subdomain    1200144 non-null  object\n",
            "dtypes: object(6)\n",
            "memory usage: 54.9+ MB\n",
            "<class 'pandas.core.frame.DataFrame'>\n",
            "RangeIndex: 150018 entries, 0 to 150017\n",
            "Data columns (total 6 columns):\n",
            " #   Column       Non-Null Count   Dtype \n",
            "---  ------       --------------   ----- \n",
            " 0   ko_original  150018 non-null  object\n",
            " 1   ko           150018 non-null  object\n",
            " 2   en           150018 non-null  object\n",
            " 3   mt           150018 non-null  object\n",
            " 4   domain       150018 non-null  object\n",
            " 5   subdomain    150018 non-null  object\n",
            "dtypes: object(6)\n",
            "memory usage: 6.9+ MB\n"
          ]
        },
        {
          "output_type": "execute_result",
          "data": {
            "text/plain": [
              "(None, None)"
            ]
          },
          "metadata": {},
          "execution_count": 5
        }
      ]
    },
    {
      "cell_type": "code",
      "source": [
        "# domain = train['subdomain'] == '인공지능'\n",
        "# train = train.loc[domain]\n",
        "# domain = val['subdomain'] == '인공지능'\n",
        "# val = val.loc[domain]\n",
        "# train = train[['en', 'ko_original']]\n",
        "# val = val[['en', 'ko_original']]\n",
        "# train.info(), val.info()"
      ],
      "metadata": {
        "id": "uxkXYrTNIgkY"
      },
      "execution_count": null,
      "outputs": []
    },
    {
      "cell_type": "code",
      "source": [
        "domain = train['domain'] == '기술과학'\n",
        "train = train.loc[domain]\n",
        "domain = val['domain'] == '기술과학'\n",
        "val = val.loc[domain]"
      ],
      "metadata": {
        "id": "4pV-mVvNhD1d"
      },
      "execution_count": null,
      "outputs": []
    },
    {
      "cell_type": "code",
      "source": [
        "train.info(), val.info()"
      ],
      "metadata": {
        "id": "hk8St1qPhSfA",
        "outputId": "df6aa655-1f38-447f-ce1e-846a5abbe11c",
        "colab": {
          "base_uri": "https://localhost:8080/"
        }
      },
      "execution_count": null,
      "outputs": [
        {
          "output_type": "stream",
          "name": "stdout",
          "text": [
            "<class 'pandas.core.frame.DataFrame'>\n",
            "Int64Index: 319551 entries, 3 to 1200142\n",
            "Data columns (total 6 columns):\n",
            " #   Column       Non-Null Count   Dtype \n",
            "---  ------       --------------   ----- \n",
            " 0   ko_original  319551 non-null  object\n",
            " 1   ko           319551 non-null  object\n",
            " 2   en           319551 non-null  object\n",
            " 3   mt           319551 non-null  object\n",
            " 4   domain       319551 non-null  object\n",
            " 5   subdomain    319551 non-null  object\n",
            "dtypes: object(6)\n",
            "memory usage: 17.1+ MB\n",
            "<class 'pandas.core.frame.DataFrame'>\n",
            "Int64Index: 40359 entries, 0 to 150017\n",
            "Data columns (total 6 columns):\n",
            " #   Column       Non-Null Count  Dtype \n",
            "---  ------       --------------  ----- \n",
            " 0   ko_original  40359 non-null  object\n",
            " 1   ko           40359 non-null  object\n",
            " 2   en           40359 non-null  object\n",
            " 3   mt           40359 non-null  object\n",
            " 4   domain       40359 non-null  object\n",
            " 5   subdomain    40359 non-null  object\n",
            "dtypes: object(6)\n",
            "memory usage: 2.2+ MB\n"
          ]
        },
        {
          "output_type": "execute_result",
          "data": {
            "text/plain": [
              "(None, None)"
            ]
          },
          "metadata": {},
          "execution_count": 9
        }
      ]
    },
    {
      "cell_type": "code",
      "source": [
        "def check_if_str(col):\n",
        "    for e in col.to_list():\n",
        "        if type(e) is not str:\n",
        "            print(e)"
      ],
      "metadata": {
        "id": "TmkzI2YwdTrj"
      },
      "execution_count": null,
      "outputs": []
    },
    {
      "cell_type": "code",
      "source": [
        "check_if_str(train['ko_original'])"
      ],
      "metadata": {
        "id": "00-wtaY0deFu"
      },
      "execution_count": null,
      "outputs": []
    },
    {
      "cell_type": "code",
      "source": [
        "check_if_str(train['ko'])"
      ],
      "metadata": {
        "id": "5WERSjv5z9xe"
      },
      "execution_count": null,
      "outputs": []
    },
    {
      "cell_type": "code",
      "source": [
        "check_if_str(train['en'])"
      ],
      "metadata": {
        "id": "kbTEsgtfcnim"
      },
      "execution_count": null,
      "outputs": []
    },
    {
      "cell_type": "code",
      "source": [
        "check_if_str(train['mt'])"
      ],
      "metadata": {
        "id": "o2EQdNRFz53a"
      },
      "execution_count": null,
      "outputs": []
    },
    {
      "cell_type": "code",
      "source": [
        "check_if_str(val['ko_original'])"
      ],
      "metadata": {
        "id": "--OMy-a5dszx"
      },
      "execution_count": null,
      "outputs": []
    },
    {
      "cell_type": "code",
      "source": [
        "check_if_str(val['ko'])"
      ],
      "metadata": {
        "id": "8RyZcCji0CfK"
      },
      "execution_count": null,
      "outputs": []
    },
    {
      "cell_type": "code",
      "source": [
        "check_if_str(val['en'])"
      ],
      "metadata": {
        "id": "1zvqVznsdNX5"
      },
      "execution_count": null,
      "outputs": []
    },
    {
      "cell_type": "code",
      "source": [
        "check_if_str(val['mt'])"
      ],
      "metadata": {
        "id": "s1Ca4RkGz4CI"
      },
      "execution_count": null,
      "outputs": []
    },
    {
      "cell_type": "code",
      "source": [
        "train.to_csv('/content/drive/MyDrive/Data Science/알파코 딥러닝 부트캠프/프로젝트/translators/data/train_domain.csv', index=False)\n",
        "val.to_csv('/content/drive/MyDrive/Data Science/알파코 딥러닝 부트캠프/프로젝트/translators/data/val_domain.csv', index=False)"
      ],
      "metadata": {
        "id": "ftKUrhehfw7z"
      },
      "execution_count": null,
      "outputs": []
    },
    {
      "cell_type": "code",
      "source": [
        "pd.read_csv('/content/drive/MyDrive/Data Science/알파코 딥러닝 부트캠프/프로젝트/translators/data/train_domain.csv')"
      ],
      "metadata": {
        "colab": {
          "base_uri": "https://localhost:8080/",
          "height": 780
        },
        "id": "_7m5wIxhgTfB",
        "outputId": "d5b44246-7489-4323-97fc-b0c4c54869ca"
      },
      "execution_count": null,
      "outputs": [
        {
          "output_type": "execute_result",
          "data": {
            "text/plain": [
              "                                              ko_original  \\\n",
              "0       비교기(1235 및 1237)는 설정에 따라 Relu 활성함수로 나타낼 수 있으며,...   \n",
              "1       서버(320)는 분석 모델 DB(325)에 소스 영상을 입력하고, 학습 모델에서 출...   \n",
              "2       상기 회전을 결정하는 단계는 상기 얼굴 이미지에 포함된 눈의 모양에 기초하여 상기 ...   \n",
              "3       블록 형태 및 분할 형태는 픽처 또는 슬라이스마다 상이하게 결정되거나, 각각의 최대...   \n",
              "4       사용자 장치(204)는 사용자 장치(204)의 카메라, 다른 이미지 캡처 장치 또는...   \n",
              "...                                                   ...   \n",
              "319546  브라우징 엔진(505)은 검색 질의에 매칭하는 하나 이상의 결과 영상 리스트를 제공...   \n",
              "319547  제1 내지 제4 지문 구동 전극(TEb1 내지 TEb4)은 제5 터치 구동 전극(T...   \n",
              "319548  전자 장치(1000)는 검색된 SNS 게시글의 구조, 포함된 단어 등을 이용하여, ...   \n",
              "319549  변수 i가 k와 일치하지 아니하는 경우, 단계 S250에서 변수 i는 1만큼 증가할...   \n",
              "319550  공공 입찰 관련 통계 분류를 248,832건으로 분류하고, 신규 입찰 공고 및 개찰...   \n",
              "\n",
              "                                                       ko  \\\n",
              "0       비교기(1235 및 1237)는 설정에 따라 Relu 활성함수로 나타낼 수 있으며,...   \n",
              "1       서버(320)는 분석 모델 DB(325)에 소스 영상을 입력하고, 학습 모델에서 출...   \n",
              "2       상기 회전을 결정하는 단계는 상기 얼굴 이미지에 포함된 눈의 모양에 기초하여 상기 ...   \n",
              "3       블록 형태 및 분할 형태는 픽처 또는 슬라이스마다 상이하게 결정되거나, 각각의 최대...   \n",
              "4       사용자 장치(204)는 사용자 장치(204)의 카메라, 다른 이미지 캡처 장치 또는...   \n",
              "...                                                   ...   \n",
              "319546  브라우징 엔진(505)은 검색 질의에 매칭하는 하나 이상의 결과 영상 리스트를 제공...   \n",
              "319547  제1 내지 제4 지문 구동 전극(TEb1 내지 TEb4)은 제5 터치 구동 전극(T...   \n",
              "319548  전자 장치(1000)는 검색된 SNS 게시글의 구조, 포함된 단어 등을 이용하여, ...   \n",
              "319549  변수 i가 k와 일치하지 아니하는 경우, 단계 S250에서 변수 i는 1만큼 증가할...   \n",
              "319550  공공 입찰 관련 통계 분류를 248,832건으로 분류하고, 신규 입찰 공고 및 개찰...   \n",
              "\n",
              "                                                       en  \\\n",
              "0       The comparators 1235 and 1237 may be expressed...   \n",
              "1       The server 320 may input a source image to the...   \n",
              "2       The step of determining the rotation may inclu...   \n",
              "3       The block shape and the split shape may be dif...   \n",
              "4       The user device 204 may detect body movement t...   \n",
              "...                                                   ...   \n",
              "319546  The browsing engine 505 may provide a list of ...   \n",
              "319547  The first to fourth fingerprint driving electr...   \n",
              "319548  The electronic device 1000 may generate a text...   \n",
              "319549  If the variable i does not match k, the variab...   \n",
              "319550  The statistical classification related to publ...   \n",
              "\n",
              "                                                       mt domain subdomain  \n",
              "0       The comparators 1235 and 1237 may be expressed...   기술과학      인공지능  \n",
              "1       The server 320 may input a source image to the...   기술과학      인공지능  \n",
              "2       The determining of the rotation may include de...   기술과학        IT  \n",
              "3       The block shape and the split shape may be dif...   기술과학      인공지능  \n",
              "4       The user device 204 may detect body movement t...   기술과학        IT  \n",
              "...                                                   ...    ...       ...  \n",
              "319546  The browsing engine 505 may provide a list of ...   기술과학      빅데이터  \n",
              "319547  The first to fourth fingerprint driving electr...   기술과학        IT  \n",
              "319548  The electronic device 1000 may generate a text...   기술과학      인공지능  \n",
              "319549  If the variable i does not match k, the variab...   기술과학      인공지능  \n",
              "319550  The statistical classification related to publ...   기술과학      인공지능  \n",
              "\n",
              "[319551 rows x 6 columns]"
            ],
            "text/html": [
              "\n",
              "  <div id=\"df-5bce59f4-9c98-4ac0-80e9-e020a88a5443\">\n",
              "    <div class=\"colab-df-container\">\n",
              "      <div>\n",
              "<style scoped>\n",
              "    .dataframe tbody tr th:only-of-type {\n",
              "        vertical-align: middle;\n",
              "    }\n",
              "\n",
              "    .dataframe tbody tr th {\n",
              "        vertical-align: top;\n",
              "    }\n",
              "\n",
              "    .dataframe thead th {\n",
              "        text-align: right;\n",
              "    }\n",
              "</style>\n",
              "<table border=\"1\" class=\"dataframe\">\n",
              "  <thead>\n",
              "    <tr style=\"text-align: right;\">\n",
              "      <th></th>\n",
              "      <th>ko_original</th>\n",
              "      <th>ko</th>\n",
              "      <th>en</th>\n",
              "      <th>mt</th>\n",
              "      <th>domain</th>\n",
              "      <th>subdomain</th>\n",
              "    </tr>\n",
              "  </thead>\n",
              "  <tbody>\n",
              "    <tr>\n",
              "      <th>0</th>\n",
              "      <td>비교기(1235 및 1237)는 설정에 따라 Relu 활성함수로 나타낼 수 있으며,...</td>\n",
              "      <td>비교기(1235 및 1237)는 설정에 따라 Relu 활성함수로 나타낼 수 있으며,...</td>\n",
              "      <td>The comparators 1235 and 1237 may be expressed...</td>\n",
              "      <td>The comparators 1235 and 1237 may be expressed...</td>\n",
              "      <td>기술과학</td>\n",
              "      <td>인공지능</td>\n",
              "    </tr>\n",
              "    <tr>\n",
              "      <th>1</th>\n",
              "      <td>서버(320)는 분석 모델 DB(325)에 소스 영상을 입력하고, 학습 모델에서 출...</td>\n",
              "      <td>서버(320)는 분석 모델 DB(325)에 소스 영상을 입력하고, 학습 모델에서 출...</td>\n",
              "      <td>The server 320 may input a source image to the...</td>\n",
              "      <td>The server 320 may input a source image to the...</td>\n",
              "      <td>기술과학</td>\n",
              "      <td>인공지능</td>\n",
              "    </tr>\n",
              "    <tr>\n",
              "      <th>2</th>\n",
              "      <td>상기 회전을 결정하는 단계는 상기 얼굴 이미지에 포함된 눈의 모양에 기초하여 상기 ...</td>\n",
              "      <td>상기 회전을 결정하는 단계는 상기 얼굴 이미지에 포함된 눈의 모양에 기초하여 상기 ...</td>\n",
              "      <td>The step of determining the rotation may inclu...</td>\n",
              "      <td>The determining of the rotation may include de...</td>\n",
              "      <td>기술과학</td>\n",
              "      <td>IT</td>\n",
              "    </tr>\n",
              "    <tr>\n",
              "      <th>3</th>\n",
              "      <td>블록 형태 및 분할 형태는 픽처 또는 슬라이스마다 상이하게 결정되거나, 각각의 최대...</td>\n",
              "      <td>블록 형태 및 분할 형태는 픽처 또는 슬라이스마다 상이하게 결정되거나, 각각의 최대...</td>\n",
              "      <td>The block shape and the split shape may be dif...</td>\n",
              "      <td>The block shape and the split shape may be dif...</td>\n",
              "      <td>기술과학</td>\n",
              "      <td>인공지능</td>\n",
              "    </tr>\n",
              "    <tr>\n",
              "      <th>4</th>\n",
              "      <td>사용자 장치(204)는 사용자 장치(204)의 카메라, 다른 이미지 캡처 장치 또는...</td>\n",
              "      <td>사용자 장치(204)는 사용자 장치(204)의 카메라, 다른 이미지 캡처 장치 또는...</td>\n",
              "      <td>The user device 204 may detect body movement t...</td>\n",
              "      <td>The user device 204 may detect body movement t...</td>\n",
              "      <td>기술과학</td>\n",
              "      <td>IT</td>\n",
              "    </tr>\n",
              "    <tr>\n",
              "      <th>...</th>\n",
              "      <td>...</td>\n",
              "      <td>...</td>\n",
              "      <td>...</td>\n",
              "      <td>...</td>\n",
              "      <td>...</td>\n",
              "      <td>...</td>\n",
              "    </tr>\n",
              "    <tr>\n",
              "      <th>319546</th>\n",
              "      <td>브라우징 엔진(505)은 검색 질의에 매칭하는 하나 이상의 결과 영상 리스트를 제공...</td>\n",
              "      <td>브라우징 엔진(505)은 검색 질의에 매칭하는 하나 이상의 결과 영상 리스트를 제공...</td>\n",
              "      <td>The browsing engine 505 may provide a list of ...</td>\n",
              "      <td>The browsing engine 505 may provide a list of ...</td>\n",
              "      <td>기술과학</td>\n",
              "      <td>빅데이터</td>\n",
              "    </tr>\n",
              "    <tr>\n",
              "      <th>319547</th>\n",
              "      <td>제1 내지 제4 지문 구동 전극(TEb1 내지 TEb4)은 제5 터치 구동 전극(T...</td>\n",
              "      <td>제1 내지 제4 지문 구동 전극(TEb1 내지 TEb4)은 제5 터치 구동 전극(T...</td>\n",
              "      <td>The first to fourth fingerprint driving electr...</td>\n",
              "      <td>The first to fourth fingerprint driving electr...</td>\n",
              "      <td>기술과학</td>\n",
              "      <td>IT</td>\n",
              "    </tr>\n",
              "    <tr>\n",
              "      <th>319548</th>\n",
              "      <td>전자 장치(1000)는 검색된 SNS 게시글의 구조, 포함된 단어 등을 이용하여, ...</td>\n",
              "      <td>전자 장치(1000)는 검색된 SNS 게시글의 구조, 포함된 단어 등을 이용하여, ...</td>\n",
              "      <td>The electronic device 1000 may generate a text...</td>\n",
              "      <td>The electronic device 1000 may generate a text...</td>\n",
              "      <td>기술과학</td>\n",
              "      <td>인공지능</td>\n",
              "    </tr>\n",
              "    <tr>\n",
              "      <th>319549</th>\n",
              "      <td>변수 i가 k와 일치하지 아니하는 경우, 단계 S250에서 변수 i는 1만큼 증가할...</td>\n",
              "      <td>변수 i가 k와 일치하지 아니하는 경우, 단계 S250에서 변수 i는 1만큼 증가할...</td>\n",
              "      <td>If the variable i does not match k, the variab...</td>\n",
              "      <td>If the variable i does not match k, the variab...</td>\n",
              "      <td>기술과학</td>\n",
              "      <td>인공지능</td>\n",
              "    </tr>\n",
              "    <tr>\n",
              "      <th>319550</th>\n",
              "      <td>공공 입찰 관련 통계 분류를 248,832건으로 분류하고, 신규 입찰 공고 및 개찰...</td>\n",
              "      <td>공공 입찰 관련 통계 분류를 248,832건으로 분류하고, 신규 입찰 공고 및 개찰...</td>\n",
              "      <td>The statistical classification related to publ...</td>\n",
              "      <td>The statistical classification related to publ...</td>\n",
              "      <td>기술과학</td>\n",
              "      <td>인공지능</td>\n",
              "    </tr>\n",
              "  </tbody>\n",
              "</table>\n",
              "<p>319551 rows × 6 columns</p>\n",
              "</div>\n",
              "      <button class=\"colab-df-convert\" onclick=\"convertToInteractive('df-5bce59f4-9c98-4ac0-80e9-e020a88a5443')\"\n",
              "              title=\"Convert this dataframe to an interactive table.\"\n",
              "              style=\"display:none;\">\n",
              "        \n",
              "  <svg xmlns=\"http://www.w3.org/2000/svg\" height=\"24px\"viewBox=\"0 0 24 24\"\n",
              "       width=\"24px\">\n",
              "    <path d=\"M0 0h24v24H0V0z\" fill=\"none\"/>\n",
              "    <path d=\"M18.56 5.44l.94 2.06.94-2.06 2.06-.94-2.06-.94-.94-2.06-.94 2.06-2.06.94zm-11 1L8.5 8.5l.94-2.06 2.06-.94-2.06-.94L8.5 2.5l-.94 2.06-2.06.94zm10 10l.94 2.06.94-2.06 2.06-.94-2.06-.94-.94-2.06-.94 2.06-2.06.94z\"/><path d=\"M17.41 7.96l-1.37-1.37c-.4-.4-.92-.59-1.43-.59-.52 0-1.04.2-1.43.59L10.3 9.45l-7.72 7.72c-.78.78-.78 2.05 0 2.83L4 21.41c.39.39.9.59 1.41.59.51 0 1.02-.2 1.41-.59l7.78-7.78 2.81-2.81c.8-.78.8-2.07 0-2.86zM5.41 20L4 18.59l7.72-7.72 1.47 1.35L5.41 20z\"/>\n",
              "  </svg>\n",
              "      </button>\n",
              "      \n",
              "  <style>\n",
              "    .colab-df-container {\n",
              "      display:flex;\n",
              "      flex-wrap:wrap;\n",
              "      gap: 12px;\n",
              "    }\n",
              "\n",
              "    .colab-df-convert {\n",
              "      background-color: #E8F0FE;\n",
              "      border: none;\n",
              "      border-radius: 50%;\n",
              "      cursor: pointer;\n",
              "      display: none;\n",
              "      fill: #1967D2;\n",
              "      height: 32px;\n",
              "      padding: 0 0 0 0;\n",
              "      width: 32px;\n",
              "    }\n",
              "\n",
              "    .colab-df-convert:hover {\n",
              "      background-color: #E2EBFA;\n",
              "      box-shadow: 0px 1px 2px rgba(60, 64, 67, 0.3), 0px 1px 3px 1px rgba(60, 64, 67, 0.15);\n",
              "      fill: #174EA6;\n",
              "    }\n",
              "\n",
              "    [theme=dark] .colab-df-convert {\n",
              "      background-color: #3B4455;\n",
              "      fill: #D2E3FC;\n",
              "    }\n",
              "\n",
              "    [theme=dark] .colab-df-convert:hover {\n",
              "      background-color: #434B5C;\n",
              "      box-shadow: 0px 1px 3px 1px rgba(0, 0, 0, 0.15);\n",
              "      filter: drop-shadow(0px 1px 2px rgba(0, 0, 0, 0.3));\n",
              "      fill: #FFFFFF;\n",
              "    }\n",
              "  </style>\n",
              "\n",
              "      <script>\n",
              "        const buttonEl =\n",
              "          document.querySelector('#df-5bce59f4-9c98-4ac0-80e9-e020a88a5443 button.colab-df-convert');\n",
              "        buttonEl.style.display =\n",
              "          google.colab.kernel.accessAllowed ? 'block' : 'none';\n",
              "\n",
              "        async function convertToInteractive(key) {\n",
              "          const element = document.querySelector('#df-5bce59f4-9c98-4ac0-80e9-e020a88a5443');\n",
              "          const dataTable =\n",
              "            await google.colab.kernel.invokeFunction('convertToInteractive',\n",
              "                                                     [key], {});\n",
              "          if (!dataTable) return;\n",
              "\n",
              "          const docLinkHtml = 'Like what you see? Visit the ' +\n",
              "            '<a target=\"_blank\" href=https://colab.research.google.com/notebooks/data_table.ipynb>data table notebook</a>'\n",
              "            + ' to learn more about interactive tables.';\n",
              "          element.innerHTML = '';\n",
              "          dataTable['output_type'] = 'display_data';\n",
              "          await google.colab.output.renderOutput(dataTable, element);\n",
              "          const docLink = document.createElement('div');\n",
              "          docLink.innerHTML = docLinkHtml;\n",
              "          element.appendChild(docLink);\n",
              "        }\n",
              "      </script>\n",
              "    </div>\n",
              "  </div>\n",
              "  "
            ]
          },
          "metadata": {},
          "execution_count": 20
        }
      ]
    },
    {
      "cell_type": "code",
      "source": [
        "pd.read_csv('/content/drive/MyDrive/Data Science/알파코 딥러닝 부트캠프/프로젝트/translators/data/val_domain.csv')"
      ],
      "metadata": {
        "colab": {
          "base_uri": "https://localhost:8080/",
          "height": 763
        },
        "id": "dboFyqZ0gwKk",
        "outputId": "8f242c4e-2def-434e-8f23-2371fee582dc"
      },
      "execution_count": null,
      "outputs": [
        {
          "output_type": "execute_result",
          "data": {
            "text/plain": [
              "                                             ko_original  \\\n",
              "0      상기 제1 지점 및 상기 제2 지점은 표시 장치(160) 내에 위치하는 서로 상이한...   \n",
              "1      시선 추적부(206)가 딥러닝 모델(210)을 이용하여 사용자의 시선을 보다 정확히...   \n",
              "2      에지 트림(608b)은 또한 광이 에지(612)를 통해 커버(604b)로 진입하거나...   \n",
              "3      이를 위하여, 상기 본인 인증 시스템(100)은 상기 유저의 성문(聲紋, voice...   \n",
              "4      데이터 클록 회로(304)는 데이터 신호(310)를 주변 클록(312)과 비교하고 ...   \n",
              "...                                                  ...   \n",
              "40354  임피던스 계측을 위한 교류 전류 I1, I2가 주행 모터(53) 등의 부하에 흐르는...   \n",
              "40355  엔드 노드(100)는 라우터 노드(200)로 검침 데이터를 전송하며, 라우터 노드(...   \n",
              "40356  상호 작용식 미디어 안내 애플리케이션은 유저가 콘텐츠 사이를 탐색하고, 콘텐츠의 위...   \n",
              "40357  컨볼루션 신경망(312)은 데이터베이스(140)에 입력된 IVUS 원영상 및 샘플 ...   \n",
              "40358  관리 단말(200)은 데이터 관리 프로그램의 실행을 위한 접속 인증 정보를 포함하는...   \n",
              "\n",
              "                                                      ko  \\\n",
              "0      상기 제1 지점 및 상기 제2 지점은 표시 장치(160) 내에 위치하는 서로 상이한...   \n",
              "1      시선 추적부(206)가 딥러닝 모델(210)을 이용하여 사용자의 시선을 보다 정확히...   \n",
              "2      에지 트림(608b)은 또한 광이 에지(612)를 통해 커버(604b)로 진입하거나...   \n",
              "3      이를 위하여, 상기 본인 인증 시스템(100)은 상기 유저의 성문(聲紋, voice...   \n",
              "4      데이터 클록 회로(304)는 데이터 신호(310)를 주변 클록(312)과 비교하고 ...   \n",
              "...                                                  ...   \n",
              "40354  임피던스 계측을 위한 교류 전류 I1, I2가 주행 모터(53) 등의 부하에 흐르는...   \n",
              "40355  엔드 노드(100)는 라우터 노드(200)로 검침 데이터를 전송하며, 라우터 노드(...   \n",
              "40356  상호 작용식 미디어 안내 애플리케이션은 유저가 콘텐츠 사이를 탐색하고, 콘텐츠의 위...   \n",
              "40357  컨볼루션 신경망(312)은 데이터베이스(140)에 입력된 IVUS 원영상 및 샘플 ...   \n",
              "40358  관리 단말(200)은 데이터 관리 프로그램의 실행을 위한 접속 인증 정보를 포함하는...   \n",
              "\n",
              "                                                      en  \\\n",
              "0      The first point and the second point may inclu...   \n",
              "1      In order for the eye tracking unit 206 to more...   \n",
              "2      The edge trim 608b may also prevent light from...   \n",
              "3      To this end, the identity authentication syste...   \n",
              "4      The data clock circuit 304 may compare the dat...   \n",
              "...                                                  ...   \n",
              "40354  Since the alternating currents I1 and I2 for t...   \n",
              "40355  The end node 100 transmits the meter reading d...   \n",
              "40356  An interactive media guidance application may ...   \n",
              "40357  The convolutional neural network 312 may deter...   \n",
              "40358  The management terminal 200 includes an interf...   \n",
              "\n",
              "                                                      mt domain subdomain  \n",
              "0      The first point and the second point may inclu...   기술과학        IT  \n",
              "1      In order for the eye tracking unit 206 to more...   기술과학        IT  \n",
              "2      Edge trim 608b may also prevent light from ent...   기술과학        IT  \n",
              "3      To this end, the identity authentication syste...   기술과학        IT  \n",
              "4      The data clock circuit 304 may compare the dat...   기술과학      빅데이터  \n",
              "...                                                  ...    ...       ...  \n",
              "40354  Since the alternating currents I1 and I2 for i...   기술과학      인공지능  \n",
              "40355  The end node 100 transmits the meter reading d...   기술과학      빅데이터  \n",
              "40356  An interactive media guidance application may ...   기술과학      인공지능  \n",
              "40357  The convolutional neural network 312 may deter...   기술과학      인공지능  \n",
              "40358  The management terminal 200 includes an interf...   기술과학      빅데이터  \n",
              "\n",
              "[40359 rows x 6 columns]"
            ],
            "text/html": [
              "\n",
              "  <div id=\"df-a2dee942-7af8-475b-a9bb-f5d707e984e8\">\n",
              "    <div class=\"colab-df-container\">\n",
              "      <div>\n",
              "<style scoped>\n",
              "    .dataframe tbody tr th:only-of-type {\n",
              "        vertical-align: middle;\n",
              "    }\n",
              "\n",
              "    .dataframe tbody tr th {\n",
              "        vertical-align: top;\n",
              "    }\n",
              "\n",
              "    .dataframe thead th {\n",
              "        text-align: right;\n",
              "    }\n",
              "</style>\n",
              "<table border=\"1\" class=\"dataframe\">\n",
              "  <thead>\n",
              "    <tr style=\"text-align: right;\">\n",
              "      <th></th>\n",
              "      <th>ko_original</th>\n",
              "      <th>ko</th>\n",
              "      <th>en</th>\n",
              "      <th>mt</th>\n",
              "      <th>domain</th>\n",
              "      <th>subdomain</th>\n",
              "    </tr>\n",
              "  </thead>\n",
              "  <tbody>\n",
              "    <tr>\n",
              "      <th>0</th>\n",
              "      <td>상기 제1 지점 및 상기 제2 지점은 표시 장치(160) 내에 위치하는 서로 상이한...</td>\n",
              "      <td>상기 제1 지점 및 상기 제2 지점은 표시 장치(160) 내에 위치하는 서로 상이한...</td>\n",
              "      <td>The first point and the second point may inclu...</td>\n",
              "      <td>The first point and the second point may inclu...</td>\n",
              "      <td>기술과학</td>\n",
              "      <td>IT</td>\n",
              "    </tr>\n",
              "    <tr>\n",
              "      <th>1</th>\n",
              "      <td>시선 추적부(206)가 딥러닝 모델(210)을 이용하여 사용자의 시선을 보다 정확히...</td>\n",
              "      <td>시선 추적부(206)가 딥러닝 모델(210)을 이용하여 사용자의 시선을 보다 정확히...</td>\n",
              "      <td>In order for the eye tracking unit 206 to more...</td>\n",
              "      <td>In order for the eye tracking unit 206 to more...</td>\n",
              "      <td>기술과학</td>\n",
              "      <td>IT</td>\n",
              "    </tr>\n",
              "    <tr>\n",
              "      <th>2</th>\n",
              "      <td>에지 트림(608b)은 또한 광이 에지(612)를 통해 커버(604b)로 진입하거나...</td>\n",
              "      <td>에지 트림(608b)은 또한 광이 에지(612)를 통해 커버(604b)로 진입하거나...</td>\n",
              "      <td>The edge trim 608b may also prevent light from...</td>\n",
              "      <td>Edge trim 608b may also prevent light from ent...</td>\n",
              "      <td>기술과학</td>\n",
              "      <td>IT</td>\n",
              "    </tr>\n",
              "    <tr>\n",
              "      <th>3</th>\n",
              "      <td>이를 위하여, 상기 본인 인증 시스템(100)은 상기 유저의 성문(聲紋, voice...</td>\n",
              "      <td>이를 위하여, 상기 본인 인증 시스템(100)은 상기 유저의 성문(聲紋, voice...</td>\n",
              "      <td>To this end, the identity authentication syste...</td>\n",
              "      <td>To this end, the identity authentication syste...</td>\n",
              "      <td>기술과학</td>\n",
              "      <td>IT</td>\n",
              "    </tr>\n",
              "    <tr>\n",
              "      <th>4</th>\n",
              "      <td>데이터 클록 회로(304)는 데이터 신호(310)를 주변 클록(312)과 비교하고 ...</td>\n",
              "      <td>데이터 클록 회로(304)는 데이터 신호(310)를 주변 클록(312)과 비교하고 ...</td>\n",
              "      <td>The data clock circuit 304 may compare the dat...</td>\n",
              "      <td>The data clock circuit 304 may compare the dat...</td>\n",
              "      <td>기술과학</td>\n",
              "      <td>빅데이터</td>\n",
              "    </tr>\n",
              "    <tr>\n",
              "      <th>...</th>\n",
              "      <td>...</td>\n",
              "      <td>...</td>\n",
              "      <td>...</td>\n",
              "      <td>...</td>\n",
              "      <td>...</td>\n",
              "      <td>...</td>\n",
              "    </tr>\n",
              "    <tr>\n",
              "      <th>40354</th>\n",
              "      <td>임피던스 계측을 위한 교류 전류 I1, I2가 주행 모터(53) 등의 부하에 흐르는...</td>\n",
              "      <td>임피던스 계측을 위한 교류 전류 I1, I2가 주행 모터(53) 등의 부하에 흐르는...</td>\n",
              "      <td>Since the alternating currents I1 and I2 for t...</td>\n",
              "      <td>Since the alternating currents I1 and I2 for i...</td>\n",
              "      <td>기술과학</td>\n",
              "      <td>인공지능</td>\n",
              "    </tr>\n",
              "    <tr>\n",
              "      <th>40355</th>\n",
              "      <td>엔드 노드(100)는 라우터 노드(200)로 검침 데이터를 전송하며, 라우터 노드(...</td>\n",
              "      <td>엔드 노드(100)는 라우터 노드(200)로 검침 데이터를 전송하며, 라우터 노드(...</td>\n",
              "      <td>The end node 100 transmits the meter reading d...</td>\n",
              "      <td>The end node 100 transmits the meter reading d...</td>\n",
              "      <td>기술과학</td>\n",
              "      <td>빅데이터</td>\n",
              "    </tr>\n",
              "    <tr>\n",
              "      <th>40356</th>\n",
              "      <td>상호 작용식 미디어 안내 애플리케이션은 유저가 콘텐츠 사이를 탐색하고, 콘텐츠의 위...</td>\n",
              "      <td>상호 작용식 미디어 안내 애플리케이션은 유저가 콘텐츠 사이를 탐색하고, 콘텐츠의 위...</td>\n",
              "      <td>An interactive media guidance application may ...</td>\n",
              "      <td>An interactive media guidance application may ...</td>\n",
              "      <td>기술과학</td>\n",
              "      <td>인공지능</td>\n",
              "    </tr>\n",
              "    <tr>\n",
              "      <th>40357</th>\n",
              "      <td>컨볼루션 신경망(312)은 데이터베이스(140)에 입력된 IVUS 원영상 및 샘플 ...</td>\n",
              "      <td>컨볼루션 신경망(312)은 데이터베이스(140)에 입력된 IVUS 원영상 및 샘플 ...</td>\n",
              "      <td>The convolutional neural network 312 may deter...</td>\n",
              "      <td>The convolutional neural network 312 may deter...</td>\n",
              "      <td>기술과학</td>\n",
              "      <td>인공지능</td>\n",
              "    </tr>\n",
              "    <tr>\n",
              "      <th>40358</th>\n",
              "      <td>관리 단말(200)은 데이터 관리 프로그램의 실행을 위한 접속 인증 정보를 포함하는...</td>\n",
              "      <td>관리 단말(200)은 데이터 관리 프로그램의 실행을 위한 접속 인증 정보를 포함하는...</td>\n",
              "      <td>The management terminal 200 includes an interf...</td>\n",
              "      <td>The management terminal 200 includes an interf...</td>\n",
              "      <td>기술과학</td>\n",
              "      <td>빅데이터</td>\n",
              "    </tr>\n",
              "  </tbody>\n",
              "</table>\n",
              "<p>40359 rows × 6 columns</p>\n",
              "</div>\n",
              "      <button class=\"colab-df-convert\" onclick=\"convertToInteractive('df-a2dee942-7af8-475b-a9bb-f5d707e984e8')\"\n",
              "              title=\"Convert this dataframe to an interactive table.\"\n",
              "              style=\"display:none;\">\n",
              "        \n",
              "  <svg xmlns=\"http://www.w3.org/2000/svg\" height=\"24px\"viewBox=\"0 0 24 24\"\n",
              "       width=\"24px\">\n",
              "    <path d=\"M0 0h24v24H0V0z\" fill=\"none\"/>\n",
              "    <path d=\"M18.56 5.44l.94 2.06.94-2.06 2.06-.94-2.06-.94-.94-2.06-.94 2.06-2.06.94zm-11 1L8.5 8.5l.94-2.06 2.06-.94-2.06-.94L8.5 2.5l-.94 2.06-2.06.94zm10 10l.94 2.06.94-2.06 2.06-.94-2.06-.94-.94-2.06-.94 2.06-2.06.94z\"/><path d=\"M17.41 7.96l-1.37-1.37c-.4-.4-.92-.59-1.43-.59-.52 0-1.04.2-1.43.59L10.3 9.45l-7.72 7.72c-.78.78-.78 2.05 0 2.83L4 21.41c.39.39.9.59 1.41.59.51 0 1.02-.2 1.41-.59l7.78-7.78 2.81-2.81c.8-.78.8-2.07 0-2.86zM5.41 20L4 18.59l7.72-7.72 1.47 1.35L5.41 20z\"/>\n",
              "  </svg>\n",
              "      </button>\n",
              "      \n",
              "  <style>\n",
              "    .colab-df-container {\n",
              "      display:flex;\n",
              "      flex-wrap:wrap;\n",
              "      gap: 12px;\n",
              "    }\n",
              "\n",
              "    .colab-df-convert {\n",
              "      background-color: #E8F0FE;\n",
              "      border: none;\n",
              "      border-radius: 50%;\n",
              "      cursor: pointer;\n",
              "      display: none;\n",
              "      fill: #1967D2;\n",
              "      height: 32px;\n",
              "      padding: 0 0 0 0;\n",
              "      width: 32px;\n",
              "    }\n",
              "\n",
              "    .colab-df-convert:hover {\n",
              "      background-color: #E2EBFA;\n",
              "      box-shadow: 0px 1px 2px rgba(60, 64, 67, 0.3), 0px 1px 3px 1px rgba(60, 64, 67, 0.15);\n",
              "      fill: #174EA6;\n",
              "    }\n",
              "\n",
              "    [theme=dark] .colab-df-convert {\n",
              "      background-color: #3B4455;\n",
              "      fill: #D2E3FC;\n",
              "    }\n",
              "\n",
              "    [theme=dark] .colab-df-convert:hover {\n",
              "      background-color: #434B5C;\n",
              "      box-shadow: 0px 1px 3px 1px rgba(0, 0, 0, 0.15);\n",
              "      filter: drop-shadow(0px 1px 2px rgba(0, 0, 0, 0.3));\n",
              "      fill: #FFFFFF;\n",
              "    }\n",
              "  </style>\n",
              "\n",
              "      <script>\n",
              "        const buttonEl =\n",
              "          document.querySelector('#df-a2dee942-7af8-475b-a9bb-f5d707e984e8 button.colab-df-convert');\n",
              "        buttonEl.style.display =\n",
              "          google.colab.kernel.accessAllowed ? 'block' : 'none';\n",
              "\n",
              "        async function convertToInteractive(key) {\n",
              "          const element = document.querySelector('#df-a2dee942-7af8-475b-a9bb-f5d707e984e8');\n",
              "          const dataTable =\n",
              "            await google.colab.kernel.invokeFunction('convertToInteractive',\n",
              "                                                     [key], {});\n",
              "          if (!dataTable) return;\n",
              "\n",
              "          const docLinkHtml = 'Like what you see? Visit the ' +\n",
              "            '<a target=\"_blank\" href=https://colab.research.google.com/notebooks/data_table.ipynb>data table notebook</a>'\n",
              "            + ' to learn more about interactive tables.';\n",
              "          element.innerHTML = '';\n",
              "          dataTable['output_type'] = 'display_data';\n",
              "          await google.colab.output.renderOutput(dataTable, element);\n",
              "          const docLink = document.createElement('div');\n",
              "          docLink.innerHTML = docLinkHtml;\n",
              "          element.appendChild(docLink);\n",
              "        }\n",
              "      </script>\n",
              "    </div>\n",
              "  </div>\n",
              "  "
            ]
          },
          "metadata": {},
          "execution_count": 21
        }
      ]
    },
    {
      "cell_type": "code",
      "source": [
        ""
      ],
      "metadata": {
        "id": "e7SQlMP5hLsw"
      },
      "execution_count": null,
      "outputs": []
    }
  ]
}