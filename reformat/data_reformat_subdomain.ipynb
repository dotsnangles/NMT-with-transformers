{
  "nbformat": 4,
  "nbformat_minor": 0,
  "metadata": {
    "colab": {
      "name": "data_reformat.ipynb",
      "provenance": [],
      "collapsed_sections": [],
      "authorship_tag": "ABX9TyMR7nE0kuf3ISQATCOWkD9f",
      "include_colab_link": true
    },
    "kernelspec": {
      "name": "python3",
      "display_name": "Python 3"
    },
    "language_info": {
      "name": "python"
    }
  },
  "cells": [
    {
      "cell_type": "markdown",
      "metadata": {
        "id": "view-in-github",
        "colab_type": "text"
      },
      "source": [
        "<a href=\"https://colab.research.google.com/github/dotsnangles/NMT-with-transformers/blob/master/data_reformat.ipynb\" target=\"_parent\"><img src=\"https://colab.research.google.com/assets/colab-badge.svg\" alt=\"Open In Colab\"/></a>"
      ]
    },
    {
      "cell_type": "code",
      "source": [
        "# !rm -rf ./data"
      ],
      "metadata": {
        "id": "6qdI93ShD1on"
      },
      "execution_count": 1,
      "outputs": []
    },
    {
      "cell_type": "code",
      "source": [
        "from google.colab import drive\n",
        "drive.mount('/content/drive')"
      ],
      "metadata": {
        "colab": {
          "base_uri": "https://localhost:8080/"
        },
        "id": "sWRF9_vof9HW",
        "outputId": "36ea55df-fa0e-4055-a12a-e1ab4e1c6c90"
      },
      "execution_count": 2,
      "outputs": [
        {
          "output_type": "stream",
          "name": "stdout",
          "text": [
            "Mounted at /content/drive\n"
          ]
        }
      ]
    },
    {
      "cell_type": "code",
      "execution_count": 3,
      "metadata": {
        "id": "VaE32XoGVmYd"
      },
      "outputs": [],
      "source": [
        "import json, gdown\n",
        "import pandas as pd"
      ]
    },
    {
      "cell_type": "code",
      "source": [
        "id = \"1J21-T8wYjlj-91CxtxEzrcE34CDt7CM3\"\n",
        "gdown.download_folder(id=id, quiet=True, use_cookies=False)\n",
        "!unzip /content/data/TS1.zip -d /content/data\n",
        "!unzip /content/data/VS1.zip -d /content/data"
      ],
      "metadata": {
        "colab": {
          "base_uri": "https://localhost:8080/"
        },
        "id": "OI8UvS02Vspg",
        "outputId": "f74f4742-06e1-4fa6-a6fb-b53e857597cf"
      },
      "execution_count": 4,
      "outputs": [
        {
          "output_type": "stream",
          "name": "stdout",
          "text": [
            "Archive:  /content/data/TS1.zip\n",
            "  inflating: /content/data/기술과학분야_한영_train_set.json  \n",
            "Archive:  /content/data/VS1.zip\n",
            "  inflating: /content/data/기술과학분야_한영_valid_set.json  \n"
          ]
        }
      ]
    },
    {
      "cell_type": "code",
      "source": [
        "train_json_path = './data/기술과학분야_한영_train_set.json'\n",
        "val_json_path = './data/기술과학분야_한영_valid_set.json'\n",
        "\n",
        "with open(train_json_path, 'rb') as f:\n",
        "    train_json = json.load(f)\n",
        "with open(val_json_path, 'rb') as f:\n",
        "    val_json = json.load(f)\n",
        "\n",
        "len(train_json['data']), len(val_json['data'])"
      ],
      "metadata": {
        "id": "aK4aeRYzWp4v",
        "colab": {
          "base_uri": "https://localhost:8080/"
        },
        "outputId": "adebdba2-f301-4e1f-ae58-6797b13eedd4"
      },
      "execution_count": 5,
      "outputs": [
        {
          "output_type": "execute_result",
          "data": {
            "text/plain": [
              "(1200144, 150018)"
            ]
          },
          "metadata": {},
          "execution_count": 5
        }
      ]
    },
    {
      "cell_type": "code",
      "source": [
        "train = pd.json_normalize(train_json['data'])\n",
        "val = pd.json_normalize(val_json['data'])\n",
        "train.info(), val.info()"
      ],
      "metadata": {
        "colab": {
          "base_uri": "https://localhost:8080/"
        },
        "id": "ybqa9TcyyaTG",
        "outputId": "4612adc0-71c4-4817-f0eb-dcdf8a70a777"
      },
      "execution_count": 10,
      "outputs": [
        {
          "output_type": "stream",
          "name": "stdout",
          "text": [
            "<class 'pandas.core.frame.DataFrame'>\n",
            "RangeIndex: 1200144 entries, 0 to 1200143\n",
            "Data columns (total 21 columns):\n",
            " #   Column                  Non-Null Count    Dtype  \n",
            "---  ------                  --------------    -----  \n",
            " 0   sn                      1200144 non-null  object \n",
            " 1   data_set                1200144 non-null  object \n",
            " 2   domain                  1200144 non-null  object \n",
            " 3   subdomain               1200144 non-null  object \n",
            " 4   ko_original             1200144 non-null  object \n",
            " 5   ko                      1200144 non-null  object \n",
            " 6   mt                      1200144 non-null  object \n",
            " 7   en                      1200144 non-null  object \n",
            " 8   source_language         1200144 non-null  object \n",
            " 9   target_language         1200144 non-null  object \n",
            " 10  word_count_ko           1200144 non-null  int64  \n",
            " 11  word_count_en           1200144 non-null  int64  \n",
            " 12  word_ratio              1200144 non-null  float64\n",
            " 13  file_name               1200144 non-null  object \n",
            " 14  source                  1200144 non-null  object \n",
            " 15  license                 1200144 non-null  object \n",
            " 16  style                   1200144 non-null  object \n",
            " 17  included_unknown_words  1200144 non-null  bool   \n",
            " 18  ner                     0 non-null        float64\n",
            " 19  ner.text                196313 non-null   object \n",
            " 20  ner.tags                196313 non-null   object \n",
            "dtypes: bool(1), float64(2), int64(2), object(16)\n",
            "memory usage: 184.3+ MB\n",
            "<class 'pandas.core.frame.DataFrame'>\n",
            "RangeIndex: 150018 entries, 0 to 150017\n",
            "Data columns (total 21 columns):\n",
            " #   Column                  Non-Null Count   Dtype  \n",
            "---  ------                  --------------   -----  \n",
            " 0   sn                      150018 non-null  object \n",
            " 1   data_set                150018 non-null  object \n",
            " 2   domain                  150018 non-null  object \n",
            " 3   subdomain               150018 non-null  object \n",
            " 4   ko_original             150018 non-null  object \n",
            " 5   ko                      150018 non-null  object \n",
            " 6   mt                      150018 non-null  object \n",
            " 7   en                      150018 non-null  object \n",
            " 8   source_language         150018 non-null  object \n",
            " 9   target_language         150018 non-null  object \n",
            " 10  word_count_ko           150018 non-null  int64  \n",
            " 11  word_count_en           150018 non-null  int64  \n",
            " 12  word_ratio              150018 non-null  float64\n",
            " 13  file_name               150018 non-null  object \n",
            " 14  source                  150018 non-null  object \n",
            " 15  license                 150018 non-null  object \n",
            " 16  style                   150018 non-null  object \n",
            " 17  included_unknown_words  150018 non-null  bool   \n",
            " 18  ner                     0 non-null       float64\n",
            " 19  ner.text                24646 non-null   object \n",
            " 20  ner.tags                24646 non-null   object \n",
            "dtypes: bool(1), float64(2), int64(2), object(16)\n",
            "memory usage: 23.0+ MB\n"
          ]
        },
        {
          "output_type": "execute_result",
          "data": {
            "text/plain": [
              "(None, None)"
            ]
          },
          "metadata": {},
          "execution_count": 10
        }
      ]
    },
    {
      "cell_type": "code",
      "source": [
        "train = train[['ko_original', 'ko', 'en', 'mt', 'domain', 'subdomain']]\n",
        "val = val[['ko_original', 'ko', 'en', 'mt', 'domain', 'subdomain']]\n",
        "train.info(), val.info()"
      ],
      "metadata": {
        "colab": {
          "base_uri": "https://localhost:8080/"
        },
        "id": "hWfQpyWSW_Pk",
        "outputId": "d3b05bf3-104f-4dde-ebd0-18e65c29cdcb"
      },
      "execution_count": 11,
      "outputs": [
        {
          "output_type": "stream",
          "name": "stdout",
          "text": [
            "<class 'pandas.core.frame.DataFrame'>\n",
            "RangeIndex: 1200144 entries, 0 to 1200143\n",
            "Data columns (total 6 columns):\n",
            " #   Column       Non-Null Count    Dtype \n",
            "---  ------       --------------    ----- \n",
            " 0   ko_original  1200144 non-null  object\n",
            " 1   ko           1200144 non-null  object\n",
            " 2   en           1200144 non-null  object\n",
            " 3   mt           1200144 non-null  object\n",
            " 4   domain       1200144 non-null  object\n",
            " 5   subdomain    1200144 non-null  object\n",
            "dtypes: object(6)\n",
            "memory usage: 54.9+ MB\n",
            "<class 'pandas.core.frame.DataFrame'>\n",
            "RangeIndex: 150018 entries, 0 to 150017\n",
            "Data columns (total 6 columns):\n",
            " #   Column       Non-Null Count   Dtype \n",
            "---  ------       --------------   ----- \n",
            " 0   ko_original  150018 non-null  object\n",
            " 1   ko           150018 non-null  object\n",
            " 2   en           150018 non-null  object\n",
            " 3   mt           150018 non-null  object\n",
            " 4   domain       150018 non-null  object\n",
            " 5   subdomain    150018 non-null  object\n",
            "dtypes: object(6)\n",
            "memory usage: 6.9+ MB\n"
          ]
        },
        {
          "output_type": "execute_result",
          "data": {
            "text/plain": [
              "(None, None)"
            ]
          },
          "metadata": {},
          "execution_count": 11
        }
      ]
    },
    {
      "cell_type": "code",
      "source": [
        "domain = train['subdomain'] == '인공지능'\n",
        "train = train.loc[domain]\n",
        "domain = val['subdomain'] == '인공지능'\n",
        "val = val.loc[domain]\n",
        "# train = train[['en', 'ko_original']]\n",
        "# val = val[['en', 'ko_original']]"
      ],
      "metadata": {
        "id": "uxkXYrTNIgkY"
      },
      "execution_count": 12,
      "outputs": []
    },
    {
      "cell_type": "code",
      "source": [
        "train.info(), val.info()"
      ],
      "metadata": {
        "colab": {
          "base_uri": "https://localhost:8080/"
        },
        "id": "U1SFUqRwJxg5",
        "outputId": "06245859-cb57-414d-a823-38785add0c9e"
      },
      "execution_count": 13,
      "outputs": [
        {
          "output_type": "stream",
          "name": "stdout",
          "text": [
            "<class 'pandas.core.frame.DataFrame'>\n",
            "Int64Index: 79979 entries, 3 to 1200142\n",
            "Data columns (total 6 columns):\n",
            " #   Column       Non-Null Count  Dtype \n",
            "---  ------       --------------  ----- \n",
            " 0   ko_original  79979 non-null  object\n",
            " 1   ko           79979 non-null  object\n",
            " 2   en           79979 non-null  object\n",
            " 3   mt           79979 non-null  object\n",
            " 4   domain       79979 non-null  object\n",
            " 5   subdomain    79979 non-null  object\n",
            "dtypes: object(6)\n",
            "memory usage: 4.3+ MB\n",
            "<class 'pandas.core.frame.DataFrame'>\n",
            "Int64Index: 10131 entries, 30 to 150008\n",
            "Data columns (total 6 columns):\n",
            " #   Column       Non-Null Count  Dtype \n",
            "---  ------       --------------  ----- \n",
            " 0   ko_original  10131 non-null  object\n",
            " 1   ko           10131 non-null  object\n",
            " 2   en           10131 non-null  object\n",
            " 3   mt           10131 non-null  object\n",
            " 4   domain       10131 non-null  object\n",
            " 5   subdomain    10131 non-null  object\n",
            "dtypes: object(6)\n",
            "memory usage: 554.0+ KB\n"
          ]
        },
        {
          "output_type": "execute_result",
          "data": {
            "text/plain": [
              "(None, None)"
            ]
          },
          "metadata": {},
          "execution_count": 13
        }
      ]
    },
    {
      "cell_type": "code",
      "source": [
        "def check_if_str(col):\n",
        "    for e in col.to_list():\n",
        "        if type(e) is not str:\n",
        "            print(e)"
      ],
      "metadata": {
        "id": "TmkzI2YwdTrj"
      },
      "execution_count": 14,
      "outputs": []
    },
    {
      "cell_type": "code",
      "source": [
        "check_if_str(train['ko_original'])"
      ],
      "metadata": {
        "id": "00-wtaY0deFu"
      },
      "execution_count": 21,
      "outputs": []
    },
    {
      "cell_type": "code",
      "source": [
        "check_if_str(train['ko'])"
      ],
      "metadata": {
        "id": "5WERSjv5z9xe"
      },
      "execution_count": 22,
      "outputs": []
    },
    {
      "cell_type": "code",
      "source": [
        "check_if_str(train['en'])"
      ],
      "metadata": {
        "id": "kbTEsgtfcnim"
      },
      "execution_count": 19,
      "outputs": []
    },
    {
      "cell_type": "code",
      "source": [
        "check_if_str(train['mt'])"
      ],
      "metadata": {
        "id": "o2EQdNRFz53a"
      },
      "execution_count": 23,
      "outputs": []
    },
    {
      "cell_type": "code",
      "source": [
        "check_if_str(val['ko_original'])"
      ],
      "metadata": {
        "id": "--OMy-a5dszx"
      },
      "execution_count": 25,
      "outputs": []
    },
    {
      "cell_type": "code",
      "source": [
        "check_if_str(val['ko'])"
      ],
      "metadata": {
        "id": "8RyZcCji0CfK"
      },
      "execution_count": 26,
      "outputs": []
    },
    {
      "cell_type": "code",
      "source": [
        "check_if_str(val['en'])"
      ],
      "metadata": {
        "id": "1zvqVznsdNX5"
      },
      "execution_count": 27,
      "outputs": []
    },
    {
      "cell_type": "code",
      "source": [
        "check_if_str(val['mt'])"
      ],
      "metadata": {
        "id": "s1Ca4RkGz4CI"
      },
      "execution_count": 28,
      "outputs": []
    },
    {
      "cell_type": "code",
      "source": [
        "train.to_csv('/content/drive/MyDrive/Data Science/알파코 딥러닝 부트캠프/프로젝트/translators/data/train.csv', index=False)\n",
        "val.to_csv('/content/drive/MyDrive/Data Science/알파코 딥러닝 부트캠프/프로젝트/translators/data/val.csv', index=False)"
      ],
      "metadata": {
        "id": "ftKUrhehfw7z"
      },
      "execution_count": 32,
      "outputs": []
    },
    {
      "cell_type": "code",
      "source": [
        "pd.read_csv('/content/drive/MyDrive/Data Science/알파코 딥러닝 부트캠프/프로젝트/translators/data/train.csv')"
      ],
      "metadata": {
        "colab": {
          "base_uri": "https://localhost:8080/",
          "height": 797
        },
        "id": "_7m5wIxhgTfB",
        "outputId": "3eef1128-2c8d-47d6-97d7-3c95db7e8510"
      },
      "execution_count": 34,
      "outputs": [
        {
          "output_type": "execute_result",
          "data": {
            "text/plain": [
              "                                             ko_original  \\\n",
              "0      비교기(1235 및 1237)는 설정에 따라 Relu 활성함수로 나타낼 수 있으며,...   \n",
              "1      서버(320)는 분석 모델 DB(325)에 소스 영상을 입력하고, 학습 모델에서 출...   \n",
              "2      블록 형태 및 분할 형태는 픽처 또는 슬라이스마다 상이하게 결정되거나, 각각의 최대...   \n",
              "3      생성된 인공 신경망은 텍스트 기반 프로그래밍 언어의 형태로 변환되어 제2 언어 제어...   \n",
              "4      검출된 결함 또는 핫스팟과 관련된 정보는 예를 들어 웨이퍼 테스터(16)에 의해 결...   \n",
              "...                                                  ...   \n",
              "79974  상기 질의응답(Q/A) 데이터베이스(230)는 상기 인공 지능 질의/응답 서비스부(...   \n",
              "79975  알려진 연구들은 모두 한 이미지의 시각적 속성이 다른 이미지의 시각적 속성으로 변경...   \n",
              "79976  전자 장치(1000)는 검색된 SNS 게시글의 구조, 포함된 단어 등을 이용하여, ...   \n",
              "79977  변수 i가 k와 일치하지 아니하는 경우, 단계 S250에서 변수 i는 1만큼 증가할...   \n",
              "79978  공공 입찰 관련 통계 분류를 248,832건으로 분류하고, 신규 입찰 공고 및 개찰...   \n",
              "\n",
              "                                                      ko  \\\n",
              "0      비교기(1235 및 1237)는 설정에 따라 Relu 활성함수로 나타낼 수 있으며,...   \n",
              "1      서버(320)는 분석 모델 DB(325)에 소스 영상을 입력하고, 학습 모델에서 출...   \n",
              "2      블록 형태 및 분할 형태는 픽처 또는 슬라이스마다 상이하게 결정되거나, 각각의 최대...   \n",
              "3      생성된 인공 신경망은 텍스트 기반 프로그래밍 언어의 형태로 변환되어 제2 언어 제어...   \n",
              "4      검출된 결함 또는 핫스팟과 관련된 정보는 예를 들어 웨이퍼 테스터(16)에 의해 결...   \n",
              "...                                                  ...   \n",
              "79974  상기 질의응답(Q/A) 데이터베이스(230)는 상기 인공 지능 질의/응답 서비스부(...   \n",
              "79975  알려진 연구들은 모두 한 이미지의 시각적 속성이 다른 이미지의 시각적 속성으로 변경...   \n",
              "79976  전자 장치(1000)는 검색된 SNS 게시글의 구조, 포함된 단어 등을 이용하여, ...   \n",
              "79977  변수 i가 k와 일치하지 아니하는 경우, 단계 S250에서 변수 i는 1만큼 증가할...   \n",
              "79978  공공 입찰 관련 통계 분류를 248,832건으로 분류하고, 신규 입찰 공고 및 개찰...   \n",
              "\n",
              "                                                      en  \\\n",
              "0      The comparators 1235 and 1237 may be expressed...   \n",
              "1      The server 320 may input a source image to the...   \n",
              "2      The block shape and the split shape may be dif...   \n",
              "3      The generated artificial neural network may be...   \n",
              "4      Information related to the detected defect or ...   \n",
              "...                                                  ...   \n",
              "79974  The question/answer (Q/A) database 230 perform...   \n",
              "79975  All known studies deal with the visual attribu...   \n",
              "79976  The electronic device 1000 may generate a text...   \n",
              "79977  If the variable i does not match k, the variab...   \n",
              "79978  The statistical classification related to publ...   \n",
              "\n",
              "                                                      mt domain subdomain  \n",
              "0      The comparators 1235 and 1237 may be expressed...   기술과학      인공지능  \n",
              "1      The server 320 may input a source image to the...   기술과학      인공지능  \n",
              "2      The block shape and the split shape may be dif...   기술과학      인공지능  \n",
              "3      The generated artificial neural network may be...   기술과학      인공지능  \n",
              "4      Information related to the detected defect or ...   기술과학      인공지능  \n",
              "...                                                  ...    ...       ...  \n",
              "79974  The Q/A database 230 performs a search accordi...   기술과학      인공지능  \n",
              "79975  All known studies deal with the visual attribu...   기술과학      인공지능  \n",
              "79976  The electronic device 1000 may generate a text...   기술과학      인공지능  \n",
              "79977  If the variable i does not match k, the variab...   기술과학      인공지능  \n",
              "79978  The statistical classification related to publ...   기술과학      인공지능  \n",
              "\n",
              "[79979 rows x 6 columns]"
            ],
            "text/html": [
              "\n",
              "  <div id=\"df-0294dbd5-a66f-4171-9335-eb66706e37c6\">\n",
              "    <div class=\"colab-df-container\">\n",
              "      <div>\n",
              "<style scoped>\n",
              "    .dataframe tbody tr th:only-of-type {\n",
              "        vertical-align: middle;\n",
              "    }\n",
              "\n",
              "    .dataframe tbody tr th {\n",
              "        vertical-align: top;\n",
              "    }\n",
              "\n",
              "    .dataframe thead th {\n",
              "        text-align: right;\n",
              "    }\n",
              "</style>\n",
              "<table border=\"1\" class=\"dataframe\">\n",
              "  <thead>\n",
              "    <tr style=\"text-align: right;\">\n",
              "      <th></th>\n",
              "      <th>ko_original</th>\n",
              "      <th>ko</th>\n",
              "      <th>en</th>\n",
              "      <th>mt</th>\n",
              "      <th>domain</th>\n",
              "      <th>subdomain</th>\n",
              "    </tr>\n",
              "  </thead>\n",
              "  <tbody>\n",
              "    <tr>\n",
              "      <th>0</th>\n",
              "      <td>비교기(1235 및 1237)는 설정에 따라 Relu 활성함수로 나타낼 수 있으며,...</td>\n",
              "      <td>비교기(1235 및 1237)는 설정에 따라 Relu 활성함수로 나타낼 수 있으며,...</td>\n",
              "      <td>The comparators 1235 and 1237 may be expressed...</td>\n",
              "      <td>The comparators 1235 and 1237 may be expressed...</td>\n",
              "      <td>기술과학</td>\n",
              "      <td>인공지능</td>\n",
              "    </tr>\n",
              "    <tr>\n",
              "      <th>1</th>\n",
              "      <td>서버(320)는 분석 모델 DB(325)에 소스 영상을 입력하고, 학습 모델에서 출...</td>\n",
              "      <td>서버(320)는 분석 모델 DB(325)에 소스 영상을 입력하고, 학습 모델에서 출...</td>\n",
              "      <td>The server 320 may input a source image to the...</td>\n",
              "      <td>The server 320 may input a source image to the...</td>\n",
              "      <td>기술과학</td>\n",
              "      <td>인공지능</td>\n",
              "    </tr>\n",
              "    <tr>\n",
              "      <th>2</th>\n",
              "      <td>블록 형태 및 분할 형태는 픽처 또는 슬라이스마다 상이하게 결정되거나, 각각의 최대...</td>\n",
              "      <td>블록 형태 및 분할 형태는 픽처 또는 슬라이스마다 상이하게 결정되거나, 각각의 최대...</td>\n",
              "      <td>The block shape and the split shape may be dif...</td>\n",
              "      <td>The block shape and the split shape may be dif...</td>\n",
              "      <td>기술과학</td>\n",
              "      <td>인공지능</td>\n",
              "    </tr>\n",
              "    <tr>\n",
              "      <th>3</th>\n",
              "      <td>생성된 인공 신경망은 텍스트 기반 프로그래밍 언어의 형태로 변환되어 제2 언어 제어...</td>\n",
              "      <td>생성된 인공 신경망은 텍스트 기반 프로그래밍 언어의 형태로 변환되어 제2 언어 제어...</td>\n",
              "      <td>The generated artificial neural network may be...</td>\n",
              "      <td>The generated artificial neural network may be...</td>\n",
              "      <td>기술과학</td>\n",
              "      <td>인공지능</td>\n",
              "    </tr>\n",
              "    <tr>\n",
              "      <th>4</th>\n",
              "      <td>검출된 결함 또는 핫스팟과 관련된 정보는 예를 들어 웨이퍼 테스터(16)에 의해 결...</td>\n",
              "      <td>검출된 결함 또는 핫스팟과 관련된 정보는 예를 들어 웨이퍼 테스터(16)에 의해 결...</td>\n",
              "      <td>Information related to the detected defect or ...</td>\n",
              "      <td>Information related to the detected defect or ...</td>\n",
              "      <td>기술과학</td>\n",
              "      <td>인공지능</td>\n",
              "    </tr>\n",
              "    <tr>\n",
              "      <th>...</th>\n",
              "      <td>...</td>\n",
              "      <td>...</td>\n",
              "      <td>...</td>\n",
              "      <td>...</td>\n",
              "      <td>...</td>\n",
              "      <td>...</td>\n",
              "    </tr>\n",
              "    <tr>\n",
              "      <th>79974</th>\n",
              "      <td>상기 질의응답(Q/A) 데이터베이스(230)는 상기 인공 지능 질의/응답 서비스부(...</td>\n",
              "      <td>상기 질의응답(Q/A) 데이터베이스(230)는 상기 인공 지능 질의/응답 서비스부(...</td>\n",
              "      <td>The question/answer (Q/A) database 230 perform...</td>\n",
              "      <td>The Q/A database 230 performs a search accordi...</td>\n",
              "      <td>기술과학</td>\n",
              "      <td>인공지능</td>\n",
              "    </tr>\n",
              "    <tr>\n",
              "      <th>79975</th>\n",
              "      <td>알려진 연구들은 모두 한 이미지의 시각적 속성이 다른 이미지의 시각적 속성으로 변경...</td>\n",
              "      <td>알려진 연구들은 모두 한 이미지의 시각적 속성이 다른 이미지의 시각적 속성으로 변경...</td>\n",
              "      <td>All known studies deal with the visual attribu...</td>\n",
              "      <td>All known studies deal with the visual attribu...</td>\n",
              "      <td>기술과학</td>\n",
              "      <td>인공지능</td>\n",
              "    </tr>\n",
              "    <tr>\n",
              "      <th>79976</th>\n",
              "      <td>전자 장치(1000)는 검색된 SNS 게시글의 구조, 포함된 단어 등을 이용하여, ...</td>\n",
              "      <td>전자 장치(1000)는 검색된 SNS 게시글의 구조, 포함된 단어 등을 이용하여, ...</td>\n",
              "      <td>The electronic device 1000 may generate a text...</td>\n",
              "      <td>The electronic device 1000 may generate a text...</td>\n",
              "      <td>기술과학</td>\n",
              "      <td>인공지능</td>\n",
              "    </tr>\n",
              "    <tr>\n",
              "      <th>79977</th>\n",
              "      <td>변수 i가 k와 일치하지 아니하는 경우, 단계 S250에서 변수 i는 1만큼 증가할...</td>\n",
              "      <td>변수 i가 k와 일치하지 아니하는 경우, 단계 S250에서 변수 i는 1만큼 증가할...</td>\n",
              "      <td>If the variable i does not match k, the variab...</td>\n",
              "      <td>If the variable i does not match k, the variab...</td>\n",
              "      <td>기술과학</td>\n",
              "      <td>인공지능</td>\n",
              "    </tr>\n",
              "    <tr>\n",
              "      <th>79978</th>\n",
              "      <td>공공 입찰 관련 통계 분류를 248,832건으로 분류하고, 신규 입찰 공고 및 개찰...</td>\n",
              "      <td>공공 입찰 관련 통계 분류를 248,832건으로 분류하고, 신규 입찰 공고 및 개찰...</td>\n",
              "      <td>The statistical classification related to publ...</td>\n",
              "      <td>The statistical classification related to publ...</td>\n",
              "      <td>기술과학</td>\n",
              "      <td>인공지능</td>\n",
              "    </tr>\n",
              "  </tbody>\n",
              "</table>\n",
              "<p>79979 rows × 6 columns</p>\n",
              "</div>\n",
              "      <button class=\"colab-df-convert\" onclick=\"convertToInteractive('df-0294dbd5-a66f-4171-9335-eb66706e37c6')\"\n",
              "              title=\"Convert this dataframe to an interactive table.\"\n",
              "              style=\"display:none;\">\n",
              "        \n",
              "  <svg xmlns=\"http://www.w3.org/2000/svg\" height=\"24px\"viewBox=\"0 0 24 24\"\n",
              "       width=\"24px\">\n",
              "    <path d=\"M0 0h24v24H0V0z\" fill=\"none\"/>\n",
              "    <path d=\"M18.56 5.44l.94 2.06.94-2.06 2.06-.94-2.06-.94-.94-2.06-.94 2.06-2.06.94zm-11 1L8.5 8.5l.94-2.06 2.06-.94-2.06-.94L8.5 2.5l-.94 2.06-2.06.94zm10 10l.94 2.06.94-2.06 2.06-.94-2.06-.94-.94-2.06-.94 2.06-2.06.94z\"/><path d=\"M17.41 7.96l-1.37-1.37c-.4-.4-.92-.59-1.43-.59-.52 0-1.04.2-1.43.59L10.3 9.45l-7.72 7.72c-.78.78-.78 2.05 0 2.83L4 21.41c.39.39.9.59 1.41.59.51 0 1.02-.2 1.41-.59l7.78-7.78 2.81-2.81c.8-.78.8-2.07 0-2.86zM5.41 20L4 18.59l7.72-7.72 1.47 1.35L5.41 20z\"/>\n",
              "  </svg>\n",
              "      </button>\n",
              "      \n",
              "  <style>\n",
              "    .colab-df-container {\n",
              "      display:flex;\n",
              "      flex-wrap:wrap;\n",
              "      gap: 12px;\n",
              "    }\n",
              "\n",
              "    .colab-df-convert {\n",
              "      background-color: #E8F0FE;\n",
              "      border: none;\n",
              "      border-radius: 50%;\n",
              "      cursor: pointer;\n",
              "      display: none;\n",
              "      fill: #1967D2;\n",
              "      height: 32px;\n",
              "      padding: 0 0 0 0;\n",
              "      width: 32px;\n",
              "    }\n",
              "\n",
              "    .colab-df-convert:hover {\n",
              "      background-color: #E2EBFA;\n",
              "      box-shadow: 0px 1px 2px rgba(60, 64, 67, 0.3), 0px 1px 3px 1px rgba(60, 64, 67, 0.15);\n",
              "      fill: #174EA6;\n",
              "    }\n",
              "\n",
              "    [theme=dark] .colab-df-convert {\n",
              "      background-color: #3B4455;\n",
              "      fill: #D2E3FC;\n",
              "    }\n",
              "\n",
              "    [theme=dark] .colab-df-convert:hover {\n",
              "      background-color: #434B5C;\n",
              "      box-shadow: 0px 1px 3px 1px rgba(0, 0, 0, 0.15);\n",
              "      filter: drop-shadow(0px 1px 2px rgba(0, 0, 0, 0.3));\n",
              "      fill: #FFFFFF;\n",
              "    }\n",
              "  </style>\n",
              "\n",
              "      <script>\n",
              "        const buttonEl =\n",
              "          document.querySelector('#df-0294dbd5-a66f-4171-9335-eb66706e37c6 button.colab-df-convert');\n",
              "        buttonEl.style.display =\n",
              "          google.colab.kernel.accessAllowed ? 'block' : 'none';\n",
              "\n",
              "        async function convertToInteractive(key) {\n",
              "          const element = document.querySelector('#df-0294dbd5-a66f-4171-9335-eb66706e37c6');\n",
              "          const dataTable =\n",
              "            await google.colab.kernel.invokeFunction('convertToInteractive',\n",
              "                                                     [key], {});\n",
              "          if (!dataTable) return;\n",
              "\n",
              "          const docLinkHtml = 'Like what you see? Visit the ' +\n",
              "            '<a target=\"_blank\" href=https://colab.research.google.com/notebooks/data_table.ipynb>data table notebook</a>'\n",
              "            + ' to learn more about interactive tables.';\n",
              "          element.innerHTML = '';\n",
              "          dataTable['output_type'] = 'display_data';\n",
              "          await google.colab.output.renderOutput(dataTable, element);\n",
              "          const docLink = document.createElement('div');\n",
              "          docLink.innerHTML = docLinkHtml;\n",
              "          element.appendChild(docLink);\n",
              "        }\n",
              "      </script>\n",
              "    </div>\n",
              "  </div>\n",
              "  "
            ]
          },
          "metadata": {},
          "execution_count": 34
        }
      ]
    },
    {
      "cell_type": "code",
      "source": [
        "pd.read_csv('/content/drive/MyDrive/Data Science/알파코 딥러닝 부트캠프/프로젝트/translators/data/val.csv')"
      ],
      "metadata": {
        "colab": {
          "base_uri": "https://localhost:8080/",
          "height": 780
        },
        "id": "dboFyqZ0gwKk",
        "outputId": "5a8a7414-eb02-4c13-bb4a-57e7cbe8c172"
      },
      "execution_count": 35,
      "outputs": [
        {
          "output_type": "execute_result",
          "data": {
            "text/plain": [
              "                                             ko_original  \\\n",
              "0      상부 전극(160)은 금속물로 형성됨이 바람직하며, 고분자 절연층(140)의 계면에...   \n",
              "1      테스트 실행기(1220)는 생성된 테스트 케이스들에 기초하여 컴포넌트들을 테스트하는...   \n",
              "2      콘텐츠 제공자들(250)은 별도의 제작 환경을 구축할 필요 없이 본 개시의 플랫폼 ...   \n",
              "3      정보 처리 장치(100)는 차량(10)의 운행 관리 지원을 행하는 서비스를 제공하는...   \n",
              "4      상기 서버는 AI 시스템을 이용하여 해킹 사례를 빅데이터 분석하고, CBR 시스템을...   \n",
              "...                                                  ...   \n",
              "10126  마무리 공정은 클링커에 적당한 양의 석고 등을 추가하여 시멘트 밀로 미세 분쇄하여 ...   \n",
              "10127  단계 S1110에서 영상 처리 장치는 제1 계층의 특징맵들의 영상 특성 정보를 외부...   \n",
              "10128  임피던스 계측을 위한 교류 전류 I1, I2가 주행 모터(53) 등의 부하에 흐르는...   \n",
              "10129  상호 작용식 미디어 안내 애플리케이션은 유저가 콘텐츠 사이를 탐색하고, 콘텐츠의 위...   \n",
              "10130  컨볼루션 신경망(312)은 데이터베이스(140)에 입력된 IVUS 원영상 및 샘플 ...   \n",
              "\n",
              "                                                      ko  \\\n",
              "0      상부 전극(160)은 금속물로 형성됨이 바람직하며, 고분자 절연층(140)의 계면에...   \n",
              "1      테스트 실행기(1220)는 생성된 테스트 케이스들에 기초하여 컴포넌트들을 테스트하는...   \n",
              "2      콘텐츠 제공자들(250)은 별도의 제작 환경을 구축할 필요 없이 본 개시의 플랫폼 ...   \n",
              "3      정보 처리 장치(100)는 차량(10)의 운행 관리 지원을 행하는 서비스를 제공하는...   \n",
              "4      상기 서버는 AI 시스템을 이용하여 해킹 사례를 빅데이터 분석하고, CBR 시스템을...   \n",
              "...                                                  ...   \n",
              "10126  마무리 공정은 클링커에 적당한 양의 석고 등을 추가하여 시멘트 밀로 미세 분쇄하여 ...   \n",
              "10127  단계 S1110에서 영상 처리 장치는 제1 계층의 특징맵들의 영상 특성 정보를 외부...   \n",
              "10128  임피던스 계측을 위한 교류 전류 I1, I2가 주행 모터(53) 등의 부하에 흐르는...   \n",
              "10129  상호 작용식 미디어 안내 애플리케이션은 유저가 콘텐츠 사이를 탐색하고, 콘텐츠의 위...   \n",
              "10130  컨볼루션 신경망(312)은 데이터베이스(140)에 입력된 IVUS 원영상 및 샘플 ...   \n",
              "\n",
              "                                                      en  \\\n",
              "0      The upper electrode 160 is preferably formed o...   \n",
              "1      The test executor 1220 may calculate the numbe...   \n",
              "2      The content providers 250 may produce teaching...   \n",
              "3      The information processing device 100 receives...   \n",
              "4      The server may analyze big data of hacking cas...   \n",
              "...                                                  ...   \n",
              "10126  The finishing process is a process of obtainin...   \n",
              "10127  In step S1110, the image processing device may...   \n",
              "10128  Since the alternating currents I1 and I2 for t...   \n",
              "10129  An interactive media guidance application may ...   \n",
              "10130  The convolutional neural network 312 may deter...   \n",
              "\n",
              "                                                      mt domain subdomain  \n",
              "0      The upper electrode 160 is preferably formed o...   기술과학      인공지능  \n",
              "1      The test executor 1220 may calculate the numbe...   기술과학      인공지능  \n",
              "2      The content providers 250 may produce teaching...   기술과학      인공지능  \n",
              "3      That is, the information processing device 100...   기술과학      인공지능  \n",
              "4      The server may analyze big data of hacking cas...   기술과학      인공지능  \n",
              "...                                                  ...    ...       ...  \n",
              "10126  The finishing process is a process of obtainin...   기술과학      인공지능  \n",
              "10127  In operation S1110, the image processing appar...   기술과학      인공지능  \n",
              "10128  Since the alternating currents I1 and I2 for i...   기술과학      인공지능  \n",
              "10129  An interactive media guidance application may ...   기술과학      인공지능  \n",
              "10130  The convolutional neural network 312 may deter...   기술과학      인공지능  \n",
              "\n",
              "[10131 rows x 6 columns]"
            ],
            "text/html": [
              "\n",
              "  <div id=\"df-89dfd536-e12e-489e-8b4c-a9e281dfe39c\">\n",
              "    <div class=\"colab-df-container\">\n",
              "      <div>\n",
              "<style scoped>\n",
              "    .dataframe tbody tr th:only-of-type {\n",
              "        vertical-align: middle;\n",
              "    }\n",
              "\n",
              "    .dataframe tbody tr th {\n",
              "        vertical-align: top;\n",
              "    }\n",
              "\n",
              "    .dataframe thead th {\n",
              "        text-align: right;\n",
              "    }\n",
              "</style>\n",
              "<table border=\"1\" class=\"dataframe\">\n",
              "  <thead>\n",
              "    <tr style=\"text-align: right;\">\n",
              "      <th></th>\n",
              "      <th>ko_original</th>\n",
              "      <th>ko</th>\n",
              "      <th>en</th>\n",
              "      <th>mt</th>\n",
              "      <th>domain</th>\n",
              "      <th>subdomain</th>\n",
              "    </tr>\n",
              "  </thead>\n",
              "  <tbody>\n",
              "    <tr>\n",
              "      <th>0</th>\n",
              "      <td>상부 전극(160)은 금속물로 형성됨이 바람직하며, 고분자 절연층(140)의 계면에...</td>\n",
              "      <td>상부 전극(160)은 금속물로 형성됨이 바람직하며, 고분자 절연층(140)의 계면에...</td>\n",
              "      <td>The upper electrode 160 is preferably formed o...</td>\n",
              "      <td>The upper electrode 160 is preferably formed o...</td>\n",
              "      <td>기술과학</td>\n",
              "      <td>인공지능</td>\n",
              "    </tr>\n",
              "    <tr>\n",
              "      <th>1</th>\n",
              "      <td>테스트 실행기(1220)는 생성된 테스트 케이스들에 기초하여 컴포넌트들을 테스트하는...</td>\n",
              "      <td>테스트 실행기(1220)는 생성된 테스트 케이스들에 기초하여 컴포넌트들을 테스트하는...</td>\n",
              "      <td>The test executor 1220 may calculate the numbe...</td>\n",
              "      <td>The test executor 1220 may calculate the numbe...</td>\n",
              "      <td>기술과학</td>\n",
              "      <td>인공지능</td>\n",
              "    </tr>\n",
              "    <tr>\n",
              "      <th>2</th>\n",
              "      <td>콘텐츠 제공자들(250)은 별도의 제작 환경을 구축할 필요 없이 본 개시의 플랫폼 ...</td>\n",
              "      <td>콘텐츠 제공자들(250)은 별도의 제작 환경을 구축할 필요 없이 본 개시의 플랫폼 ...</td>\n",
              "      <td>The content providers 250 may produce teaching...</td>\n",
              "      <td>The content providers 250 may produce teaching...</td>\n",
              "      <td>기술과학</td>\n",
              "      <td>인공지능</td>\n",
              "    </tr>\n",
              "    <tr>\n",
              "      <th>3</th>\n",
              "      <td>정보 처리 장치(100)는 차량(10)의 운행 관리 지원을 행하는 서비스를 제공하는...</td>\n",
              "      <td>정보 처리 장치(100)는 차량(10)의 운행 관리 지원을 행하는 서비스를 제공하는...</td>\n",
              "      <td>The information processing device 100 receives...</td>\n",
              "      <td>That is, the information processing device 100...</td>\n",
              "      <td>기술과학</td>\n",
              "      <td>인공지능</td>\n",
              "    </tr>\n",
              "    <tr>\n",
              "      <th>4</th>\n",
              "      <td>상기 서버는 AI 시스템을 이용하여 해킹 사례를 빅데이터 분석하고, CBR 시스템을...</td>\n",
              "      <td>상기 서버는 AI 시스템을 이용하여 해킹 사례를 빅데이터 분석하고, CBR 시스템을...</td>\n",
              "      <td>The server may analyze big data of hacking cas...</td>\n",
              "      <td>The server may analyze big data of hacking cas...</td>\n",
              "      <td>기술과학</td>\n",
              "      <td>인공지능</td>\n",
              "    </tr>\n",
              "    <tr>\n",
              "      <th>...</th>\n",
              "      <td>...</td>\n",
              "      <td>...</td>\n",
              "      <td>...</td>\n",
              "      <td>...</td>\n",
              "      <td>...</td>\n",
              "      <td>...</td>\n",
              "    </tr>\n",
              "    <tr>\n",
              "      <th>10126</th>\n",
              "      <td>마무리 공정은 클링커에 적당한 양의 석고 등을 추가하여 시멘트 밀로 미세 분쇄하여 ...</td>\n",
              "      <td>마무리 공정은 클링커에 적당한 양의 석고 등을 추가하여 시멘트 밀로 미세 분쇄하여 ...</td>\n",
              "      <td>The finishing process is a process of obtainin...</td>\n",
              "      <td>The finishing process is a process of obtainin...</td>\n",
              "      <td>기술과학</td>\n",
              "      <td>인공지능</td>\n",
              "    </tr>\n",
              "    <tr>\n",
              "      <th>10127</th>\n",
              "      <td>단계 S1110에서 영상 처리 장치는 제1 계층의 특징맵들의 영상 특성 정보를 외부...</td>\n",
              "      <td>단계 S1110에서 영상 처리 장치는 제1 계층의 특징맵들의 영상 특성 정보를 외부...</td>\n",
              "      <td>In step S1110, the image processing device may...</td>\n",
              "      <td>In operation S1110, the image processing appar...</td>\n",
              "      <td>기술과학</td>\n",
              "      <td>인공지능</td>\n",
              "    </tr>\n",
              "    <tr>\n",
              "      <th>10128</th>\n",
              "      <td>임피던스 계측을 위한 교류 전류 I1, I2가 주행 모터(53) 등의 부하에 흐르는...</td>\n",
              "      <td>임피던스 계측을 위한 교류 전류 I1, I2가 주행 모터(53) 등의 부하에 흐르는...</td>\n",
              "      <td>Since the alternating currents I1 and I2 for t...</td>\n",
              "      <td>Since the alternating currents I1 and I2 for i...</td>\n",
              "      <td>기술과학</td>\n",
              "      <td>인공지능</td>\n",
              "    </tr>\n",
              "    <tr>\n",
              "      <th>10129</th>\n",
              "      <td>상호 작용식 미디어 안내 애플리케이션은 유저가 콘텐츠 사이를 탐색하고, 콘텐츠의 위...</td>\n",
              "      <td>상호 작용식 미디어 안내 애플리케이션은 유저가 콘텐츠 사이를 탐색하고, 콘텐츠의 위...</td>\n",
              "      <td>An interactive media guidance application may ...</td>\n",
              "      <td>An interactive media guidance application may ...</td>\n",
              "      <td>기술과학</td>\n",
              "      <td>인공지능</td>\n",
              "    </tr>\n",
              "    <tr>\n",
              "      <th>10130</th>\n",
              "      <td>컨볼루션 신경망(312)은 데이터베이스(140)에 입력된 IVUS 원영상 및 샘플 ...</td>\n",
              "      <td>컨볼루션 신경망(312)은 데이터베이스(140)에 입력된 IVUS 원영상 및 샘플 ...</td>\n",
              "      <td>The convolutional neural network 312 may deter...</td>\n",
              "      <td>The convolutional neural network 312 may deter...</td>\n",
              "      <td>기술과학</td>\n",
              "      <td>인공지능</td>\n",
              "    </tr>\n",
              "  </tbody>\n",
              "</table>\n",
              "<p>10131 rows × 6 columns</p>\n",
              "</div>\n",
              "      <button class=\"colab-df-convert\" onclick=\"convertToInteractive('df-89dfd536-e12e-489e-8b4c-a9e281dfe39c')\"\n",
              "              title=\"Convert this dataframe to an interactive table.\"\n",
              "              style=\"display:none;\">\n",
              "        \n",
              "  <svg xmlns=\"http://www.w3.org/2000/svg\" height=\"24px\"viewBox=\"0 0 24 24\"\n",
              "       width=\"24px\">\n",
              "    <path d=\"M0 0h24v24H0V0z\" fill=\"none\"/>\n",
              "    <path d=\"M18.56 5.44l.94 2.06.94-2.06 2.06-.94-2.06-.94-.94-2.06-.94 2.06-2.06.94zm-11 1L8.5 8.5l.94-2.06 2.06-.94-2.06-.94L8.5 2.5l-.94 2.06-2.06.94zm10 10l.94 2.06.94-2.06 2.06-.94-2.06-.94-.94-2.06-.94 2.06-2.06.94z\"/><path d=\"M17.41 7.96l-1.37-1.37c-.4-.4-.92-.59-1.43-.59-.52 0-1.04.2-1.43.59L10.3 9.45l-7.72 7.72c-.78.78-.78 2.05 0 2.83L4 21.41c.39.39.9.59 1.41.59.51 0 1.02-.2 1.41-.59l7.78-7.78 2.81-2.81c.8-.78.8-2.07 0-2.86zM5.41 20L4 18.59l7.72-7.72 1.47 1.35L5.41 20z\"/>\n",
              "  </svg>\n",
              "      </button>\n",
              "      \n",
              "  <style>\n",
              "    .colab-df-container {\n",
              "      display:flex;\n",
              "      flex-wrap:wrap;\n",
              "      gap: 12px;\n",
              "    }\n",
              "\n",
              "    .colab-df-convert {\n",
              "      background-color: #E8F0FE;\n",
              "      border: none;\n",
              "      border-radius: 50%;\n",
              "      cursor: pointer;\n",
              "      display: none;\n",
              "      fill: #1967D2;\n",
              "      height: 32px;\n",
              "      padding: 0 0 0 0;\n",
              "      width: 32px;\n",
              "    }\n",
              "\n",
              "    .colab-df-convert:hover {\n",
              "      background-color: #E2EBFA;\n",
              "      box-shadow: 0px 1px 2px rgba(60, 64, 67, 0.3), 0px 1px 3px 1px rgba(60, 64, 67, 0.15);\n",
              "      fill: #174EA6;\n",
              "    }\n",
              "\n",
              "    [theme=dark] .colab-df-convert {\n",
              "      background-color: #3B4455;\n",
              "      fill: #D2E3FC;\n",
              "    }\n",
              "\n",
              "    [theme=dark] .colab-df-convert:hover {\n",
              "      background-color: #434B5C;\n",
              "      box-shadow: 0px 1px 3px 1px rgba(0, 0, 0, 0.15);\n",
              "      filter: drop-shadow(0px 1px 2px rgba(0, 0, 0, 0.3));\n",
              "      fill: #FFFFFF;\n",
              "    }\n",
              "  </style>\n",
              "\n",
              "      <script>\n",
              "        const buttonEl =\n",
              "          document.querySelector('#df-89dfd536-e12e-489e-8b4c-a9e281dfe39c button.colab-df-convert');\n",
              "        buttonEl.style.display =\n",
              "          google.colab.kernel.accessAllowed ? 'block' : 'none';\n",
              "\n",
              "        async function convertToInteractive(key) {\n",
              "          const element = document.querySelector('#df-89dfd536-e12e-489e-8b4c-a9e281dfe39c');\n",
              "          const dataTable =\n",
              "            await google.colab.kernel.invokeFunction('convertToInteractive',\n",
              "                                                     [key], {});\n",
              "          if (!dataTable) return;\n",
              "\n",
              "          const docLinkHtml = 'Like what you see? Visit the ' +\n",
              "            '<a target=\"_blank\" href=https://colab.research.google.com/notebooks/data_table.ipynb>data table notebook</a>'\n",
              "            + ' to learn more about interactive tables.';\n",
              "          element.innerHTML = '';\n",
              "          dataTable['output_type'] = 'display_data';\n",
              "          await google.colab.output.renderOutput(dataTable, element);\n",
              "          const docLink = document.createElement('div');\n",
              "          docLink.innerHTML = docLinkHtml;\n",
              "          element.appendChild(docLink);\n",
              "        }\n",
              "      </script>\n",
              "    </div>\n",
              "  </div>\n",
              "  "
            ]
          },
          "metadata": {},
          "execution_count": 35
        }
      ]
    },
    {
      "cell_type": "code",
      "source": [
        ""
      ],
      "metadata": {
        "id": "e7SQlMP5hLsw"
      },
      "execution_count": null,
      "outputs": []
    }
  ]
}